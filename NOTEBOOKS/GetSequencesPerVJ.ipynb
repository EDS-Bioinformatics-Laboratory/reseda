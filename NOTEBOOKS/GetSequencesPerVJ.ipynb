{
 "cells": [
  {
   "cell_type": "code",
   "execution_count": 1,
   "metadata": {},
   "outputs": [],
   "source": [
    "import os\n",
    "import pandas as pd\n",
    "from Bio import SeqIO\n",
    "from Bio.Seq import Seq"
   ]
  },
  {
   "cell_type": "code",
   "execution_count": 2,
   "metadata": {},
   "outputs": [],
   "source": [
    "option_comrev = 1  # 0: do not make complent reverse, 1: complement reverse the experiment sequences"
   ]
  },
  {
   "cell_type": "code",
   "execution_count": 3,
   "metadata": {},
   "outputs": [
    {
     "data": {
      "text/plain": [
       "['DO-051V1-CD24m-U_S113_L001.assembled-ACGTACGT-IGH_HUMAN-all_info.csv.rr.all_info.csv',\n",
       " 'DO-051V1-CD24p-U_S143_L001.assembled-CGTACGTA-IGH_HUMAN-all_info.csv.rr.all_info.csv',\n",
       " 'DO-051V1-U_S141_L001.assembled-ATGCATGC-IGH_HUMAN-all_info.csv.rr.all_info.csv',\n",
       " 'DO-051V1-plasb-U_S114_L001.assembled-ACTGACTG-IGH_HUMAN-all_info.csv.rr.all_info.csv',\n",
       " 'DO-051V1-pre-U_S142_L001.assembled-CGATCGAT-IGH_HUMAN-all_info.csv.rr.all_info.csv']"
      ]
     },
     "execution_count": 3,
     "metadata": {},
     "output_type": "execute_result"
    }
   ],
   "source": [
    "mydir = \"20210909-run42-DOMINO-IGH/\"\n",
    "myfiles = sorted([x for x in os.listdir(mydir) if x.startswith(\"DO-051\") and x.endswith(\"all_info.csv\")])\n",
    "myfiles"
   ]
  },
  {
   "cell_type": "code",
   "execution_count": 4,
   "metadata": {},
   "outputs": [
    {
     "name": "stderr",
     "output_type": "stream",
     "text": [
      "/home/barbera/anaconda3/lib/python3.6/site-packages/IPython/core/interactiveshell.py:2850: DtypeWarning: Columns (16) have mixed types. Specify dtype option on import or set low_memory=False.\n",
      "  if self.run_code(code, result):\n"
     ]
    },
    {
     "data": {
      "text/html": [
       "<div>\n",
       "<style scoped>\n",
       "    .dataframe tbody tr th:only-of-type {\n",
       "        vertical-align: middle;\n",
       "    }\n",
       "\n",
       "    .dataframe tbody tr th {\n",
       "        vertical-align: top;\n",
       "    }\n",
       "\n",
       "    .dataframe thead th {\n",
       "        text-align: right;\n",
       "    }\n",
       "</style>\n",
       "<table border=\"1\" class=\"dataframe\">\n",
       "  <thead>\n",
       "    <tr style=\"text-align: right;\">\n",
       "      <th></th>\n",
       "      <th>acc</th>\n",
       "      <th>beforeMID</th>\n",
       "      <th>MID</th>\n",
       "      <th>afterMID</th>\n",
       "      <th>readingframe</th>\n",
       "      <th>cdr3pep</th>\n",
       "      <th>cdr3nuc</th>\n",
       "      <th>cdr3pepshort</th>\n",
       "      <th>cdr3nucshort</th>\n",
       "      <th>cdr3_qual_min</th>\n",
       "      <th>...</th>\n",
       "      <th>acc2</th>\n",
       "      <th>nr_v_mains</th>\n",
       "      <th>nr_v_subs</th>\n",
       "      <th>nr_v_alleles</th>\n",
       "      <th>nr_j_subs</th>\n",
       "      <th>nr_j_alleles</th>\n",
       "      <th>acc3</th>\n",
       "      <th>readingframe2</th>\n",
       "      <th>nr_sites</th>\n",
       "      <th>Sample</th>\n",
       "    </tr>\n",
       "  </thead>\n",
       "  <tbody>\n",
       "    <tr>\n",
       "      <th>0</th>\n",
       "      <td>M02984:889:000000000-JGK5F:1:1101:10189:13078</td>\n",
       "      <td>AGGTGTAGG</td>\n",
       "      <td>ACGTACGT</td>\n",
       "      <td>CTTAC</td>\n",
       "      <td>4</td>\n",
       "      <td>CAGSYSDFLIAYVFWGQGTPVT</td>\n",
       "      <td>TGTGCGGGATCTTATTCCGATTTTTTGATTGCTTATGTATTCTGGG...</td>\n",
       "      <td>CAGSYSDFLIAYVFW</td>\n",
       "      <td>TGTGCGGGATCTTATTCCGATTTTTTGATTGCTTATGTATTCTGG</td>\n",
       "      <td>25</td>\n",
       "      <td>...</td>\n",
       "      <td>M02984:889:000000000-JGK5F:1:1101:10189:13078</td>\n",
       "      <td>1</td>\n",
       "      <td>1</td>\n",
       "      <td>1</td>\n",
       "      <td>1</td>\n",
       "      <td>1</td>\n",
       "      <td>None</td>\n",
       "      <td>None</td>\n",
       "      <td>0</td>\n",
       "      <td>DO-051V1-CD24m-U_S113</td>\n",
       "    </tr>\n",
       "    <tr>\n",
       "      <th>1</th>\n",
       "      <td>M02984:889:000000000-JGK5F:1:1101:10661:21548</td>\n",
       "      <td>TCGCAGAAG</td>\n",
       "      <td>ACGTACGT</td>\n",
       "      <td>CTTAC</td>\n",
       "      <td>4</td>\n",
       "      <td>CTTVFENDFWSGYPWDYWGQGTLVT</td>\n",
       "      <td>TGTACCACAGTGTTTGAGAACGATTTTTGGAGTGGCTACCCTTGGG...</td>\n",
       "      <td>CTTVFENDFWSGYPWDYW</td>\n",
       "      <td>TGTACCACAGTGTTTGAGAACGATTTTTGGAGTGGCTACCCTTGGG...</td>\n",
       "      <td>37</td>\n",
       "      <td>...</td>\n",
       "      <td>M02984:889:000000000-JGK5F:1:1101:10661:21548</td>\n",
       "      <td>1</td>\n",
       "      <td>1</td>\n",
       "      <td>1</td>\n",
       "      <td>1</td>\n",
       "      <td>1</td>\n",
       "      <td>None</td>\n",
       "      <td>None</td>\n",
       "      <td>0</td>\n",
       "      <td>DO-051V1-CD24m-U_S113</td>\n",
       "    </tr>\n",
       "    <tr>\n",
       "      <th>2</th>\n",
       "      <td>M02984:889:000000000-JGK5F:1:1101:10888:7155</td>\n",
       "      <td>TTATGTTAT</td>\n",
       "      <td>ACGTACGT</td>\n",
       "      <td>CTTAC</td>\n",
       "      <td>4</td>\n",
       "      <td>CAREVPFCRSSSCYMDSWGQGTLVT</td>\n",
       "      <td>TGTGCGAGAGAAGTCCCATTTTGTCGTAGCAGCAGCTGCTACATGG...</td>\n",
       "      <td>CAREVPFCRSSSCYMDSW</td>\n",
       "      <td>TGTGCGAGAGAAGTCCCATTTTGTCGTAGCAGCAGCTGCTACATGG...</td>\n",
       "      <td>27</td>\n",
       "      <td>...</td>\n",
       "      <td>M02984:889:000000000-JGK5F:1:1101:10888:7155</td>\n",
       "      <td>1</td>\n",
       "      <td>1</td>\n",
       "      <td>1</td>\n",
       "      <td>1</td>\n",
       "      <td>1</td>\n",
       "      <td>M02984:889:000000000-JGK5F:1:1101:10888:7155</td>\n",
       "      <td>4</td>\n",
       "      <td>1</td>\n",
       "      <td>DO-051V1-CD24m-U_S113</td>\n",
       "    </tr>\n",
       "    <tr>\n",
       "      <th>3</th>\n",
       "      <td>M02984:889:000000000-JGK5F:1:1101:11034:15839</td>\n",
       "      <td>ATAAACATT</td>\n",
       "      <td>ACGTACGT</td>\n",
       "      <td>CTTAC</td>\n",
       "      <td>4</td>\n",
       "      <td>CARVDIAVVPDAFDMWGQGTMVT</td>\n",
       "      <td>TGTGCAAGAGTTGACATTGCAGTAGTACCGGATGCTTTTGACATGT...</td>\n",
       "      <td>CARVDIAVVPDAFDMW</td>\n",
       "      <td>TGTGCAAGAGTTGACATTGCAGTAGTACCGGATGCTTTTGACATGTGG</td>\n",
       "      <td>20</td>\n",
       "      <td>...</td>\n",
       "      <td>M02984:889:000000000-JGK5F:1:1101:11034:15839</td>\n",
       "      <td>1</td>\n",
       "      <td>1</td>\n",
       "      <td>1</td>\n",
       "      <td>1</td>\n",
       "      <td>1</td>\n",
       "      <td>None</td>\n",
       "      <td>None</td>\n",
       "      <td>0</td>\n",
       "      <td>DO-051V1-CD24m-U_S113</td>\n",
       "    </tr>\n",
       "    <tr>\n",
       "      <th>4</th>\n",
       "      <td>M02984:889:000000000-JGK5F:1:1101:11697:7577</td>\n",
       "      <td>ATTTTCTAC</td>\n",
       "      <td>ACGTACGT</td>\n",
       "      <td>TTACC</td>\n",
       "      <td>4</td>\n",
       "      <td>CTRLPVGAPEEYYFDHWGQGALVT</td>\n",
       "      <td>TGTACGAGACTGCCAGTCGGAGCCCCTGAAGAGTATTACTTTGACC...</td>\n",
       "      <td>CTRLPVGAPEEYYFDHW</td>\n",
       "      <td>TGTACGAGACTGCCAGTCGGAGCCCCTGAAGAGTATTACTTTGACC...</td>\n",
       "      <td>11</td>\n",
       "      <td>...</td>\n",
       "      <td>M02984:889:000000000-JGK5F:1:1101:11697:7577</td>\n",
       "      <td>1</td>\n",
       "      <td>1</td>\n",
       "      <td>1</td>\n",
       "      <td>1</td>\n",
       "      <td>1</td>\n",
       "      <td>None</td>\n",
       "      <td>None</td>\n",
       "      <td>0</td>\n",
       "      <td>DO-051V1-CD24m-U_S113</td>\n",
       "    </tr>\n",
       "  </tbody>\n",
       "</table>\n",
       "<p>5 rows × 37 columns</p>\n",
       "</div>"
      ],
      "text/plain": [
       "                                             acc  beforeMID       MID  \\\n",
       "0  M02984:889:000000000-JGK5F:1:1101:10189:13078  AGGTGTAGG  ACGTACGT   \n",
       "1  M02984:889:000000000-JGK5F:1:1101:10661:21548  TCGCAGAAG  ACGTACGT   \n",
       "2   M02984:889:000000000-JGK5F:1:1101:10888:7155  TTATGTTAT  ACGTACGT   \n",
       "3  M02984:889:000000000-JGK5F:1:1101:11034:15839  ATAAACATT  ACGTACGT   \n",
       "4   M02984:889:000000000-JGK5F:1:1101:11697:7577  ATTTTCTAC  ACGTACGT   \n",
       "\n",
       "  afterMID  readingframe                    cdr3pep  \\\n",
       "0    CTTAC             4     CAGSYSDFLIAYVFWGQGTPVT   \n",
       "1    CTTAC             4  CTTVFENDFWSGYPWDYWGQGTLVT   \n",
       "2    CTTAC             4  CAREVPFCRSSSCYMDSWGQGTLVT   \n",
       "3    CTTAC             4    CARVDIAVVPDAFDMWGQGTMVT   \n",
       "4    TTACC             4   CTRLPVGAPEEYYFDHWGQGALVT   \n",
       "\n",
       "                                             cdr3nuc        cdr3pepshort  \\\n",
       "0  TGTGCGGGATCTTATTCCGATTTTTTGATTGCTTATGTATTCTGGG...     CAGSYSDFLIAYVFW   \n",
       "1  TGTACCACAGTGTTTGAGAACGATTTTTGGAGTGGCTACCCTTGGG...  CTTVFENDFWSGYPWDYW   \n",
       "2  TGTGCGAGAGAAGTCCCATTTTGTCGTAGCAGCAGCTGCTACATGG...  CAREVPFCRSSSCYMDSW   \n",
       "3  TGTGCAAGAGTTGACATTGCAGTAGTACCGGATGCTTTTGACATGT...    CARVDIAVVPDAFDMW   \n",
       "4  TGTACGAGACTGCCAGTCGGAGCCCCTGAAGAGTATTACTTTGACC...   CTRLPVGAPEEYYFDHW   \n",
       "\n",
       "                                        cdr3nucshort  cdr3_qual_min  ...  \\\n",
       "0      TGTGCGGGATCTTATTCCGATTTTTTGATTGCTTATGTATTCTGG             25  ...   \n",
       "1  TGTACCACAGTGTTTGAGAACGATTTTTGGAGTGGCTACCCTTGGG...             37  ...   \n",
       "2  TGTGCGAGAGAAGTCCCATTTTGTCGTAGCAGCAGCTGCTACATGG...             27  ...   \n",
       "3   TGTGCAAGAGTTGACATTGCAGTAGTACCGGATGCTTTTGACATGTGG             20  ...   \n",
       "4  TGTACGAGACTGCCAGTCGGAGCCCCTGAAGAGTATTACTTTGACC...             11  ...   \n",
       "\n",
       "                                            acc2  nr_v_mains nr_v_subs  \\\n",
       "0  M02984:889:000000000-JGK5F:1:1101:10189:13078           1         1   \n",
       "1  M02984:889:000000000-JGK5F:1:1101:10661:21548           1         1   \n",
       "2   M02984:889:000000000-JGK5F:1:1101:10888:7155           1         1   \n",
       "3  M02984:889:000000000-JGK5F:1:1101:11034:15839           1         1   \n",
       "4   M02984:889:000000000-JGK5F:1:1101:11697:7577           1         1   \n",
       "\n",
       "   nr_v_alleles  nr_j_subs  nr_j_alleles  \\\n",
       "0             1          1             1   \n",
       "1             1          1             1   \n",
       "2             1          1             1   \n",
       "3             1          1             1   \n",
       "4             1          1             1   \n",
       "\n",
       "                                           acc3 readingframe2 nr_sites  \\\n",
       "0                                          None          None        0   \n",
       "1                                          None          None        0   \n",
       "2  M02984:889:000000000-JGK5F:1:1101:10888:7155             4        1   \n",
       "3                                          None          None        0   \n",
       "4                                          None          None        0   \n",
       "\n",
       "                  Sample  \n",
       "0  DO-051V1-CD24m-U_S113  \n",
       "1  DO-051V1-CD24m-U_S113  \n",
       "2  DO-051V1-CD24m-U_S113  \n",
       "3  DO-051V1-CD24m-U_S113  \n",
       "4  DO-051V1-CD24m-U_S113  \n",
       "\n",
       "[5 rows x 37 columns]"
      ]
     },
     "execution_count": 4,
     "metadata": {},
     "output_type": "execute_result"
    }
   ],
   "source": [
    "def readAllInfo(mydir, f):\n",
    "    samplename, rest = f.split(\"_L001\")\n",
    "    df = pd.read_csv(mydir + f, sep=\"\\t\")\n",
    "    df[\"Sample\"] = samplename\n",
    "    return(df)\n",
    "df = readAllInfo(mydir, myfiles[0])\n",
    "for f in myfiles[1:]:\n",
    "    df = pd.concat([df, readAllInfo(mydir, f)])\n",
    "df.head()"
   ]
  },
  {
   "cell_type": "code",
   "execution_count": 5,
   "metadata": {},
   "outputs": [
    {
     "data": {
      "text/plain": [
       "Index(['acc', 'beforeMID', 'MID', 'afterMID', 'readingframe', 'cdr3pep',\n",
       "       'cdr3nuc', 'cdr3pepshort', 'cdr3nucshort', 'cdr3_qual_min',\n",
       "       'cdr3_qual_max', 'cdr3_qual_avg', 'cdr3_qual', 'nt_start', 'nt_end',\n",
       "       'seq_length', 'V_flag', 'V_gene', 'J_flag', 'J_gene',\n",
       "       'readingframe_seq', 'seq', 'pep', 'qual', 'V_sub', 'J_sub', 'V_main',\n",
       "       'acc2', 'nr_v_mains', 'nr_v_subs', 'nr_v_alleles', 'nr_j_subs',\n",
       "       'nr_j_alleles', 'acc3', 'readingframe2', 'nr_sites', 'Sample'],\n",
       "      dtype='object')"
      ]
     },
     "execution_count": 5,
     "metadata": {},
     "output_type": "execute_result"
    }
   ],
   "source": [
    "df.columns"
   ]
  },
  {
   "cell_type": "code",
   "execution_count": 6,
   "metadata": {},
   "outputs": [
    {
     "data": {
      "text/html": [
       "<div>\n",
       "<style scoped>\n",
       "    .dataframe tbody tr th:only-of-type {\n",
       "        vertical-align: middle;\n",
       "    }\n",
       "\n",
       "    .dataframe tbody tr th {\n",
       "        vertical-align: top;\n",
       "    }\n",
       "\n",
       "    .dataframe thead th {\n",
       "        text-align: right;\n",
       "    }\n",
       "</style>\n",
       "<table border=\"1\" class=\"dataframe\">\n",
       "  <thead>\n",
       "    <tr style=\"text-align: right;\">\n",
       "      <th></th>\n",
       "      <th>V_gene</th>\n",
       "      <th>J_gene</th>\n",
       "      <th>Sample</th>\n",
       "      <th>acc</th>\n",
       "    </tr>\n",
       "  </thead>\n",
       "  <tbody>\n",
       "    <tr>\n",
       "      <th>0</th>\n",
       "      <td>IGHV3-7*02</td>\n",
       "      <td>None</td>\n",
       "      <td>5</td>\n",
       "      <td>2349</td>\n",
       "    </tr>\n",
       "    <tr>\n",
       "      <th>1</th>\n",
       "      <td>IGHV3-74*01</td>\n",
       "      <td>IGHJ4*02</td>\n",
       "      <td>5</td>\n",
       "      <td>2168</td>\n",
       "    </tr>\n",
       "    <tr>\n",
       "      <th>2</th>\n",
       "      <td>IGHV3-48*03</td>\n",
       "      <td>IGHJ4*02</td>\n",
       "      <td>5</td>\n",
       "      <td>2082</td>\n",
       "    </tr>\n",
       "    <tr>\n",
       "      <th>3</th>\n",
       "      <td>IGHV4-59*01</td>\n",
       "      <td>IGHJ4*02</td>\n",
       "      <td>5</td>\n",
       "      <td>1810</td>\n",
       "    </tr>\n",
       "    <tr>\n",
       "      <th>4</th>\n",
       "      <td>IGHV3-48*01</td>\n",
       "      <td>IGHJ4*02</td>\n",
       "      <td>5</td>\n",
       "      <td>1444</td>\n",
       "    </tr>\n",
       "  </tbody>\n",
       "</table>\n",
       "</div>"
      ],
      "text/plain": [
       "        V_gene    J_gene  Sample   acc\n",
       "0   IGHV3-7*02      None       5  2349\n",
       "1  IGHV3-74*01  IGHJ4*02       5  2168\n",
       "2  IGHV3-48*03  IGHJ4*02       5  2082\n",
       "3  IGHV4-59*01  IGHJ4*02       5  1810\n",
       "4  IGHV3-48*01  IGHJ4*02       5  1444"
      ]
     },
     "execution_count": 6,
     "metadata": {},
     "output_type": "execute_result"
    }
   ],
   "source": [
    "# Which VJ combination occurs most frequent?\n",
    "df_vj_count = df.groupby(['V_gene', 'J_gene']).agg({'Sample': 'nunique', 'acc': 'nunique'})\n",
    "df_vj_count = df_vj_count.sort_values(by=['Sample','acc'], ascending=False)\n",
    "df_vj_count = df_vj_count.reset_index()\n",
    "df_vj_count.head()"
   ]
  },
  {
   "cell_type": "code",
   "execution_count": 7,
   "metadata": {},
   "outputs": [],
   "source": [
    "## Select the VJ combination that occurs often\n",
    "#v_top = df_vj_count['V_gene'][0]\n",
    "#j_top = df_vj_count['J_gene'][0]\n",
    "#print(v_top, j_top)\n",
    "v_top = \"IGHV3-23*01\"\n",
    "j_top = \"IGHJ4*02\""
   ]
  },
  {
   "cell_type": "code",
   "execution_count": 8,
   "metadata": {},
   "outputs": [
    {
     "name": "stdout",
     "output_type": "stream",
     "text": [
      "entries: 1235\n"
     ]
    },
    {
     "data": {
      "text/html": [
       "<div>\n",
       "<style scoped>\n",
       "    .dataframe tbody tr th:only-of-type {\n",
       "        vertical-align: middle;\n",
       "    }\n",
       "\n",
       "    .dataframe tbody tr th {\n",
       "        vertical-align: top;\n",
       "    }\n",
       "\n",
       "    .dataframe thead th {\n",
       "        text-align: right;\n",
       "    }\n",
       "</style>\n",
       "<table border=\"1\" class=\"dataframe\">\n",
       "  <thead>\n",
       "    <tr style=\"text-align: right;\">\n",
       "      <th></th>\n",
       "      <th>seq</th>\n",
       "      <th>acc</th>\n",
       "      <th>Sample</th>\n",
       "    </tr>\n",
       "  </thead>\n",
       "  <tbody>\n",
       "    <tr>\n",
       "      <th>0</th>\n",
       "      <td>AAAACGATCGATCGTATCGCCTCCCTCGCGCCATGTGTTTCCCTTA...</td>\n",
       "      <td>M02984:889:000000000-JGK5F:1:1105:22258:3717</td>\n",
       "      <td>DO-051V1-pre-U_S142</td>\n",
       "    </tr>\n",
       "    <tr>\n",
       "      <th>1</th>\n",
       "      <td>AAAACGTACGTACGTATCGCCTCCCTCGCGCCAGTTCGCTTGCTTA...</td>\n",
       "      <td>M02984:889:000000000-JGK5F:1:1117:19428:18082</td>\n",
       "      <td>DO-051V1-CD24p-U_S143</td>\n",
       "    </tr>\n",
       "    <tr>\n",
       "      <th>2</th>\n",
       "      <td>AAAACGTACGTACGTATCGCCTCCCTCGCGCCATCCCTTATTCTTA...</td>\n",
       "      <td>M02984:889:000000000-JGK5F:1:2101:15160:14551</td>\n",
       "      <td>DO-051V1-CD24p-U_S143</td>\n",
       "    </tr>\n",
       "    <tr>\n",
       "      <th>3</th>\n",
       "      <td>AAAACGTACGTACGTATCGCCTCCTCGCGCCAGTTTAGTGGCTTCC...</td>\n",
       "      <td>M02984:889:000000000-JGK5F:1:1119:25273:23416</td>\n",
       "      <td>DO-051V1-CD24p-U_S143</td>\n",
       "    </tr>\n",
       "    <tr>\n",
       "      <th>4</th>\n",
       "      <td>AAACACTGACTGCGTATCGCCTCCCTCGCGCCAAGTCATTCTCTTA...</td>\n",
       "      <td>M02984:889:000000000-JGK5F:1:2117:25671:17416</td>\n",
       "      <td>DO-051V1-plasb-U_S114</td>\n",
       "    </tr>\n",
       "  </tbody>\n",
       "</table>\n",
       "</div>"
      ],
      "text/plain": [
       "                                                 seq  \\\n",
       "0  AAAACGATCGATCGTATCGCCTCCCTCGCGCCATGTGTTTCCCTTA...   \n",
       "1  AAAACGTACGTACGTATCGCCTCCCTCGCGCCAGTTCGCTTGCTTA...   \n",
       "2  AAAACGTACGTACGTATCGCCTCCCTCGCGCCATCCCTTATTCTTA...   \n",
       "3  AAAACGTACGTACGTATCGCCTCCTCGCGCCAGTTTAGTGGCTTCC...   \n",
       "4  AAACACTGACTGCGTATCGCCTCCCTCGCGCCAAGTCATTCTCTTA...   \n",
       "\n",
       "                                             acc                 Sample  \n",
       "0   M02984:889:000000000-JGK5F:1:1105:22258:3717    DO-051V1-pre-U_S142  \n",
       "1  M02984:889:000000000-JGK5F:1:1117:19428:18082  DO-051V1-CD24p-U_S143  \n",
       "2  M02984:889:000000000-JGK5F:1:2101:15160:14551  DO-051V1-CD24p-U_S143  \n",
       "3  M02984:889:000000000-JGK5F:1:1119:25273:23416  DO-051V1-CD24p-U_S143  \n",
       "4  M02984:889:000000000-JGK5F:1:2117:25671:17416  DO-051V1-plasb-U_S114  "
      ]
     },
     "execution_count": 8,
     "metadata": {},
     "output_type": "execute_result"
    }
   ],
   "source": [
    "# Retrieve sequences for VJ combination and make these sequences unique for further analysis\n",
    "concatenate = lambda x: \"|\".join(list(set(x)))\n",
    "df_selection = df[(df[\"V_gene\"] == v_top) & (df[\"J_gene\"] == j_top)]\n",
    "df_selection = df_selection.groupby(\"seq\").agg({'acc': concatenate, 'Sample': concatenate}).reset_index()\n",
    "print(\"entries:\", len(df_selection))\n",
    "df_selection.head()"
   ]
  },
  {
   "cell_type": "code",
   "execution_count": 9,
   "metadata": {},
   "outputs": [],
   "source": [
    "# Open files for writing the fasta sequences\n",
    "fhOutV = open(\"test.V.fasta\", \"w\")\n",
    "fhOutJ = open(\"test.J.fasta\", \"w\")"
   ]
  },
  {
   "cell_type": "code",
   "execution_count": 10,
   "metadata": {},
   "outputs": [
    {
     "name": "stdout",
     "output_type": "stream",
     "text": [
      ">IGHV3-23*01\n",
      "GAGGTGCAGCTGTTGGAGTCTGGGGGAGGCTTGGTACAGCCTGGGGGGTCCCTGAGACTCTCCTGTGCAGCCTCTGGATTCACCTTTAGCAGCTATGCCATGAGCTGGGTCCGCCAGGCTCCAGGGAAGGGGCTGGAGTGGGTCTCAGCTATTAGTGGTAGTGGTGGTAGCACATACTACGCAGACTCCGTGAAGGGCCGGTTCACCATCTCCAGAGACAATTCCAAGAACACGCTGTATCTGCAAATGAACAGCCTGAGAGCCGAGGACACGGCCGTATATTACTGTGCGAAAGA\n",
      ">IGHJ4*02\n",
      "ACTACTTTGACTACTGGGGCCAGGGAACCCTGGTCACCGTCTCCTCAG\n"
     ]
    }
   ],
   "source": [
    "# Retrieve the reference V and J sequences\n",
    "v_seq, j_seq = \"\", \"\"\n",
    "for record in SeqIO.parse(open(\"../reference/IGHV_human.fasta\"), \"fasta\"):\n",
    "    if v_top in record.id:\n",
    "        v_seq = str(record.seq).upper()\n",
    "for record in SeqIO.parse(open(\"../reference/IGHJ_human.fasta\"), \"fasta\"):\n",
    "    if j_top in record.id:\n",
    "        j_seq = str(record.seq).upper()\n",
    "\n",
    "print(\">\" + v_top)\n",
    "print(v_seq)\n",
    "print(\">\" + j_top)\n",
    "print(j_seq)\n",
    "print(\">\" + v_top, file=fhOutV)\n",
    "print(v_seq, file=fhOutV)\n",
    "print(\">\" + j_top, file=fhOutJ)\n",
    "print(j_seq, file=fhOutJ)"
   ]
  },
  {
   "cell_type": "code",
   "execution_count": 11,
   "metadata": {},
   "outputs": [
    {
     "data": {
      "text/plain": [
       "'GGGAAACACATGGCGCGAGGGAGGCGATACGATCGATCGTTTT'"
      ]
     },
     "execution_count": 11,
     "metadata": {},
     "output_type": "execute_result"
    }
   ],
   "source": [
    "comrev = lambda s: str(Seq(s).reverse_complement()).upper()\n",
    "comrev(\"AAAACGATCGATCGTATCGCCTCCCTCGCGCCATGTGTTTCCC\")"
   ]
  },
  {
   "cell_type": "code",
   "execution_count": 12,
   "metadata": {},
   "outputs": [],
   "source": [
    "for i in df_selection.index:\n",
    "    print(\">\" + df_selection.iloc[i]['acc'] + \"|\" + df_selection.iloc[i]['Sample'], file=fhOutV)\n",
    "    if option_comrev == 1:\n",
    "        print(comrev(df_selection.iloc[i]['seq']), file=fhOutV)\n",
    "    else:\n",
    "        print(df_selection.iloc[i]['seq'], file=fhOutV)\n",
    "        \n",
    "    print(\">\" + df_selection.iloc[i]['acc'], file=fhOutJ)\n",
    "    if option_comrev == 1:\n",
    "        print(comrev(df_selection.iloc[i]['seq']), file=fhOutJ)\n",
    "    else:\n",
    "        print(df_selection.iloc[i]['seq'], file=fhOutJ)"
   ]
  },
  {
   "cell_type": "code",
   "execution_count": 13,
   "metadata": {},
   "outputs": [
    {
     "name": "stdout",
     "output_type": "stream",
     "text": [
      "Wrote test.V.fasta to disk\n",
      "Wrote test.J.fasta to disk\n"
     ]
    }
   ],
   "source": [
    "fhOutV.close()\n",
    "fhOutJ.close()\n",
    "print(\"Wrote test.V.fasta to disk\")\n",
    "print(\"Wrote test.J.fasta to disk\")"
   ]
  },
  {
   "cell_type": "code",
   "execution_count": null,
   "metadata": {},
   "outputs": [],
   "source": []
  }
 ],
 "metadata": {
  "kernelspec": {
   "display_name": "Python 3",
   "language": "python",
   "name": "python3"
  },
  "language_info": {
   "codemirror_mode": {
    "name": "ipython",
    "version": 3
   },
   "file_extension": ".py",
   "mimetype": "text/x-python",
   "name": "python",
   "nbconvert_exporter": "python",
   "pygments_lexer": "ipython3",
   "version": "3.6.4"
  }
 },
 "nbformat": 4,
 "nbformat_minor": 2
}
