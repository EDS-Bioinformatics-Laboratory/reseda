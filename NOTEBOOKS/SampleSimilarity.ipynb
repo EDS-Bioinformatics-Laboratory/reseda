{
 "cells": [
  {
   "cell_type": "code",
   "execution_count": 1,
   "metadata": {},
   "outputs": [],
   "source": [
    "import os\n",
    "import pandas as pd\n",
    "import numpy as np\n",
    "import scipy.stats as st\n",
    "from sklearn.metrics.pairwise import pairwise_distances\n",
    "import matplotlib\n",
    "import matplotlib.pyplot as plt\n",
    "import matplotlib.colors as colors"
   ]
  },
  {
   "cell_type": "markdown",
   "metadata": {},
   "source": [
    "## Input data"
   ]
  },
  {
   "cell_type": "code",
   "execution_count": 2,
   "metadata": {},
   "outputs": [
    {
     "data": {
      "text/plain": [
       "['cdr3-clones-GC-IGH_MOUSE-after-reassignment.csv']"
      ]
     },
     "execution_count": 2,
     "metadata": {},
     "output_type": "execute_result"
    }
   ],
   "source": [
    "celltype = \"IGH_MOUSE\"\n",
    "myfiles = [x for x in os.listdir(\".\") if x.startswith('cdr3-clones') and celltype in x]\n",
    "myfiles"
   ]
  },
  {
   "cell_type": "code",
   "execution_count": 3,
   "metadata": {},
   "outputs": [
    {
     "name": "stdout",
     "output_type": "stream",
     "text": [
      "Outfile: runMaria-mouse-similarity-IGH_MOUSE.pdf\n"
     ]
    }
   ],
   "source": [
    "pt_file=\"20201013-DataSheet-Maria-mouse.csv\"\n",
    "run = \"runMaria-mouse\"\n",
    "plotfile=run + \"-similarity-\" + celltype + '.pdf'\n",
    "suspects_list = run + \"-similarity-\" + celltype + \".txt\"\n",
    "excel_file = run + \"-similarity-\" + celltype + \".xlsx\"\n",
    "print(\"Outfile:\", plotfile)"
   ]
  },
  {
   "cell_type": "markdown",
   "metadata": {},
   "source": [
    "## Import clonesdata"
   ]
  },
  {
   "cell_type": "code",
   "execution_count": 4,
   "metadata": {},
   "outputs": [],
   "source": [
    "clones = pd.read_csv(myfiles[0], sep=\"\\t\")\n",
    "if len(myfiles) > 1:\n",
    "    for clones_file in myfiles[1:]:\n",
    "        clones = pd.concat([clones, pd.read_csv(clones_file, sep=\"\\t\")])"
   ]
  },
  {
   "cell_type": "code",
   "execution_count": 5,
   "metadata": {},
   "outputs": [
    {
     "data": {
      "text/html": [
       "<div>\n",
       "<style scoped>\n",
       "    .dataframe tbody tr th:only-of-type {\n",
       "        vertical-align: middle;\n",
       "    }\n",
       "\n",
       "    .dataframe tbody tr th {\n",
       "        vertical-align: top;\n",
       "    }\n",
       "\n",
       "    .dataframe thead th {\n",
       "        text-align: right;\n",
       "    }\n",
       "</style>\n",
       "<table border=\"1\" class=\"dataframe\">\n",
       "  <thead>\n",
       "    <tr style=\"text-align: right;\">\n",
       "      <th></th>\n",
       "      <th>Sample</th>\n",
       "      <th>MID</th>\n",
       "      <th>cdr3pep</th>\n",
       "      <th>freq</th>\n",
       "      <th>uniq_umis</th>\n",
       "      <th>V_sub</th>\n",
       "      <th>J_sub</th>\n",
       "      <th>sum_sites</th>\n",
       "      <th>avg_sites</th>\n",
       "      <th>read_perc</th>\n",
       "      <th>umi_perc</th>\n",
       "    </tr>\n",
       "  </thead>\n",
       "  <tbody>\n",
       "    <tr>\n",
       "      <th>0</th>\n",
       "      <td>MSmm-01_S1</td>\n",
       "      <td>nomatch</td>\n",
       "      <td>CARGGLYWYFDVWGTGTTLT</td>\n",
       "      <td>59</td>\n",
       "      <td>1</td>\n",
       "      <td>IGHV5-17</td>\n",
       "      <td>IGHJ1</td>\n",
       "      <td>1</td>\n",
       "      <td>0.016949</td>\n",
       "      <td>0.287510</td>\n",
       "      <td>0.009177</td>\n",
       "    </tr>\n",
       "    <tr>\n",
       "      <th>1</th>\n",
       "      <td>MSmm-01_S1</td>\n",
       "      <td>nomatch</td>\n",
       "      <td>CARRAVVATPYWYFDVWGTGTLLT</td>\n",
       "      <td>43</td>\n",
       "      <td>1</td>\n",
       "      <td>IGHV5-17</td>\n",
       "      <td>IGHJ1</td>\n",
       "      <td>0</td>\n",
       "      <td>0.000000</td>\n",
       "      <td>0.209541</td>\n",
       "      <td>0.009177</td>\n",
       "    </tr>\n",
       "    <tr>\n",
       "      <th>2</th>\n",
       "      <td>MSmm-01_S1</td>\n",
       "      <td>nomatch</td>\n",
       "      <td>CKTHDGYYSYWYFDVWGTGTLLT</td>\n",
       "      <td>40</td>\n",
       "      <td>1</td>\n",
       "      <td>IGHV5-2</td>\n",
       "      <td>IGHJ1</td>\n",
       "      <td>0</td>\n",
       "      <td>0.000000</td>\n",
       "      <td>0.194922</td>\n",
       "      <td>0.009177</td>\n",
       "    </tr>\n",
       "    <tr>\n",
       "      <th>3</th>\n",
       "      <td>MSmm-01_S1</td>\n",
       "      <td>nomatch</td>\n",
       "      <td>CARRAVVATPYWYFDVWGTGTPLT</td>\n",
       "      <td>38</td>\n",
       "      <td>1</td>\n",
       "      <td>IGHV5-17+IGHV5-4</td>\n",
       "      <td>IGHJ1</td>\n",
       "      <td>0</td>\n",
       "      <td>0.000000</td>\n",
       "      <td>0.185176</td>\n",
       "      <td>0.009177</td>\n",
       "    </tr>\n",
       "    <tr>\n",
       "      <th>4</th>\n",
       "      <td>MSmm-01_S1</td>\n",
       "      <td>nomatch</td>\n",
       "      <td>YWYFDVWGTGTLLT</td>\n",
       "      <td>37</td>\n",
       "      <td>1</td>\n",
       "      <td>IGHV5-17+IGHV5-4</td>\n",
       "      <td>IGHJ1</td>\n",
       "      <td>0</td>\n",
       "      <td>0.000000</td>\n",
       "      <td>0.180303</td>\n",
       "      <td>0.009177</td>\n",
       "    </tr>\n",
       "  </tbody>\n",
       "</table>\n",
       "</div>"
      ],
      "text/plain": [
       "       Sample      MID                   cdr3pep  freq  uniq_umis  \\\n",
       "0  MSmm-01_S1  nomatch      CARGGLYWYFDVWGTGTTLT    59          1   \n",
       "1  MSmm-01_S1  nomatch  CARRAVVATPYWYFDVWGTGTLLT    43          1   \n",
       "2  MSmm-01_S1  nomatch   CKTHDGYYSYWYFDVWGTGTLLT    40          1   \n",
       "3  MSmm-01_S1  nomatch  CARRAVVATPYWYFDVWGTGTPLT    38          1   \n",
       "4  MSmm-01_S1  nomatch            YWYFDVWGTGTLLT    37          1   \n",
       "\n",
       "              V_sub  J_sub  sum_sites  avg_sites  read_perc  umi_perc  \n",
       "0          IGHV5-17  IGHJ1          1   0.016949   0.287510  0.009177  \n",
       "1          IGHV5-17  IGHJ1          0   0.000000   0.209541  0.009177  \n",
       "2           IGHV5-2  IGHJ1          0   0.000000   0.194922  0.009177  \n",
       "3  IGHV5-17+IGHV5-4  IGHJ1          0   0.000000   0.185176  0.009177  \n",
       "4  IGHV5-17+IGHV5-4  IGHJ1          0   0.000000   0.180303  0.009177  "
      ]
     },
     "execution_count": 5,
     "metadata": {},
     "output_type": "execute_result"
    }
   ],
   "source": [
    "clones.head()"
   ]
  },
  {
   "cell_type": "code",
   "execution_count": 6,
   "metadata": {},
   "outputs": [
    {
     "data": {
      "text/html": [
       "<div>\n",
       "<style scoped>\n",
       "    .dataframe tbody tr th:only-of-type {\n",
       "        vertical-align: middle;\n",
       "    }\n",
       "\n",
       "    .dataframe tbody tr th {\n",
       "        vertical-align: top;\n",
       "    }\n",
       "\n",
       "    .dataframe thead th {\n",
       "        text-align: right;\n",
       "    }\n",
       "</style>\n",
       "<table border=\"1\" class=\"dataframe\">\n",
       "  <thead>\n",
       "    <tr style=\"text-align: right;\">\n",
       "      <th></th>\n",
       "      <th>Sample</th>\n",
       "      <th>cdr3pep</th>\n",
       "      <th>freq</th>\n",
       "      <th>uniq_umis</th>\n",
       "      <th>sum_sites</th>\n",
       "      <th>avg_sites</th>\n",
       "      <th>read_perc</th>\n",
       "      <th>umi_perc</th>\n",
       "    </tr>\n",
       "  </thead>\n",
       "  <tbody>\n",
       "    <tr>\n",
       "      <th>54768</th>\n",
       "      <td>MSmm-05_S5</td>\n",
       "      <td>FDVWGTGTLLT</td>\n",
       "      <td>29</td>\n",
       "      <td>1</td>\n",
       "      <td>0</td>\n",
       "      <td>0.00</td>\n",
       "      <td>0.151697</td>\n",
       "      <td>0.008273</td>\n",
       "    </tr>\n",
       "    <tr>\n",
       "      <th>54778</th>\n",
       "      <td>MSmm-05_S5</td>\n",
       "      <td>FDVWGTGTTLT</td>\n",
       "      <td>29</td>\n",
       "      <td>1</td>\n",
       "      <td>0</td>\n",
       "      <td>0.00</td>\n",
       "      <td>0.151697</td>\n",
       "      <td>0.008273</td>\n",
       "    </tr>\n",
       "    <tr>\n",
       "      <th>54759</th>\n",
       "      <td>MSmm-05_S5</td>\n",
       "      <td>DYWGQGTTLT</td>\n",
       "      <td>25</td>\n",
       "      <td>1</td>\n",
       "      <td>1</td>\n",
       "      <td>0.04</td>\n",
       "      <td>0.130774</td>\n",
       "      <td>0.008273</td>\n",
       "    </tr>\n",
       "    <tr>\n",
       "      <th>54890</th>\n",
       "      <td>MSmm-05_S5</td>\n",
       "      <td>WGQGTTLT</td>\n",
       "      <td>25</td>\n",
       "      <td>1</td>\n",
       "      <td>0</td>\n",
       "      <td>0.00</td>\n",
       "      <td>0.130774</td>\n",
       "      <td>0.008273</td>\n",
       "    </tr>\n",
       "    <tr>\n",
       "      <th>53104</th>\n",
       "      <td>MSmm-05_S5</td>\n",
       "      <td>CKTEDDGYLYWYFDVWGTGTTLT</td>\n",
       "      <td>24</td>\n",
       "      <td>1</td>\n",
       "      <td>0</td>\n",
       "      <td>0.00</td>\n",
       "      <td>0.125543</td>\n",
       "      <td>0.008273</td>\n",
       "    </tr>\n",
       "  </tbody>\n",
       "</table>\n",
       "</div>"
      ],
      "text/plain": [
       "           Sample                  cdr3pep  freq  uniq_umis  sum_sites  \\\n",
       "54768  MSmm-05_S5              FDVWGTGTLLT    29          1          0   \n",
       "54778  MSmm-05_S5              FDVWGTGTTLT    29          1          0   \n",
       "54759  MSmm-05_S5               DYWGQGTTLT    25          1          1   \n",
       "54890  MSmm-05_S5                 WGQGTTLT    25          1          0   \n",
       "53104  MSmm-05_S5  CKTEDDGYLYWYFDVWGTGTTLT    24          1          0   \n",
       "\n",
       "       avg_sites  read_perc  umi_perc  \n",
       "54768       0.00   0.151697  0.008273  \n",
       "54778       0.00   0.151697  0.008273  \n",
       "54759       0.04   0.130774  0.008273  \n",
       "54890       0.00   0.130774  0.008273  \n",
       "53104       0.00   0.125543  0.008273  "
      ]
     },
     "execution_count": 6,
     "metadata": {},
     "output_type": "execute_result"
    }
   ],
   "source": [
    "# Summarize data on CDR3\n",
    "clones = clones.groupby(by=['Sample','cdr3pep']).sum()\n",
    "clones = clones.reset_index()\n",
    "clones = clones.sort_values(['Sample','freq'], ascending=False)\n",
    "clones.head()"
   ]
  },
  {
   "cell_type": "markdown",
   "metadata": {},
   "source": [
    "## Import patient table"
   ]
  },
  {
   "cell_type": "code",
   "execution_count": 7,
   "metadata": {},
   "outputs": [
    {
     "data": {
      "text/html": [
       "<div>\n",
       "<style scoped>\n",
       "    .dataframe tbody tr th:only-of-type {\n",
       "        vertical-align: middle;\n",
       "    }\n",
       "\n",
       "    .dataframe tbody tr th {\n",
       "        vertical-align: top;\n",
       "    }\n",
       "\n",
       "    .dataframe thead th {\n",
       "        text-align: right;\n",
       "    }\n",
       "</style>\n",
       "<table border=\"1\" class=\"dataframe\">\n",
       "  <thead>\n",
       "    <tr style=\"text-align: right;\">\n",
       "      <th></th>\n",
       "      <th>Sample_ID</th>\n",
       "      <th>Sample_Name</th>\n",
       "      <th>Sample_Plate</th>\n",
       "      <th>Sample_Well</th>\n",
       "      <th>I7_Index_ID</th>\n",
       "      <th>index</th>\n",
       "      <th>I5_Index_ID</th>\n",
       "      <th>index2</th>\n",
       "      <th>Run</th>\n",
       "      <th>Nr</th>\n",
       "      <th>Sample_Project</th>\n",
       "      <th>Species</th>\n",
       "      <th>Chain</th>\n",
       "      <th>Patient</th>\n",
       "      <th>SampleInfo</th>\n",
       "      <th>UMI</th>\n",
       "      <th>filename</th>\n",
       "    </tr>\n",
       "  </thead>\n",
       "  <tbody>\n",
       "    <tr>\n",
       "      <th>0</th>\n",
       "      <td>MSmm-01</td>\n",
       "      <td>MSmm-01</td>\n",
       "      <td>NaN</td>\n",
       "      <td>NaN</td>\n",
       "      <td>NaN</td>\n",
       "      <td>NaN</td>\n",
       "      <td>NaN</td>\n",
       "      <td>NaN</td>\n",
       "      <td>runXXX-20201013-maria-mouse</td>\n",
       "      <td>S1</td>\n",
       "      <td>GC</td>\n",
       "      <td>mouse</td>\n",
       "      <td>BCRh</td>\n",
       "      <td>Unknown</td>\n",
       "      <td>MSmm-01</td>\n",
       "      <td>no</td>\n",
       "      <td>MSmm-01_S1_L001_R1_001.fastq.gz</td>\n",
       "    </tr>\n",
       "    <tr>\n",
       "      <th>1</th>\n",
       "      <td>MSmm-02</td>\n",
       "      <td>MSmm-02</td>\n",
       "      <td>NaN</td>\n",
       "      <td>NaN</td>\n",
       "      <td>NaN</td>\n",
       "      <td>NaN</td>\n",
       "      <td>NaN</td>\n",
       "      <td>NaN</td>\n",
       "      <td>runXXX-20201013-maria-mouse</td>\n",
       "      <td>S2</td>\n",
       "      <td>GC</td>\n",
       "      <td>mouse</td>\n",
       "      <td>BCRh</td>\n",
       "      <td>Unknown</td>\n",
       "      <td>MSmm-02</td>\n",
       "      <td>no</td>\n",
       "      <td>MSmm-02_S2_L001_R1_001.fastq.gz</td>\n",
       "    </tr>\n",
       "    <tr>\n",
       "      <th>2</th>\n",
       "      <td>MSmm-03</td>\n",
       "      <td>MSmm-03</td>\n",
       "      <td>NaN</td>\n",
       "      <td>NaN</td>\n",
       "      <td>NaN</td>\n",
       "      <td>NaN</td>\n",
       "      <td>NaN</td>\n",
       "      <td>NaN</td>\n",
       "      <td>runXXX-20201013-maria-mouse</td>\n",
       "      <td>S3</td>\n",
       "      <td>GC</td>\n",
       "      <td>mouse</td>\n",
       "      <td>BCRh</td>\n",
       "      <td>Unknown</td>\n",
       "      <td>MSmm-03</td>\n",
       "      <td>no</td>\n",
       "      <td>MSmm-03_S3_L001_R1_001.fastq.gz</td>\n",
       "    </tr>\n",
       "    <tr>\n",
       "      <th>3</th>\n",
       "      <td>MSmm-04</td>\n",
       "      <td>MSmm-04</td>\n",
       "      <td>NaN</td>\n",
       "      <td>NaN</td>\n",
       "      <td>NaN</td>\n",
       "      <td>NaN</td>\n",
       "      <td>NaN</td>\n",
       "      <td>NaN</td>\n",
       "      <td>runXXX-20201013-maria-mouse</td>\n",
       "      <td>S4</td>\n",
       "      <td>GC</td>\n",
       "      <td>mouse</td>\n",
       "      <td>BCRh</td>\n",
       "      <td>Unknown</td>\n",
       "      <td>MSmm-04</td>\n",
       "      <td>no</td>\n",
       "      <td>MSmm-04_S4_L001_R1_001.fastq.gz</td>\n",
       "    </tr>\n",
       "    <tr>\n",
       "      <th>4</th>\n",
       "      <td>MSmm-05</td>\n",
       "      <td>MSmm-05</td>\n",
       "      <td>NaN</td>\n",
       "      <td>NaN</td>\n",
       "      <td>NaN</td>\n",
       "      <td>NaN</td>\n",
       "      <td>NaN</td>\n",
       "      <td>NaN</td>\n",
       "      <td>runXXX-20201013-maria-mouse</td>\n",
       "      <td>S5</td>\n",
       "      <td>GC</td>\n",
       "      <td>mouse</td>\n",
       "      <td>BCRh</td>\n",
       "      <td>Unknown</td>\n",
       "      <td>MSmm-05</td>\n",
       "      <td>no</td>\n",
       "      <td>MSmm-05_S5_L001_R1_001.fastq.gz</td>\n",
       "    </tr>\n",
       "  </tbody>\n",
       "</table>\n",
       "</div>"
      ],
      "text/plain": [
       "  Sample_ID Sample_Name  Sample_Plate  Sample_Well  I7_Index_ID  index  \\\n",
       "0   MSmm-01     MSmm-01           NaN          NaN          NaN    NaN   \n",
       "1   MSmm-02     MSmm-02           NaN          NaN          NaN    NaN   \n",
       "2   MSmm-03     MSmm-03           NaN          NaN          NaN    NaN   \n",
       "3   MSmm-04     MSmm-04           NaN          NaN          NaN    NaN   \n",
       "4   MSmm-05     MSmm-05           NaN          NaN          NaN    NaN   \n",
       "\n",
       "   I5_Index_ID  index2                          Run  Nr Sample_Project  \\\n",
       "0          NaN     NaN  runXXX-20201013-maria-mouse  S1             GC   \n",
       "1          NaN     NaN  runXXX-20201013-maria-mouse  S2             GC   \n",
       "2          NaN     NaN  runXXX-20201013-maria-mouse  S3             GC   \n",
       "3          NaN     NaN  runXXX-20201013-maria-mouse  S4             GC   \n",
       "4          NaN     NaN  runXXX-20201013-maria-mouse  S5             GC   \n",
       "\n",
       "  Species Chain  Patient SampleInfo UMI                         filename  \n",
       "0   mouse  BCRh  Unknown    MSmm-01  no  MSmm-01_S1_L001_R1_001.fastq.gz  \n",
       "1   mouse  BCRh  Unknown    MSmm-02  no  MSmm-02_S2_L001_R1_001.fastq.gz  \n",
       "2   mouse  BCRh  Unknown    MSmm-03  no  MSmm-03_S3_L001_R1_001.fastq.gz  \n",
       "3   mouse  BCRh  Unknown    MSmm-04  no  MSmm-04_S4_L001_R1_001.fastq.gz  \n",
       "4   mouse  BCRh  Unknown    MSmm-05  no  MSmm-05_S5_L001_R1_001.fastq.gz  "
      ]
     },
     "execution_count": 7,
     "metadata": {},
     "output_type": "execute_result"
    }
   ],
   "source": [
    "pt = pd.read_csv(pt_file, sep=\",\", skiprows=20)\n",
    "pt = pt.rename(columns = {'Sample': 'SampleInfo'})\n",
    "pt.head()"
   ]
  },
  {
   "cell_type": "code",
   "execution_count": 8,
   "metadata": {},
   "outputs": [],
   "source": [
    "# Concatenate sample-id and nr in a new column\n",
    "f = lambda x,y: str(x) + \"_\" + str(y)\n",
    "pt['Sample'] = [name for name in map(f, pt['Sample_Name'], pt['Nr'])]\n",
    "pt = pt[[\"Sample\",\"Patient\"]]"
   ]
  },
  {
   "cell_type": "code",
   "execution_count": 9,
   "metadata": {},
   "outputs": [
    {
     "data": {
      "text/html": [
       "<div>\n",
       "<style scoped>\n",
       "    .dataframe tbody tr th:only-of-type {\n",
       "        vertical-align: middle;\n",
       "    }\n",
       "\n",
       "    .dataframe tbody tr th {\n",
       "        vertical-align: top;\n",
       "    }\n",
       "\n",
       "    .dataframe thead th {\n",
       "        text-align: right;\n",
       "    }\n",
       "</style>\n",
       "<table border=\"1\" class=\"dataframe\">\n",
       "  <thead>\n",
       "    <tr style=\"text-align: right;\">\n",
       "      <th></th>\n",
       "      <th>Sample</th>\n",
       "      <th>Patient</th>\n",
       "    </tr>\n",
       "  </thead>\n",
       "  <tbody>\n",
       "    <tr>\n",
       "      <th>0</th>\n",
       "      <td>MSmm-01_S1</td>\n",
       "      <td>Unknown</td>\n",
       "    </tr>\n",
       "    <tr>\n",
       "      <th>1</th>\n",
       "      <td>MSmm-02_S2</td>\n",
       "      <td>Unknown</td>\n",
       "    </tr>\n",
       "    <tr>\n",
       "      <th>2</th>\n",
       "      <td>MSmm-03_S3</td>\n",
       "      <td>Unknown</td>\n",
       "    </tr>\n",
       "    <tr>\n",
       "      <th>3</th>\n",
       "      <td>MSmm-04_S4</td>\n",
       "      <td>Unknown</td>\n",
       "    </tr>\n",
       "    <tr>\n",
       "      <th>4</th>\n",
       "      <td>MSmm-05_S5</td>\n",
       "      <td>Unknown</td>\n",
       "    </tr>\n",
       "  </tbody>\n",
       "</table>\n",
       "</div>"
      ],
      "text/plain": [
       "       Sample  Patient\n",
       "0  MSmm-01_S1  Unknown\n",
       "1  MSmm-02_S2  Unknown\n",
       "2  MSmm-03_S3  Unknown\n",
       "3  MSmm-04_S4  Unknown\n",
       "4  MSmm-05_S5  Unknown"
      ]
     },
     "execution_count": 9,
     "metadata": {},
     "output_type": "execute_result"
    }
   ],
   "source": [
    "pt.head()"
   ]
  },
  {
   "cell_type": "markdown",
   "metadata": {},
   "source": [
    "## Merge clones with pt"
   ]
  },
  {
   "cell_type": "code",
   "execution_count": 10,
   "metadata": {},
   "outputs": [
    {
     "data": {
      "text/html": [
       "<div>\n",
       "<style scoped>\n",
       "    .dataframe tbody tr th:only-of-type {\n",
       "        vertical-align: middle;\n",
       "    }\n",
       "\n",
       "    .dataframe tbody tr th {\n",
       "        vertical-align: top;\n",
       "    }\n",
       "\n",
       "    .dataframe thead th {\n",
       "        text-align: right;\n",
       "    }\n",
       "</style>\n",
       "<table border=\"1\" class=\"dataframe\">\n",
       "  <thead>\n",
       "    <tr style=\"text-align: right;\">\n",
       "      <th></th>\n",
       "      <th>Sample</th>\n",
       "      <th>cdr3pep</th>\n",
       "      <th>freq</th>\n",
       "      <th>uniq_umis</th>\n",
       "      <th>sum_sites</th>\n",
       "      <th>avg_sites</th>\n",
       "      <th>read_perc</th>\n",
       "      <th>umi_perc</th>\n",
       "      <th>Patient</th>\n",
       "    </tr>\n",
       "  </thead>\n",
       "  <tbody>\n",
       "    <tr>\n",
       "      <th>0</th>\n",
       "      <td>MSmm-05_S5</td>\n",
       "      <td>FDVWGTGTLLT</td>\n",
       "      <td>29</td>\n",
       "      <td>1</td>\n",
       "      <td>0</td>\n",
       "      <td>0.00</td>\n",
       "      <td>0.151697</td>\n",
       "      <td>0.008273</td>\n",
       "      <td>Unknown</td>\n",
       "    </tr>\n",
       "    <tr>\n",
       "      <th>1</th>\n",
       "      <td>MSmm-05_S5</td>\n",
       "      <td>FDVWGTGTTLT</td>\n",
       "      <td>29</td>\n",
       "      <td>1</td>\n",
       "      <td>0</td>\n",
       "      <td>0.00</td>\n",
       "      <td>0.151697</td>\n",
       "      <td>0.008273</td>\n",
       "      <td>Unknown</td>\n",
       "    </tr>\n",
       "    <tr>\n",
       "      <th>2</th>\n",
       "      <td>MSmm-05_S5</td>\n",
       "      <td>DYWGQGTTLT</td>\n",
       "      <td>25</td>\n",
       "      <td>1</td>\n",
       "      <td>1</td>\n",
       "      <td>0.04</td>\n",
       "      <td>0.130774</td>\n",
       "      <td>0.008273</td>\n",
       "      <td>Unknown</td>\n",
       "    </tr>\n",
       "    <tr>\n",
       "      <th>3</th>\n",
       "      <td>MSmm-05_S5</td>\n",
       "      <td>WGQGTTLT</td>\n",
       "      <td>25</td>\n",
       "      <td>1</td>\n",
       "      <td>0</td>\n",
       "      <td>0.00</td>\n",
       "      <td>0.130774</td>\n",
       "      <td>0.008273</td>\n",
       "      <td>Unknown</td>\n",
       "    </tr>\n",
       "    <tr>\n",
       "      <th>4</th>\n",
       "      <td>MSmm-05_S5</td>\n",
       "      <td>CKTEDDGYLYWYFDVWGTGTTLT</td>\n",
       "      <td>24</td>\n",
       "      <td>1</td>\n",
       "      <td>0</td>\n",
       "      <td>0.00</td>\n",
       "      <td>0.125543</td>\n",
       "      <td>0.008273</td>\n",
       "      <td>Unknown</td>\n",
       "    </tr>\n",
       "  </tbody>\n",
       "</table>\n",
       "</div>"
      ],
      "text/plain": [
       "       Sample                  cdr3pep  freq  uniq_umis  sum_sites  avg_sites  \\\n",
       "0  MSmm-05_S5              FDVWGTGTLLT    29          1          0       0.00   \n",
       "1  MSmm-05_S5              FDVWGTGTTLT    29          1          0       0.00   \n",
       "2  MSmm-05_S5               DYWGQGTTLT    25          1          1       0.04   \n",
       "3  MSmm-05_S5                 WGQGTTLT    25          1          0       0.00   \n",
       "4  MSmm-05_S5  CKTEDDGYLYWYFDVWGTGTTLT    24          1          0       0.00   \n",
       "\n",
       "   read_perc  umi_perc  Patient  \n",
       "0   0.151697  0.008273  Unknown  \n",
       "1   0.151697  0.008273  Unknown  \n",
       "2   0.130774  0.008273  Unknown  \n",
       "3   0.130774  0.008273  Unknown  \n",
       "4   0.125543  0.008273  Unknown  "
      ]
     },
     "execution_count": 10,
     "metadata": {},
     "output_type": "execute_result"
    }
   ],
   "source": [
    "# Join data frames\n",
    "df = pd.merge(clones, pt, how='inner', on = 'Sample')\n",
    "df.head()"
   ]
  },
  {
   "cell_type": "markdown",
   "metadata": {},
   "source": [
    "## Determine distance between samples"
   ]
  },
  {
   "cell_type": "code",
   "execution_count": 11,
   "metadata": {},
   "outputs": [
    {
     "data": {
      "text/html": [
       "<div>\n",
       "<style scoped>\n",
       "    .dataframe tbody tr th:only-of-type {\n",
       "        vertical-align: middle;\n",
       "    }\n",
       "\n",
       "    .dataframe tbody tr th {\n",
       "        vertical-align: top;\n",
       "    }\n",
       "\n",
       "    .dataframe thead tr th {\n",
       "        text-align: left;\n",
       "    }\n",
       "\n",
       "    .dataframe thead tr:last-of-type th {\n",
       "        text-align: right;\n",
       "    }\n",
       "</style>\n",
       "<table border=\"1\" class=\"dataframe\">\n",
       "  <thead>\n",
       "    <tr>\n",
       "      <th>Patient</th>\n",
       "      <th colspan=\"5\" halign=\"left\">Unknown</th>\n",
       "    </tr>\n",
       "    <tr>\n",
       "      <th>Sample</th>\n",
       "      <th>MSmm-01_S1</th>\n",
       "      <th>MSmm-02_S2</th>\n",
       "      <th>MSmm-03_S3</th>\n",
       "      <th>MSmm-04_S4</th>\n",
       "      <th>MSmm-05_S5</th>\n",
       "    </tr>\n",
       "    <tr>\n",
       "      <th>cdr3pep</th>\n",
       "      <th></th>\n",
       "      <th></th>\n",
       "      <th></th>\n",
       "      <th></th>\n",
       "      <th></th>\n",
       "    </tr>\n",
       "  </thead>\n",
       "  <tbody>\n",
       "    <tr>\n",
       "      <th>AMDYWGQGTILT</th>\n",
       "      <td>1.0</td>\n",
       "      <td>0.0</td>\n",
       "      <td>0.0</td>\n",
       "      <td>1.0</td>\n",
       "      <td>0.0</td>\n",
       "    </tr>\n",
       "    <tr>\n",
       "      <th>AMDYWGQGTLLT</th>\n",
       "      <td>0.0</td>\n",
       "      <td>0.0</td>\n",
       "      <td>0.0</td>\n",
       "      <td>0.0</td>\n",
       "      <td>2.0</td>\n",
       "    </tr>\n",
       "    <tr>\n",
       "      <th>AMDYWGQGTLVT</th>\n",
       "      <td>1.0</td>\n",
       "      <td>0.0</td>\n",
       "      <td>0.0</td>\n",
       "      <td>0.0</td>\n",
       "      <td>1.0</td>\n",
       "    </tr>\n",
       "    <tr>\n",
       "      <th>AMDYWGQGTPLT</th>\n",
       "      <td>4.0</td>\n",
       "      <td>1.0</td>\n",
       "      <td>1.0</td>\n",
       "      <td>0.0</td>\n",
       "      <td>0.0</td>\n",
       "    </tr>\n",
       "    <tr>\n",
       "      <th>AMDYWGQGTPVT</th>\n",
       "      <td>5.0</td>\n",
       "      <td>0.0</td>\n",
       "      <td>0.0</td>\n",
       "      <td>0.0</td>\n",
       "      <td>1.0</td>\n",
       "    </tr>\n",
       "  </tbody>\n",
       "</table>\n",
       "</div>"
      ],
      "text/plain": [
       "Patient         Unknown                                            \n",
       "Sample       MSmm-01_S1 MSmm-02_S2 MSmm-03_S3 MSmm-04_S4 MSmm-05_S5\n",
       "cdr3pep                                                            \n",
       "AMDYWGQGTILT        1.0        0.0        0.0        1.0        0.0\n",
       "AMDYWGQGTLLT        0.0        0.0        0.0        0.0        2.0\n",
       "AMDYWGQGTLVT        1.0        0.0        0.0        0.0        1.0\n",
       "AMDYWGQGTPLT        4.0        1.0        1.0        0.0        0.0\n",
       "AMDYWGQGTPVT        5.0        0.0        0.0        0.0        1.0"
      ]
     },
     "execution_count": 11,
     "metadata": {},
     "output_type": "execute_result"
    }
   ],
   "source": [
    "df_pivot = df.pivot_table(columns=['Patient','Sample'], index='cdr3pep', values='freq')\n",
    "df_pivot = df_pivot.fillna(0)\n",
    "df_pivot.head()"
   ]
  },
  {
   "cell_type": "code",
   "execution_count": 12,
   "metadata": {},
   "outputs": [
    {
     "data": {
      "text/html": [
       "<div>\n",
       "<style scoped>\n",
       "    .dataframe tbody tr th:only-of-type {\n",
       "        vertical-align: middle;\n",
       "    }\n",
       "\n",
       "    .dataframe tbody tr th {\n",
       "        vertical-align: top;\n",
       "    }\n",
       "\n",
       "    .dataframe thead tr th {\n",
       "        text-align: left;\n",
       "    }\n",
       "\n",
       "    .dataframe thead tr:last-of-type th {\n",
       "        text-align: right;\n",
       "    }\n",
       "</style>\n",
       "<table border=\"1\" class=\"dataframe\">\n",
       "  <thead>\n",
       "    <tr>\n",
       "      <th></th>\n",
       "      <th>Patient</th>\n",
       "      <th colspan=\"5\" halign=\"left\">Unknown</th>\n",
       "    </tr>\n",
       "    <tr>\n",
       "      <th></th>\n",
       "      <th>Sample</th>\n",
       "      <th>MSmm-01_S1</th>\n",
       "      <th>MSmm-02_S2</th>\n",
       "      <th>MSmm-03_S3</th>\n",
       "      <th>MSmm-04_S4</th>\n",
       "      <th>MSmm-05_S5</th>\n",
       "    </tr>\n",
       "    <tr>\n",
       "      <th>Patient</th>\n",
       "      <th>Sample</th>\n",
       "      <th></th>\n",
       "      <th></th>\n",
       "      <th></th>\n",
       "      <th></th>\n",
       "      <th></th>\n",
       "    </tr>\n",
       "  </thead>\n",
       "  <tbody>\n",
       "    <tr>\n",
       "      <th rowspan=\"5\" valign=\"top\">Unknown</th>\n",
       "      <th>MSmm-01_S1</th>\n",
       "      <td>1.000000</td>\n",
       "      <td>0.017249</td>\n",
       "      <td>0.018109</td>\n",
       "      <td>0.017854</td>\n",
       "      <td>0.021394</td>\n",
       "    </tr>\n",
       "    <tr>\n",
       "      <th>MSmm-02_S2</th>\n",
       "      <td>0.017249</td>\n",
       "      <td>1.000000</td>\n",
       "      <td>0.017978</td>\n",
       "      <td>0.015351</td>\n",
       "      <td>0.022647</td>\n",
       "    </tr>\n",
       "    <tr>\n",
       "      <th>MSmm-03_S3</th>\n",
       "      <td>0.018109</td>\n",
       "      <td>0.017978</td>\n",
       "      <td>1.000000</td>\n",
       "      <td>0.020960</td>\n",
       "      <td>0.020214</td>\n",
       "    </tr>\n",
       "    <tr>\n",
       "      <th>MSmm-04_S4</th>\n",
       "      <td>0.017854</td>\n",
       "      <td>0.015351</td>\n",
       "      <td>0.020960</td>\n",
       "      <td>1.000000</td>\n",
       "      <td>0.022419</td>\n",
       "    </tr>\n",
       "    <tr>\n",
       "      <th>MSmm-05_S5</th>\n",
       "      <td>0.021394</td>\n",
       "      <td>0.022647</td>\n",
       "      <td>0.020214</td>\n",
       "      <td>0.022419</td>\n",
       "      <td>1.000000</td>\n",
       "    </tr>\n",
       "  </tbody>\n",
       "</table>\n",
       "</div>"
      ],
      "text/plain": [
       "Patient               Unknown                                            \n",
       "Sample             MSmm-01_S1 MSmm-02_S2 MSmm-03_S3 MSmm-04_S4 MSmm-05_S5\n",
       "Patient Sample                                                           \n",
       "Unknown MSmm-01_S1   1.000000   0.017249   0.018109   0.017854   0.021394\n",
       "        MSmm-02_S2   0.017249   1.000000   0.017978   0.015351   0.022647\n",
       "        MSmm-03_S3   0.018109   0.017978   1.000000   0.020960   0.020214\n",
       "        MSmm-04_S4   0.017854   0.015351   0.020960   1.000000   0.022419\n",
       "        MSmm-05_S5   0.021394   0.022647   0.020214   0.022419   1.000000"
      ]
     },
     "execution_count": 12,
     "metadata": {},
     "output_type": "execute_result"
    }
   ],
   "source": [
    "sim = 1 - pairwise_distances(df_pivot.T, metric = \"braycurtis\")\n",
    "sim = pd.DataFrame(sim, index=df_pivot.columns, columns=df_pivot.columns)\n",
    "sim.head()"
   ]
  },
  {
   "cell_type": "code",
   "execution_count": 13,
   "metadata": {},
   "outputs": [
    {
     "name": "stdout",
     "output_type": "stream",
     "text": [
      "Wrote runMaria-mouse-similarity-IGH_MOUSE.xlsx to disk\n"
     ]
    }
   ],
   "source": [
    "sim.to_excel(excel_file)\n",
    "print(\"Wrote\", excel_file, \"to disk\")"
   ]
  },
  {
   "cell_type": "markdown",
   "metadata": {},
   "source": [
    "## Create a heatmap"
   ]
  },
  {
   "cell_type": "code",
   "execution_count": 14,
   "metadata": {},
   "outputs": [],
   "source": [
    "def drawBox(end, length):\n",
    "    '''\n",
    "    Description: draw a square with lines\n",
    "    In: start (int), length (int)\n",
    "    Out: None, 4 lines will be drawn on the canvas\n",
    "    '''\n",
    "    linewidth = 5\n",
    "    low = end - length\n",
    "    high = end\n",
    "    plt.plot([low, high], [high, high], 'k-', lw=linewidth)   # N\n",
    "    plt.plot([high, high], [low, high], 'k-', lw=linewidth)   # E\n",
    "    plt.plot([low, high], [low, low], 'k-', lw=linewidth)     # S\n",
    "    plt.plot([low, low], [low, high], 'k-', lw=linewidth)     # W"
   ]
  },
  {
   "cell_type": "code",
   "execution_count": 15,
   "metadata": {},
   "outputs": [],
   "source": [
    "def drawHeatmap(overlap):\n",
    "    font = {'family' : 'sans-serif',\n",
    "            'weight' : 'normal',\n",
    "            'size'   : 22}\n",
    "\n",
    "    matplotlib.rc('font', **font)\n",
    "\n",
    "    fig, ax = plt.subplots(figsize=(60, 60))\n",
    "    fig.subplots_adjust(bottom=0.3)\n",
    "\n",
    "    # is used for log scaling\n",
    "    Z1 = overlap.values\n",
    "    Z1[Z1 <= 0] = Z1[Z1 > 0].min()  # Replace any value below or equal to zero with lowest value above zero\n",
    "    \n",
    "    print(\"min value:\", Z1.min())\n",
    "    print(\"max value:\", Z1.max())\n",
    "\n",
    "    # get the patient-id\n",
    "    labels_x = [x[0] for x in overlap.index]\n",
    "    labels_y = [y[0] for y in overlap.columns]\n",
    "\n",
    "    # draw heatmap\n",
    "    plt.pcolor(overlap.values, cmap=plt.cm.viridis, norm=colors.LogNorm(vmin=Z1.min(), vmax=Z1.max()))\n",
    "    #plt.pcolor(overlap.values, cmap=plt.cm.viridis)\n",
    "    plt.colorbar()\n",
    "    plt.yticks(np.arange(0.5, len(overlap.index), 1), overlap.columns, rotation=0)\n",
    "    plt.xticks(np.arange(0.5, len(overlap.columns), 1), overlap.index, rotation=90)\n",
    "\n",
    "    # Add lines around same patient-id\n",
    "    prev_label = None\n",
    "    length = 0\n",
    "    for i in range(len(labels_x)):\n",
    "        if prev_label is not None and prev_label != labels_x[i]:\n",
    "            drawBox(i, length)\n",
    "            length = 0\n",
    "        prev_label = labels_x[i]\n",
    "        length +=1\n",
    "    i += 1\n",
    "    drawBox(i, length)\n",
    "\n",
    "    # Save figure to file\n",
    "    fig.savefig(plotfile)\n",
    "    print(\"Wrote\", plotfile, \"to disk\")"
   ]
  },
  {
   "cell_type": "code",
   "execution_count": 16,
   "metadata": {},
   "outputs": [
    {
     "name": "stdout",
     "output_type": "stream",
     "text": [
      "min value: 0.015351128422499749\n",
      "max value: 1.0\n",
      "Wrote runMaria-mouse-similarity-IGH_MOUSE.pdf to disk\n"
     ]
    },
    {
     "data": {
      "image/png": "[encoded data removed]",
      "text/plain": [
       "<Figure size 4320x4320 with 2 Axes>"
      ]
     },
     "metadata": {},
     "output_type": "display_data"
    }
   ],
   "source": [
    "drawHeatmap(sim)"
   ]
  },
  {
   "cell_type": "markdown",
   "metadata": {},
   "source": [
    "## Highlight anomalies"
   ]
  },
  {
   "cell_type": "code",
   "execution_count": 17,
   "metadata": {},
   "outputs": [],
   "source": [
    "# get index pairs of same patient (divide same vs not same sample) and list indices for different patients\n",
    "same_sample = list()\n",
    "same_patient = list()\n",
    "diff_patient = list()\n",
    "for x in sim.index:\n",
    "    for y in sim.columns:\n",
    "        if x[0] == y[0]:  # same patient\n",
    "            if x[1] == y[1]:  # same sample\n",
    "                same_sample.append((x, y))\n",
    "            else:        # same patient, but not same sample\n",
    "                same_patient.append((x, y))\n",
    "        else:             # not same patient\n",
    "            diff_patient.append((x,y))                    "
   ]
  },
  {
   "cell_type": "code",
   "execution_count": 18,
   "metadata": {},
   "outputs": [
    {
     "name": "stdout",
     "output_type": "stream",
     "text": [
      "mean same patient 0.019417553864118708 0.0023200941633641156\n",
      "mean diff patient nan nan\n",
      "threshold nan\n"
     ]
    },
    {
     "name": "stderr",
     "output_type": "stream",
     "text": [
      "/data/home/bioinfo/anaconda3/lib/python3.6/site-packages/numpy/core/fromnumeric.py:2957: RuntimeWarning: Mean of empty slice.\n",
      "  out=out, **kwargs)\n",
      "/data/home/bioinfo/anaconda3/lib/python3.6/site-packages/numpy/core/_methods.py:80: RuntimeWarning: invalid value encountered in double_scalars\n",
      "  ret = ret.dtype.type(ret / rcount)\n",
      "/data/home/bioinfo/anaconda3/lib/python3.6/site-packages/numpy/core/_methods.py:135: RuntimeWarning: Degrees of freedom <= 0 for slice\n",
      "  keepdims=keepdims)\n",
      "/data/home/bioinfo/anaconda3/lib/python3.6/site-packages/numpy/core/_methods.py:105: RuntimeWarning: invalid value encountered in true_divide\n",
      "  arrmean, rcount, out=arrmean, casting='unsafe', subok=False)\n",
      "/data/home/bioinfo/anaconda3/lib/python3.6/site-packages/numpy/core/_methods.py:127: RuntimeWarning: invalid value encountered in double_scalars\n",
      "  ret = ret.dtype.type(ret / rcount)\n"
     ]
    }
   ],
   "source": [
    "# Get values of same patient (but different samples) and values for different patients\n",
    "values_same_patient = [sim.loc[x][y] for x,y in same_patient]\n",
    "values_diff_patient = [sim.loc[x][y] for x,y in diff_patient]\n",
    "mean_diff_patient = np.mean(values_diff_patient)\n",
    "std_diff_patient = np.std(values_diff_patient)\n",
    "threshold = mean_diff_patient + 4 * std_diff_patient\n",
    "print(\"mean same patient\", np.mean(values_same_patient), np.std(values_same_patient))\n",
    "print(\"mean diff patient\", mean_diff_patient, std_diff_patient)\n",
    "print(\"threshold\", threshold)"
   ]
  },
  {
   "cell_type": "code",
   "execution_count": 19,
   "metadata": {},
   "outputs": [
    {
     "data": {
      "text/plain": [
       "{'whiskers': [<matplotlib.lines.Line2D at 0x7fd869af8358>,\n",
       "  <matplotlib.lines.Line2D at 0x7fd869af87f0>,\n",
       "  <matplotlib.lines.Line2D at 0x7fd869b0a198>,\n",
       "  <matplotlib.lines.Line2D at 0x7fd869b0a5f8>],\n",
       " 'caps': [<matplotlib.lines.Line2D at 0x7fd869af8c18>,\n",
       "  <matplotlib.lines.Line2D at 0x7fd869b03080>,\n",
       "  <matplotlib.lines.Line2D at 0x7fd869b0aa58>,\n",
       "  <matplotlib.lines.Line2D at 0x7fd869b0aeb8>],\n",
       " 'boxes': [<matplotlib.lines.Line2D at 0x7fd869af8208>,\n",
       "  <matplotlib.lines.Line2D at 0x7fd869b03d30>],\n",
       " 'medians': [<matplotlib.lines.Line2D at 0x7fd869b034a8>,\n",
       "  <matplotlib.lines.Line2D at 0x7fd869a91358>],\n",
       " 'fliers': [<matplotlib.lines.Line2D at 0x7fd869b038d0>,\n",
       "  <matplotlib.lines.Line2D at 0x7fd869a917b8>],\n",
       " 'means': []}"
      ]
     },
     "execution_count": 19,
     "metadata": {},
     "output_type": "execute_result"
    },
    {
     "data": {
      "image/png": "[encoded data removed]",
      "text/plain": [
       "<Figure size 432x288 with 1 Axes>"
      ]
     },
     "metadata": {},
     "output_type": "display_data"
    }
   ],
   "source": [
    "# Boxplot\n",
    "plt.boxplot([values_diff_patient, values_same_patient], labels=['diff', 'same'])"
   ]
  },
  {
   "cell_type": "code",
   "execution_count": 20,
   "metadata": {},
   "outputs": [
    {
     "data": {
      "text/plain": [
       "[<matplotlib.lines.Line2D at 0x7fd869a59550>]"
      ]
     },
     "execution_count": 20,
     "metadata": {},
     "output_type": "execute_result"
    },
    {
     "data": {
      "image/png": "[encoded data removed]",
      "text/plain": [
       "<Figure size 432x288 with 1 Axes>"
      ]
     },
     "metadata": {},
     "output_type": "display_data"
    }
   ],
   "source": [
    "# Histogram\n",
    "plt.hist(values_diff_patient, bins=100)\n",
    "plt.hist(values_same_patient, bins=100)\n",
    "plt.plot([threshold, threshold], [0, 750], 'k-', lw=2)"
   ]
  },
  {
   "cell_type": "code",
   "execution_count": 21,
   "metadata": {},
   "outputs": [
    {
     "name": "stdout",
     "output_type": "stream",
     "text": [
      "Wrote runMaria-mouse-similarity-IGH_MOUSE.txt to disk\n"
     ]
    }
   ],
   "source": [
    "# Print sample names if similarity is twice the 95% interval\n",
    "fhOut = open(suspects_list, \"w\")\n",
    "check_samples = list()\n",
    "for i,j in diff_patient:\n",
    "    if sim.loc[i][j] > threshold:\n",
    "        print(i, j, sim.loc[i][j])\n",
    "        print(i, j, sim.loc[i][j], file=fhOut)\n",
    "        check_samples.append((i,j))\n",
    "fhOut.close()\n",
    "print(\"Wrote\", suspects_list, \"to disk\")"
   ]
  },
  {
   "cell_type": "code",
   "execution_count": 22,
   "metadata": {},
   "outputs": [],
   "source": [
    "sim2 = sim.copy()\n",
    "for i, j in check_samples:\n",
    "    sim2.loc[i][j] = 1"
   ]
  },
  {
   "cell_type": "code",
   "execution_count": 23,
   "metadata": {},
   "outputs": [
    {
     "name": "stdout",
     "output_type": "stream",
     "text": [
      "min value: 0.015351128422499749\n",
      "max value: 1.0\n",
      "Wrote runMaria-mouse-similarity-IGH_MOUSE-highlighted.pdf to disk\n"
     ]
    },
    {
     "data": {
      "image/png": "[encoded data removed]",
      "text/plain": [
       "<Figure size 4320x4320 with 2 Axes>"
      ]
     },
     "metadata": {},
     "output_type": "display_data"
    }
   ],
   "source": [
    "plotfile = plotfile.replace('.pdf', '-highlighted.pdf')\n",
    "drawHeatmap(sim2)"
   ]
  },
  {
   "cell_type": "code",
   "execution_count": null,
   "metadata": {},
   "outputs": [],
   "source": []
  }
 ],
 "metadata": {
  "kernelspec": {
   "display_name": "Python 3",
   "language": "python",
   "name": "python3"
  },
  "language_info": {
   "codemirror_mode": {
    "name": "ipython",
    "version": 3
   },
   "file_extension": ".py",
   "mimetype": "text/x-python",
   "name": "python",
   "nbconvert_exporter": "python",
   "pygments_lexer": "ipython3",
   "version": "3.6.5"
  }
 },
 "nbformat": 4,
 "nbformat_minor": 2
}
