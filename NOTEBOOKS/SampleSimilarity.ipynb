{
 "cells": [
  {
   "cell_type": "code",
   "execution_count": 1,
   "metadata": {},
   "outputs": [],
   "source": [
    "import os\n",
    "import pandas as pd\n",
    "import numpy as np\n",
    "import scipy.stats as st\n",
    "from sklearn.metrics.pairwise import pairwise_distances\n",
    "import matplotlib\n",
    "import matplotlib.pyplot as plt\n",
    "import matplotlib.colors as colors"
   ]
  },
  {
   "cell_type": "markdown",
   "metadata": {},
   "source": [
    "## Input data"
   ]
  },
  {
   "cell_type": "code",
   "execution_count": 2,
   "metadata": {},
   "outputs": [
    {
     "data": {
      "text/plain": [
       "['cdr3-clones-TEC-TRB_HUMAN-after-reassignment.csv',\n",
       " 'cdr3-clones-PreSpA-TRB_HUMAN-after-reassignment.csv']"
      ]
     },
     "execution_count": 2,
     "metadata": {},
     "output_type": "execute_result"
    }
   ],
   "source": [
    "celltype = \"TRB_HUMAN\"\n",
    "myfiles = [x for x in os.listdir(\".\") if x.startswith('cdr3-clones') and celltype in x]\n",
    "myfiles"
   ]
  },
  {
   "cell_type": "code",
   "execution_count": 3,
   "metadata": {},
   "outputs": [
    {
     "name": "stdout",
     "output_type": "stream",
     "text": [
      "Outfile: run54-similarity-TRB_HUMAN.pdf\n"
     ]
    }
   ],
   "source": [
    "pt_file=\"20240227-DataSheet-RUN54.csv\"\n",
    "run = \"run54\"\n",
    "plotfile=run + \"-similarity-\" + celltype + '.pdf'\n",
    "suspects_list = run + \"-similarity-\" + celltype + \".txt\"\n",
    "excel_file = run + \"-similarity-\" + celltype + \".xlsx\"\n",
    "print(\"Outfile:\", plotfile)"
   ]
  },
  {
   "cell_type": "markdown",
   "metadata": {},
   "source": [
    "## Import clonesdata"
   ]
  },
  {
   "cell_type": "code",
   "execution_count": 4,
   "metadata": {},
   "outputs": [],
   "source": [
    "clones = pd.read_csv(myfiles[0], sep=\"\\t\")\n",
    "if len(myfiles) > 1:\n",
    "    for clones_file in myfiles[1:]:\n",
    "        clones = pd.concat([clones, pd.read_csv(clones_file, sep=\"\\t\")])"
   ]
  },
  {
   "cell_type": "code",
   "execution_count": 5,
   "metadata": {},
   "outputs": [
    {
     "data": {
      "text/html": [
       "<div>\n",
       "<style scoped>\n",
       "    .dataframe tbody tr th:only-of-type {\n",
       "        vertical-align: middle;\n",
       "    }\n",
       "\n",
       "    .dataframe tbody tr th {\n",
       "        vertical-align: top;\n",
       "    }\n",
       "\n",
       "    .dataframe thead th {\n",
       "        text-align: right;\n",
       "    }\n",
       "</style>\n",
       "<table border=\"1\" class=\"dataframe\">\n",
       "  <thead>\n",
       "    <tr style=\"text-align: right;\">\n",
       "      <th></th>\n",
       "      <th>Sample</th>\n",
       "      <th>MID</th>\n",
       "      <th>cdr3pep</th>\n",
       "      <th>freq</th>\n",
       "      <th>uniq_umis</th>\n",
       "      <th>V_sub</th>\n",
       "      <th>J_sub</th>\n",
       "      <th>sum_sites</th>\n",
       "      <th>avg_sites</th>\n",
       "      <th>read_perc</th>\n",
       "      <th>umi_perc</th>\n",
       "    </tr>\n",
       "  </thead>\n",
       "  <tbody>\n",
       "    <tr>\n",
       "      <th>0</th>\n",
       "      <td>TEC027-T_S235</td>\n",
       "      <td>CGATCGAT</td>\n",
       "      <td>CSVTDGPNQPQHFG</td>\n",
       "      <td>5672</td>\n",
       "      <td>2085</td>\n",
       "      <td>TRBV29-1</td>\n",
       "      <td>TRBJ1-5</td>\n",
       "      <td>11276</td>\n",
       "      <td>1.988011</td>\n",
       "      <td>3.895872</td>\n",
       "      <td>2.927466</td>\n",
       "    </tr>\n",
       "    <tr>\n",
       "      <th>1</th>\n",
       "      <td>TEC027-T_S235</td>\n",
       "      <td>CGATCGAT</td>\n",
       "      <td>CSVQQGVRDEQYFG</td>\n",
       "      <td>2307</td>\n",
       "      <td>890</td>\n",
       "      <td>TRBV29-1</td>\n",
       "      <td>TRBJ2-7,TRBJ2-1,TRBJ2-5</td>\n",
       "      <td>4577</td>\n",
       "      <td>1.983962</td>\n",
       "      <td>1.584587</td>\n",
       "      <td>1.249614</td>\n",
       "    </tr>\n",
       "    <tr>\n",
       "      <th>2</th>\n",
       "      <td>TEC027-T_S235</td>\n",
       "      <td>CGATCGAT</td>\n",
       "      <td>CASSYGTSGKYEQFFG</td>\n",
       "      <td>1530</td>\n",
       "      <td>686</td>\n",
       "      <td>TRBV6-5</td>\n",
       "      <td>TRBJ2-1,TRBJ2-7,TRBJ2-5</td>\n",
       "      <td>1518</td>\n",
       "      <td>0.992157</td>\n",
       "      <td>1.050896</td>\n",
       "      <td>0.963186</td>\n",
       "    </tr>\n",
       "    <tr>\n",
       "      <th>3</th>\n",
       "      <td>TEC027-T_S235</td>\n",
       "      <td>CGATCGAT</td>\n",
       "      <td>CSAGGDRGLHEQYFG</td>\n",
       "      <td>1506</td>\n",
       "      <td>628</td>\n",
       "      <td>TRBV29-1</td>\n",
       "      <td>TRBJ2-7,TRBJ2-1,TRBJ2-5</td>\n",
       "      <td>2989</td>\n",
       "      <td>1.984728</td>\n",
       "      <td>1.034412</td>\n",
       "      <td>0.881750</td>\n",
       "    </tr>\n",
       "    <tr>\n",
       "      <th>4</th>\n",
       "      <td>TEC027-T_S235</td>\n",
       "      <td>CGATCGAT</td>\n",
       "      <td>CASSRDFAGARSNQPQHFG</td>\n",
       "      <td>1325</td>\n",
       "      <td>567</td>\n",
       "      <td>TRBV6-5</td>\n",
       "      <td>TRBJ1-5</td>\n",
       "      <td>1314</td>\n",
       "      <td>0.991698</td>\n",
       "      <td>0.910090</td>\n",
       "      <td>0.796102</td>\n",
       "    </tr>\n",
       "  </tbody>\n",
       "</table>\n",
       "</div>"
      ],
      "text/plain": [
       "          Sample       MID              cdr3pep  freq  uniq_umis     V_sub  \\\n",
       "0  TEC027-T_S235  CGATCGAT       CSVTDGPNQPQHFG  5672       2085  TRBV29-1   \n",
       "1  TEC027-T_S235  CGATCGAT       CSVQQGVRDEQYFG  2307        890  TRBV29-1   \n",
       "2  TEC027-T_S235  CGATCGAT     CASSYGTSGKYEQFFG  1530        686   TRBV6-5   \n",
       "3  TEC027-T_S235  CGATCGAT      CSAGGDRGLHEQYFG  1506        628  TRBV29-1   \n",
       "4  TEC027-T_S235  CGATCGAT  CASSRDFAGARSNQPQHFG  1325        567   TRBV6-5   \n",
       "\n",
       "                     J_sub  sum_sites  avg_sites  read_perc  umi_perc  \n",
       "0                  TRBJ1-5      11276   1.988011   3.895872  2.927466  \n",
       "1  TRBJ2-7,TRBJ2-1,TRBJ2-5       4577   1.983962   1.584587  1.249614  \n",
       "2  TRBJ2-1,TRBJ2-7,TRBJ2-5       1518   0.992157   1.050896  0.963186  \n",
       "3  TRBJ2-7,TRBJ2-1,TRBJ2-5       2989   1.984728   1.034412  0.881750  \n",
       "4                  TRBJ1-5       1314   0.991698   0.910090  0.796102  "
      ]
     },
     "execution_count": 5,
     "metadata": {},
     "output_type": "execute_result"
    }
   ],
   "source": [
    "clones.head()"
   ]
  },
  {
   "cell_type": "code",
   "execution_count": null,
   "metadata": {},
   "outputs": [],
   "source": [
    "# Summarize data on CDR3\n",
    "clones = clones.groupby(by=['Sample','cdr3pep']).sum()\n",
    "clones = clones.reset_index()\n",
    "clones = clones.sort_values(['Sample','freq'], ascending=False)\n",
    "clones.head()"
   ]
  },
  {
   "cell_type": "markdown",
   "metadata": {},
   "source": [
    "## Import patient table"
   ]
  },
  {
   "cell_type": "code",
   "execution_count": null,
   "metadata": {},
   "outputs": [],
   "source": [
    "pt = pd.read_csv(pt_file, sep=\",\", skiprows=20)\n",
    "pt = pt.rename(columns = {'Sample': 'SampleInfo'})\n",
    "pt.head()"
   ]
  },
  {
   "cell_type": "code",
   "execution_count": null,
   "metadata": {},
   "outputs": [],
   "source": [
    "# Concatenate sample-id and nr in a new column\n",
    "f = lambda x,y: str(x) + \"_\" + str(y)\n",
    "pt['Sample'] = [name for name in map(f, pt['Sample_Name'], pt['Nr'])]\n",
    "pt = pt[[\"Sample\",\"Patient\"]]"
   ]
  },
  {
   "cell_type": "code",
   "execution_count": null,
   "metadata": {},
   "outputs": [],
   "source": [
    "pt.head()"
   ]
  },
  {
   "cell_type": "markdown",
   "metadata": {},
   "source": [
    "## Merge clones with pt"
   ]
  },
  {
   "cell_type": "code",
   "execution_count": null,
   "metadata": {},
   "outputs": [],
   "source": [
    "# Join data frames\n",
    "df = pd.merge(clones, pt, how='inner', on = 'Sample')\n",
    "df.head()"
   ]
  },
  {
   "cell_type": "markdown",
   "metadata": {},
   "source": [
    "## Determine distance between samples"
   ]
  },
  {
   "cell_type": "code",
   "execution_count": null,
   "metadata": {},
   "outputs": [],
   "source": [
    "df_pivot = df.pivot_table(columns=['Patient','Sample'], index='cdr3pep', values='freq')\n",
    "df_pivot = df_pivot.fillna(0)\n",
    "df_pivot.head()"
   ]
  },
  {
   "cell_type": "code",
   "execution_count": null,
   "metadata": {},
   "outputs": [],
   "source": [
    "sim = 1 - pairwise_distances(df_pivot.T, metric = \"braycurtis\")\n",
    "sim = pd.DataFrame(sim, index=df_pivot.columns, columns=df_pivot.columns)\n",
    "sim.head()"
   ]
  },
  {
   "cell_type": "code",
   "execution_count": null,
   "metadata": {},
   "outputs": [],
   "source": [
    "sim.to_excel(excel_file)\n",
    "print(\"Wrote\", excel_file, \"to disk\")"
   ]
  },
  {
   "cell_type": "markdown",
   "metadata": {},
   "source": [
    "## Create a heatmap"
   ]
  },
  {
   "cell_type": "code",
   "execution_count": null,
   "metadata": {},
   "outputs": [],
   "source": [
    "def drawBox(end, length):\n",
    "    '''\n",
    "    Description: draw a square with lines\n",
    "    In: start (int), length (int)\n",
    "    Out: None, 4 lines will be drawn on the canvas\n",
    "    '''\n",
    "    linewidth = 5\n",
    "    low = end - length\n",
    "    high = end\n",
    "    plt.plot([low, high], [high, high], 'k-', lw=linewidth)   # N\n",
    "    plt.plot([high, high], [low, high], 'k-', lw=linewidth)   # E\n",
    "    plt.plot([low, high], [low, low], 'k-', lw=linewidth)     # S\n",
    "    plt.plot([low, low], [low, high], 'k-', lw=linewidth)     # W"
   ]
  },
  {
   "cell_type": "code",
   "execution_count": null,
   "metadata": {},
   "outputs": [],
   "source": [
    "def drawHeatmap(overlap):\n",
    "    font = {'family' : 'sans-serif',\n",
    "            'weight' : 'normal',\n",
    "            'size'   : 22}\n",
    "\n",
    "    matplotlib.rc('font', **font)\n",
    "\n",
    "    fig, ax = plt.subplots(figsize=(60, 60))\n",
    "    fig.subplots_adjust(bottom=0.3)\n",
    "\n",
    "    # is used for log scaling\n",
    "    Z1 = overlap.values\n",
    "    Z1[Z1 <= 0] = Z1[Z1 > 0].min()  # Replace any value below or equal to zero with lowest value above zero\n",
    "    \n",
    "    print(\"min value:\", Z1.min())\n",
    "    print(\"max value:\", Z1.max())\n",
    "\n",
    "    # get the patient-id\n",
    "    labels_x = [x[0] for x in overlap.index]\n",
    "    labels_y = [y[0] for y in overlap.columns]\n",
    "\n",
    "    # draw heatmap\n",
    "    plt.pcolor(overlap.values, cmap=plt.cm.viridis, norm=colors.LogNorm(vmin=Z1.min(), vmax=Z1.max()))\n",
    "    #plt.pcolor(overlap.values, cmap=plt.cm.viridis)\n",
    "    plt.colorbar()\n",
    "    plt.yticks(np.arange(0.5, len(overlap.index), 1), overlap.columns, rotation=0)\n",
    "    plt.xticks(np.arange(0.5, len(overlap.columns), 1), overlap.index, rotation=90)\n",
    "\n",
    "    # Add lines around same patient-id\n",
    "    prev_label = None\n",
    "    length = 0\n",
    "    for i in range(len(labels_x)):\n",
    "        if prev_label is not None and prev_label != labels_x[i]:\n",
    "            drawBox(i, length)\n",
    "            length = 0\n",
    "        prev_label = labels_x[i]\n",
    "        length +=1\n",
    "    i += 1\n",
    "    drawBox(i, length)\n",
    "\n",
    "    # Save figure to file\n",
    "    fig.savefig(plotfile)\n",
    "    print(\"Wrote\", plotfile, \"to disk\")"
   ]
  },
  {
   "cell_type": "code",
   "execution_count": null,
   "metadata": {},
   "outputs": [],
   "source": [
    "drawHeatmap(sim)"
   ]
  },
  {
   "cell_type": "markdown",
   "metadata": {},
   "source": [
    "## Highlight anomalies"
   ]
  },
  {
   "cell_type": "code",
   "execution_count": null,
   "metadata": {},
   "outputs": [],
   "source": [
    "# get index pairs of same patient (divide same vs not same sample) and list indices for different patients\n",
    "same_sample = list()\n",
    "same_patient = list()\n",
    "diff_patient = list()\n",
    "for x in sim.index:\n",
    "    for y in sim.columns:\n",
    "        if x[0] == y[0]:  # same patient\n",
    "            if x[1] == y[1]:  # same sample\n",
    "                same_sample.append((x, y))\n",
    "            else:        # same patient, but not same sample\n",
    "                same_patient.append((x, y))\n",
    "        else:             # not same patient\n",
    "            diff_patient.append((x,y))                    "
   ]
  },
  {
   "cell_type": "code",
   "execution_count": null,
   "metadata": {},
   "outputs": [],
   "source": [
    "# Get values of same patient (but different samples) and values for different patients\n",
    "values_same_patient = [sim.loc[x][y] for x,y in same_patient]\n",
    "values_diff_patient = [sim.loc[x][y] for x,y in diff_patient]\n",
    "mean_diff_patient = np.mean(values_diff_patient)\n",
    "std_diff_patient = np.std(values_diff_patient)\n",
    "threshold = mean_diff_patient + 4 * std_diff_patient\n",
    "print(\"mean same patient\", np.mean(values_same_patient), np.std(values_same_patient))\n",
    "print(\"mean diff patient\", mean_diff_patient, std_diff_patient)\n",
    "print(\"threshold\", threshold)"
   ]
  },
  {
   "cell_type": "code",
   "execution_count": null,
   "metadata": {},
   "outputs": [],
   "source": [
    "# Boxplot\n",
    "plt.boxplot([values_diff_patient, values_same_patient], labels=['diff', 'same'])"
   ]
  },
  {
   "cell_type": "code",
   "execution_count": null,
   "metadata": {},
   "outputs": [],
   "source": [
    "# Histogram\n",
    "plt.hist(values_diff_patient, bins=100)\n",
    "plt.hist(values_same_patient, bins=100)\n",
    "plt.plot([threshold, threshold], [0, 750], 'k-', lw=2)"
   ]
  },
  {
   "cell_type": "code",
   "execution_count": null,
   "metadata": {},
   "outputs": [],
   "source": [
    "# Print sample names if similarity is twice the 95% interval\n",
    "fhOut = open(suspects_list, \"w\")\n",
    "check_samples = list()\n",
    "for i,j in diff_patient:\n",
    "    if sim.loc[i][j] > threshold:\n",
    "        print(i, j, sim.loc[i][j])\n",
    "        print(i, j, sim.loc[i][j], file=fhOut)\n",
    "        check_samples.append((i,j))\n",
    "fhOut.close()\n",
    "print(\"Wrote\", suspects_list, \"to disk\")"
   ]
  },
  {
   "cell_type": "code",
   "execution_count": null,
   "metadata": {},
   "outputs": [],
   "source": [
    "sim2 = sim.copy()\n",
    "for i, j in check_samples:\n",
    "    sim2.loc[i][j] = 1"
   ]
  },
  {
   "cell_type": "code",
   "execution_count": null,
   "metadata": {},
   "outputs": [],
   "source": [
    "plotfile = plotfile.replace('.pdf', '-highlighted.pdf')\n",
    "drawHeatmap(sim2)"
   ]
  },
  {
   "cell_type": "code",
   "execution_count": null,
   "metadata": {},
   "outputs": [],
   "source": []
  }
 ],
 "metadata": {
  "kernelspec": {
   "display_name": "reseda",
   "language": "python",
   "name": "reseda"
  },
  "language_info": {
   "codemirror_mode": {
    "name": "ipython",
    "version": 3
   },
   "file_extension": ".py",
   "mimetype": "text/x-python",
   "name": "python",
   "nbconvert_exporter": "python",
   "pygments_lexer": "ipython3",
   "version": "3.7.0"
  }
 },
 "nbformat": 4,
 "nbformat_minor": 2
}
