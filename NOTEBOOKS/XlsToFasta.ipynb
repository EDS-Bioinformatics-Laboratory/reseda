{
 "cells": [
  {
   "cell_type": "code",
   "execution_count": 1,
   "metadata": {},
   "outputs": [],
   "source": [
    "import os\n",
    "import pandas as pd"
   ]
  },
  {
   "cell_type": "code",
   "execution_count": 2,
   "metadata": {},
   "outputs": [
    {
     "data": {
      "text/plain": [
       "['.ipynb_checkpoints',\n",
       " '.~lock.basta-allinfo-long-mut-nglyc-cdr3peplengthRT.xlsx#',\n",
       " 'CHECKSUM.1605796238',\n",
       " 'IMGT_V-QUEST.pdf',\n",
       " 'basta-clones.xlsx',\n",
       " 'basta-allinfo-long-mut-nglyc-cdr3peplengthRT.xlsx',\n",
       " 'GIT.md',\n",
       " 'basta-allinfo-long-mut-nglyc-cdr3peplength-VJ.xlsx',\n",
       " 'basta-allinfo.xlsx']"
      ]
     },
     "execution_count": 2,
     "metadata": {},
     "output_type": "execute_result"
    }
   ],
   "source": [
    "mydir = \"/home/barbera/Downloads/Thurlings/20201119-lookup-CDR3/\"\n",
    "os.listdir(mydir)"
   ]
  },
  {
   "cell_type": "code",
   "execution_count": 3,
   "metadata": {},
   "outputs": [
    {
     "data": {
      "text/html": [
       "<div>\n",
       "<style scoped>\n",
       "    .dataframe tbody tr th:only-of-type {\n",
       "        vertical-align: middle;\n",
       "    }\n",
       "\n",
       "    .dataframe tbody tr th {\n",
       "        vertical-align: top;\n",
       "    }\n",
       "\n",
       "    .dataframe thead th {\n",
       "        text-align: right;\n",
       "    }\n",
       "</style>\n",
       "<table border=\"1\" class=\"dataframe\">\n",
       "  <thead>\n",
       "    <tr style=\"text-align: right;\">\n",
       "      <th></th>\n",
       "      <th>Unnamed: 0</th>\n",
       "      <th>Unnamed: 1</th>\n",
       "      <th>acc</th>\n",
       "      <th>source</th>\n",
       "      <th>bloodSGMALTpostRTX</th>\n",
       "      <th>prepostRTXtissue</th>\n",
       "      <th>patient</th>\n",
       "      <th>specificity</th>\n",
       "      <th>ANAvsRFvsMALT12</th>\n",
       "      <th>RFvsMALTclone</th>\n",
       "      <th>...</th>\n",
       "      <th>mut.count_x.mode</th>\n",
       "      <th>mut.count_x.sum</th>\n",
       "      <th>mut.count_y.mean</th>\n",
       "      <th>mut.count_y.mode</th>\n",
       "      <th>mut.count_y.sum</th>\n",
       "      <th>mut.frac_x.mean</th>\n",
       "      <th>mut.frac_y.mean</th>\n",
       "      <th>nr_sites.mean</th>\n",
       "      <th>nr_sites.mode</th>\n",
       "      <th>nr_sites.sum</th>\n",
       "    </tr>\n",
       "  </thead>\n",
       "  <tbody>\n",
       "    <tr>\n",
       "      <th>0</th>\n",
       "      <td>1.0</td>\n",
       "      <td>5881.0</td>\n",
       "      <td>SS3-lung-1a-B_S110</td>\n",
       "      <td>lung</td>\n",
       "      <td>3.0</td>\n",
       "      <td>1.0</td>\n",
       "      <td>b5</td>\n",
       "      <td>La</td>\n",
       "      <td>1.0</td>\n",
       "      <td>NaN</td>\n",
       "      <td>...</td>\n",
       "      <td>5.0</td>\n",
       "      <td>48.0</td>\n",
       "      <td>0.0</td>\n",
       "      <td>0.0</td>\n",
       "      <td>0.0</td>\n",
       "      <td>0.025105</td>\n",
       "      <td>0.0</td>\n",
       "      <td>0.0</td>\n",
       "      <td>0.0</td>\n",
       "      <td>0.0</td>\n",
       "    </tr>\n",
       "    <tr>\n",
       "      <th>1</th>\n",
       "      <td>1.0</td>\n",
       "      <td>5882.0</td>\n",
       "      <td>SS3-lung-1a-B_S110</td>\n",
       "      <td>lung</td>\n",
       "      <td>3.0</td>\n",
       "      <td>1.0</td>\n",
       "      <td>b5</td>\n",
       "      <td>La</td>\n",
       "      <td>1.0</td>\n",
       "      <td>NaN</td>\n",
       "      <td>...</td>\n",
       "      <td>5.0</td>\n",
       "      <td>48.0</td>\n",
       "      <td>0.0</td>\n",
       "      <td>0.0</td>\n",
       "      <td>0.0</td>\n",
       "      <td>0.025105</td>\n",
       "      <td>0.0</td>\n",
       "      <td>0.0</td>\n",
       "      <td>0.0</td>\n",
       "      <td>0.0</td>\n",
       "    </tr>\n",
       "    <tr>\n",
       "      <th>2</th>\n",
       "      <td>1.0</td>\n",
       "      <td>5883.0</td>\n",
       "      <td>SS3-lung-1a-B_S110</td>\n",
       "      <td>lung</td>\n",
       "      <td>3.0</td>\n",
       "      <td>1.0</td>\n",
       "      <td>b5</td>\n",
       "      <td>La</td>\n",
       "      <td>1.0</td>\n",
       "      <td>NaN</td>\n",
       "      <td>...</td>\n",
       "      <td>5.0</td>\n",
       "      <td>48.0</td>\n",
       "      <td>0.0</td>\n",
       "      <td>0.0</td>\n",
       "      <td>0.0</td>\n",
       "      <td>0.025105</td>\n",
       "      <td>0.0</td>\n",
       "      <td>0.0</td>\n",
       "      <td>0.0</td>\n",
       "      <td>0.0</td>\n",
       "    </tr>\n",
       "    <tr>\n",
       "      <th>3</th>\n",
       "      <td>1.0</td>\n",
       "      <td>5884.0</td>\n",
       "      <td>SS3-lung-1a-B_S110</td>\n",
       "      <td>lung</td>\n",
       "      <td>3.0</td>\n",
       "      <td>1.0</td>\n",
       "      <td>b5</td>\n",
       "      <td>La</td>\n",
       "      <td>1.0</td>\n",
       "      <td>NaN</td>\n",
       "      <td>...</td>\n",
       "      <td>5.0</td>\n",
       "      <td>48.0</td>\n",
       "      <td>0.0</td>\n",
       "      <td>0.0</td>\n",
       "      <td>0.0</td>\n",
       "      <td>0.025105</td>\n",
       "      <td>0.0</td>\n",
       "      <td>0.0</td>\n",
       "      <td>0.0</td>\n",
       "      <td>0.0</td>\n",
       "    </tr>\n",
       "    <tr>\n",
       "      <th>4</th>\n",
       "      <td>1.0</td>\n",
       "      <td>5885.0</td>\n",
       "      <td>SS3-lung-1a-B_S110</td>\n",
       "      <td>lung</td>\n",
       "      <td>3.0</td>\n",
       "      <td>1.0</td>\n",
       "      <td>b5</td>\n",
       "      <td>La</td>\n",
       "      <td>1.0</td>\n",
       "      <td>NaN</td>\n",
       "      <td>...</td>\n",
       "      <td>5.0</td>\n",
       "      <td>48.0</td>\n",
       "      <td>0.0</td>\n",
       "      <td>0.0</td>\n",
       "      <td>0.0</td>\n",
       "      <td>0.025105</td>\n",
       "      <td>0.0</td>\n",
       "      <td>0.0</td>\n",
       "      <td>0.0</td>\n",
       "      <td>0.0</td>\n",
       "    </tr>\n",
       "  </tbody>\n",
       "</table>\n",
       "<p>5 rows × 67 columns</p>\n",
       "</div>"
      ],
      "text/plain": [
       "   Unnamed: 0  Unnamed: 1                 acc source  bloodSGMALTpostRTX  \\\n",
       "0         1.0      5881.0  SS3-lung-1a-B_S110   lung                 3.0   \n",
       "1         1.0      5882.0  SS3-lung-1a-B_S110   lung                 3.0   \n",
       "2         1.0      5883.0  SS3-lung-1a-B_S110   lung                 3.0   \n",
       "3         1.0      5884.0  SS3-lung-1a-B_S110   lung                 3.0   \n",
       "4         1.0      5885.0  SS3-lung-1a-B_S110   lung                 3.0   \n",
       "\n",
       "   prepostRTXtissue patient specificity  ANAvsRFvsMALT12  RFvsMALTclone  ...  \\\n",
       "0               1.0      b5          La              1.0            NaN  ...   \n",
       "1               1.0      b5          La              1.0            NaN  ...   \n",
       "2               1.0      b5          La              1.0            NaN  ...   \n",
       "3               1.0      b5          La              1.0            NaN  ...   \n",
       "4               1.0      b5          La              1.0            NaN  ...   \n",
       "\n",
       "   mut.count_x.mode mut.count_x.sum mut.count_y.mean mut.count_y.mode  \\\n",
       "0               5.0            48.0              0.0              0.0   \n",
       "1               5.0            48.0              0.0              0.0   \n",
       "2               5.0            48.0              0.0              0.0   \n",
       "3               5.0            48.0              0.0              0.0   \n",
       "4               5.0            48.0              0.0              0.0   \n",
       "\n",
       "  mut.count_y.sum  mut.frac_x.mean mut.frac_y.mean nr_sites.mean  \\\n",
       "0             0.0         0.025105             0.0           0.0   \n",
       "1             0.0         0.025105             0.0           0.0   \n",
       "2             0.0         0.025105             0.0           0.0   \n",
       "3             0.0         0.025105             0.0           0.0   \n",
       "4             0.0         0.025105             0.0           0.0   \n",
       "\n",
       "   nr_sites.mode  nr_sites.sum  \n",
       "0            0.0           0.0  \n",
       "1            0.0           0.0  \n",
       "2            0.0           0.0  \n",
       "3            0.0           0.0  \n",
       "4            0.0           0.0  \n",
       "\n",
       "[5 rows x 67 columns]"
      ]
     },
     "execution_count": 3,
     "metadata": {},
     "output_type": "execute_result"
    }
   ],
   "source": [
    "infile = 'basta-allinfo-long-mut-nglyc-cdr3peplengthRT.xlsx'\n",
    "outfile = infile.replace('.xlsx', '.fasta')\n",
    "df = pd.read_excel(mydir + infile)\n",
    "df.head()"
   ]
  },
  {
   "cell_type": "code",
   "execution_count": 4,
   "metadata": {},
   "outputs": [
    {
     "data": {
      "text/plain": [
       "Index(['Unnamed: 0', 'Unnamed: 1', 'acc', 'source', 'bloodSGMALTpostRTX',\n",
       "       'prepostRTXtissue', 'patient', 'specificity', 'ANAvsRFvsMALT12',\n",
       "       'RFvsMALTclone', 'bloodvstissue', 'beforeMID', 'MID', 'afterMID',\n",
       "       'readingframe', 'cdr3pep', 'cdr3nuc', 'cdr3_qual_min', 'cdr3_qual_max',\n",
       "       'cdr3_qual_avg', 'cdr3_qual', 'nt_start', 'nt_end', 'seq_length',\n",
       "       'V_flag', 'V_gene', 'J_flag', 'J_gene', 'readingframe_seq', 'seq',\n",
       "       'pep', 'qual', 'V_sub_x', 'J_sub_x', 'V_main', 'acc2', 'nr_v_mains',\n",
       "       'nr_v_subs', 'nr_v_alleles', 'nr_j_subs', 'nr_j_alleles', 'acc3',\n",
       "       'readingframe2', 'nr_sites', 'Sample', 'hits', 'hit_count',\n",
       "       'cdr3pep_length', 'J_sub_y', 'UMIs', 'UMIs.frac', 'V_sub_y',\n",
       "       'beforeMID.nunique', 'cdr3nuc.min_mode', 'cdr3nuc.nunique', 'freq',\n",
       "       'mut.count_x.mean', 'mut.count_x.mode', 'mut.count_x.sum',\n",
       "       'mut.count_y.mean', 'mut.count_y.mode', 'mut.count_y.sum',\n",
       "       'mut.frac_x.mean', 'mut.frac_y.mean', 'nr_sites.mean', 'nr_sites.mode',\n",
       "       'nr_sites.sum'],\n",
       "      dtype='object')"
      ]
     },
     "execution_count": 4,
     "metadata": {},
     "output_type": "execute_result"
    }
   ],
   "source": [
    "df.columns"
   ]
  },
  {
   "cell_type": "code",
   "execution_count": 5,
   "metadata": {},
   "outputs": [
    {
     "data": {
      "text/plain": [
       "9663"
      ]
     },
     "execution_count": 5,
     "metadata": {},
     "output_type": "execute_result"
    }
   ],
   "source": [
    "len(df)"
   ]
  },
  {
   "cell_type": "code",
   "execution_count": 6,
   "metadata": {},
   "outputs": [
    {
     "data": {
      "text/html": [
       "<div>\n",
       "<style scoped>\n",
       "    .dataframe tbody tr th:only-of-type {\n",
       "        vertical-align: middle;\n",
       "    }\n",
       "\n",
       "    .dataframe tbody tr th {\n",
       "        vertical-align: top;\n",
       "    }\n",
       "\n",
       "    .dataframe thead th {\n",
       "        text-align: right;\n",
       "    }\n",
       "</style>\n",
       "<table border=\"1\" class=\"dataframe\">\n",
       "  <thead>\n",
       "    <tr style=\"text-align: right;\">\n",
       "      <th></th>\n",
       "      <th>beforeMID</th>\n",
       "      <th>pep</th>\n",
       "    </tr>\n",
       "  </thead>\n",
       "  <tbody>\n",
       "    <tr>\n",
       "      <th>0</th>\n",
       "      <td>M02984:466:000000000-BJD2F:1:1105:4900:10042</td>\n",
       "      <td>TCTTACGTACGTCGTATCGCCTCCCTCGCGCCAGTTAACTCCCTTA...</td>\n",
       "    </tr>\n",
       "    <tr>\n",
       "      <th>1</th>\n",
       "      <td>M02984:466:000000000-BJD2F:1:1109:10088:21530</td>\n",
       "      <td>GTGGACGTACGTCGTATCGCCTCCCTCGCGCCACCTTAATTTCTTA...</td>\n",
       "    </tr>\n",
       "    <tr>\n",
       "      <th>2</th>\n",
       "      <td>M02984:466:000000000-BJD2F:1:1112:22723:21149</td>\n",
       "      <td>TGATACGTACGTCGTATCGCCTCCCTCGCGCCAGGGCATTACCTTA...</td>\n",
       "    </tr>\n",
       "    <tr>\n",
       "      <th>3</th>\n",
       "      <td>M02984:466:000000000-BJD2F:1:1113:11675:23479</td>\n",
       "      <td>TTTGACGTACGTCGTATCGCCTCCCTCGCGCCACGCTTTGCTCTTA...</td>\n",
       "    </tr>\n",
       "    <tr>\n",
       "      <th>4</th>\n",
       "      <td>M02984:466:000000000-BJD2F:1:1115:15412:14634</td>\n",
       "      <td>GTTAACGTACGTCGTATCGCCTCCCTCGCGCCAGTTAACTCCCTTA...</td>\n",
       "    </tr>\n",
       "  </tbody>\n",
       "</table>\n",
       "</div>"
      ],
      "text/plain": [
       "                                       beforeMID  \\\n",
       "0   M02984:466:000000000-BJD2F:1:1105:4900:10042   \n",
       "1  M02984:466:000000000-BJD2F:1:1109:10088:21530   \n",
       "2  M02984:466:000000000-BJD2F:1:1112:22723:21149   \n",
       "3  M02984:466:000000000-BJD2F:1:1113:11675:23479   \n",
       "4  M02984:466:000000000-BJD2F:1:1115:15412:14634   \n",
       "\n",
       "                                                 pep  \n",
       "0  TCTTACGTACGTCGTATCGCCTCCCTCGCGCCAGTTAACTCCCTTA...  \n",
       "1  GTGGACGTACGTCGTATCGCCTCCCTCGCGCCACCTTAATTTCTTA...  \n",
       "2  TGATACGTACGTCGTATCGCCTCCCTCGCGCCAGGGCATTACCTTA...  \n",
       "3  TTTGACGTACGTCGTATCGCCTCCCTCGCGCCACGCTTTGCTCTTA...  \n",
       "4  GTTAACGTACGTCGTATCGCCTCCCTCGCGCCAGTTAACTCCCTTA...  "
      ]
     },
     "execution_count": 6,
     "metadata": {},
     "output_type": "execute_result"
    }
   ],
   "source": [
    "cols = ['beforeMID', 'pep']\n",
    "df[cols].head()"
   ]
  },
  {
   "cell_type": "code",
   "execution_count": 7,
   "metadata": {},
   "outputs": [
    {
     "name": "stdout",
     "output_type": "stream",
     "text": [
      "Wrote basta-allinfo-long-mut-nglyc-cdr3peplengthRT.fasta to disk\n"
     ]
    }
   ],
   "source": [
    "accCol = cols[0]\n",
    "seqCol = cols[1]\n",
    "fhOut = open(outfile, \"w\")\n",
    "for i, row in df.iterrows():\n",
    "    print(\">\" + str(row[accCol]), file=fhOut)\n",
    "    print(row[seqCol], file=fhOut)\n",
    "fhOut.close()\n",
    "print(\"Wrote\", outfile, \"to disk\")"
   ]
  },
  {
   "cell_type": "code",
   "execution_count": null,
   "metadata": {},
   "outputs": [],
   "source": []
  }
 ],
 "metadata": {
  "kernelspec": {
   "display_name": "Python 3",
   "language": "python",
   "name": "python3"
  },
  "language_info": {
   "codemirror_mode": {
    "name": "ipython",
    "version": 3
   },
   "file_extension": ".py",
   "mimetype": "text/x-python",
   "name": "python",
   "nbconvert_exporter": "python",
   "pygments_lexer": "ipython3",
   "version": "3.6.4"
  }
 },
 "nbformat": 4,
 "nbformat_minor": 2
}
