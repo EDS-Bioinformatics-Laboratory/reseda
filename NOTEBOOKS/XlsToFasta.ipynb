{
 "cells": [
  {
   "cell_type": "code",
   "execution_count": 1,
   "metadata": {},
   "outputs": [],
   "source": [
    "import os\n",
    "import pandas as pd"
   ]
  },
  {
   "cell_type": "code",
   "execution_count": 2,
   "metadata": {},
   "outputs": [
    {
     "data": {
      "text/plain": [
       "['.ipynb_checkpoints',\n",
       " 'CHECKSUM.1605796238',\n",
       " 'IMGT_V-QUEST.pdf',\n",
       " 'basta-clones.xlsx',\n",
       " 'basta-allinfo-long-mut-nglyc-cdr3peplengthRT.xlsx',\n",
       " 'GIT.md',\n",
       " 'basta-allinfo-long-mut-nglyc-cdr3peplength-VJ.xlsx',\n",
       " 'basta-allinfo.xlsx']"
      ]
     },
     "execution_count": 2,
     "metadata": {},
     "output_type": "execute_result"
    }
   ],
   "source": [
    "mydir = \"/home/barbera/Downloads/Thurlings/20201119-lookup-CDR3/\"\n",
    "os.listdir(mydir)"
   ]
  },
  {
   "cell_type": "code",
   "execution_count": 3,
   "metadata": {},
   "outputs": [
    {
     "data": {
      "text/html": [
       "<div>\n",
       "<style scoped>\n",
       "    .dataframe tbody tr th:only-of-type {\n",
       "        vertical-align: middle;\n",
       "    }\n",
       "\n",
       "    .dataframe tbody tr th {\n",
       "        vertical-align: top;\n",
       "    }\n",
       "\n",
       "    .dataframe thead th {\n",
       "        text-align: right;\n",
       "    }\n",
       "</style>\n",
       "<table border=\"1\" class=\"dataframe\">\n",
       "  <thead>\n",
       "    <tr style=\"text-align: right;\">\n",
       "      <th></th>\n",
       "      <th>Unnamed: 0</th>\n",
       "      <th>Unnamed: 0.1</th>\n",
       "      <th>acc</th>\n",
       "      <th>beforeMID</th>\n",
       "      <th>MID</th>\n",
       "      <th>afterMID</th>\n",
       "      <th>readingframe</th>\n",
       "      <th>cdr3pep</th>\n",
       "      <th>cdr3nuc</th>\n",
       "      <th>cdr3_qual_min</th>\n",
       "      <th>...</th>\n",
       "      <th>mut.count_y.mean</th>\n",
       "      <th>mut.count_y.mode</th>\n",
       "      <th>mut.count_y.sum</th>\n",
       "      <th>mut.frac_x.mean</th>\n",
       "      <th>mut.frac_y.mean</th>\n",
       "      <th>nr_sites.mean</th>\n",
       "      <th>nr_sites.mode</th>\n",
       "      <th>nr_sites.sum</th>\n",
       "      <th>V</th>\n",
       "      <th>J</th>\n",
       "    </tr>\n",
       "  </thead>\n",
       "  <tbody>\n",
       "    <tr>\n",
       "      <th>0</th>\n",
       "      <td>0</td>\n",
       "      <td>0</td>\n",
       "      <td>M02984:466:000000000-BJD2F:1:1101:10160:22921</td>\n",
       "      <td>AGGATGTTA</td>\n",
       "      <td>ACGTACGT</td>\n",
       "      <td>CTTAC</td>\n",
       "      <td>5</td>\n",
       "      <td>CARGAGDRELQKPSPFDYWGQGTLVT</td>\n",
       "      <td>TGTGCGAGAGGGGCCGGGGATCGGGAACTACAAAAACCTTCTCCGT...</td>\n",
       "      <td>38</td>\n",
       "      <td>...</td>\n",
       "      <td>0.026639</td>\n",
       "      <td>0</td>\n",
       "      <td>45</td>\n",
       "      <td>0.025487</td>\n",
       "      <td>0.00062</td>\n",
       "      <td>0.175989</td>\n",
       "      <td>0</td>\n",
       "      <td>29</td>\n",
       "      <td>IGHV1-69</td>\n",
       "      <td>IGHJ4</td>\n",
       "    </tr>\n",
       "    <tr>\n",
       "      <th>1</th>\n",
       "      <td>1</td>\n",
       "      <td>1</td>\n",
       "      <td>M02984:466:000000000-BJD2F:1:1101:10314:6196</td>\n",
       "      <td>CCTACGCGG</td>\n",
       "      <td>ACGTACGT</td>\n",
       "      <td>CTACC</td>\n",
       "      <td>5</td>\n",
       "      <td>CARGAGDRELQKPSPFDYWGQGTLVT</td>\n",
       "      <td>TGTGCGAGAGGGGCCGGGGATCGGGAACTACAAAAACCTTCTCCGT...</td>\n",
       "      <td>34</td>\n",
       "      <td>...</td>\n",
       "      <td>0.026639</td>\n",
       "      <td>0</td>\n",
       "      <td>45</td>\n",
       "      <td>0.025487</td>\n",
       "      <td>0.00062</td>\n",
       "      <td>0.175989</td>\n",
       "      <td>0</td>\n",
       "      <td>29</td>\n",
       "      <td>IGHV1-69</td>\n",
       "      <td>IGHJ4</td>\n",
       "    </tr>\n",
       "    <tr>\n",
       "      <th>2</th>\n",
       "      <td>2</td>\n",
       "      <td>2</td>\n",
       "      <td>M02984:466:000000000-BJD2F:1:1101:11151:22824</td>\n",
       "      <td>TGTAGGTGT</td>\n",
       "      <td>ACGTACGT</td>\n",
       "      <td>CTTAC</td>\n",
       "      <td>5</td>\n",
       "      <td>CARGAGDRELQKPSPFDYWGQGTLVT</td>\n",
       "      <td>TGTGCGAGAGGGGCCGGGGATCGGGAACTACAAAAACCTTCTCCGT...</td>\n",
       "      <td>37</td>\n",
       "      <td>...</td>\n",
       "      <td>0.026639</td>\n",
       "      <td>0</td>\n",
       "      <td>45</td>\n",
       "      <td>0.025487</td>\n",
       "      <td>0.00062</td>\n",
       "      <td>0.175989</td>\n",
       "      <td>0</td>\n",
       "      <td>29</td>\n",
       "      <td>IGHV1-69</td>\n",
       "      <td>IGHJ4</td>\n",
       "    </tr>\n",
       "    <tr>\n",
       "      <th>3</th>\n",
       "      <td>3</td>\n",
       "      <td>3</td>\n",
       "      <td>M02984:466:000000000-BJD2F:1:1101:11198:8015</td>\n",
       "      <td>AAGGCTTGT</td>\n",
       "      <td>ACGTACGT</td>\n",
       "      <td>CTTAC</td>\n",
       "      <td>5</td>\n",
       "      <td>CARGAGDRELQKPSPFDYWGQGTLVT</td>\n",
       "      <td>TGTGCGAGAGGGGCCGGGGATCGGGAACTACAAAAACCTTCTCCGT...</td>\n",
       "      <td>34</td>\n",
       "      <td>...</td>\n",
       "      <td>0.026639</td>\n",
       "      <td>0</td>\n",
       "      <td>45</td>\n",
       "      <td>0.025487</td>\n",
       "      <td>0.00062</td>\n",
       "      <td>0.175989</td>\n",
       "      <td>0</td>\n",
       "      <td>29</td>\n",
       "      <td>IGHV1-69</td>\n",
       "      <td>IGHJ4</td>\n",
       "    </tr>\n",
       "    <tr>\n",
       "      <th>4</th>\n",
       "      <td>4</td>\n",
       "      <td>4</td>\n",
       "      <td>M02984:466:000000000-BJD2F:1:1101:11436:16814</td>\n",
       "      <td>TTTCTTCTG</td>\n",
       "      <td>ACGTACGT</td>\n",
       "      <td>CTTAC</td>\n",
       "      <td>5</td>\n",
       "      <td>CARGAGDRELQKPSPFDYWGQGTLVT</td>\n",
       "      <td>TGTGCGAGAGGGGCCGGGGATCGGGAACTACAAAAACCTTCTCCGT...</td>\n",
       "      <td>38</td>\n",
       "      <td>...</td>\n",
       "      <td>0.026639</td>\n",
       "      <td>0</td>\n",
       "      <td>45</td>\n",
       "      <td>0.025487</td>\n",
       "      <td>0.00062</td>\n",
       "      <td>0.175989</td>\n",
       "      <td>0</td>\n",
       "      <td>29</td>\n",
       "      <td>IGHV1-69</td>\n",
       "      <td>IGHJ4</td>\n",
       "    </tr>\n",
       "  </tbody>\n",
       "</table>\n",
       "<p>5 rows × 61 columns</p>\n",
       "</div>"
      ],
      "text/plain": [
       "   Unnamed: 0  Unnamed: 0.1                                            acc  \\\n",
       "0           0             0  M02984:466:000000000-BJD2F:1:1101:10160:22921   \n",
       "1           1             1   M02984:466:000000000-BJD2F:1:1101:10314:6196   \n",
       "2           2             2  M02984:466:000000000-BJD2F:1:1101:11151:22824   \n",
       "3           3             3   M02984:466:000000000-BJD2F:1:1101:11198:8015   \n",
       "4           4             4  M02984:466:000000000-BJD2F:1:1101:11436:16814   \n",
       "\n",
       "   beforeMID       MID afterMID  readingframe                     cdr3pep  \\\n",
       "0  AGGATGTTA  ACGTACGT    CTTAC             5  CARGAGDRELQKPSPFDYWGQGTLVT   \n",
       "1  CCTACGCGG  ACGTACGT    CTACC             5  CARGAGDRELQKPSPFDYWGQGTLVT   \n",
       "2  TGTAGGTGT  ACGTACGT    CTTAC             5  CARGAGDRELQKPSPFDYWGQGTLVT   \n",
       "3  AAGGCTTGT  ACGTACGT    CTTAC             5  CARGAGDRELQKPSPFDYWGQGTLVT   \n",
       "4  TTTCTTCTG  ACGTACGT    CTTAC             5  CARGAGDRELQKPSPFDYWGQGTLVT   \n",
       "\n",
       "                                             cdr3nuc  cdr3_qual_min  ...  \\\n",
       "0  TGTGCGAGAGGGGCCGGGGATCGGGAACTACAAAAACCTTCTCCGT...             38  ...   \n",
       "1  TGTGCGAGAGGGGCCGGGGATCGGGAACTACAAAAACCTTCTCCGT...             34  ...   \n",
       "2  TGTGCGAGAGGGGCCGGGGATCGGGAACTACAAAAACCTTCTCCGT...             37  ...   \n",
       "3  TGTGCGAGAGGGGCCGGGGATCGGGAACTACAAAAACCTTCTCCGT...             34  ...   \n",
       "4  TGTGCGAGAGGGGCCGGGGATCGGGAACTACAAAAACCTTCTCCGT...             38  ...   \n",
       "\n",
       "   mut.count_y.mean  mut.count_y.mode mut.count_y.sum  mut.frac_x.mean  \\\n",
       "0          0.026639                 0              45         0.025487   \n",
       "1          0.026639                 0              45         0.025487   \n",
       "2          0.026639                 0              45         0.025487   \n",
       "3          0.026639                 0              45         0.025487   \n",
       "4          0.026639                 0              45         0.025487   \n",
       "\n",
       "   mut.frac_y.mean  nr_sites.mean nr_sites.mode nr_sites.sum         V      J  \n",
       "0          0.00062       0.175989             0           29  IGHV1-69  IGHJ4  \n",
       "1          0.00062       0.175989             0           29  IGHV1-69  IGHJ4  \n",
       "2          0.00062       0.175989             0           29  IGHV1-69  IGHJ4  \n",
       "3          0.00062       0.175989             0           29  IGHV1-69  IGHJ4  \n",
       "4          0.00062       0.175989             0           29  IGHV1-69  IGHJ4  \n",
       "\n",
       "[5 rows x 61 columns]"
      ]
     },
     "execution_count": 3,
     "metadata": {},
     "output_type": "execute_result"
    }
   ],
   "source": [
    "df = pd.read_excel(mydir + 'basta-allinfo-long-mut-nglyc-cdr3peplength-VJ.xlsx')\n",
    "df.head()"
   ]
  },
  {
   "cell_type": "code",
   "execution_count": 4,
   "metadata": {},
   "outputs": [
    {
     "data": {
      "text/plain": [
       "Index(['Unnamed: 0', 'Unnamed: 0.1', 'acc', 'beforeMID', 'MID', 'afterMID',\n",
       "       'readingframe', 'cdr3pep', 'cdr3nuc', 'cdr3_qual_min', 'cdr3_qual_max',\n",
       "       'cdr3_qual_avg', 'cdr3_qual', 'nt_start', 'nt_end', 'seq_length',\n",
       "       'V_flag', 'V_gene', 'J_flag', 'J_gene', 'readingframe_seq', 'seq',\n",
       "       'pep', 'qual', 'V_sub_x', 'J_sub_x', 'V_main', 'acc2', 'nr_v_mains',\n",
       "       'nr_v_subs', 'nr_v_alleles', 'nr_j_subs', 'nr_j_alleles', 'acc3',\n",
       "       'readingframe2', 'nr_sites', 'Sample', 'hits', 'hit_count',\n",
       "       'cdr3pep_length', 'J_sub_y', 'UMIs', 'UMIs.frac', 'V_sub_y',\n",
       "       'beforeMID.nunique', 'cdr3nuc.min_mode', 'cdr3nuc.nunique', 'freq',\n",
       "       'mut.count_x.mean', 'mut.count_x.mode', 'mut.count_x.sum',\n",
       "       'mut.count_y.mean', 'mut.count_y.mode', 'mut.count_y.sum',\n",
       "       'mut.frac_x.mean', 'mut.frac_y.mean', 'nr_sites.mean', 'nr_sites.mode',\n",
       "       'nr_sites.sum', 'V', 'J'],\n",
       "      dtype='object')"
      ]
     },
     "execution_count": 4,
     "metadata": {},
     "output_type": "execute_result"
    }
   ],
   "source": [
    "df.columns"
   ]
  },
  {
   "cell_type": "code",
   "execution_count": 5,
   "metadata": {},
   "outputs": [
    {
     "data": {
      "text/plain": [
       "9660"
      ]
     },
     "execution_count": 5,
     "metadata": {},
     "output_type": "execute_result"
    }
   ],
   "source": [
    "len(df)"
   ]
  },
  {
   "cell_type": "code",
   "execution_count": 6,
   "metadata": {},
   "outputs": [
    {
     "name": "stdout",
     "output_type": "stream",
     "text": [
      "Wrote basta-allinfo-long-mut-nglyc-cdr3peplength-VJ.fasta to disk\n"
     ]
    }
   ],
   "source": [
    "fhOut = open(\"basta-allinfo-long-mut-nglyc-cdr3peplength-VJ.fasta\", \"w\")\n",
    "for i, row in df.iterrows():\n",
    "    print(\">\" + row['acc'], file=fhOut)\n",
    "    print(row['seq'], file=fhOut)\n",
    "fhOut.close()\n",
    "print(\"Wrote basta-allinfo-long-mut-nglyc-cdr3peplength-VJ.fasta to disk\")"
   ]
  },
  {
   "cell_type": "code",
   "execution_count": null,
   "metadata": {},
   "outputs": [],
   "source": []
  }
 ],
 "metadata": {
  "kernelspec": {
   "display_name": "Python 3",
   "language": "python",
   "name": "python3"
  },
  "language_info": {
   "codemirror_mode": {
    "name": "ipython",
    "version": 3
   },
   "file_extension": ".py",
   "mimetype": "text/x-python",
   "name": "python",
   "nbconvert_exporter": "python",
   "pygments_lexer": "ipython3",
   "version": "3.6.4"
  }
 },
 "nbformat": 4,
 "nbformat_minor": 2
}
