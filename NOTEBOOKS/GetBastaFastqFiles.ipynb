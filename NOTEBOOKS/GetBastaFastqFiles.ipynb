{
 "cells": [
  {
   "cell_type": "code",
   "execution_count": 1,
   "metadata": {},
   "outputs": [],
   "source": [
    "import os\n",
    "import pandas as pd"
   ]
  },
  {
   "cell_type": "code",
   "execution_count": 2,
   "metadata": {},
   "outputs": [
    {
     "data": {
      "text/plain": [
       "['Basta_Datasheet_20201021.csv',\n",
       " 'Basta_Datasheet_20201022.csv',\n",
       " 'Basta_Datasheet_20201022_uniq.csv',\n",
       " 'Datasheet-run31.csv',\n",
       " 'Datasheet-run35.csv',\n",
       " 'Datasheet-run34.csv',\n",
       " 'Datasheet-run32.csv',\n",
       " 'Datasheet-run29.csv']"
      ]
     },
     "execution_count": 2,
     "metadata": {},
     "output_type": "execute_result"
    }
   ],
   "source": [
    "mydir = \"../Datasheets/\"\n",
    "os.listdir(mydir)"
   ]
  },
  {
   "cell_type": "markdown",
   "metadata": {},
   "source": [
    "## Split datasheet info per run"
   ]
  },
  {
   "cell_type": "code",
   "execution_count": 3,
   "metadata": {},
   "outputs": [
    {
     "name": "stdout",
     "output_type": "stream",
     "text": [
      "run31 not yet in list\n",
      "run35 not yet in list\n",
      "run34 not yet in list\n",
      "run32 not yet in list\n",
      "run29 not yet in list\n"
     ]
    }
   ],
   "source": [
    "fhOutfiles = dict()\n",
    "fh = open(mydir + \"Basta_Datasheet_20201022_uniq.csv\")\n",
    "for line in fh:\n",
    "    line = line.rstrip()\n",
    "    row = line.split(\",\")\n",
    "    run = row[8].lower()\n",
    "    sample = row[1]\n",
    "    \n",
    "    if run not in fhOutfiles.keys():\n",
    "        print(run, \"not yet in list\")\n",
    "        outfile = \"../Datasheets/Datasheet-\" + run + \".csv\"\n",
    "        fhOutfiles[run] = open(outfile, \"w\")\n",
    "        \n",
    "    print(line, file=fhOutfiles[run])\n",
    "    \n",
    "for run, fhOut in fhOutfiles.items():\n",
    "    fhOut.close()\n",
    "fh.close()"
   ]
  },
  {
   "cell_type": "markdown",
   "metadata": {},
   "source": [
    "## Read datasheet per run, retrieve the fastq file paths"
   ]
  },
  {
   "cell_type": "code",
   "execution_count": 4,
   "metadata": {},
   "outputs": [
    {
     "data": {
      "text/plain": [
       "['Datasheet-run31.csv',\n",
       " 'Datasheet-run35.csv',\n",
       " 'Datasheet-run34.csv',\n",
       " 'Datasheet-run32.csv',\n",
       " 'Datasheet-run29.csv']"
      ]
     },
     "execution_count": 4,
     "metadata": {},
     "output_type": "execute_result"
    }
   ],
   "source": [
    "myfiles = [x for x in os.listdir(mydir) if x.startswith(\"Datasheet\")]\n",
    "myfiles"
   ]
  },
  {
   "cell_type": "code",
   "execution_count": 5,
   "metadata": {},
   "outputs": [],
   "source": [
    "def findFastqFiles(myfile):\n",
    "    fastq_files = list()\n",
    "    \n",
    "    df = pd.read_csv(mydir + myfile, header=None)\n",
    "    samples = list(df[1])\n",
    "    run = df[8][1].lower()\n",
    "    rundir = [x for x in os.listdir(\"/mnt/immunogenomics/RUNS\") if x.startswith(run) and x.endswith(\"miseq\")]\n",
    "    print(\"RUNDIR:\", rundir)\n",
    "\n",
    "    allsamples = os.listdir(\"/mnt/immunogenomics/RUNS/\" + rundir[0] + \"/data\")\n",
    "    files_found = dict()  # for checking if all files were found\n",
    "    for mysamplefile in allsamples:\n",
    "        for sample in samples:\n",
    "            if mysamplefile.startswith(sample):\n",
    "                fastq_files.append(\"/mnt/immunogenomics/RUNS/\" + rundir[0] + \"/data/\" + mysamplefile)\n",
    "                files_found[sample] = \"yes\"\n",
    "    print(\"Missing files:\", set(samples).difference(set(files_found.keys())))\n",
    "    return(fastq_files)"
   ]
  },
  {
   "cell_type": "code",
   "execution_count": 6,
   "metadata": {},
   "outputs": [
    {
     "name": "stdout",
     "output_type": "stream",
     "text": [
      "RUNDIR: ['run31-20180921-miseq']\n",
      "Missing files: set()\n",
      "RUNDIR: ['run35-20190609-miseq']\n",
      "Missing files: set()\n",
      "RUNDIR: ['run34-20190218-miseq']\n",
      "Missing files: set()\n",
      "RUNDIR: ['run32-20181125-miseq']\n",
      "Missing files: set()\n",
      "RUNDIR: ['run29-20180605-miseq']\n",
      "Missing files: set()\n"
     ]
    }
   ],
   "source": [
    "fastq_files = list()\n",
    "for myfile in myfiles:\n",
    "    fastq_files = fastq_files + findFastqFiles(myfile)"
   ]
  },
  {
   "cell_type": "code",
   "execution_count": 7,
   "metadata": {},
   "outputs": [
    {
     "name": "stdout",
     "output_type": "stream",
     "text": [
      "/mnt/immunogenomics/RUNS/run31-20180921-miseq/data/B005-SG-B_S1_L001_R1_001.fastq.gz\n",
      "/mnt/immunogenomics/RUNS/run31-20180921-miseq/data/B005-SG-B_S1_L001_R2_001.fastq.gz\n",
      "/mnt/immunogenomics/RUNS/run31-20180921-miseq/data/B007-BMDC-B_S4_L001_R1_001.fastq.gz\n",
      "/mnt/immunogenomics/RUNS/run31-20180921-miseq/data/B007-BMDC-B_S4_L001_R2_001.fastq.gz\n",
      "/mnt/immunogenomics/RUNS/run31-20180921-miseq/data/B007-Lnpost-B_S3_L001_R1_001.fastq.gz\n",
      "/mnt/immunogenomics/RUNS/run31-20180921-miseq/data/B007-Lnpost-B_S3_L001_R2_001.fastq.gz\n",
      "/mnt/immunogenomics/RUNS/run31-20180921-miseq/data/B007-Lnpre-B_S2_L001_R1_001.fastq.gz\n",
      "/mnt/immunogenomics/RUNS/run31-20180921-miseq/data/B007-Lnpre-B_S2_L001_R2_001.fastq.gz\n",
      "/mnt/immunogenomics/RUNS/run31-20180921-miseq/data/B007-PBBMDC-1-B_S5_L001_R1_001.fastq.gz\n",
      "/mnt/immunogenomics/RUNS/run31-20180921-miseq/data/B007-PBBMDC-1-B_S5_L001_R2_001.fastq.gz\n",
      "/mnt/immunogenomics/RUNS/run31-20180921-miseq/data/B007-PBBMDC-2-B_S6_L001_R1_001.fastq.gz\n",
      "/mnt/immunogenomics/RUNS/run31-20180921-miseq/data/B007-PBBMDC-2-B_S6_L001_R2_001.fastq.gz\n",
      "/mnt/immunogenomics/RUNS/run31-20180921-miseq/data/B009-clone10-B_S58_L001_R1_001.fastq.gz\n",
      "/mnt/immunogenomics/RUNS/run31-20180921-miseq/data/B009-clone10-B_S58_L001_R2_001.fastq.gz\n",
      "/mnt/immunogenomics/RUNS/run31-20180921-miseq/data/B009-clone17-B_S59_L001_R1_001.fastq.gz\n",
      "/mnt/immunogenomics/RUNS/run31-20180921-miseq/data/B009-clone17-B_S59_L001_R2_001.fastq.gz\n",
      "/mnt/immunogenomics/RUNS/run31-20180921-miseq/data/B009-clone2-B_S56_L001_R1_001.fastq.gz\n",
      "/mnt/immunogenomics/RUNS/run31-20180921-miseq/data/B009-clone2-B_S56_L001_R2_001.fastq.gz\n",
      "/mnt/immunogenomics/RUNS/run31-20180921-miseq/data/B009-clone6-B_S57_L001_R1_001.fastq.gz\n",
      "/mnt/immunogenomics/RUNS/run31-20180921-miseq/data/B009-clone6-B_S57_L001_R2_001.fastq.gz\n",
      "/mnt/immunogenomics/RUNS/run31-20180921-miseq/data/BASTA-1467-B_S49_L001_R1_001.fastq.gz\n",
      "/mnt/immunogenomics/RUNS/run31-20180921-miseq/data/BASTA-1467-B_S49_L001_R2_001.fastq.gz\n",
      "/mnt/immunogenomics/RUNS/run31-20180921-miseq/data/SS3-lung-1a-B_S110_L001_R1_001.fastq.gz\n",
      "/mnt/immunogenomics/RUNS/run31-20180921-miseq/data/SS3-lung-1a-B_S110_L001_R2_001.fastq.gz\n",
      "/mnt/immunogenomics/RUNS/run31-20180921-miseq/data/SS3-lung-1b-B_S111_L001_R1_001.fastq.gz\n",
      "/mnt/immunogenomics/RUNS/run31-20180921-miseq/data/SS3-lung-1b-B_S111_L001_R2_001.fastq.gz\n",
      "/mnt/immunogenomics/RUNS/run31-20180921-miseq/data/SS3-lung-1c-B_S112_L001_R1_001.fastq.gz\n",
      "/mnt/immunogenomics/RUNS/run31-20180921-miseq/data/SS3-lung-1c-B_S112_L001_R2_001.fastq.gz\n",
      "/mnt/immunogenomics/RUNS/run35-20190609-miseq/data/1193-DN_S152_L001_R1_001.fastq.gz\n",
      "/mnt/immunogenomics/RUNS/run35-20190609-miseq/data/1193-DN_S152_L001_R2_001.fastq.gz\n",
      "/mnt/immunogenomics/RUNS/run35-20190609-miseq/data/1193-MZ_S154_L001_R1_001.fastq.gz\n",
      "/mnt/immunogenomics/RUNS/run35-20190609-miseq/data/1193-MZ_S154_L001_R2_001.fastq.gz\n",
      "/mnt/immunogenomics/RUNS/run35-20190609-miseq/data/1193-mem_S153_L001_R1_001.fastq.gz\n",
      "/mnt/immunogenomics/RUNS/run35-20190609-miseq/data/1193-mem_S153_L001_R2_001.fastq.gz\n",
      "/mnt/immunogenomics/RUNS/run35-20190609-miseq/data/1193-naive_S155_L001_R1_001.fastq.gz\n",
      "/mnt/immunogenomics/RUNS/run35-20190609-miseq/data/1193-naive_S155_L001_R2_001.fastq.gz\n",
      "/mnt/immunogenomics/RUNS/run35-20190609-miseq/data/1467-DN_S184_L001_R1_001.fastq.gz\n",
      "/mnt/immunogenomics/RUNS/run35-20190609-miseq/data/1467-DN_S184_L001_R2_001.fastq.gz\n",
      "/mnt/immunogenomics/RUNS/run35-20190609-miseq/data/1467-MZ_S186_L001_R1_001.fastq.gz\n",
      "/mnt/immunogenomics/RUNS/run35-20190609-miseq/data/1467-MZ_S186_L001_R2_001.fastq.gz\n",
      "/mnt/immunogenomics/RUNS/run35-20190609-miseq/data/1467-PE-block_S40_L001_R1_001.fastq.gz\n",
      "/mnt/immunogenomics/RUNS/run35-20190609-miseq/data/1467-PE-block_S40_L001_R2_001.fastq.gz\n",
      "/mnt/immunogenomics/RUNS/run35-20190609-miseq/data/1467-mem_S185_L001_R1_001.fastq.gz\n",
      "/mnt/immunogenomics/RUNS/run35-20190609-miseq/data/1467-mem_S185_L001_R2_001.fastq.gz\n",
      "/mnt/immunogenomics/RUNS/run35-20190609-miseq/data/1467-naive_S187_L001_R1_001.fastq.gz\n",
      "/mnt/immunogenomics/RUNS/run35-20190609-miseq/data/1467-naive_S187_L001_R2_001.fastq.gz\n",
      "/mnt/immunogenomics/RUNS/run35-20190609-miseq/data/2172-CD20p_S156_L001_R1_001.fastq.gz\n",
      "/mnt/immunogenomics/RUNS/run35-20190609-miseq/data/2172-CD20p_S156_L001_R2_001.fastq.gz\n",
      "/mnt/immunogenomics/RUNS/run35-20190609-miseq/data/2172-DN_S157_L001_R1_001.fastq.gz\n",
      "/mnt/immunogenomics/RUNS/run35-20190609-miseq/data/2172-DN_S157_L001_R2_001.fastq.gz\n",
      "/mnt/immunogenomics/RUNS/run35-20190609-miseq/data/2172-MZ_S167_L001_R1_001.fastq.gz\n",
      "/mnt/immunogenomics/RUNS/run35-20190609-miseq/data/2172-MZ_S167_L001_R2_001.fastq.gz\n",
      "/mnt/immunogenomics/RUNS/run35-20190609-miseq/data/2172-PB_S169_L001_R1_001.fastq.gz\n",
      "/mnt/immunogenomics/RUNS/run35-20190609-miseq/data/2172-PB_S169_L001_R2_001.fastq.gz\n",
      "/mnt/immunogenomics/RUNS/run35-20190609-miseq/data/2172-PE-block_S37_L001_R1_001.fastq.gz\n",
      "/mnt/immunogenomics/RUNS/run35-20190609-miseq/data/2172-PE-block_S37_L001_R2_001.fastq.gz\n",
      "/mnt/immunogenomics/RUNS/run35-20190609-miseq/data/2172-PE-slice_S58_L001_R1_001.fastq.gz\n",
      "/mnt/immunogenomics/RUNS/run35-20190609-miseq/data/2172-PE-slice_S58_L001_R2_001.fastq.gz\n",
      "/mnt/immunogenomics/RUNS/run35-20190609-miseq/data/2172-mem_S166_L001_R1_001.fastq.gz\n",
      "/mnt/immunogenomics/RUNS/run35-20190609-miseq/data/2172-mem_S166_L001_R2_001.fastq.gz\n",
      "/mnt/immunogenomics/RUNS/run35-20190609-miseq/data/2172-naive_S168_L001_R1_001.fastq.gz\n",
      "/mnt/immunogenomics/RUNS/run35-20190609-miseq/data/2172-naive_S168_L001_R2_001.fastq.gz\n",
      "/mnt/immunogenomics/RUNS/run35-20190609-miseq/data/3684-CD20p_S170_L001_R1_001.fastq.gz\n",
      "/mnt/immunogenomics/RUNS/run35-20190609-miseq/data/3684-CD20p_S170_L001_R2_001.fastq.gz\n",
      "/mnt/immunogenomics/RUNS/run35-20190609-miseq/data/3684-DN_S171_L001_R1_001.fastq.gz\n",
      "/mnt/immunogenomics/RUNS/run35-20190609-miseq/data/3684-DN_S171_L001_R2_001.fastq.gz\n",
      "/mnt/immunogenomics/RUNS/run35-20190609-miseq/data/3684-MZ_S181_L001_R1_001.fastq.gz\n",
      "/mnt/immunogenomics/RUNS/run35-20190609-miseq/data/3684-MZ_S181_L001_R2_001.fastq.gz\n",
      "/mnt/immunogenomics/RUNS/run35-20190609-miseq/data/3684-PB_S183_L001_R1_001.fastq.gz\n",
      "/mnt/immunogenomics/RUNS/run35-20190609-miseq/data/3684-PB_S183_L001_R2_001.fastq.gz\n",
      "/mnt/immunogenomics/RUNS/run35-20190609-miseq/data/3684-PE-block_S39_L001_R1_001.fastq.gz\n",
      "/mnt/immunogenomics/RUNS/run35-20190609-miseq/data/3684-PE-block_S39_L001_R2_001.fastq.gz\n",
      "/mnt/immunogenomics/RUNS/run35-20190609-miseq/data/3684-PE-slice_S59_L001_R1_001.fastq.gz\n",
      "/mnt/immunogenomics/RUNS/run35-20190609-miseq/data/3684-PE-slice_S59_L001_R2_001.fastq.gz\n",
      "/mnt/immunogenomics/RUNS/run35-20190609-miseq/data/3684-mem_S172_L001_R1_001.fastq.gz\n",
      "/mnt/immunogenomics/RUNS/run35-20190609-miseq/data/3684-mem_S172_L001_R2_001.fastq.gz\n",
      "/mnt/immunogenomics/RUNS/run35-20190609-miseq/data/3684-naive_S182_L001_R1_001.fastq.gz\n",
      "/mnt/immunogenomics/RUNS/run35-20190609-miseq/data/3684-naive_S182_L001_R2_001.fastq.gz\n",
      "/mnt/immunogenomics/RUNS/run35-20190609-miseq/data/B005-PB_S197_L001_R1_001.fastq.gz\n",
      "/mnt/immunogenomics/RUNS/run35-20190609-miseq/data/B005-PB_S197_L001_R2_001.fastq.gz\n",
      "/mnt/immunogenomics/RUNS/run35-20190609-miseq/data/B007-PB_S207_L001_R1_001.fastq.gz\n",
      "/mnt/immunogenomics/RUNS/run35-20190609-miseq/data/B007-PB_S207_L001_R2_001.fastq.gz\n",
      "/mnt/immunogenomics/RUNS/run35-20190609-miseq/data/B007-naive_S206_L001_R1_001.fastq.gz\n",
      "/mnt/immunogenomics/RUNS/run35-20190609-miseq/data/B007-naive_S206_L001_R2_001.fastq.gz\n",
      "/mnt/immunogenomics/RUNS/run35-20190609-miseq/data/BASTA-1467-B_S196_L001_R1_001.fastq.gz\n",
      "/mnt/immunogenomics/RUNS/run35-20190609-miseq/data/BASTA-1467-B_S196_L001_R2_001.fastq.gz\n",
      "/mnt/immunogenomics/RUNS/run35-20190609-miseq/data/BASTA-2172-B_S150_L001_R1_001.fastq.gz\n",
      "/mnt/immunogenomics/RUNS/run35-20190609-miseq/data/BASTA-2172-B_S150_L001_R2_001.fastq.gz\n",
      "/mnt/immunogenomics/RUNS/run35-20190609-miseq/data/SS4-PE-block_S38_L001_R1_001.fastq.gz\n",
      "/mnt/immunogenomics/RUNS/run35-20190609-miseq/data/SS4-PE-block_S38_L001_R2_001.fastq.gz\n",
      "/mnt/immunogenomics/RUNS/run35-20190609-miseq/data/SS4-PE-slice_S57_L001_R1_001.fastq.gz\n",
      "/mnt/immunogenomics/RUNS/run35-20190609-miseq/data/SS4-PE-slice_S57_L001_R2_001.fastq.gz\n",
      "/mnt/immunogenomics/RUNS/run34-20190218-miseq/data/BASTA-1D_S160_L001_R1_001.fastq.gz\n",
      "/mnt/immunogenomics/RUNS/run34-20190218-miseq/data/BASTA-1D_S160_L001_R2_001.fastq.gz\n",
      "/mnt/immunogenomics/RUNS/run34-20190218-miseq/data/BASTA-1G_S161_L001_R1_001.fastq.gz\n",
      "/mnt/immunogenomics/RUNS/run34-20190218-miseq/data/BASTA-1G_S161_L001_R2_001.fastq.gz\n",
      "/mnt/immunogenomics/RUNS/run34-20190218-miseq/data/BASTA-1M_S162_L001_R1_001.fastq.gz\n",
      "/mnt/immunogenomics/RUNS/run34-20190218-miseq/data/BASTA-1M_S162_L001_R2_001.fastq.gz\n",
      "/mnt/immunogenomics/RUNS/run34-20190218-miseq/data/BASTA-2G_S163_L001_R1_001.fastq.gz\n",
      "/mnt/immunogenomics/RUNS/run34-20190218-miseq/data/BASTA-2G_S163_L001_R2_001.fastq.gz\n",
      "/mnt/immunogenomics/RUNS/run34-20190218-miseq/data/BASTA-2M_S164_L001_R1_001.fastq.gz\n",
      "/mnt/immunogenomics/RUNS/run34-20190218-miseq/data/BASTA-2M_S164_L001_R2_001.fastq.gz\n",
      "/mnt/immunogenomics/RUNS/run34-20190218-miseq/data/BASTA-3G_S165_L001_R1_001.fastq.gz\n",
      "/mnt/immunogenomics/RUNS/run34-20190218-miseq/data/BASTA-3G_S165_L001_R2_001.fastq.gz\n",
      "/mnt/immunogenomics/RUNS/run34-20190218-miseq/data/BASTA-3M_S171_L001_R1_001.fastq.gz\n",
      "/mnt/immunogenomics/RUNS/run34-20190218-miseq/data/BASTA-3M_S171_L001_R2_001.fastq.gz\n",
      "/mnt/immunogenomics/RUNS/run34-20190218-miseq/data/BASTA-4M_S172_L001_R1_001.fastq.gz\n",
      "/mnt/immunogenomics/RUNS/run34-20190218-miseq/data/BASTA-4M_S172_L001_R2_001.fastq.gz\n",
      "/mnt/immunogenomics/RUNS/run34-20190218-miseq/data/BASTA-6G_S166_L001_R1_001.fastq.gz\n",
      "/mnt/immunogenomics/RUNS/run34-20190218-miseq/data/BASTA-6G_S166_L001_R2_001.fastq.gz\n",
      "/mnt/immunogenomics/RUNS/run34-20190218-miseq/data/BASTA-6M_S167_L001_R1_001.fastq.gz\n",
      "/mnt/immunogenomics/RUNS/run34-20190218-miseq/data/BASTA-6M_S167_L001_R2_001.fastq.gz\n",
      "/mnt/immunogenomics/RUNS/run34-20190218-miseq/data/BASTA-7D_S168_L001_R1_001.fastq.gz\n",
      "/mnt/immunogenomics/RUNS/run34-20190218-miseq/data/BASTA-7D_S168_L001_R2_001.fastq.gz\n",
      "/mnt/immunogenomics/RUNS/run34-20190218-miseq/data/BASTA-7G_S169_L001_R1_001.fastq.gz\n",
      "/mnt/immunogenomics/RUNS/run34-20190218-miseq/data/BASTA-7G_S169_L001_R2_001.fastq.gz\n",
      "/mnt/immunogenomics/RUNS/run34-20190218-miseq/data/BASTA-7M_S170_L001_R1_001.fastq.gz\n",
      "/mnt/immunogenomics/RUNS/run34-20190218-miseq/data/BASTA-7M_S170_L001_R2_001.fastq.gz\n",
      "/mnt/immunogenomics/RUNS/run32-20181125-miseq/data/B007-LN_S202_L001_R1_001.fastq.gz\n",
      "/mnt/immunogenomics/RUNS/run32-20181125-miseq/data/B007-LN_S202_L001_R2_001.fastq.gz\n",
      "/mnt/immunogenomics/RUNS/run32-20181125-miseq/data/BASTA-0352_S195_L001_R1_001.fastq.gz\n",
      "/mnt/immunogenomics/RUNS/run32-20181125-miseq/data/BASTA-0352_S195_L001_R2_001.fastq.gz\n",
      "/mnt/immunogenomics/RUNS/run32-20181125-miseq/data/SS3-lip_S201_L001_R1_001.fastq.gz\n",
      "/mnt/immunogenomics/RUNS/run32-20181125-miseq/data/SS3-lip_S201_L001_R2_001.fastq.gz\n",
      "/mnt/immunogenomics/RUNS/run29-20180605-miseq/data/BASTA11_S176_L001_R1_001.fastq.gz\n",
      "/mnt/immunogenomics/RUNS/run29-20180605-miseq/data/BASTA11_S176_L001_R2_001.fastq.gz\n",
      "/mnt/immunogenomics/RUNS/run29-20180605-miseq/data/BASTA12_S177_L001_R1_001.fastq.gz\n",
      "/mnt/immunogenomics/RUNS/run29-20180605-miseq/data/BASTA12_S177_L001_R2_001.fastq.gz\n",
      "/mnt/immunogenomics/RUNS/run29-20180605-miseq/data/BASTA13_S178_L001_R1_001.fastq.gz\n",
      "/mnt/immunogenomics/RUNS/run29-20180605-miseq/data/BASTA13_S178_L001_R2_001.fastq.gz\n",
      "/mnt/immunogenomics/RUNS/run29-20180605-miseq/data/BASTA14_S179_L001_R1_001.fastq.gz\n",
      "/mnt/immunogenomics/RUNS/run29-20180605-miseq/data/BASTA14_S179_L001_R2_001.fastq.gz\n",
      "/mnt/immunogenomics/RUNS/run29-20180605-miseq/data/BASTA15_S180_L001_R1_001.fastq.gz\n",
      "/mnt/immunogenomics/RUNS/run29-20180605-miseq/data/BASTA15_S180_L001_R2_001.fastq.gz\n",
      "/mnt/immunogenomics/RUNS/run29-20180605-miseq/data/BASTA16_S181_L001_R1_001.fastq.gz\n",
      "/mnt/immunogenomics/RUNS/run29-20180605-miseq/data/BASTA16_S181_L001_R2_001.fastq.gz\n",
      "/mnt/immunogenomics/RUNS/run29-20180605-miseq/data/BASTA17_S198_L001_R1_001.fastq.gz\n",
      "/mnt/immunogenomics/RUNS/run29-20180605-miseq/data/BASTA17_S198_L001_R2_001.fastq.gz\n",
      "/mnt/immunogenomics/RUNS/run29-20180605-miseq/data/BASTA18_S199_L001_R1_001.fastq.gz\n",
      "/mnt/immunogenomics/RUNS/run29-20180605-miseq/data/BASTA18_S199_L001_R2_001.fastq.gz\n",
      "/mnt/immunogenomics/RUNS/run29-20180605-miseq/data/BASTA19_S200_L001_R1_001.fastq.gz\n",
      "/mnt/immunogenomics/RUNS/run29-20180605-miseq/data/BASTA19_S200_L001_R2_001.fastq.gz\n",
      "/mnt/immunogenomics/RUNS/run29-20180605-miseq/data/BASTA20_S201_L001_R1_001.fastq.gz\n",
      "/mnt/immunogenomics/RUNS/run29-20180605-miseq/data/BASTA20_S201_L001_R2_001.fastq.gz\n",
      "Wrote SAMPLES-basta-fastq to disk\n"
     ]
    }
   ],
   "source": [
    "fhFastqFiles = open(\"SAMPLES-basta-fastq\", \"w\")\n",
    "for fastq in fastq_files:\n",
    "    print(fastq, file=fhFastqFiles)\n",
    "    print(fastq)\n",
    "fhFastqFiles.close()\n",
    "print(\"Wrote SAMPLES-basta-fastq to disk\")"
   ]
  },
  {
   "cell_type": "code",
   "execution_count": null,
   "metadata": {},
   "outputs": [],
   "source": []
  }
 ],
 "metadata": {
  "kernelspec": {
   "display_name": "Python 3",
   "language": "python",
   "name": "python3"
  },
  "language_info": {
   "codemirror_mode": {
    "name": "ipython",
    "version": 3
   },
   "file_extension": ".py",
   "mimetype": "text/x-python",
   "name": "python",
   "nbconvert_exporter": "python",
   "pygments_lexer": "ipython3",
   "version": "3.6.5"
  }
 },
 "nbformat": 4,
 "nbformat_minor": 2
}
