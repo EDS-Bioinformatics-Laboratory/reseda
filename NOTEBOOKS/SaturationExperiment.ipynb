{
 "cells": [
  {
   "cell_type": "code",
   "execution_count": 1,
   "metadata": {},
   "outputs": [],
   "source": [
    "import os\n",
    "import pandas as pd\n",
    "import numpy as np\n",
    "import matplotlib.pyplot as plt\n",
    "from matplotlib.backends.backend_pdf import PdfPages\n",
    "from random import sample "
   ]
  },
  {
   "cell_type": "code",
   "execution_count": 2,
   "metadata": {},
   "outputs": [
    {
     "data": {
      "text/html": [
       "<div>\n",
       "<style scoped>\n",
       "    .dataframe tbody tr th:only-of-type {\n",
       "        vertical-align: middle;\n",
       "    }\n",
       "\n",
       "    .dataframe tbody tr th {\n",
       "        vertical-align: top;\n",
       "    }\n",
       "\n",
       "    .dataframe thead th {\n",
       "        text-align: right;\n",
       "    }\n",
       "</style>\n",
       "<table border=\"1\" class=\"dataframe\">\n",
       "  <thead>\n",
       "    <tr style=\"text-align: right;\">\n",
       "      <th></th>\n",
       "      <th>Sample</th>\n",
       "      <th>MID</th>\n",
       "      <th>cdr3pep</th>\n",
       "      <th>freq</th>\n",
       "      <th>uniq_umis</th>\n",
       "      <th>V_sub</th>\n",
       "      <th>J_sub</th>\n",
       "      <th>sum_sites</th>\n",
       "      <th>avg_sites</th>\n",
       "      <th>read_perc</th>\n",
       "      <th>umi_perc</th>\n",
       "    </tr>\n",
       "  </thead>\n",
       "  <tbody>\n",
       "    <tr>\n",
       "      <th>0</th>\n",
       "      <td>MS-200109-1_S1</td>\n",
       "      <td>nomatch</td>\n",
       "      <td>CAHGMARPRQWDTVVDFDYWGQGTLVT</td>\n",
       "      <td>595</td>\n",
       "      <td>1</td>\n",
       "      <td>IGHV2-5</td>\n",
       "      <td>IGHJ4</td>\n",
       "      <td>38</td>\n",
       "      <td>0.063866</td>\n",
       "      <td>0.844655</td>\n",
       "      <td>0.006668</td>\n",
       "    </tr>\n",
       "    <tr>\n",
       "      <th>1</th>\n",
       "      <td>MS-200109-1_S1</td>\n",
       "      <td>nomatch</td>\n",
       "      <td>CARSLDPLDFQHWGQGTLVT</td>\n",
       "      <td>310</td>\n",
       "      <td>1</td>\n",
       "      <td>IGHV1-18</td>\n",
       "      <td>IGHJ1,IGHJ4</td>\n",
       "      <td>29</td>\n",
       "      <td>0.093548</td>\n",
       "      <td>0.440072</td>\n",
       "      <td>0.006668</td>\n",
       "    </tr>\n",
       "    <tr>\n",
       "      <th>2</th>\n",
       "      <td>MS-200109-1_S1</td>\n",
       "      <td>nomatch</td>\n",
       "      <td>CARGRGSGSWNFDYWGQGTLVT</td>\n",
       "      <td>262</td>\n",
       "      <td>1</td>\n",
       "      <td>IGHV1-8</td>\n",
       "      <td>IGHJ4</td>\n",
       "      <td>199</td>\n",
       "      <td>0.759542</td>\n",
       "      <td>0.371932</td>\n",
       "      <td>0.006668</td>\n",
       "    </tr>\n",
       "    <tr>\n",
       "      <th>3</th>\n",
       "      <td>MS-200109-1_S1</td>\n",
       "      <td>nomatch</td>\n",
       "      <td>CAHSSVVIVLHAFDIWGQGTMVT</td>\n",
       "      <td>240</td>\n",
       "      <td>1</td>\n",
       "      <td>IGHV2-5</td>\n",
       "      <td>IGHJ3</td>\n",
       "      <td>15</td>\n",
       "      <td>0.062500</td>\n",
       "      <td>0.340701</td>\n",
       "      <td>0.006668</td>\n",
       "    </tr>\n",
       "    <tr>\n",
       "      <th>4</th>\n",
       "      <td>MS-200109-1_S1</td>\n",
       "      <td>nomatch</td>\n",
       "      <td>CARPSSSYSSSLDYWGQGTLVT</td>\n",
       "      <td>220</td>\n",
       "      <td>1</td>\n",
       "      <td>IGHV5-51</td>\n",
       "      <td>IGHJ4</td>\n",
       "      <td>19</td>\n",
       "      <td>0.086364</td>\n",
       "      <td>0.312309</td>\n",
       "      <td>0.006668</td>\n",
       "    </tr>\n",
       "  </tbody>\n",
       "</table>\n",
       "</div>"
      ],
      "text/plain": [
       "           Sample      MID                      cdr3pep  freq  uniq_umis  \\\n",
       "0  MS-200109-1_S1  nomatch  CAHGMARPRQWDTVVDFDYWGQGTLVT   595          1   \n",
       "1  MS-200109-1_S1  nomatch         CARSLDPLDFQHWGQGTLVT   310          1   \n",
       "2  MS-200109-1_S1  nomatch       CARGRGSGSWNFDYWGQGTLVT   262          1   \n",
       "3  MS-200109-1_S1  nomatch      CAHSSVVIVLHAFDIWGQGTMVT   240          1   \n",
       "4  MS-200109-1_S1  nomatch       CARPSSSYSSSLDYWGQGTLVT   220          1   \n",
       "\n",
       "      V_sub        J_sub  sum_sites  avg_sites  read_perc  umi_perc  \n",
       "0   IGHV2-5        IGHJ4         38   0.063866   0.844655  0.006668  \n",
       "1  IGHV1-18  IGHJ1,IGHJ4         29   0.093548   0.440072  0.006668  \n",
       "2   IGHV1-8        IGHJ4        199   0.759542   0.371932  0.006668  \n",
       "3   IGHV2-5        IGHJ3         15   0.062500   0.340701  0.006668  \n",
       "4  IGHV5-51        IGHJ4         19   0.086364   0.312309  0.006668  "
      ]
     },
     "execution_count": 2,
     "metadata": {},
     "output_type": "execute_result"
    }
   ],
   "source": [
    "cloneFile = \"cdr3-clones-GC-IGH_HUMAN-after-reassignment.csv\"\n",
    "pdfFile = cloneFile.replace(\"cdr3-\", \"saturation-\")\n",
    "pdfFile = pdfFile.replace(\".csv\", \".pdf\")\n",
    "excelFile = pdfFile.replace(\".pdf\", \".xlsx\")\n",
    "df = pd.read_csv(cloneFile, sep=\"\\t\")\n",
    "df.head()"
   ]
  },
  {
   "cell_type": "code",
   "execution_count": 3,
   "metadata": {},
   "outputs": [
    {
     "data": {
      "text/plain": [
       "['MS-200109-1_S1',\n",
       " 'MS-200109-2_S2',\n",
       " 'MS-200109-3_S3',\n",
       " 'MS-200109-4_S4',\n",
       " 'MS-200109-5_S5',\n",
       " 'MS-200109-6_S6',\n",
       " 'MS-200109-7_S7',\n",
       " 'MS-200109-8_S8']"
      ]
     },
     "execution_count": 3,
     "metadata": {},
     "output_type": "execute_result"
    }
   ],
   "source": [
    "samples = list(df[\"Sample\"].unique())\n",
    "samples"
   ]
  },
  {
   "cell_type": "code",
   "execution_count": 4,
   "metadata": {},
   "outputs": [],
   "source": [
    "def saturationFigure(pdf, df, sample):\n",
    "    # clone definition is: V, J, CDR3pep\n",
    "    # Let op! Geimplementeerd als samplen met teruglegging (to discuss)\n",
    "    \n",
    "    # Get data for one sample\n",
    "    df_s = df[df[\"Sample\"] == sample]\n",
    "    \n",
    "    # Create a list with one entry per read\n",
    "    reads = list()\n",
    "    for index, row in df_s.iterrows():\n",
    "        newlist = [index] * row['freq']\n",
    "        reads = reads + newlist\n",
    "    reads = pd.DataFrame({\"clones\": reads})\n",
    "    \n",
    "    # Sample from the list\n",
    "    fraction = list()\n",
    "    clones = list()\n",
    "    for x in np.arange(0, 1.1, 0.1):\n",
    "        df_sampled = reads.sample(frac=x)\n",
    "        fraction.append(x)\n",
    "        clones.append(len(df_sampled['clones'].unique()))\n",
    "\n",
    "    # Make figure\n",
    "    plt.scatter(fraction, clones)\n",
    "    plt.title(\"Sample: \" + sample)\n",
    "    plt.xlabel(\"fraction of sample\")\n",
    "    plt.ylabel(\"unique clones\")\n",
    "    pdf.savefig()\n",
    "    plt.close()\n",
    "    \n",
    "    # Put data in dataframe and return it\n",
    "    data = pd.DataFrame({'fraction': fraction, 'unique_clones': clones})\n",
    "    return(data)"
   ]
  },
  {
   "cell_type": "code",
   "execution_count": 5,
   "metadata": {},
   "outputs": [
    {
     "name": "stdout",
     "output_type": "stream",
     "text": [
      "Wrote saturation-clones-GC-IGH_HUMAN-after-reassignment.pdf to disk\n",
      "Wrote saturation-clones-GC-IGH_HUMAN-after-reassignment.xlsx to disk\n"
     ]
    }
   ],
   "source": [
    "# info multipage pdf: https://matplotlib.org/3.1.1/gallery/misc/multipage_pdf.html\n",
    "with PdfPages(pdfFile) as pdf:\n",
    "    writer = pd.ExcelWriter(excelFile, engine='xlsxwriter')\n",
    "    for sample in samples:\n",
    "        df_tmp = saturationFigure(pdf, df, sample)\n",
    "        df_tmp.to_excel(writer, sheet_name=sample)\n",
    "    writer.save()\n",
    "print(\"Wrote\", pdfFile, \"to disk\")\n",
    "print(\"Wrote\", excelFile, \"to disk\")"
   ]
  },
  {
   "cell_type": "code",
   "execution_count": null,
   "metadata": {},
   "outputs": [],
   "source": []
  }
 ],
 "metadata": {
  "kernelspec": {
   "display_name": "Python 3",
   "language": "python",
   "name": "python3"
  },
  "language_info": {
   "codemirror_mode": {
    "name": "ipython",
    "version": 3
   },
   "file_extension": ".py",
   "mimetype": "text/x-python",
   "name": "python",
   "nbconvert_exporter": "python",
   "pygments_lexer": "ipython3",
   "version": "3.6.5"
  }
 },
 "nbformat": 4,
 "nbformat_minor": 2
}
