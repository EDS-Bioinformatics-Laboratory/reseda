{
 "cells": [
  {
   "cell_type": "code",
   "execution_count": 1,
   "metadata": {},
   "outputs": [],
   "source": [
    "import os\n",
    "import pandas as pd\n",
    "import numpy as np\n",
    "import matplotlib.pyplot as plt\n",
    "from matplotlib.backends.backend_pdf import PdfPages\n",
    "from random import shuffle\n",
    "from skbio.diversity.alpha import michaelis_menten_fit"
   ]
  },
  {
   "cell_type": "code",
   "execution_count": 2,
   "metadata": {},
   "outputs": [],
   "source": [
    "# Number of repeats, global variable\n",
    "rep = 10"
   ]
  },
  {
   "cell_type": "code",
   "execution_count": 3,
   "metadata": {},
   "outputs": [
    {
     "data": {
      "text/html": [
       "<div>\n",
       "<style scoped>\n",
       "    .dataframe tbody tr th:only-of-type {\n",
       "        vertical-align: middle;\n",
       "    }\n",
       "\n",
       "    .dataframe tbody tr th {\n",
       "        vertical-align: top;\n",
       "    }\n",
       "\n",
       "    .dataframe thead th {\n",
       "        text-align: right;\n",
       "    }\n",
       "</style>\n",
       "<table border=\"1\" class=\"dataframe\">\n",
       "  <thead>\n",
       "    <tr style=\"text-align: right;\">\n",
       "      <th></th>\n",
       "      <th>Sample</th>\n",
       "      <th>MID</th>\n",
       "      <th>cdr3pep</th>\n",
       "      <th>freq</th>\n",
       "      <th>uniq_umis</th>\n",
       "      <th>V_sub</th>\n",
       "      <th>J_sub</th>\n",
       "      <th>sum_sites</th>\n",
       "      <th>avg_sites</th>\n",
       "      <th>read_perc</th>\n",
       "      <th>umi_perc</th>\n",
       "    </tr>\n",
       "  </thead>\n",
       "  <tbody>\n",
       "    <tr>\n",
       "      <th>0</th>\n",
       "      <td>MS-76_S1</td>\n",
       "      <td>nomatch</td>\n",
       "      <td>CARDPLGHWYDDSGTGGYWGQGTLVT</td>\n",
       "      <td>7268</td>\n",
       "      <td>1</td>\n",
       "      <td>IGHV1-2</td>\n",
       "      <td>IGHJ4,IGHJ1</td>\n",
       "      <td>750</td>\n",
       "      <td>0.103192</td>\n",
       "      <td>7.159110</td>\n",
       "      <td>0.054855</td>\n",
       "    </tr>\n",
       "    <tr>\n",
       "      <th>1</th>\n",
       "      <td>MS-76_S1</td>\n",
       "      <td>nomatch</td>\n",
       "      <td>CAPCTGFGSGWSDAFDIWGQGTMVT</td>\n",
       "      <td>5458</td>\n",
       "      <td>1</td>\n",
       "      <td>IGHV2-5</td>\n",
       "      <td>IGHJ3</td>\n",
       "      <td>6</td>\n",
       "      <td>0.001099</td>\n",
       "      <td>5.376228</td>\n",
       "      <td>0.054855</td>\n",
       "    </tr>\n",
       "    <tr>\n",
       "      <th>2</th>\n",
       "      <td>MS-76_S1</td>\n",
       "      <td>nomatch</td>\n",
       "      <td>CARDVGGDTSWYNPGPGMDVWGQGTTVT</td>\n",
       "      <td>4455</td>\n",
       "      <td>1</td>\n",
       "      <td>IGHV1-2</td>\n",
       "      <td>IGHJ6</td>\n",
       "      <td>444</td>\n",
       "      <td>0.099663</td>\n",
       "      <td>4.388255</td>\n",
       "      <td>0.054855</td>\n",
       "    </tr>\n",
       "    <tr>\n",
       "      <th>3</th>\n",
       "      <td>MS-76_S1</td>\n",
       "      <td>nomatch</td>\n",
       "      <td>CARHQLEVYFDYWGQGTLVT</td>\n",
       "      <td>3571</td>\n",
       "      <td>1</td>\n",
       "      <td>IGHV5-51</td>\n",
       "      <td>IGHJ4</td>\n",
       "      <td>32</td>\n",
       "      <td>0.008961</td>\n",
       "      <td>3.517499</td>\n",
       "      <td>0.054855</td>\n",
       "    </tr>\n",
       "    <tr>\n",
       "      <th>4</th>\n",
       "      <td>MS-76_S1</td>\n",
       "      <td>nomatch</td>\n",
       "      <td>CARGQIVRFRDFTTRDKLTWFDSWGQGTLVT</td>\n",
       "      <td>2256</td>\n",
       "      <td>1</td>\n",
       "      <td>IGHV1-8</td>\n",
       "      <td>IGHJ5</td>\n",
       "      <td>624</td>\n",
       "      <td>0.276596</td>\n",
       "      <td>2.222200</td>\n",
       "      <td>0.054855</td>\n",
       "    </tr>\n",
       "  </tbody>\n",
       "</table>\n",
       "</div>"
      ],
      "text/plain": [
       "     Sample      MID                          cdr3pep  freq  uniq_umis  \\\n",
       "0  MS-76_S1  nomatch       CARDPLGHWYDDSGTGGYWGQGTLVT  7268          1   \n",
       "1  MS-76_S1  nomatch        CAPCTGFGSGWSDAFDIWGQGTMVT  5458          1   \n",
       "2  MS-76_S1  nomatch     CARDVGGDTSWYNPGPGMDVWGQGTTVT  4455          1   \n",
       "3  MS-76_S1  nomatch             CARHQLEVYFDYWGQGTLVT  3571          1   \n",
       "4  MS-76_S1  nomatch  CARGQIVRFRDFTTRDKLTWFDSWGQGTLVT  2256          1   \n",
       "\n",
       "      V_sub        J_sub  sum_sites  avg_sites  read_perc  umi_perc  \n",
       "0   IGHV1-2  IGHJ4,IGHJ1        750   0.103192   7.159110  0.054855  \n",
       "1   IGHV2-5        IGHJ3          6   0.001099   5.376228  0.054855  \n",
       "2   IGHV1-2        IGHJ6        444   0.099663   4.388255  0.054855  \n",
       "3  IGHV5-51        IGHJ4         32   0.008961   3.517499  0.054855  \n",
       "4   IGHV1-8        IGHJ5        624   0.276596   2.222200  0.054855  "
      ]
     },
     "execution_count": 3,
     "metadata": {},
     "output_type": "execute_result"
    }
   ],
   "source": [
    "cloneFile = \"cdr3-clones-GC-IGH_HUMAN-after-reassignment.csv\"\n",
    "pdfFile = cloneFile.replace(\"cdr3-\", \"saturation-\")\n",
    "pdfFile = pdfFile.replace(\".csv\", \".pdf\")\n",
    "excelFile = pdfFile.replace(\".pdf\", \".xlsx\")\n",
    "df = pd.read_csv(cloneFile, sep=\"\\t\")\n",
    "df.head()"
   ]
  },
  {
   "cell_type": "code",
   "execution_count": 4,
   "metadata": {},
   "outputs": [
    {
     "data": {
      "text/plain": [
       "['MS-76_S1',\n",
       " 'MS-77_S2',\n",
       " 'MS-78_S3',\n",
       " 'MS-79_S4',\n",
       " 'MS-82_S7',\n",
       " 'MS-83_S8',\n",
       " 'MS-84_S9',\n",
       " 'MS-85_S10']"
      ]
     },
     "execution_count": 4,
     "metadata": {},
     "output_type": "execute_result"
    }
   ],
   "source": [
    "samples = list(df[\"Sample\"].unique())\n",
    "samples"
   ]
  },
  {
   "cell_type": "markdown",
   "metadata": {},
   "source": [
    "# Calculate Michaelis-Menten fit to rarefaction curve of observed OTUs\n",
    "http://scikit-bio.org/docs/0.2.2/generated/generated/skbio.diversity.alpha.michaelis_menten_fit.html#skbio.diversity.alpha.michaelis_menten_fit"
   ]
  },
  {
   "cell_type": "code",
   "execution_count": 5,
   "metadata": {},
   "outputs": [],
   "source": [
    "writer = pd.ExcelWriter(excelFile, engine='xlsxwriter')\n",
    "\n",
    "S_max_values = list()\n",
    "for sample in samples:\n",
    "    df_s = df[df[\"Sample\"] == sample]\n",
    "    counts = df_s['freq'].to_list()\n",
    "    S_max_values.append(michaelis_menten_fit(counts, num_repeats=rep))\n",
    "df_rarefaction = pd.DataFrame({'Sample': samples, 'Smax': S_max_values})\n",
    "df_rarefaction.to_excel(writer, sheet_name=\"Rarefaction\")"
   ]
  },
  {
   "cell_type": "markdown",
   "metadata": {},
   "source": [
    "# Make rarefaction curves"
   ]
  },
  {
   "cell_type": "code",
   "execution_count": 6,
   "metadata": {},
   "outputs": [],
   "source": [
    "def saturationFigure(pdf, df, sample, repeats=1):\n",
    "    # clone definition is: V, J, CDR3pep\n",
    "    # Let op! Geimplementeerd als samplen met teruglegging (to discuss)\n",
    "    \n",
    "    # Get data for one sample\n",
    "    df_s = df[df[\"Sample\"] == sample]\n",
    "    \n",
    "    # Create a list with one entry per read\n",
    "    reads = list()\n",
    "    for index, row in df_s.iterrows():\n",
    "        newlist = [index] * row['freq']\n",
    "        reads = reads + newlist\n",
    "\n",
    "    # Go from 0 to N and count nr of unique clones\n",
    "    data = pd.DataFrame({'fraction': [x for x in range(len(reads))]})\n",
    "    for i in range(repeats):\n",
    "        fraction = list()\n",
    "        clones = list()\n",
    "\n",
    "        # Shuffle list and transform list to dataframe\n",
    "        shuffle(reads)\n",
    "        \n",
    "        for x in range(len(reads)):\n",
    "            sampled = reads[:x]\n",
    "            fraction.append(x)\n",
    "            clones.append(len(set(sampled)))\n",
    "\n",
    "        # Make figure\n",
    "        plt.plot(fraction, clones)\n",
    "        \n",
    "        # Add to data\n",
    "        data[i] = clones\n",
    "\n",
    "    # Add title, labels and save the figure\n",
    "    plt.title(\"Sample: \" + sample + \", repeats=\" + str(repeats))\n",
    "    plt.xlabel(\"fraction of sample\")\n",
    "    plt.ylabel(\"unique clones\")\n",
    "    pdf.savefig()\n",
    "    plt.close()\n",
    "    \n",
    "    return(data)"
   ]
  },
  {
   "cell_type": "code",
   "execution_count": 7,
   "metadata": {},
   "outputs": [
    {
     "name": "stdout",
     "output_type": "stream",
     "text": [
      "Wrote saturation-clones-GC-IGH_HUMAN-after-reassignment.pdf to disk\n"
     ]
    }
   ],
   "source": [
    "# info multipage pdf: https://matplotlib.org/3.1.1/gallery/misc/multipage_pdf.html\n",
    "with PdfPages(pdfFile) as pdf:\n",
    "    for sample in samples:\n",
    "        df_tmp = saturationFigure(pdf, df, sample, repeats=rep)\n",
    "        df_tmp.to_excel(writer, sheet_name=sample)\n",
    "print(\"Wrote\", pdfFile, \"to disk\")"
   ]
  },
  {
   "cell_type": "code",
   "execution_count": 8,
   "metadata": {},
   "outputs": [
    {
     "name": "stdout",
     "output_type": "stream",
     "text": [
      "Wrote saturation-clones-GC-IGH_HUMAN-after-reassignment.xlsx to disk\n"
     ]
    }
   ],
   "source": [
    "writer.save()\n",
    "print(\"Wrote\", excelFile, \"to disk\")"
   ]
  }
 ],
 "metadata": {
  "kernelspec": {
   "display_name": "Python 3",
   "language": "python",
   "name": "python3"
  },
  "language_info": {
   "codemirror_mode": {
    "name": "ipython",
    "version": 3
   },
   "file_extension": ".py",
   "mimetype": "text/x-python",
   "name": "python",
   "nbconvert_exporter": "python",
   "pygments_lexer": "ipython3",
   "version": "3.6.4"
  }
 },
 "nbformat": 4,
 "nbformat_minor": 2
}
