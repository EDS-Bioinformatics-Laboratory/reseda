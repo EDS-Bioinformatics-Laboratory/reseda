{
 "cells": [
  {
   "cell_type": "code",
   "execution_count": 1,
   "metadata": {},
   "outputs": [],
   "source": [
    "import os\n",
    "import pandas as pd\n",
    "import numpy as np\n",
    "import matplotlib.pyplot as plt\n",
    "from matplotlib.backends.backend_pdf import PdfPages\n",
    "from random import shuffle\n",
    "from skbio.diversity.alpha import michaelis_menten_fit"
   ]
  },
  {
   "cell_type": "code",
   "execution_count": 2,
   "metadata": {},
   "outputs": [],
   "source": [
    "# Number of repeats, global variable\n",
    "rep = 10"
   ]
  },
  {
   "cell_type": "code",
   "execution_count": 3,
   "metadata": {},
   "outputs": [
    {
     "data": {
      "text/html": [
       "<div>\n",
       "<style scoped>\n",
       "    .dataframe tbody tr th:only-of-type {\n",
       "        vertical-align: middle;\n",
       "    }\n",
       "\n",
       "    .dataframe tbody tr th {\n",
       "        vertical-align: top;\n",
       "    }\n",
       "\n",
       "    .dataframe thead th {\n",
       "        text-align: right;\n",
       "    }\n",
       "</style>\n",
       "<table border=\"1\" class=\"dataframe\">\n",
       "  <thead>\n",
       "    <tr style=\"text-align: right;\">\n",
       "      <th></th>\n",
       "      <th>Sample</th>\n",
       "      <th>MID</th>\n",
       "      <th>cdr3pep</th>\n",
       "      <th>freq</th>\n",
       "      <th>uniq_umis</th>\n",
       "      <th>V_sub</th>\n",
       "      <th>J_sub</th>\n",
       "      <th>sum_sites</th>\n",
       "      <th>avg_sites</th>\n",
       "      <th>read_perc</th>\n",
       "      <th>umi_perc</th>\n",
       "    </tr>\n",
       "  </thead>\n",
       "  <tbody>\n",
       "    <tr>\n",
       "      <th>0</th>\n",
       "      <td>MSmm-01_S1</td>\n",
       "      <td>nomatch</td>\n",
       "      <td>CARGGLYWYFDVWGTGTTLT</td>\n",
       "      <td>59</td>\n",
       "      <td>1</td>\n",
       "      <td>IGHV5-17</td>\n",
       "      <td>IGHJ1</td>\n",
       "      <td>1</td>\n",
       "      <td>0.016949</td>\n",
       "      <td>0.287510</td>\n",
       "      <td>0.009177</td>\n",
       "    </tr>\n",
       "    <tr>\n",
       "      <th>1</th>\n",
       "      <td>MSmm-01_S1</td>\n",
       "      <td>nomatch</td>\n",
       "      <td>CARRAVVATPYWYFDVWGTGTLLT</td>\n",
       "      <td>43</td>\n",
       "      <td>1</td>\n",
       "      <td>IGHV5-17</td>\n",
       "      <td>IGHJ1</td>\n",
       "      <td>0</td>\n",
       "      <td>0.000000</td>\n",
       "      <td>0.209541</td>\n",
       "      <td>0.009177</td>\n",
       "    </tr>\n",
       "    <tr>\n",
       "      <th>2</th>\n",
       "      <td>MSmm-01_S1</td>\n",
       "      <td>nomatch</td>\n",
       "      <td>CKTHDGYYSYWYFDVWGTGTLLT</td>\n",
       "      <td>40</td>\n",
       "      <td>1</td>\n",
       "      <td>IGHV5-2</td>\n",
       "      <td>IGHJ1</td>\n",
       "      <td>0</td>\n",
       "      <td>0.000000</td>\n",
       "      <td>0.194922</td>\n",
       "      <td>0.009177</td>\n",
       "    </tr>\n",
       "    <tr>\n",
       "      <th>3</th>\n",
       "      <td>MSmm-01_S1</td>\n",
       "      <td>nomatch</td>\n",
       "      <td>CARRAVVATPYWYFDVWGTGTPLT</td>\n",
       "      <td>38</td>\n",
       "      <td>1</td>\n",
       "      <td>IGHV5-17+IGHV5-4</td>\n",
       "      <td>IGHJ1</td>\n",
       "      <td>0</td>\n",
       "      <td>0.000000</td>\n",
       "      <td>0.185176</td>\n",
       "      <td>0.009177</td>\n",
       "    </tr>\n",
       "    <tr>\n",
       "      <th>4</th>\n",
       "      <td>MSmm-01_S1</td>\n",
       "      <td>nomatch</td>\n",
       "      <td>YWYFDVWGTGTLLT</td>\n",
       "      <td>37</td>\n",
       "      <td>1</td>\n",
       "      <td>IGHV5-17+IGHV5-4</td>\n",
       "      <td>IGHJ1</td>\n",
       "      <td>0</td>\n",
       "      <td>0.000000</td>\n",
       "      <td>0.180303</td>\n",
       "      <td>0.009177</td>\n",
       "    </tr>\n",
       "  </tbody>\n",
       "</table>\n",
       "</div>"
      ],
      "text/plain": [
       "       Sample      MID                   cdr3pep  freq  uniq_umis  \\\n",
       "0  MSmm-01_S1  nomatch      CARGGLYWYFDVWGTGTTLT    59          1   \n",
       "1  MSmm-01_S1  nomatch  CARRAVVATPYWYFDVWGTGTLLT    43          1   \n",
       "2  MSmm-01_S1  nomatch   CKTHDGYYSYWYFDVWGTGTLLT    40          1   \n",
       "3  MSmm-01_S1  nomatch  CARRAVVATPYWYFDVWGTGTPLT    38          1   \n",
       "4  MSmm-01_S1  nomatch            YWYFDVWGTGTLLT    37          1   \n",
       "\n",
       "              V_sub  J_sub  sum_sites  avg_sites  read_perc  umi_perc  \n",
       "0          IGHV5-17  IGHJ1          1   0.016949   0.287510  0.009177  \n",
       "1          IGHV5-17  IGHJ1          0   0.000000   0.209541  0.009177  \n",
       "2           IGHV5-2  IGHJ1          0   0.000000   0.194922  0.009177  \n",
       "3  IGHV5-17+IGHV5-4  IGHJ1          0   0.000000   0.185176  0.009177  \n",
       "4  IGHV5-17+IGHV5-4  IGHJ1          0   0.000000   0.180303  0.009177  "
      ]
     },
     "execution_count": 3,
     "metadata": {},
     "output_type": "execute_result"
    }
   ],
   "source": [
    "cloneFile = \"cdr3-clones-GC-IGH_MOUSE-after-reassignment.csv\"\n",
    "pdfFile = cloneFile.replace(\"cdr3-\", \"saturation-\")\n",
    "pdfFile = pdfFile.replace(\".csv\", \".pdf\")\n",
    "excelFile = pdfFile.replace(\".pdf\", \".xlsx\")\n",
    "df = pd.read_csv(cloneFile, sep=\"\\t\")\n",
    "df.head()"
   ]
  },
  {
   "cell_type": "code",
   "execution_count": 4,
   "metadata": {},
   "outputs": [
    {
     "data": {
      "text/plain": [
       "['MSmm-01_S1', 'MSmm-02_S2', 'MSmm-03_S3', 'MSmm-04_S4', 'MSmm-05_S5']"
      ]
     },
     "execution_count": 4,
     "metadata": {},
     "output_type": "execute_result"
    }
   ],
   "source": [
    "samples = list(df[\"Sample\"].unique())\n",
    "samples"
   ]
  },
  {
   "cell_type": "markdown",
   "metadata": {},
   "source": [
    "# Calculate Michaelis-Menten fit to rarefaction curve of observed OTUs\n",
    "http://scikit-bio.org/docs/0.2.2/generated/generated/skbio.diversity.alpha.michaelis_menten_fit.html#skbio.diversity.alpha.michaelis_menten_fit"
   ]
  },
  {
   "cell_type": "code",
   "execution_count": 5,
   "metadata": {},
   "outputs": [],
   "source": [
    "writer = pd.ExcelWriter(excelFile, engine='xlsxwriter')\n",
    "\n",
    "S_max_values = list()\n",
    "for sample in samples:\n",
    "    df_s = df[df[\"Sample\"] == sample]\n",
    "    counts = df_s['freq'].to_list()\n",
    "    S_max_values.append(michaelis_menten_fit(counts, num_repeats=rep))\n",
    "df_rarefaction = pd.DataFrame({'Sample': samples, 'Smax': S_max_values})\n",
    "df_rarefaction.to_excel(writer, sheet_name=\"Rarefaction\")"
   ]
  },
  {
   "cell_type": "markdown",
   "metadata": {},
   "source": [
    "# Make rarefaction curves"
   ]
  },
  {
   "cell_type": "code",
   "execution_count": 6,
   "metadata": {},
   "outputs": [],
   "source": [
    "def saturationFigure(pdf, df, sample, repeats=1):\n",
    "    # clone definition is: V, J, CDR3pep\n",
    "    # Let op! Geimplementeerd als samplen met teruglegging (to discuss)\n",
    "    \n",
    "    # Get data for one sample\n",
    "    df_s = df[df[\"Sample\"] == sample]\n",
    "    \n",
    "    # Create a list with one entry per read\n",
    "    reads = list()\n",
    "    for index, row in df_s.iterrows():\n",
    "        newlist = [index] * row['freq']\n",
    "        reads = reads + newlist\n",
    "\n",
    "    # Go from 0 to N and count nr of unique clones\n",
    "    data = pd.DataFrame({'fraction': [x for x in range(len(reads))]})\n",
    "    for i in range(repeats):\n",
    "        fraction = list()\n",
    "        clones = list()\n",
    "\n",
    "        # Shuffle list and transform list to dataframe\n",
    "        shuffle(reads)\n",
    "        \n",
    "        for x in range(len(reads)):\n",
    "            sampled = reads[:x]\n",
    "            fraction.append(x)\n",
    "            clones.append(len(set(sampled)))\n",
    "\n",
    "        # Make figure\n",
    "        plt.plot(fraction, clones)\n",
    "        \n",
    "        # Add to data\n",
    "        data[i] = clones\n",
    "\n",
    "    # Add title, labels and save the figure\n",
    "    plt.title(\"Sample: \" + sample + \", repeats=\" + str(repeats))\n",
    "    plt.xlabel(\"fraction of sample\")\n",
    "    plt.ylabel(\"unique clones\")\n",
    "    pdf.savefig()\n",
    "    plt.close()\n",
    "    \n",
    "    return(data)"
   ]
  },
  {
   "cell_type": "code",
   "execution_count": 7,
   "metadata": {},
   "outputs": [
    {
     "name": "stdout",
     "output_type": "stream",
     "text": [
      "Wrote saturation-clones-GC-IGH_MOUSE-after-reassignment.pdf to disk\n"
     ]
    }
   ],
   "source": [
    "# info multipage pdf: https://matplotlib.org/3.1.1/gallery/misc/multipage_pdf.html\n",
    "with PdfPages(pdfFile) as pdf:\n",
    "    for sample in samples:\n",
    "        df_tmp = saturationFigure(pdf, df, sample, repeats=rep)\n",
    "        df_tmp.to_excel(writer, sheet_name=sample)\n",
    "print(\"Wrote\", pdfFile, \"to disk\")"
   ]
  },
  {
   "cell_type": "code",
   "execution_count": 8,
   "metadata": {},
   "outputs": [
    {
     "name": "stdout",
     "output_type": "stream",
     "text": [
      "Wrote saturation-clones-GC-IGH_MOUSE-after-reassignment.xlsx to disk\n"
     ]
    }
   ],
   "source": [
    "writer.save()\n",
    "print(\"Wrote\", excelFile, \"to disk\")"
   ]
  }
 ],
 "metadata": {
  "kernelspec": {
   "display_name": "Python 3",
   "language": "python",
   "name": "python3"
  },
  "language_info": {
   "codemirror_mode": {
    "name": "ipython",
    "version": 3
   },
   "file_extension": ".py",
   "mimetype": "text/x-python",
   "name": "python",
   "nbconvert_exporter": "python",
   "pygments_lexer": "ipython3",
   "version": "3.6.4"
  }
 },
 "nbformat": 4,
 "nbformat_minor": 2
}
