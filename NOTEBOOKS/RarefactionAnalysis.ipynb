{
 "cells": [
  {
   "cell_type": "code",
   "execution_count": 1,
   "metadata": {},
   "outputs": [],
   "source": [
    "import os\n",
    "import pandas as pd\n",
    "import numpy as np\n",
    "import matplotlib.pyplot as plt\n",
    "from matplotlib.backends.backend_pdf import PdfPages\n",
    "from random import shuffle"
   ]
  },
  {
   "cell_type": "code",
   "execution_count": 2,
   "metadata": {},
   "outputs": [
    {
     "data": {
      "text/html": [
       "<div>\n",
       "<style scoped>\n",
       "    .dataframe tbody tr th:only-of-type {\n",
       "        vertical-align: middle;\n",
       "    }\n",
       "\n",
       "    .dataframe tbody tr th {\n",
       "        vertical-align: top;\n",
       "    }\n",
       "\n",
       "    .dataframe thead th {\n",
       "        text-align: right;\n",
       "    }\n",
       "</style>\n",
       "<table border=\"1\" class=\"dataframe\">\n",
       "  <thead>\n",
       "    <tr style=\"text-align: right;\">\n",
       "      <th></th>\n",
       "      <th>Sample</th>\n",
       "      <th>MID</th>\n",
       "      <th>cdr3pep</th>\n",
       "      <th>freq</th>\n",
       "      <th>uniq_umis</th>\n",
       "      <th>V_sub</th>\n",
       "      <th>J_sub</th>\n",
       "      <th>sum_sites</th>\n",
       "      <th>avg_sites</th>\n",
       "      <th>read_perc</th>\n",
       "      <th>umi_perc</th>\n",
       "    </tr>\n",
       "  </thead>\n",
       "  <tbody>\n",
       "    <tr>\n",
       "      <th>0</th>\n",
       "      <td>VC015V3-IgG-LIN_S23</td>\n",
       "      <td>ACGTACGT</td>\n",
       "      <td>CVRYTRIKDFWSGPIDWGQGALVT</td>\n",
       "      <td>141</td>\n",
       "      <td>84</td>\n",
       "      <td>IGHV1-8</td>\n",
       "      <td>IGHJ4</td>\n",
       "      <td>139</td>\n",
       "      <td>0.985816</td>\n",
       "      <td>51.086957</td>\n",
       "      <td>39.069767</td>\n",
       "    </tr>\n",
       "    <tr>\n",
       "      <th>1</th>\n",
       "      <td>VC015V3-IgG-LIN_S23</td>\n",
       "      <td>ACGTACGT</td>\n",
       "      <td>CAREDTMIQGGLDYWGQGTLVT</td>\n",
       "      <td>30</td>\n",
       "      <td>29</td>\n",
       "      <td>IGHV3-7</td>\n",
       "      <td>IGHJ4</td>\n",
       "      <td>0</td>\n",
       "      <td>0.000000</td>\n",
       "      <td>10.869565</td>\n",
       "      <td>13.488372</td>\n",
       "    </tr>\n",
       "    <tr>\n",
       "      <th>2</th>\n",
       "      <td>VC015V3-IgG-LIN_S23</td>\n",
       "      <td>ACGTACGT</td>\n",
       "      <td>CARRPALSGFDRPVYFDSWGQGTLVT</td>\n",
       "      <td>29</td>\n",
       "      <td>28</td>\n",
       "      <td>IGHV5-51</td>\n",
       "      <td>IGHJ4</td>\n",
       "      <td>0</td>\n",
       "      <td>0.000000</td>\n",
       "      <td>10.507246</td>\n",
       "      <td>13.023256</td>\n",
       "    </tr>\n",
       "    <tr>\n",
       "      <th>3</th>\n",
       "      <td>VC015V3-IgG-LIN_S23</td>\n",
       "      <td>ACGTACGT</td>\n",
       "      <td>CARHDAAAAEHFAYWGQGTLVT</td>\n",
       "      <td>10</td>\n",
       "      <td>10</td>\n",
       "      <td>IGHV4-39</td>\n",
       "      <td>IGHJ4</td>\n",
       "      <td>0</td>\n",
       "      <td>0.000000</td>\n",
       "      <td>3.623188</td>\n",
       "      <td>4.651163</td>\n",
       "    </tr>\n",
       "    <tr>\n",
       "      <th>4</th>\n",
       "      <td>VC015V3-IgG-LIN_S23</td>\n",
       "      <td>ACGTACGT</td>\n",
       "      <td>CAKEGVRGYFPDWGQGTLVT</td>\n",
       "      <td>9</td>\n",
       "      <td>9</td>\n",
       "      <td>IGHV3-23</td>\n",
       "      <td>IGHJ4</td>\n",
       "      <td>1</td>\n",
       "      <td>0.111111</td>\n",
       "      <td>3.260870</td>\n",
       "      <td>4.186047</td>\n",
       "    </tr>\n",
       "  </tbody>\n",
       "</table>\n",
       "</div>"
      ],
      "text/plain": [
       "                Sample       MID                     cdr3pep  freq  uniq_umis  \\\n",
       "0  VC015V3-IgG-LIN_S23  ACGTACGT    CVRYTRIKDFWSGPIDWGQGALVT   141         84   \n",
       "1  VC015V3-IgG-LIN_S23  ACGTACGT      CAREDTMIQGGLDYWGQGTLVT    30         29   \n",
       "2  VC015V3-IgG-LIN_S23  ACGTACGT  CARRPALSGFDRPVYFDSWGQGTLVT    29         28   \n",
       "3  VC015V3-IgG-LIN_S23  ACGTACGT      CARHDAAAAEHFAYWGQGTLVT    10         10   \n",
       "4  VC015V3-IgG-LIN_S23  ACGTACGT        CAKEGVRGYFPDWGQGTLVT     9          9   \n",
       "\n",
       "      V_sub  J_sub  sum_sites  avg_sites  read_perc   umi_perc  \n",
       "0   IGHV1-8  IGHJ4        139   0.985816  51.086957  39.069767  \n",
       "1   IGHV3-7  IGHJ4          0   0.000000  10.869565  13.488372  \n",
       "2  IGHV5-51  IGHJ4          0   0.000000  10.507246  13.023256  \n",
       "3  IGHV4-39  IGHJ4          0   0.000000   3.623188   4.651163  \n",
       "4  IGHV3-23  IGHJ4          1   0.111111   3.260870   4.186047  "
      ]
     },
     "execution_count": 2,
     "metadata": {},
     "output_type": "execute_result"
    }
   ],
   "source": [
    "cloneFile = \"cdr3-clones-Vasculitis-IGH_HUMAN-after-reassignment.csv\"\n",
    "pdfFile = cloneFile.replace(\"cdr3-\", \"saturation-\")\n",
    "pdfFile = pdfFile.replace(\".csv\", \".pdf\")\n",
    "excelFile = pdfFile.replace(\".pdf\", \".xlsx\")\n",
    "df = pd.read_csv(cloneFile, sep=\"\\t\")\n",
    "df.head()"
   ]
  },
  {
   "cell_type": "code",
   "execution_count": 3,
   "metadata": {},
   "outputs": [
    {
     "data": {
      "text/plain": [
       "['VC015V3-IgG-LIN_S23', 'VC018V2-IgG-LIN_S22']"
      ]
     },
     "execution_count": 3,
     "metadata": {},
     "output_type": "execute_result"
    }
   ],
   "source": [
    "samples = list(df[\"Sample\"].unique())\n",
    "samples"
   ]
  },
  {
   "cell_type": "code",
   "execution_count": 22,
   "metadata": {},
   "outputs": [],
   "source": [
    "def saturationFigure(pdf, df, sample, repeats=1):\n",
    "    # clone definition is: V, J, CDR3pep\n",
    "    # Let op! Geimplementeerd als samplen met teruglegging (to discuss)\n",
    "    \n",
    "    # Get data for one sample\n",
    "    df_s = df[df[\"Sample\"] == sample]\n",
    "    \n",
    "    # Create a list with one entry per read\n",
    "    reads = list()\n",
    "    for index, row in df_s.iterrows():\n",
    "        newlist = [index] * row['freq']\n",
    "        reads = reads + newlist\n",
    "\n",
    "    # Go from 0 to N and count nr of unique clones\n",
    "    data = pd.DataFrame({'fraction': [x for x in range(len(reads))]})\n",
    "    for i in range(repeats):\n",
    "        fraction = list()\n",
    "        clones = list()\n",
    "\n",
    "        # Shuffle list and transform list to dataframe\n",
    "        shuffle(reads)\n",
    "        \n",
    "        for x in range(len(reads)):\n",
    "            sampled = reads[:x]\n",
    "            fraction.append(x)\n",
    "            clones.append(len(set(sampled)))\n",
    "\n",
    "        # Make figure\n",
    "        plt.plot(fraction, clones)\n",
    "        \n",
    "        # Add to data\n",
    "        data[i] = clones\n",
    "\n",
    "    # Add title, labels and save the figure\n",
    "    plt.title(\"Sample: \" + sample + \", repeats=\" + str(repeats))\n",
    "    plt.xlabel(\"fraction of sample\")\n",
    "    plt.ylabel(\"unique clones\")\n",
    "    pdf.savefig()\n",
    "    plt.close()\n",
    "    \n",
    "    return(data)"
   ]
  },
  {
   "cell_type": "code",
   "execution_count": 23,
   "metadata": {},
   "outputs": [
    {
     "name": "stdout",
     "output_type": "stream",
     "text": [
      "Wrote saturation-clones-Vasculitis-IGH_HUMAN-after-reassignment.pdf to disk\n",
      "Wrote saturation-clones-Vasculitis-IGH_HUMAN-after-reassignment.xlsx to disk\n"
     ]
    }
   ],
   "source": [
    "# info multipage pdf: https://matplotlib.org/3.1.1/gallery/misc/multipage_pdf.html\n",
    "with PdfPages(pdfFile) as pdf:\n",
    "    writer = pd.ExcelWriter(excelFile, engine='xlsxwriter')\n",
    "    for sample in samples:\n",
    "        df_tmp = saturationFigure(pdf, df, sample, repeats=10)\n",
    "        df_tmp.to_excel(writer, sheet_name=sample)\n",
    "    writer.save()\n",
    "print(\"Wrote\", pdfFile, \"to disk\")\n",
    "print(\"Wrote\", excelFile, \"to disk\")"
   ]
  },
  {
   "cell_type": "code",
   "execution_count": null,
   "metadata": {},
   "outputs": [],
   "source": []
  }
 ],
 "metadata": {
  "kernelspec": {
   "display_name": "Python 3",
   "language": "python",
   "name": "python3"
  },
  "language_info": {
   "codemirror_mode": {
    "name": "ipython",
    "version": 3
   },
   "file_extension": ".py",
   "mimetype": "text/x-python",
   "name": "python",
   "nbconvert_exporter": "python",
   "pygments_lexer": "ipython3",
   "version": "3.6.4"
  }
 },
 "nbformat": 4,
 "nbformat_minor": 2
}
