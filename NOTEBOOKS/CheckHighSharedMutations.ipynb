{
 "cells": [
  {
   "cell_type": "code",
   "execution_count": 1,
   "metadata": {},
   "outputs": [],
   "source": [
    "import pandas as pd\n",
    "import matplotlib.pyplot as plt\n",
    "import seaborn as sns\n",
    "import numpy as np\n",
    "from PairwiseAlignment import pairAlign\n",
    "from sklearn.neighbors import KernelDensity"
   ]
  },
  {
   "cell_type": "markdown",
   "metadata": {},
   "source": [
    "## Pre-processing steps\n",
    "\n",
    "* ``GetSequencesPerVJ.py`` - Reads allinfo table, select entries for the top VJ or specified VJ combination, writes sequences to disk\n",
    "  * Input: allinfo_files. These are the output from the RESEDA pipeline. Files end with -IGH_HUMAN-all_info.csv.rr.all_info.csv\n",
    "  * Output: fasta files\n",
    "* ``./clustalo -i input.fasta -o output.clustalo.fasta`` - Multiple sequence alignment of the fasta sequences from the previous step\n",
    "* ``SharedMutations.py`` - Determines mutations compared to the germline sequence and compares antibody sequences pairwise to count the number of shared mutations\n",
    "  * Input: clustalo.fasta file(s)\n",
    "  * Output: list of mutations and list of shared mutations\n",
    "* ``CheckHighSharedMutations.ipynb`` (this script) work in progress to cluster related antibody sequences\n",
    "  * calculates the distance between CDR3 sequences\n",
    "  * analysis of CDR3 distance and number of shared mutations\n",
    "  * an approach to combine the CDR3 distance and shared mutation information to define a threshold for related vs unrelated sequences\n",
    "  * create a graph of related sequences and fetch the connected antibody sequences\n",
    "\n",
    "## Possible improvements\n",
    "\n",
    "* A multiple sequence alignment might introduce alignment errors in case sequences are not related (to do: check if this happens). An alternative would be to align all sequences to the germline sequence and determine the mutations\n",
    "* The function to combine the information of CDR3 distance and number of shared mutations is perhaps too simplistic. Discuss whether a more suffisticated function is needed.\n"
   ]
  },
  {
   "cell_type": "code",
   "execution_count": 2,
   "metadata": {},
   "outputs": [],
   "source": [
    "infile = \"./tmp-shared-mutations/DO-051V1-CD24m-U_S113.V.clustalo.fasta.shared-mutations.csv\"\n",
    "outfile = infile + \".dist.csv\"\n",
    "clusterfile = infile + \".clusters.csv\""
   ]
  },
  {
   "cell_type": "code",
   "execution_count": 3,
   "metadata": {},
   "outputs": [
    {
     "name": "stdout",
     "output_type": "stream",
     "text": [
      "763230\n"
     ]
    },
    {
     "data": {
      "text/html": [
       "<div>\n",
       "<style scoped>\n",
       "    .dataframe tbody tr th:only-of-type {\n",
       "        vertical-align: middle;\n",
       "    }\n",
       "\n",
       "    .dataframe tbody tr th {\n",
       "        vertical-align: top;\n",
       "    }\n",
       "\n",
       "    .dataframe thead th {\n",
       "        text-align: right;\n",
       "    }\n",
       "</style>\n",
       "<table border=\"1\" class=\"dataframe\">\n",
       "  <thead>\n",
       "    <tr style=\"text-align: right;\">\n",
       "      <th></th>\n",
       "      <th>Reference</th>\n",
       "      <th>Antibody 1</th>\n",
       "      <th>Antibody 2</th>\n",
       "      <th>Shared mutations</th>\n",
       "      <th>Perc AB1</th>\n",
       "      <th>Perc AB2</th>\n",
       "    </tr>\n",
       "  </thead>\n",
       "  <tbody>\n",
       "    <tr>\n",
       "      <th>0</th>\n",
       "      <td>IGHV4-39*01</td>\n",
       "      <td>M02984:889:000000000-JGK5F:1:1104:20322:6666|D...</td>\n",
       "      <td>M02984:889:000000000-JGK5F:1:2105:9313:15262|D...</td>\n",
       "      <td>4</td>\n",
       "      <td>10.8</td>\n",
       "      <td>11.8</td>\n",
       "    </tr>\n",
       "    <tr>\n",
       "      <th>1</th>\n",
       "      <td>IGHV4-39*01</td>\n",
       "      <td>M02984:889:000000000-JGK5F:1:1104:20322:6666|D...</td>\n",
       "      <td>M02984:889:000000000-JGK5F:1:1119:27736:20096|...</td>\n",
       "      <td>4</td>\n",
       "      <td>10.8</td>\n",
       "      <td>12.1</td>\n",
       "    </tr>\n",
       "    <tr>\n",
       "      <th>2</th>\n",
       "      <td>IGHV4-39*01</td>\n",
       "      <td>M02984:889:000000000-JGK5F:1:1104:20322:6666|D...</td>\n",
       "      <td>M02984:889:000000000-JGK5F:1:2103:20887:15385|...</td>\n",
       "      <td>4</td>\n",
       "      <td>10.8</td>\n",
       "      <td>12.5</td>\n",
       "    </tr>\n",
       "    <tr>\n",
       "      <th>3</th>\n",
       "      <td>IGHV4-39*01</td>\n",
       "      <td>M02984:889:000000000-JGK5F:1:1104:20322:6666|D...</td>\n",
       "      <td>M02984:889:000000000-JGK5F:1:1118:14475:15886|...</td>\n",
       "      <td>4</td>\n",
       "      <td>10.8</td>\n",
       "      <td>12.5</td>\n",
       "    </tr>\n",
       "    <tr>\n",
       "      <th>4</th>\n",
       "      <td>IGHV4-39*01</td>\n",
       "      <td>M02984:889:000000000-JGK5F:1:1104:20322:6666|D...</td>\n",
       "      <td>M02984:889:000000000-JGK5F:1:2111:19663:10811|...</td>\n",
       "      <td>4</td>\n",
       "      <td>10.8</td>\n",
       "      <td>12.5</td>\n",
       "    </tr>\n",
       "  </tbody>\n",
       "</table>\n",
       "</div>"
      ],
      "text/plain": [
       "     Reference                                         Antibody 1  \\\n",
       "0  IGHV4-39*01  M02984:889:000000000-JGK5F:1:1104:20322:6666|D...   \n",
       "1  IGHV4-39*01  M02984:889:000000000-JGK5F:1:1104:20322:6666|D...   \n",
       "2  IGHV4-39*01  M02984:889:000000000-JGK5F:1:1104:20322:6666|D...   \n",
       "3  IGHV4-39*01  M02984:889:000000000-JGK5F:1:1104:20322:6666|D...   \n",
       "4  IGHV4-39*01  M02984:889:000000000-JGK5F:1:1104:20322:6666|D...   \n",
       "\n",
       "                                          Antibody 2  Shared mutations  \\\n",
       "0  M02984:889:000000000-JGK5F:1:2105:9313:15262|D...                 4   \n",
       "1  M02984:889:000000000-JGK5F:1:1119:27736:20096|...                 4   \n",
       "2  M02984:889:000000000-JGK5F:1:2103:20887:15385|...                 4   \n",
       "3  M02984:889:000000000-JGK5F:1:1118:14475:15886|...                 4   \n",
       "4  M02984:889:000000000-JGK5F:1:2111:19663:10811|...                 4   \n",
       "\n",
       "   Perc AB1  Perc AB2  \n",
       "0      10.8      11.8  \n",
       "1      10.8      12.1  \n",
       "2      10.8      12.5  \n",
       "3      10.8      12.5  \n",
       "4      10.8      12.5  "
      ]
     },
     "execution_count": 3,
     "metadata": {},
     "output_type": "execute_result"
    }
   ],
   "source": [
    "df = pd.read_csv(infile, sep=\"\\t\")\n",
    "print(len(df))\n",
    "df.head()"
   ]
  },
  {
   "cell_type": "code",
   "execution_count": 4,
   "metadata": {},
   "outputs": [
    {
     "data": {
      "text/html": [
       "<div>\n",
       "<style scoped>\n",
       "    .dataframe tbody tr th:only-of-type {\n",
       "        vertical-align: middle;\n",
       "    }\n",
       "\n",
       "    .dataframe tbody tr th {\n",
       "        vertical-align: top;\n",
       "    }\n",
       "\n",
       "    .dataframe thead th {\n",
       "        text-align: right;\n",
       "    }\n",
       "</style>\n",
       "<table border=\"1\" class=\"dataframe\">\n",
       "  <thead>\n",
       "    <tr style=\"text-align: right;\">\n",
       "      <th></th>\n",
       "      <th>Reference</th>\n",
       "      <th>Antibody 1</th>\n",
       "      <th>Antibody 2</th>\n",
       "      <th>Shared mutations</th>\n",
       "      <th>Perc AB1</th>\n",
       "      <th>Perc AB2</th>\n",
       "      <th>cdr3_AB1</th>\n",
       "      <th>cdr3_AB2</th>\n",
       "    </tr>\n",
       "  </thead>\n",
       "  <tbody>\n",
       "    <tr>\n",
       "      <th>0</th>\n",
       "      <td>IGHV4-39*01</td>\n",
       "      <td>M02984:889:000000000-JGK5F:1:1104:20322:6666|D...</td>\n",
       "      <td>M02984:889:000000000-JGK5F:1:2105:9313:15262|D...</td>\n",
       "      <td>4</td>\n",
       "      <td>10.8</td>\n",
       "      <td>11.8</td>\n",
       "      <td>TGTGCGAGACACCGTGGGAGTTCGTTAGGCGGCCGCCTAGATAACT...</td>\n",
       "      <td>TGTACGAGACTGCCAGTCGGAGCCCCTGAAGAGTATTACTTTGACC...</td>\n",
       "    </tr>\n",
       "    <tr>\n",
       "      <th>1</th>\n",
       "      <td>IGHV4-39*01</td>\n",
       "      <td>M02984:889:000000000-JGK5F:1:1104:20322:6666|D...</td>\n",
       "      <td>M02984:889:000000000-JGK5F:1:1119:27736:20096|...</td>\n",
       "      <td>4</td>\n",
       "      <td>10.8</td>\n",
       "      <td>12.1</td>\n",
       "      <td>TGTGCGAGACACCGTGGGAGTTCGTTAGGCGGCCGCCTAGATAACT...</td>\n",
       "      <td>TGTACGAGACTGCCAGTCGGAGCCCCTGAAGAGTATTACTTTGACC...</td>\n",
       "    </tr>\n",
       "    <tr>\n",
       "      <th>2</th>\n",
       "      <td>IGHV4-39*01</td>\n",
       "      <td>M02984:889:000000000-JGK5F:1:1104:20322:6666|D...</td>\n",
       "      <td>M02984:889:000000000-JGK5F:1:2103:20887:15385|...</td>\n",
       "      <td>4</td>\n",
       "      <td>10.8</td>\n",
       "      <td>12.5</td>\n",
       "      <td>TGTGCGAGACACCGTGGGAGTTCGTTAGGCGGCCGCCTAGATAACT...</td>\n",
       "      <td>TGTACGAGACTGC</td>\n",
       "    </tr>\n",
       "    <tr>\n",
       "      <th>3</th>\n",
       "      <td>IGHV4-39*01</td>\n",
       "      <td>M02984:889:000000000-JGK5F:1:1104:20322:6666|D...</td>\n",
       "      <td>M02984:889:000000000-JGK5F:1:1118:14475:15886|...</td>\n",
       "      <td>4</td>\n",
       "      <td>10.8</td>\n",
       "      <td>12.5</td>\n",
       "      <td>TGTGCGAGACACCGTGGGAGTTCGTTAGGCGGCCGCCTAGATAACT...</td>\n",
       "      <td>TGTACGAGACTGCCAGTCGGAGCCCCTGAAGAGTATTACTTTGACC...</td>\n",
       "    </tr>\n",
       "    <tr>\n",
       "      <th>4</th>\n",
       "      <td>IGHV4-39*01</td>\n",
       "      <td>M02984:889:000000000-JGK5F:1:1104:20322:6666|D...</td>\n",
       "      <td>M02984:889:000000000-JGK5F:1:2111:19663:10811|...</td>\n",
       "      <td>4</td>\n",
       "      <td>10.8</td>\n",
       "      <td>12.5</td>\n",
       "      <td>TGTGCGAGACACCGTGGGAGTTCGTTAGGCGGCCGCCTAGATAACT...</td>\n",
       "      <td>TGTACGAGACTGCCAGTCGGAGCCCCTGAAGAGTATTACTTTGACC...</td>\n",
       "    </tr>\n",
       "  </tbody>\n",
       "</table>\n",
       "</div>"
      ],
      "text/plain": [
       "     Reference                                         Antibody 1  \\\n",
       "0  IGHV4-39*01  M02984:889:000000000-JGK5F:1:1104:20322:6666|D...   \n",
       "1  IGHV4-39*01  M02984:889:000000000-JGK5F:1:1104:20322:6666|D...   \n",
       "2  IGHV4-39*01  M02984:889:000000000-JGK5F:1:1104:20322:6666|D...   \n",
       "3  IGHV4-39*01  M02984:889:000000000-JGK5F:1:1104:20322:6666|D...   \n",
       "4  IGHV4-39*01  M02984:889:000000000-JGK5F:1:1104:20322:6666|D...   \n",
       "\n",
       "                                          Antibody 2  Shared mutations  \\\n",
       "0  M02984:889:000000000-JGK5F:1:2105:9313:15262|D...                 4   \n",
       "1  M02984:889:000000000-JGK5F:1:1119:27736:20096|...                 4   \n",
       "2  M02984:889:000000000-JGK5F:1:2103:20887:15385|...                 4   \n",
       "3  M02984:889:000000000-JGK5F:1:1118:14475:15886|...                 4   \n",
       "4  M02984:889:000000000-JGK5F:1:2111:19663:10811|...                 4   \n",
       "\n",
       "   Perc AB1  Perc AB2                                           cdr3_AB1  \\\n",
       "0      10.8      11.8  TGTGCGAGACACCGTGGGAGTTCGTTAGGCGGCCGCCTAGATAACT...   \n",
       "1      10.8      12.1  TGTGCGAGACACCGTGGGAGTTCGTTAGGCGGCCGCCTAGATAACT...   \n",
       "2      10.8      12.5  TGTGCGAGACACCGTGGGAGTTCGTTAGGCGGCCGCCTAGATAACT...   \n",
       "3      10.8      12.5  TGTGCGAGACACCGTGGGAGTTCGTTAGGCGGCCGCCTAGATAACT...   \n",
       "4      10.8      12.5  TGTGCGAGACACCGTGGGAGTTCGTTAGGCGGCCGCCTAGATAACT...   \n",
       "\n",
       "                                            cdr3_AB2  \n",
       "0  TGTACGAGACTGCCAGTCGGAGCCCCTGAAGAGTATTACTTTGACC...  \n",
       "1  TGTACGAGACTGCCAGTCGGAGCCCCTGAAGAGTATTACTTTGACC...  \n",
       "2                                      TGTACGAGACTGC  \n",
       "3  TGTACGAGACTGCCAGTCGGAGCCCCTGAAGAGTATTACTTTGACC...  \n",
       "4  TGTACGAGACTGCCAGTCGGAGCCCCTGAAGAGTATTACTTTGACC...  "
      ]
     },
     "execution_count": 4,
     "metadata": {},
     "output_type": "execute_result"
    }
   ],
   "source": [
    "get_cdr3 = lambda x: x.split(\"|\")[-1].split(\",\")[0]\n",
    "df[\"cdr3_AB1\"] = [x for x in map(get_cdr3, df[\"Antibody 1\"])]\n",
    "df[\"cdr3_AB2\"] = [x for x in map(get_cdr3, df[\"Antibody 2\"])]\n",
    "df.head()"
   ]
  },
  {
   "cell_type": "code",
   "execution_count": 5,
   "metadata": {},
   "outputs": [
    {
     "data": {
      "text/plain": [
       "23"
      ]
     },
     "execution_count": 5,
     "metadata": {},
     "output_type": "execute_result"
    }
   ],
   "source": [
    "pairAlign(df.iloc[0]['cdr3_AB1'], df.iloc[0]['cdr3_AB2']).distance"
   ]
  },
  {
   "cell_type": "code",
   "execution_count": 6,
   "metadata": {},
   "outputs": [
    {
     "name": "stdout",
     "output_type": "stream",
     "text": [
      "4773\n"
     ]
    },
    {
     "data": {
      "text/html": [
       "<div>\n",
       "<style scoped>\n",
       "    .dataframe tbody tr th:only-of-type {\n",
       "        vertical-align: middle;\n",
       "    }\n",
       "\n",
       "    .dataframe tbody tr th {\n",
       "        vertical-align: top;\n",
       "    }\n",
       "\n",
       "    .dataframe thead th {\n",
       "        text-align: right;\n",
       "    }\n",
       "</style>\n",
       "<table border=\"1\" class=\"dataframe\">\n",
       "  <thead>\n",
       "    <tr style=\"text-align: right;\">\n",
       "      <th></th>\n",
       "      <th>cdr3_AB1</th>\n",
       "      <th>cdr3_AB2</th>\n",
       "      <th>Reference</th>\n",
       "    </tr>\n",
       "  </thead>\n",
       "  <tbody>\n",
       "    <tr>\n",
       "      <th>0</th>\n",
       "      <td>CGTACGAGACTGCCAGTCGGAGCCCCTGAAGAGTATTACTTTGACC...</td>\n",
       "      <td>CGTACGAGACTGCCAGTCGGAGCCCCTGAAGAGTATTACTTTGACC...</td>\n",
       "      <td>1</td>\n",
       "    </tr>\n",
       "    <tr>\n",
       "      <th>1</th>\n",
       "      <td>CGTACGAGACTGCCAGTCGGAGCCCCTGAAGAGTATTACTTTGACC...</td>\n",
       "      <td>CGTACGAGACTGCCAGTCGGAGCCCCTGAAGAGTATTACTTTGACC...</td>\n",
       "      <td>1</td>\n",
       "    </tr>\n",
       "    <tr>\n",
       "      <th>2</th>\n",
       "      <td>CGTACGAGACTGCCAGTCGGAGCCCCTGAAGAGTATTACTTTGACC...</td>\n",
       "      <td>M02984:889:000000000-JGK5F:1:2101:836</td>\n",
       "      <td>1</td>\n",
       "    </tr>\n",
       "    <tr>\n",
       "      <th>3</th>\n",
       "      <td>CGTACGAGACTGCCAGTCGGAGCCCCTGAAGAGTATTACTTTGACC...</td>\n",
       "      <td>TGCTGTACGAGACTGCCAGTCGGAGCCCCTGAAGAGTATTACTTTG...</td>\n",
       "      <td>1</td>\n",
       "    </tr>\n",
       "    <tr>\n",
       "      <th>4</th>\n",
       "      <td>CGTACGAGACTGCCAGTCGGAGCCCCTGAAGAGTATTACTTTGACC...</td>\n",
       "      <td>TGTACAAGACTGCCAGTCGGAGCCCCTGAAGAGTATTACTTTGACC...</td>\n",
       "      <td>2</td>\n",
       "    </tr>\n",
       "  </tbody>\n",
       "</table>\n",
       "</div>"
      ],
      "text/plain": [
       "                                            cdr3_AB1  \\\n",
       "0  CGTACGAGACTGCCAGTCGGAGCCCCTGAAGAGTATTACTTTGACC...   \n",
       "1  CGTACGAGACTGCCAGTCGGAGCCCCTGAAGAGTATTACTTTGACC...   \n",
       "2  CGTACGAGACTGCCAGTCGGAGCCCCTGAAGAGTATTACTTTGACC...   \n",
       "3  CGTACGAGACTGCCAGTCGGAGCCCCTGAAGAGTATTACTTTGACC...   \n",
       "4  CGTACGAGACTGCCAGTCGGAGCCCCTGAAGAGTATTACTTTGACC...   \n",
       "\n",
       "                                            cdr3_AB2  Reference  \n",
       "0  CGTACGAGACTGCCAGTCGGAGCCCCTGAAGAGTATTACTTTGACC...          1  \n",
       "1  CGTACGAGACTGCCAGTCGGAGCCCCTGAAGAGTATTACTTTGACC...          1  \n",
       "2              M02984:889:000000000-JGK5F:1:2101:836          1  \n",
       "3  TGCTGTACGAGACTGCCAGTCGGAGCCCCTGAAGAGTATTACTTTG...          1  \n",
       "4  TGTACAAGACTGCCAGTCGGAGCCCCTGAAGAGTATTACTTTGACC...          2  "
      ]
     },
     "execution_count": 6,
     "metadata": {},
     "output_type": "execute_result"
    }
   ],
   "source": [
    "df_unique = df.groupby([\"cdr3_AB1\", \"cdr3_AB2\"]).agg({\"Reference\": len})\n",
    "df_unique = df_unique.reset_index()\n",
    "print(len(df_unique))\n",
    "df_unique.head()"
   ]
  },
  {
   "cell_type": "code",
   "execution_count": 7,
   "metadata": {},
   "outputs": [
    {
     "data": {
      "text/html": [
       "<div>\n",
       "<style scoped>\n",
       "    .dataframe tbody tr th:only-of-type {\n",
       "        vertical-align: middle;\n",
       "    }\n",
       "\n",
       "    .dataframe tbody tr th {\n",
       "        vertical-align: top;\n",
       "    }\n",
       "\n",
       "    .dataframe thead th {\n",
       "        text-align: right;\n",
       "    }\n",
       "</style>\n",
       "<table border=\"1\" class=\"dataframe\">\n",
       "  <thead>\n",
       "    <tr style=\"text-align: right;\">\n",
       "      <th></th>\n",
       "      <th>cdr3_AB1</th>\n",
       "      <th>cdr3_AB2</th>\n",
       "      <th>Reference</th>\n",
       "      <th>cdr3_distance</th>\n",
       "    </tr>\n",
       "  </thead>\n",
       "  <tbody>\n",
       "    <tr>\n",
       "      <th>0</th>\n",
       "      <td>CGTACGAGACTGCCAGTCGGAGCCCCTGAAGAGTATTACTTTGACC...</td>\n",
       "      <td>CGTACGAGACTGCCAGTCGGAGCCCCTGAAGAGTATTACTTTGACC...</td>\n",
       "      <td>1</td>\n",
       "      <td>0</td>\n",
       "    </tr>\n",
       "    <tr>\n",
       "      <th>1</th>\n",
       "      <td>CGTACGAGACTGCCAGTCGGAGCCCCTGAAGAGTATTACTTTGACC...</td>\n",
       "      <td>CGTACGAGACTGCCAGTCGGAGCCCCTGAAGAGTATTACTTTGACC...</td>\n",
       "      <td>1</td>\n",
       "      <td>0</td>\n",
       "    </tr>\n",
       "    <tr>\n",
       "      <th>2</th>\n",
       "      <td>CGTACGAGACTGCCAGTCGGAGCCCCTGAAGAGTATTACTTTGACC...</td>\n",
       "      <td>M02984:889:000000000-JGK5F:1:2101:836</td>\n",
       "      <td>1</td>\n",
       "      <td>38</td>\n",
       "    </tr>\n",
       "    <tr>\n",
       "      <th>3</th>\n",
       "      <td>CGTACGAGACTGCCAGTCGGAGCCCCTGAAGAGTATTACTTTGACC...</td>\n",
       "      <td>TGCTGTACGAGACTGCCAGTCGGAGCCCCTGAAGAGTATTACTTTG...</td>\n",
       "      <td>1</td>\n",
       "      <td>1</td>\n",
       "    </tr>\n",
       "    <tr>\n",
       "      <th>4</th>\n",
       "      <td>CGTACGAGACTGCCAGTCGGAGCCCCTGAAGAGTATTACTTTGACC...</td>\n",
       "      <td>TGTACAAGACTGCCAGTCGGAGCCCCTGAAGAGTATTACTTTGACC...</td>\n",
       "      <td>2</td>\n",
       "      <td>2</td>\n",
       "    </tr>\n",
       "  </tbody>\n",
       "</table>\n",
       "</div>"
      ],
      "text/plain": [
       "                                            cdr3_AB1  \\\n",
       "0  CGTACGAGACTGCCAGTCGGAGCCCCTGAAGAGTATTACTTTGACC...   \n",
       "1  CGTACGAGACTGCCAGTCGGAGCCCCTGAAGAGTATTACTTTGACC...   \n",
       "2  CGTACGAGACTGCCAGTCGGAGCCCCTGAAGAGTATTACTTTGACC...   \n",
       "3  CGTACGAGACTGCCAGTCGGAGCCCCTGAAGAGTATTACTTTGACC...   \n",
       "4  CGTACGAGACTGCCAGTCGGAGCCCCTGAAGAGTATTACTTTGACC...   \n",
       "\n",
       "                                            cdr3_AB2  Reference  cdr3_distance  \n",
       "0  CGTACGAGACTGCCAGTCGGAGCCCCTGAAGAGTATTACTTTGACC...          1              0  \n",
       "1  CGTACGAGACTGCCAGTCGGAGCCCCTGAAGAGTATTACTTTGACC...          1              0  \n",
       "2              M02984:889:000000000-JGK5F:1:2101:836          1             38  \n",
       "3  TGCTGTACGAGACTGCCAGTCGGAGCCCCTGAAGAGTATTACTTTG...          1              1  \n",
       "4  TGTACAAGACTGCCAGTCGGAGCCCCTGAAGAGTATTACTTTGACC...          2              2  "
      ]
     },
     "execution_count": 7,
     "metadata": {},
     "output_type": "execute_result"
    }
   ],
   "source": [
    "df_unique['cdr3_distance'] = [x.distance for x in map(pairAlign, df_unique['cdr3_AB1'], df_unique['cdr3_AB2'])]\n",
    "df_unique.head()"
   ]
  },
  {
   "cell_type": "code",
   "execution_count": 8,
   "metadata": {},
   "outputs": [
    {
     "data": {
      "text/html": [
       "<div>\n",
       "<style scoped>\n",
       "    .dataframe tbody tr th:only-of-type {\n",
       "        vertical-align: middle;\n",
       "    }\n",
       "\n",
       "    .dataframe tbody tr th {\n",
       "        vertical-align: top;\n",
       "    }\n",
       "\n",
       "    .dataframe thead th {\n",
       "        text-align: right;\n",
       "    }\n",
       "</style>\n",
       "<table border=\"1\" class=\"dataframe\">\n",
       "  <thead>\n",
       "    <tr style=\"text-align: right;\">\n",
       "      <th></th>\n",
       "      <th>Reference</th>\n",
       "      <th>Antibody 1</th>\n",
       "      <th>Antibody 2</th>\n",
       "      <th>Shared mutations</th>\n",
       "      <th>Perc AB1</th>\n",
       "      <th>Perc AB2</th>\n",
       "      <th>cdr3_AB1</th>\n",
       "      <th>cdr3_AB2</th>\n",
       "      <th>cdr3_distance</th>\n",
       "    </tr>\n",
       "  </thead>\n",
       "  <tbody>\n",
       "    <tr>\n",
       "      <th>0</th>\n",
       "      <td>IGHV4-39*01</td>\n",
       "      <td>M02984:889:000000000-JGK5F:1:1104:20322:6666|D...</td>\n",
       "      <td>M02984:889:000000000-JGK5F:1:2105:9313:15262|D...</td>\n",
       "      <td>4</td>\n",
       "      <td>10.8</td>\n",
       "      <td>11.8</td>\n",
       "      <td>TGTGCGAGACACCGTGGGAGTTCGTTAGGCGGCCGCCTAGATAACT...</td>\n",
       "      <td>TGTACGAGACTGCCAGTCGGAGCCCCTGAAGAGTATTACTTTGACC...</td>\n",
       "      <td>23</td>\n",
       "    </tr>\n",
       "    <tr>\n",
       "      <th>1</th>\n",
       "      <td>IGHV4-39*01</td>\n",
       "      <td>M02984:889:000000000-JGK5F:1:1104:20322:6666|D...</td>\n",
       "      <td>M02984:889:000000000-JGK5F:1:1118:18419:9784|D...</td>\n",
       "      <td>4</td>\n",
       "      <td>10.8</td>\n",
       "      <td>12.5</td>\n",
       "      <td>TGTGCGAGACACCGTGGGAGTTCGTTAGGCGGCCGCCTAGATAACT...</td>\n",
       "      <td>TGTACGAGACTGCCAGTCGGAGCCCCTGAAGAGTATTACTTTGACC...</td>\n",
       "      <td>23</td>\n",
       "    </tr>\n",
       "    <tr>\n",
       "      <th>2</th>\n",
       "      <td>IGHV4-39*01</td>\n",
       "      <td>M02984:889:000000000-JGK5F:1:1104:20322:6666|D...</td>\n",
       "      <td>M02984:889:000000000-JGK5F:1:1103:2594:17328|D...</td>\n",
       "      <td>4</td>\n",
       "      <td>10.8</td>\n",
       "      <td>11.8</td>\n",
       "      <td>TGTGCGAGACACCGTGGGAGTTCGTTAGGCGGCCGCCTAGATAACT...</td>\n",
       "      <td>TGTACGAGACTGCCAGTCGGAGCCCCTGAAGAGTATTACTTTGACC...</td>\n",
       "      <td>23</td>\n",
       "    </tr>\n",
       "    <tr>\n",
       "      <th>3</th>\n",
       "      <td>IGHV4-39*01</td>\n",
       "      <td>M02984:889:000000000-JGK5F:1:1104:20322:6666|D...</td>\n",
       "      <td>M02984:889:000000000-JGK5F:1:1114:7746:15734|D...</td>\n",
       "      <td>4</td>\n",
       "      <td>10.8</td>\n",
       "      <td>12.5</td>\n",
       "      <td>TGTGCGAGACACCGTGGGAGTTCGTTAGGCGGCCGCCTAGATAACT...</td>\n",
       "      <td>TGTACGAGACTGCCAGTCGGAGCCCCTGAAGAGTATTACTTTGACC...</td>\n",
       "      <td>23</td>\n",
       "    </tr>\n",
       "    <tr>\n",
       "      <th>4</th>\n",
       "      <td>IGHV4-39*01</td>\n",
       "      <td>M02984:889:000000000-JGK5F:1:1104:20322:6666|D...</td>\n",
       "      <td>M02984:889:000000000-JGK5F:1:2101:9391:17307|D...</td>\n",
       "      <td>4</td>\n",
       "      <td>10.8</td>\n",
       "      <td>12.5</td>\n",
       "      <td>TGTGCGAGACACCGTGGGAGTTCGTTAGGCGGCCGCCTAGATAACT...</td>\n",
       "      <td>TGTACGAGACTGCCAGTCGGAGCCCCTGAAGAGTATTACTTTGACC...</td>\n",
       "      <td>23</td>\n",
       "    </tr>\n",
       "  </tbody>\n",
       "</table>\n",
       "</div>"
      ],
      "text/plain": [
       "     Reference                                         Antibody 1  \\\n",
       "0  IGHV4-39*01  M02984:889:000000000-JGK5F:1:1104:20322:6666|D...   \n",
       "1  IGHV4-39*01  M02984:889:000000000-JGK5F:1:1104:20322:6666|D...   \n",
       "2  IGHV4-39*01  M02984:889:000000000-JGK5F:1:1104:20322:6666|D...   \n",
       "3  IGHV4-39*01  M02984:889:000000000-JGK5F:1:1104:20322:6666|D...   \n",
       "4  IGHV4-39*01  M02984:889:000000000-JGK5F:1:1104:20322:6666|D...   \n",
       "\n",
       "                                          Antibody 2  Shared mutations  \\\n",
       "0  M02984:889:000000000-JGK5F:1:2105:9313:15262|D...                 4   \n",
       "1  M02984:889:000000000-JGK5F:1:1118:18419:9784|D...                 4   \n",
       "2  M02984:889:000000000-JGK5F:1:1103:2594:17328|D...                 4   \n",
       "3  M02984:889:000000000-JGK5F:1:1114:7746:15734|D...                 4   \n",
       "4  M02984:889:000000000-JGK5F:1:2101:9391:17307|D...                 4   \n",
       "\n",
       "   Perc AB1  Perc AB2                                           cdr3_AB1  \\\n",
       "0      10.8      11.8  TGTGCGAGACACCGTGGGAGTTCGTTAGGCGGCCGCCTAGATAACT...   \n",
       "1      10.8      12.5  TGTGCGAGACACCGTGGGAGTTCGTTAGGCGGCCGCCTAGATAACT...   \n",
       "2      10.8      11.8  TGTGCGAGACACCGTGGGAGTTCGTTAGGCGGCCGCCTAGATAACT...   \n",
       "3      10.8      12.5  TGTGCGAGACACCGTGGGAGTTCGTTAGGCGGCCGCCTAGATAACT...   \n",
       "4      10.8      12.5  TGTGCGAGACACCGTGGGAGTTCGTTAGGCGGCCGCCTAGATAACT...   \n",
       "\n",
       "                                            cdr3_AB2  cdr3_distance  \n",
       "0  TGTACGAGACTGCCAGTCGGAGCCCCTGAAGAGTATTACTTTGACC...             23  \n",
       "1  TGTACGAGACTGCCAGTCGGAGCCCCTGAAGAGTATTACTTTGACC...             23  \n",
       "2  TGTACGAGACTGCCAGTCGGAGCCCCTGAAGAGTATTACTTTGACC...             23  \n",
       "3  TGTACGAGACTGCCAGTCGGAGCCCCTGAAGAGTATTACTTTGACC...             23  \n",
       "4  TGTACGAGACTGCCAGTCGGAGCCCCTGAAGAGTATTACTTTGACC...             23  "
      ]
     },
     "execution_count": 8,
     "metadata": {},
     "output_type": "execute_result"
    }
   ],
   "source": [
    "cols = [\"cdr3_AB1\", \"cdr3_AB2\", \"cdr3_distance\"]\n",
    "df_unique = df_unique[cols]\n",
    "df = pd.merge(df, df_unique, on=[\"cdr3_AB1\", \"cdr3_AB2\"])\n",
    "df.head()"
   ]
  },
  {
   "cell_type": "code",
   "execution_count": 9,
   "metadata": {},
   "outputs": [
    {
     "name": "stdout",
     "output_type": "stream",
     "text": [
      "Wrote ./tmp-shared-mutations/DO-051V1-CD24m-U_S113.V.clustalo.fasta.shared-mutations.csv.dist.csv to disk\n"
     ]
    }
   ],
   "source": [
    "df.to_csv(outfile, sep=\"\\t\", index=False)\n",
    "print(\"Wrote\", outfile, \"to disk\")"
   ]
  },
  {
   "cell_type": "code",
   "execution_count": 10,
   "metadata": {},
   "outputs": [
    {
     "name": "stderr",
     "output_type": "stream",
     "text": [
      "/home/barbera/anaconda3/lib/python3.6/site-packages/matplotlib/figure.py:418: UserWarning: matplotlib is currently using a non-GUI backend, so cannot show the figure\n",
      "  \"matplotlib is currently using a non-GUI backend, \"\n"
     ]
    },
    {
     "data": {
      "image/png": "[encoded data removed]",
      "text/plain": [
       "<matplotlib.figure.Figure at 0x7feb271044e0>"
      ]
     },
     "metadata": {},
     "output_type": "display_data"
    }
   ],
   "source": [
    "fig, ax = plt.subplots()\n",
    "ax.scatter(df['Shared mutations'], df['cdr3_distance'])\n",
    "plt.title(\"XY Shared mutation vs CDR3nuc distance\")\n",
    "plt.xlabel('shared mutations')\n",
    "plt.ylabel('cdr3nuc distance')\n",
    "fig.show()"
   ]
  },
  {
   "cell_type": "code",
   "execution_count": 11,
   "metadata": {},
   "outputs": [
    {
     "data": {
      "image/png": "[encoded data removed]",
      "text/plain": [
       "<matplotlib.figure.Figure at 0x7fead64bf438>"
      ]
     },
     "metadata": {},
     "output_type": "display_data"
    }
   ],
   "source": [
    "sns.distplot(df['Shared mutations'], hist=True, kde=False, \n",
    "             bins=60, color = 'darkblue', \n",
    "             hist_kws={'edgecolor':'black'},\n",
    "             kde_kws={'linewidth': 2})\n",
    "plt.title(\"Shared mutations histogram\")\n",
    "plt.show()"
   ]
  },
  {
   "cell_type": "code",
   "execution_count": 12,
   "metadata": {},
   "outputs": [
    {
     "data": {
      "image/png": "[encoded data removed]",
      "text/plain": [
       "<matplotlib.figure.Figure at 0x7fead645aac8>"
      ]
     },
     "metadata": {},
     "output_type": "display_data"
    }
   ],
   "source": [
    "sns.distplot(df['cdr3_distance'], hist=True, kde=False, \n",
    "             bins=60, color = 'darkblue', \n",
    "             hist_kws={'edgecolor':'black'},\n",
    "             kde_kws={'linewidth': 2})\n",
    "plt.title(\"CDR3 nucleotide distance histogram\")\n",
    "plt.show()"
   ]
  },
  {
   "cell_type": "markdown",
   "metadata": {},
   "source": [
    "## Check the nr of shared mutations between close CDR3s and distant CDR3s"
   ]
  },
  {
   "cell_type": "code",
   "execution_count": 13,
   "metadata": {},
   "outputs": [],
   "source": [
    "df_close = df[df['cdr3_distance'] < 5]\n",
    "df_distant = df[df['cdr3_distance'] >= 5]"
   ]
  },
  {
   "cell_type": "code",
   "execution_count": 14,
   "metadata": {},
   "outputs": [
    {
     "data": {
      "image/png": "[encoded data removed]",
      "text/plain": [
       "<matplotlib.figure.Figure at 0x7fead6305748>"
      ]
     },
     "metadata": {},
     "output_type": "display_data"
    }
   ],
   "source": [
    "sns.distplot(df_close['Shared mutations'], hist=True, kde=False, \n",
    "             bins=60, color = 'darkblue', \n",
    "             hist_kws={'edgecolor':'black'},\n",
    "             kde_kws={'linewidth': 2})\n",
    "plt.title(\"Shared mutations of close CDR3s\")\n",
    "plt.show()"
   ]
  },
  {
   "cell_type": "code",
   "execution_count": 15,
   "metadata": {},
   "outputs": [
    {
     "data": {
      "image/png": "[encoded data removed]",
      "text/plain": [
       "<matplotlib.figure.Figure at 0x7fead6196a90>"
      ]
     },
     "metadata": {},
     "output_type": "display_data"
    }
   ],
   "source": [
    "sns.distplot(df_distant['Shared mutations'], hist=True, kde=False, \n",
    "             bins=60, color = 'darkblue', \n",
    "             hist_kws={'edgecolor':'black'},\n",
    "             kde_kws={'linewidth': 2})\n",
    "plt.title(\"Shared mutations of distant CDR3s\")\n",
    "plt.show()"
   ]
  },
  {
   "cell_type": "code",
   "execution_count": 16,
   "metadata": {},
   "outputs": [
    {
     "name": "stderr",
     "output_type": "stream",
     "text": [
      "/home/barbera/anaconda3/lib/python3.6/site-packages/matplotlib/figure.py:418: UserWarning: matplotlib is currently using a non-GUI backend, so cannot show the figure\n",
      "  \"matplotlib is currently using a non-GUI backend, \"\n"
     ]
    },
    {
     "data": {
      "image/png": "[encoded data removed]",
      "text/plain": [
       "<matplotlib.figure.Figure at 0x7fead6157160>"
      ]
     },
     "metadata": {},
     "output_type": "display_data"
    }
   ],
   "source": [
    "fig, ax = plt.subplots()\n",
    "ax.scatter(df_close['Shared mutations'], df_close['cdr3_distance'])\n",
    "plt.title(\"XY Shared mutation vs CDR3nuc distance (distance < 5 aa)\")\n",
    "plt.xlabel('shared mutations')\n",
    "plt.ylabel('cdr3nuc distance')\n",
    "fig.show()"
   ]
  },
  {
   "cell_type": "code",
   "execution_count": 17,
   "metadata": {},
   "outputs": [
    {
     "name": "stderr",
     "output_type": "stream",
     "text": [
      "/home/barbera/anaconda3/lib/python3.6/site-packages/matplotlib/figure.py:418: UserWarning: matplotlib is currently using a non-GUI backend, so cannot show the figure\n",
      "  \"matplotlib is currently using a non-GUI backend, \"\n"
     ]
    },
    {
     "data": {
      "image/png": "[encoded data removed]",
      "text/plain": [
       "<matplotlib.figure.Figure at 0x7fead5ff6128>"
      ]
     },
     "metadata": {},
     "output_type": "display_data"
    }
   ],
   "source": [
    "fig, ax = plt.subplots()\n",
    "ax.scatter(df_distant['Shared mutations'], df_distant['cdr3_distance'])\n",
    "plt.title(\"XY Shared mutation vs CDR3nuc distance (distance >= 5 aa)\")\n",
    "plt.xlabel('shared mutations')\n",
    "plt.ylabel('cdr3nuc distance')\n",
    "fig.show()"
   ]
  },
  {
   "cell_type": "markdown",
   "metadata": {},
   "source": [
    "## Create function with combination of cdr3 distance and nr of shared mutations"
   ]
  },
  {
   "cell_type": "code",
   "execution_count": 18,
   "metadata": {},
   "outputs": [],
   "source": [
    "w_cdr3 = 0.5\n",
    "w_mut = 0.5\n",
    "df[\"myfunc\"] = list(w_cdr3 * (df['cdr3_distance'].max() - df['cdr3_distance']) + w_mut * df['Shared mutations'])"
   ]
  },
  {
   "cell_type": "code",
   "execution_count": 19,
   "metadata": {},
   "outputs": [
    {
     "data": {
      "image/png": "[encoded data removed]",
      "text/plain": [
       "<matplotlib.figure.Figure at 0x7fead6126588>"
      ]
     },
     "metadata": {},
     "output_type": "display_data"
    }
   ],
   "source": [
    "# fit density\n",
    "sample = df['myfunc'].to_numpy()\n",
    "model = KernelDensity(bandwidth=1, kernel='gaussian')\n",
    "sample = sample.reshape((len(sample), 1))\n",
    "model.fit(sample)\n",
    "# sample probabilities for a range of outcomes\n",
    "values = np.asarray([value for value in range(1, int(max(df['myfunc'])) + 1)])\n",
    "values = values.reshape((len(values), 1))\n",
    "probabilities = model.score_samples(values)\n",
    "probabilities = np.exp(probabilities)\n",
    "# plot the histogram and pdf\n",
    "plt.hist(sample, bins=60, density=True)\n",
    "plt.plot(values[:], probabilities)\n",
    "plt.show()"
   ]
  },
  {
   "cell_type": "code",
   "execution_count": 20,
   "metadata": {},
   "outputs": [],
   "source": [
    "# Calculate slopes\n",
    "dydx = np.diff(probabilities)"
   ]
  },
  {
   "cell_type": "code",
   "execution_count": 21,
   "metadata": {},
   "outputs": [
    {
     "name": "stdout",
     "output_type": "stream",
     "text": [
      "Zero's? False\n",
      "Minima: [18, 31]\n",
      "Maxima: [14, 24, 40]\n",
      "Threshold: 31\n"
     ]
    }
   ],
   "source": [
    "# check if there are values that are zero\n",
    "print(\"Zero's?\", 0 in dydx)\n",
    "\n",
    "# look for minimum and maximum values (dydx switches sign)\n",
    "minima = list()\n",
    "maxima = list()\n",
    "newvalues = values[:-1]\n",
    "for i in range(len(dydx)-1):\n",
    "    j = i + 1\n",
    "    if dydx[i] * dydx[j] < 0:\n",
    "        # print(dydx[i], dydx[j], newvalues[i], newvalues[j])\n",
    "        if dydx[i] < 0:\n",
    "            minima.append(int(newvalues[j]))\n",
    "        else:\n",
    "            maxima.append(int(newvalues[j]))\n",
    "print(\"Minima:\", minima)\n",
    "print(\"Maxima:\", maxima)\n",
    "threshold = minima[-1]\n",
    "print(\"Threshold:\", threshold)"
   ]
  },
  {
   "cell_type": "code",
   "execution_count": 22,
   "metadata": {},
   "outputs": [
    {
     "name": "stderr",
     "output_type": "stream",
     "text": [
      "/home/barbera/anaconda3/lib/python3.6/site-packages/matplotlib/figure.py:418: UserWarning: matplotlib is currently using a non-GUI backend, so cannot show the figure\n",
      "  \"matplotlib is currently using a non-GUI backend, \"\n"
     ]
    },
    {
     "data": {
      "image/png": "[encoded data removed]",
      "text/plain": [
       "<matplotlib.figure.Figure at 0x7fead613d9e8>"
      ]
     },
     "metadata": {},
     "output_type": "display_data"
    }
   ],
   "source": [
    "df_sel = df[df[\"myfunc\"] > threshold]\n",
    "fig, ax = plt.subplots()\n",
    "ax.scatter(df_sel['Shared mutations'], df_sel['cdr3_distance'])\n",
    "plt.title(\"XY Shared mutation vs CDR3nuc distance\")\n",
    "plt.xlabel('shared mutations')\n",
    "plt.ylabel('cdr3nuc distance')\n",
    "fig.show()"
   ]
  },
  {
   "cell_type": "code",
   "execution_count": 23,
   "metadata": {},
   "outputs": [
    {
     "data": {
      "text/html": [
       "<div>\n",
       "<style scoped>\n",
       "    .dataframe tbody tr th:only-of-type {\n",
       "        vertical-align: middle;\n",
       "    }\n",
       "\n",
       "    .dataframe tbody tr th {\n",
       "        vertical-align: top;\n",
       "    }\n",
       "\n",
       "    .dataframe thead th {\n",
       "        text-align: right;\n",
       "    }\n",
       "</style>\n",
       "<table border=\"1\" class=\"dataframe\">\n",
       "  <thead>\n",
       "    <tr style=\"text-align: right;\">\n",
       "      <th></th>\n",
       "      <th>Reference</th>\n",
       "      <th>Antibody 1</th>\n",
       "      <th>Antibody 2</th>\n",
       "      <th>Shared mutations</th>\n",
       "      <th>Perc AB1</th>\n",
       "      <th>Perc AB2</th>\n",
       "      <th>cdr3_AB1</th>\n",
       "      <th>cdr3_AB2</th>\n",
       "      <th>cdr3_distance</th>\n",
       "      <th>myfunc</th>\n",
       "    </tr>\n",
       "  </thead>\n",
       "  <tbody>\n",
       "    <tr>\n",
       "      <th>749247</th>\n",
       "      <td>IGHV4-39*01</td>\n",
       "      <td>M02984:889:000000000-JGK5F:1:1114:11505:4148|M...</td>\n",
       "      <td>M02984:889:000000000-JGK5F:1:1114:27663:18350|...</td>\n",
       "      <td>37</td>\n",
       "      <td>100.0</td>\n",
       "      <td>100.0</td>\n",
       "      <td>M02984:889:000000000-JGK5F:1:2101:836</td>\n",
       "      <td>TGTGCGAGACACC</td>\n",
       "      <td>15</td>\n",
       "      <td>35.0</td>\n",
       "    </tr>\n",
       "    <tr>\n",
       "      <th>715788</th>\n",
       "      <td>IGHV4-39*01</td>\n",
       "      <td>M02984:889:000000000-JGK5F:1:1115:9832:2423|DO...</td>\n",
       "      <td>M02984:889:000000000-JGK5F:1:2108:15245:18548|...</td>\n",
       "      <td>31</td>\n",
       "      <td>91.2</td>\n",
       "      <td>86.1</td>\n",
       "      <td>TGTACGAGACTGCCAGTCGGAGCCCCTGAAGAGTATTCCTTTGACC...</td>\n",
       "      <td>TGTACGAGACTGCCAGTCGGAGCCCCTGCAGAGTATAACTTTGGCC...</td>\n",
       "      <td>7</td>\n",
       "      <td>36.0</td>\n",
       "    </tr>\n",
       "    <tr>\n",
       "      <th>728829</th>\n",
       "      <td>IGHV4-39*01</td>\n",
       "      <td>M02984:889:000000000-JGK5F:1:2108:15245:18548|...</td>\n",
       "      <td>M02984:889:000000000-JGK5F:1:1103:16255:9246|D...</td>\n",
       "      <td>31</td>\n",
       "      <td>86.1</td>\n",
       "      <td>86.1</td>\n",
       "      <td>TGTACGAGACTGCCAGTCGGAGCCCCTGCAGAGTATAACTTTGGCC...</td>\n",
       "      <td>TGTACGAGACTGCCAGTCGGTGCCCCTGAAGAGTATTACTTTGACC...</td>\n",
       "      <td>7</td>\n",
       "      <td>36.0</td>\n",
       "    </tr>\n",
       "    <tr>\n",
       "      <th>728773</th>\n",
       "      <td>IGHV4-39*01</td>\n",
       "      <td>M02984:889:000000000-JGK5F:1:2108:15245:18548|...</td>\n",
       "      <td>M02984:889:000000000-JGK5F:1:1102:5891:6664|DO...</td>\n",
       "      <td>31</td>\n",
       "      <td>86.1</td>\n",
       "      <td>91.2</td>\n",
       "      <td>TGTACGAGACTGCCAGTCGGAGCCCCTGCAGAGTATAACTTTGGCC...</td>\n",
       "      <td>TGTACGAGACTGCCAGTCGGAGCCCCTGAAGAGTATTACCTTGACC...</td>\n",
       "      <td>7</td>\n",
       "      <td>36.0</td>\n",
       "    </tr>\n",
       "    <tr>\n",
       "      <th>728847</th>\n",
       "      <td>IGHV4-39*01</td>\n",
       "      <td>M02984:889:000000000-JGK5F:1:2108:15245:18548|...</td>\n",
       "      <td>M02984:889:000000000-JGK5F:1:2107:9873:9496|DO...</td>\n",
       "      <td>30</td>\n",
       "      <td>83.3</td>\n",
       "      <td>93.8</td>\n",
       "      <td>TGTACGAGACTGCCAGTCGGAGCCCCTGCAGAGTATAACTTTGGCC...</td>\n",
       "      <td>TGTACGAGACCGCCAGTCGGAGCCCCTGAAGAGTATTACTTTGACC...</td>\n",
       "      <td>7</td>\n",
       "      <td>35.5</td>\n",
       "    </tr>\n",
       "  </tbody>\n",
       "</table>\n",
       "</div>"
      ],
      "text/plain": [
       "          Reference                                         Antibody 1  \\\n",
       "749247  IGHV4-39*01  M02984:889:000000000-JGK5F:1:1114:11505:4148|M...   \n",
       "715788  IGHV4-39*01  M02984:889:000000000-JGK5F:1:1115:9832:2423|DO...   \n",
       "728829  IGHV4-39*01  M02984:889:000000000-JGK5F:1:2108:15245:18548|...   \n",
       "728773  IGHV4-39*01  M02984:889:000000000-JGK5F:1:2108:15245:18548|...   \n",
       "728847  IGHV4-39*01  M02984:889:000000000-JGK5F:1:2108:15245:18548|...   \n",
       "\n",
       "                                               Antibody 2  Shared mutations  \\\n",
       "749247  M02984:889:000000000-JGK5F:1:1114:27663:18350|...                37   \n",
       "715788  M02984:889:000000000-JGK5F:1:2108:15245:18548|...                31   \n",
       "728829  M02984:889:000000000-JGK5F:1:1103:16255:9246|D...                31   \n",
       "728773  M02984:889:000000000-JGK5F:1:1102:5891:6664|DO...                31   \n",
       "728847  M02984:889:000000000-JGK5F:1:2107:9873:9496|DO...                30   \n",
       "\n",
       "        Perc AB1  Perc AB2                                           cdr3_AB1  \\\n",
       "749247     100.0     100.0              M02984:889:000000000-JGK5F:1:2101:836   \n",
       "715788      91.2      86.1  TGTACGAGACTGCCAGTCGGAGCCCCTGAAGAGTATTCCTTTGACC...   \n",
       "728829      86.1      86.1  TGTACGAGACTGCCAGTCGGAGCCCCTGCAGAGTATAACTTTGGCC...   \n",
       "728773      86.1      91.2  TGTACGAGACTGCCAGTCGGAGCCCCTGCAGAGTATAACTTTGGCC...   \n",
       "728847      83.3      93.8  TGTACGAGACTGCCAGTCGGAGCCCCTGCAGAGTATAACTTTGGCC...   \n",
       "\n",
       "                                                 cdr3_AB2  cdr3_distance  \\\n",
       "749247                                      TGTGCGAGACACC             15   \n",
       "715788  TGTACGAGACTGCCAGTCGGAGCCCCTGCAGAGTATAACTTTGGCC...              7   \n",
       "728829  TGTACGAGACTGCCAGTCGGTGCCCCTGAAGAGTATTACTTTGACC...              7   \n",
       "728773  TGTACGAGACTGCCAGTCGGAGCCCCTGAAGAGTATTACCTTGACC...              7   \n",
       "728847  TGTACGAGACCGCCAGTCGGAGCCCCTGAAGAGTATTACTTTGACC...              7   \n",
       "\n",
       "        myfunc  \n",
       "749247    35.0  \n",
       "715788    36.0  \n",
       "728829    36.0  \n",
       "728773    36.0  \n",
       "728847    35.5  "
      ]
     },
     "execution_count": 23,
     "metadata": {},
     "output_type": "execute_result"
    }
   ],
   "source": [
    "# Inspect entries with largest cdr3 distance\n",
    "df_sel.sort_values(by='cdr3_distance', ascending=False).head()"
   ]
  },
  {
   "cell_type": "markdown",
   "metadata": {},
   "source": [
    "## Create clonal groups"
   ]
  },
  {
   "cell_type": "code",
   "execution_count": 24,
   "metadata": {},
   "outputs": [],
   "source": [
    "import igraph\n",
    "import math"
   ]
  },
  {
   "cell_type": "code",
   "execution_count": 25,
   "metadata": {},
   "outputs": [],
   "source": [
    "# Create nodes in a graph\n",
    "ids = list(set(list(df_sel['Antibody 1']) + list(df_sel['Antibody 2'])))\n",
    "g = igraph.Graph(len(ids), directed=False)\n",
    "g.vs[\"id\"] = range(len(ids))\n",
    "g.vs[\"name\"] = ids\n",
    "g.vs[\"label\"] = ids\n",
    "#g.vs[\"freq\"] = freqs\n",
    "#g.vs[\"size\"] = [math.log(f) for f in freqs]"
   ]
  },
  {
   "cell_type": "code",
   "execution_count": 26,
   "metadata": {},
   "outputs": [],
   "source": [
    "# Add the vertex numbers to the dataframe\n",
    "df_ids = pd.DataFrame({'idx': range(len(ids)), 'antibody': ids})\n",
    "df_sel = pd.merge(df_sel, df_ids, left_on=\"Antibody 1\", right_on=\"antibody\")\n",
    "df_sel = df_sel.rename(columns={'idx': 'idx_AB1'})\n",
    "df_sel = pd.merge(df_sel, df_ids, left_on=\"Antibody 2\", right_on=\"antibody\")\n",
    "df_sel = df_sel.rename(columns={'idx': 'idx_AB2'})"
   ]
  },
  {
   "cell_type": "code",
   "execution_count": null,
   "metadata": {},
   "outputs": [],
   "source": [
    "# Add edges to the graph\n",
    "for index, row in df_sel.iterrows():\n",
    "    g.add_edge(row['idx_AB1'], row['idx_AB2'], weight=1)"
   ]
  },
  {
   "cell_type": "code",
   "execution_count": null,
   "metadata": {},
   "outputs": [],
   "source": [
    "# Plot the graph\n",
    "w = 10\n",
    "h = 10\n",
    "d = 70\n",
    "plt.figure(figsize=(w, h), dpi=d)\n",
    "igraph.plot(g, vertex_label=None)"
   ]
  },
  {
   "cell_type": "code",
   "execution_count": null,
   "metadata": {},
   "outputs": [],
   "source": [
    "# Get clusters of connected nodes\n",
    "g_clusters = g.clusters(mode=\"strong\")\n",
    "cluster_id = list()\n",
    "cluster_size = list()\n",
    "vertex_id = list()\n",
    "vertex_name = list()\n",
    "\n",
    "i = 0\n",
    "for c in g_clusters:\n",
    "    size = len(c)\n",
    "    for node in c:\n",
    "        cluster_id.append(i)\n",
    "        cluster_size.append(size)\n",
    "        vertex_id.append(node)\n",
    "        vertex_name.append(ids[node])\n",
    "    i = i + 1\n",
    "    \n",
    "df_clusters = pd.DataFrame({'cluster_id': cluster_id, 'cluster_size': cluster_size, 'vertex_id': vertex_id, 'vertex_name': vertex_name})\n",
    "df_clusters = df_clusters.sort_values(by=['cluster_size', 'cluster_id'], ascending=False)\n",
    "df_clusters.head()"
   ]
  },
  {
   "cell_type": "code",
   "execution_count": null,
   "metadata": {},
   "outputs": [],
   "source": [
    "df_clusters.to_csv(clusterfile, sep=\"\\t\", index=False)\n",
    "print(\"Wrote\", clusterfile, \"to disk\")"
   ]
  }
 ],
 "metadata": {
  "kernelspec": {
   "display_name": "Python 3",
   "language": "python",
   "name": "python3"
  },
  "language_info": {
   "codemirror_mode": {
    "name": "ipython",
    "version": 3
   },
   "file_extension": ".py",
   "mimetype": "text/x-python",
   "name": "python",
   "nbconvert_exporter": "python",
   "pygments_lexer": "ipython3",
   "version": "3.6.4"
  }
 },
 "nbformat": 4,
 "nbformat_minor": 2
}
