{
 "cells": [
  {
   "cell_type": "code",
   "execution_count": 3,
   "id": "5214dd6a",
   "metadata": {},
   "outputs": [],
   "source": [
    "import os\n",
    "import pandas as pd\n",
    "import matplotlib.pyplot as plt"
   ]
  },
  {
   "cell_type": "code",
   "execution_count": 4,
   "id": "9f571b56",
   "metadata": {},
   "outputs": [
    {
     "data": {
      "text/plain": [
       "['TACTGGTA-count-cdr3.txt',\n",
       " 'count-assembled.txt',\n",
       " 'count-alignments.txt',\n",
       " 'count-cdr3.txt',\n",
       " 'TACTGGTA-count-alignments.txt',\n",
       " 'TACTGGTA-count-assembled.txt']"
      ]
     },
     "execution_count": 4,
     "metadata": {},
     "output_type": "execute_result"
    }
   ],
   "source": [
    "mydir = \"counts-sampled/\"\n",
    "os.listdir(mydir)"
   ]
  },
  {
   "cell_type": "code",
   "execution_count": 5,
   "id": "cd18057b",
   "metadata": {},
   "outputs": [
    {
     "data": {
      "text/html": [
       "<div>\n",
       "<style scoped>\n",
       "    .dataframe tbody tr th:only-of-type {\n",
       "        vertical-align: middle;\n",
       "    }\n",
       "\n",
       "    .dataframe tbody tr th {\n",
       "        vertical-align: top;\n",
       "    }\n",
       "\n",
       "    .dataframe thead th {\n",
       "        text-align: right;\n",
       "    }\n",
       "</style>\n",
       "<table border=\"1\" class=\"dataframe\">\n",
       "  <thead>\n",
       "    <tr style=\"text-align: right;\">\n",
       "      <th></th>\n",
       "      <th>barcode</th>\n",
       "      <th>sequences</th>\n",
       "      <th>count-alignments</th>\n",
       "    </tr>\n",
       "  </thead>\n",
       "  <tbody>\n",
       "    <tr>\n",
       "      <th>0</th>\n",
       "      <td>TACTGGTA</td>\n",
       "      <td>1000000</td>\n",
       "      <td>12096</td>\n",
       "    </tr>\n",
       "    <tr>\n",
       "      <th>1</th>\n",
       "      <td>TACTGGTA</td>\n",
       "      <td>100000</td>\n",
       "      <td>1230</td>\n",
       "    </tr>\n",
       "    <tr>\n",
       "      <th>2</th>\n",
       "      <td>TACTGGTA</td>\n",
       "      <td>10000</td>\n",
       "      <td>114</td>\n",
       "    </tr>\n",
       "    <tr>\n",
       "      <th>3</th>\n",
       "      <td>TACTGGTA</td>\n",
       "      <td>1000</td>\n",
       "      <td>9</td>\n",
       "    </tr>\n",
       "    <tr>\n",
       "      <th>4</th>\n",
       "      <td>TACTGGTA</td>\n",
       "      <td>500000</td>\n",
       "      <td>6147</td>\n",
       "    </tr>\n",
       "    <tr>\n",
       "      <th>5</th>\n",
       "      <td>TACTGGTA</td>\n",
       "      <td>50000</td>\n",
       "      <td>623</td>\n",
       "    </tr>\n",
       "    <tr>\n",
       "      <th>6</th>\n",
       "      <td>TACTGGTA</td>\n",
       "      <td>5000</td>\n",
       "      <td>56</td>\n",
       "    </tr>\n",
       "    <tr>\n",
       "      <th>7</th>\n",
       "      <td>TACTGGTA</td>\n",
       "      <td>500</td>\n",
       "      <td>13</td>\n",
       "    </tr>\n",
       "  </tbody>\n",
       "</table>\n",
       "</div>"
      ],
      "text/plain": [
       "    barcode  sequences  count-alignments\n",
       "0  TACTGGTA    1000000             12096\n",
       "1  TACTGGTA     100000              1230\n",
       "2  TACTGGTA      10000               114\n",
       "3  TACTGGTA       1000                 9\n",
       "4  TACTGGTA     500000              6147\n",
       "5  TACTGGTA      50000               623\n",
       "6  TACTGGTA       5000                56\n",
       "7  TACTGGTA        500                13"
      ]
     },
     "execution_count": 5,
     "metadata": {},
     "output_type": "execute_result"
    }
   ],
   "source": [
    "# Read nr of alignments\n",
    "fh = open(mydir + 'TACTGGTA-count-alignments.txt')\n",
    "barcodes = list()\n",
    "sequences = list()\n",
    "counts = list()\n",
    "for line in fh:\n",
    "    line = line.strip()\n",
    "    count, path = line.split(\" \")\n",
    "    path = path.replace(\"align-VJC-sampled-R2/\", \"\").replace(\"_S1_L001_R2_001-mapped.sam\", \"\")\n",
    "    if path == \"total\":\n",
    "        continue\n",
    "    barcode, nr = path.split(\"-\")\n",
    "    barcodes.append(barcode)\n",
    "    sequences.append(int(nr))\n",
    "    counts.append(int(count))\n",
    "fh.close()\n",
    "df_alignments = pd.DataFrame({'barcode': barcodes, 'sequences': sequences, 'count-alignments': counts})\n",
    "df_alignments"
   ]
  },
  {
   "cell_type": "code",
   "execution_count": 6,
   "id": "df7a4170",
   "metadata": {},
   "outputs": [
    {
     "data": {
      "text/html": [
       "<div>\n",
       "<style scoped>\n",
       "    .dataframe tbody tr th:only-of-type {\n",
       "        vertical-align: middle;\n",
       "    }\n",
       "\n",
       "    .dataframe tbody tr th {\n",
       "        vertical-align: top;\n",
       "    }\n",
       "\n",
       "    .dataframe thead th {\n",
       "        text-align: right;\n",
       "    }\n",
       "</style>\n",
       "<table border=\"1\" class=\"dataframe\">\n",
       "  <thead>\n",
       "    <tr style=\"text-align: right;\">\n",
       "      <th></th>\n",
       "      <th>barcode</th>\n",
       "      <th>sequences</th>\n",
       "      <th>matefixed</th>\n",
       "      <th>count-assembled</th>\n",
       "    </tr>\n",
       "  </thead>\n",
       "  <tbody>\n",
       "    <tr>\n",
       "      <th>0</th>\n",
       "      <td>TACTGGTA</td>\n",
       "      <td>1000000</td>\n",
       "      <td>7895</td>\n",
       "      <td>5192</td>\n",
       "    </tr>\n",
       "    <tr>\n",
       "      <th>1</th>\n",
       "      <td>TACTGGTA</td>\n",
       "      <td>100000</td>\n",
       "      <td>836</td>\n",
       "      <td>576</td>\n",
       "    </tr>\n",
       "    <tr>\n",
       "      <th>2</th>\n",
       "      <td>TACTGGTA</td>\n",
       "      <td>10000</td>\n",
       "      <td>81</td>\n",
       "      <td>52</td>\n",
       "    </tr>\n",
       "    <tr>\n",
       "      <th>3</th>\n",
       "      <td>TACTGGTA</td>\n",
       "      <td>1000</td>\n",
       "      <td>8</td>\n",
       "      <td>5</td>\n",
       "    </tr>\n",
       "    <tr>\n",
       "      <th>4</th>\n",
       "      <td>TACTGGTA</td>\n",
       "      <td>500000</td>\n",
       "      <td>5149</td>\n",
       "      <td>3329</td>\n",
       "    </tr>\n",
       "    <tr>\n",
       "      <th>5</th>\n",
       "      <td>TACTGGTA</td>\n",
       "      <td>50000</td>\n",
       "      <td>527</td>\n",
       "      <td>349</td>\n",
       "    </tr>\n",
       "    <tr>\n",
       "      <th>6</th>\n",
       "      <td>TACTGGTA</td>\n",
       "      <td>5000</td>\n",
       "      <td>49</td>\n",
       "      <td>30</td>\n",
       "    </tr>\n",
       "    <tr>\n",
       "      <th>7</th>\n",
       "      <td>TACTGGTA</td>\n",
       "      <td>500</td>\n",
       "      <td>10</td>\n",
       "      <td>8</td>\n",
       "    </tr>\n",
       "  </tbody>\n",
       "</table>\n",
       "</div>"
      ],
      "text/plain": [
       "    barcode  sequences  matefixed  count-assembled\n",
       "0  TACTGGTA    1000000       7895             5192\n",
       "1  TACTGGTA     100000        836              576\n",
       "2  TACTGGTA      10000         81               52\n",
       "3  TACTGGTA       1000          8                5\n",
       "4  TACTGGTA     500000       5149             3329\n",
       "5  TACTGGTA      50000        527              349\n",
       "6  TACTGGTA       5000         49               30\n",
       "7  TACTGGTA        500         10                8"
      ]
     },
     "execution_count": 6,
     "metadata": {},
     "output_type": "execute_result"
    }
   ],
   "source": [
    "# Count assembled sequences\n",
    "fh = open(mydir + 'TACTGGTA-count-assembled.txt')\n",
    "barcodes = list()\n",
    "sequences = list()\n",
    "matefixed = list()\n",
    "assembled = list()\n",
    "for line in fh:\n",
    "    line = line.strip()\n",
    "    path, descr, nr_assembled = line.split(\":\")\n",
    "    path = path.replace(\"assembly-sampled/\", \"\").replace(\"_S1-pear.log\", \"\")\n",
    "    barcode, nr = path.split(\"-\")\n",
    "    nr_assembled, rest = nr_assembled.split(\" / \")\n",
    "    nr_matefixed, rest = rest.split(\" \")\n",
    "    nr_assembled = nr_assembled.replace(\",\", \"\")\n",
    "    nr_matefixed = nr_matefixed.replace(\",\", \"\")\n",
    "    barcodes.append(barcode)\n",
    "    sequences.append(int(nr))\n",
    "    matefixed.append(int(nr_matefixed))\n",
    "    assembled.append(int(nr_assembled))\n",
    "fh.close()\n",
    "df_assembled = pd.DataFrame({'barcode': barcodes, 'sequences': sequences, 'matefixed': matefixed, 'count-assembled': assembled})\n",
    "df_assembled"
   ]
  },
  {
   "cell_type": "code",
   "execution_count": 7,
   "id": "cddc5d29",
   "metadata": {},
   "outputs": [
    {
     "data": {
      "text/html": [
       "<div>\n",
       "<style scoped>\n",
       "    .dataframe tbody tr th:only-of-type {\n",
       "        vertical-align: middle;\n",
       "    }\n",
       "\n",
       "    .dataframe tbody tr th {\n",
       "        vertical-align: top;\n",
       "    }\n",
       "\n",
       "    .dataframe thead th {\n",
       "        text-align: right;\n",
       "    }\n",
       "</style>\n",
       "<table border=\"1\" class=\"dataframe\">\n",
       "  <thead>\n",
       "    <tr style=\"text-align: right;\">\n",
       "      <th></th>\n",
       "      <th>barcode</th>\n",
       "      <th>sequences</th>\n",
       "      <th>count-cdr3-reads-TRA</th>\n",
       "    </tr>\n",
       "  </thead>\n",
       "  <tbody>\n",
       "    <tr>\n",
       "      <th>3</th>\n",
       "      <td>TACTGGTA</td>\n",
       "      <td>1000000</td>\n",
       "      <td>239</td>\n",
       "    </tr>\n",
       "    <tr>\n",
       "      <th>7</th>\n",
       "      <td>TACTGGTA</td>\n",
       "      <td>100000</td>\n",
       "      <td>26</td>\n",
       "    </tr>\n",
       "    <tr>\n",
       "      <th>10</th>\n",
       "      <td>TACTGGTA</td>\n",
       "      <td>10000</td>\n",
       "      <td>4</td>\n",
       "    </tr>\n",
       "    <tr>\n",
       "      <th>12</th>\n",
       "      <td>TACTGGTA</td>\n",
       "      <td>1000</td>\n",
       "      <td>2</td>\n",
       "    </tr>\n",
       "    <tr>\n",
       "      <th>16</th>\n",
       "      <td>TACTGGTA</td>\n",
       "      <td>500000</td>\n",
       "      <td>163</td>\n",
       "    </tr>\n",
       "    <tr>\n",
       "      <th>19</th>\n",
       "      <td>TACTGGTA</td>\n",
       "      <td>50000</td>\n",
       "      <td>21</td>\n",
       "    </tr>\n",
       "  </tbody>\n",
       "</table>\n",
       "</div>"
      ],
      "text/plain": [
       "     barcode  sequences  count-cdr3-reads-TRA\n",
       "3   TACTGGTA    1000000                   239\n",
       "7   TACTGGTA     100000                    26\n",
       "10  TACTGGTA      10000                     4\n",
       "12  TACTGGTA       1000                     2\n",
       "16  TACTGGTA     500000                   163\n",
       "19  TACTGGTA      50000                    21"
      ]
     },
     "execution_count": 7,
     "metadata": {},
     "output_type": "execute_result"
    }
   ],
   "source": [
    "# Count nr of CDR3s\n",
    "fh = open(mydir + 'TACTGGTA-count-cdr3.txt')\n",
    "barcodes = list()\n",
    "sequences = list()\n",
    "chains = list()\n",
    "counts_cdr3 = list()\n",
    "for line in fh:\n",
    "    line = line.strip()\n",
    "    path, nr_cdr3, perc = line.split(\"\\t\")\n",
    "    path = path.replace(\"cdr3-sampled/\", \"\").replace(\"_S1.assembled.fastq.gz-\", \"-\").replace(\"_HUMAN-report.txt:4. Reads with CDR3\", \"\")\n",
    "    barcode, nr, chain = path.split(\"-\")\n",
    "    barcodes.append(barcode)\n",
    "    sequences.append(int(nr))\n",
    "    chains.append(chain)\n",
    "    counts_cdr3.append(int(nr_cdr3))\n",
    "fh.close()\n",
    "df_cdr3s = pd.DataFrame({'barcode': barcodes, 'sequences': sequences, 'chain': chains, 'count-cdr3-reads': counts_cdr3})\n",
    "df_igh = df_cdr3s[df_cdr3s['chain'] == \"IGH\"]\n",
    "df_igk = df_cdr3s[df_cdr3s['chain'] == \"IGK\"]\n",
    "df_igl = df_cdr3s[df_cdr3s['chain'] == \"IGL\"]\n",
    "df_trb = df_cdr3s[df_cdr3s['chain'] == \"TRB\"]\n",
    "df_tra = df_cdr3s[df_cdr3s['chain'] == \"TRA\"]\n",
    "cols = ['barcode', 'sequences', 'count-cdr3-reads']\n",
    "df_igh = df_igh[cols]\n",
    "df_igk = df_igk[cols]\n",
    "df_igl = df_igl[cols]\n",
    "df_trb = df_trb[cols]\n",
    "df_tra = df_tra[cols]\n",
    "df_igh = df_igh.rename(columns={'count-cdr3-reads': 'count-cdr3-reads-IGH'})\n",
    "df_igk = df_igk.rename(columns={'count-cdr3-reads': 'count-cdr3-reads-IGK'})\n",
    "df_igl = df_igl.rename(columns={'count-cdr3-reads': 'count-cdr3-reads-IGL'})\n",
    "df_trb = df_trb.rename(columns={'count-cdr3-reads': 'count-cdr3-reads-TRB'})\n",
    "df_tra = df_tra.rename(columns={'count-cdr3-reads': 'count-cdr3-reads-TRA'})\n",
    "df_tra"
   ]
  },
  {
   "cell_type": "code",
   "execution_count": 8,
   "id": "02a14a6a",
   "metadata": {},
   "outputs": [
    {
     "data": {
      "text/html": [
       "<div>\n",
       "<style scoped>\n",
       "    .dataframe tbody tr th:only-of-type {\n",
       "        vertical-align: middle;\n",
       "    }\n",
       "\n",
       "    .dataframe tbody tr th {\n",
       "        vertical-align: top;\n",
       "    }\n",
       "\n",
       "    .dataframe thead th {\n",
       "        text-align: right;\n",
       "    }\n",
       "</style>\n",
       "<table border=\"1\" class=\"dataframe\">\n",
       "  <thead>\n",
       "    <tr style=\"text-align: right;\">\n",
       "      <th></th>\n",
       "      <th>barcode</th>\n",
       "      <th>sequences</th>\n",
       "      <th>count-alignments</th>\n",
       "      <th>matefixed</th>\n",
       "      <th>count-assembled</th>\n",
       "      <th>count-cdr3-reads-IGH</th>\n",
       "      <th>count-cdr3-reads-IGK</th>\n",
       "      <th>count-cdr3-reads-IGL</th>\n",
       "      <th>count-cdr3-reads-TRB</th>\n",
       "      <th>count-cdr3-reads-TRA</th>\n",
       "    </tr>\n",
       "  </thead>\n",
       "  <tbody>\n",
       "    <tr>\n",
       "      <th>0</th>\n",
       "      <td>TACTGGTA</td>\n",
       "      <td>1000000</td>\n",
       "      <td>12096</td>\n",
       "      <td>7895</td>\n",
       "      <td>5192</td>\n",
       "      <td>52.0</td>\n",
       "      <td>252.0</td>\n",
       "      <td>3.0</td>\n",
       "      <td>0.0</td>\n",
       "      <td>239.0</td>\n",
       "    </tr>\n",
       "    <tr>\n",
       "      <th>1</th>\n",
       "      <td>TACTGGTA</td>\n",
       "      <td>100000</td>\n",
       "      <td>1230</td>\n",
       "      <td>836</td>\n",
       "      <td>576</td>\n",
       "      <td>5.0</td>\n",
       "      <td>26.0</td>\n",
       "      <td>1.0</td>\n",
       "      <td>0.0</td>\n",
       "      <td>26.0</td>\n",
       "    </tr>\n",
       "    <tr>\n",
       "      <th>2</th>\n",
       "      <td>TACTGGTA</td>\n",
       "      <td>10000</td>\n",
       "      <td>114</td>\n",
       "      <td>81</td>\n",
       "      <td>52</td>\n",
       "      <td>1.0</td>\n",
       "      <td>4.0</td>\n",
       "      <td>0.0</td>\n",
       "      <td>0.0</td>\n",
       "      <td>4.0</td>\n",
       "    </tr>\n",
       "    <tr>\n",
       "      <th>3</th>\n",
       "      <td>TACTGGTA</td>\n",
       "      <td>1000</td>\n",
       "      <td>9</td>\n",
       "      <td>8</td>\n",
       "      <td>5</td>\n",
       "      <td>0.0</td>\n",
       "      <td>2.0</td>\n",
       "      <td>0.0</td>\n",
       "      <td>0.0</td>\n",
       "      <td>2.0</td>\n",
       "    </tr>\n",
       "    <tr>\n",
       "      <th>4</th>\n",
       "      <td>TACTGGTA</td>\n",
       "      <td>500000</td>\n",
       "      <td>6147</td>\n",
       "      <td>5149</td>\n",
       "      <td>3329</td>\n",
       "      <td>37.0</td>\n",
       "      <td>159.0</td>\n",
       "      <td>1.0</td>\n",
       "      <td>0.0</td>\n",
       "      <td>163.0</td>\n",
       "    </tr>\n",
       "    <tr>\n",
       "      <th>5</th>\n",
       "      <td>TACTGGTA</td>\n",
       "      <td>50000</td>\n",
       "      <td>623</td>\n",
       "      <td>527</td>\n",
       "      <td>349</td>\n",
       "      <td>3.0</td>\n",
       "      <td>20.0</td>\n",
       "      <td>0.0</td>\n",
       "      <td>0.0</td>\n",
       "      <td>21.0</td>\n",
       "    </tr>\n",
       "    <tr>\n",
       "      <th>6</th>\n",
       "      <td>TACTGGTA</td>\n",
       "      <td>5000</td>\n",
       "      <td>56</td>\n",
       "      <td>49</td>\n",
       "      <td>30</td>\n",
       "      <td>0.0</td>\n",
       "      <td>0.0</td>\n",
       "      <td>0.0</td>\n",
       "      <td>0.0</td>\n",
       "      <td>0.0</td>\n",
       "    </tr>\n",
       "    <tr>\n",
       "      <th>7</th>\n",
       "      <td>TACTGGTA</td>\n",
       "      <td>500</td>\n",
       "      <td>13</td>\n",
       "      <td>10</td>\n",
       "      <td>8</td>\n",
       "      <td>0.0</td>\n",
       "      <td>0.0</td>\n",
       "      <td>0.0</td>\n",
       "      <td>0.0</td>\n",
       "      <td>0.0</td>\n",
       "    </tr>\n",
       "  </tbody>\n",
       "</table>\n",
       "</div>"
      ],
      "text/plain": [
       "    barcode  sequences  count-alignments  matefixed  count-assembled  \\\n",
       "0  TACTGGTA    1000000             12096       7895             5192   \n",
       "1  TACTGGTA     100000              1230        836              576   \n",
       "2  TACTGGTA      10000               114         81               52   \n",
       "3  TACTGGTA       1000                 9          8                5   \n",
       "4  TACTGGTA     500000              6147       5149             3329   \n",
       "5  TACTGGTA      50000               623        527              349   \n",
       "6  TACTGGTA       5000                56         49               30   \n",
       "7  TACTGGTA        500                13         10                8   \n",
       "\n",
       "   count-cdr3-reads-IGH  count-cdr3-reads-IGK  count-cdr3-reads-IGL  \\\n",
       "0                  52.0                 252.0                   3.0   \n",
       "1                   5.0                  26.0                   1.0   \n",
       "2                   1.0                   4.0                   0.0   \n",
       "3                   0.0                   2.0                   0.0   \n",
       "4                  37.0                 159.0                   1.0   \n",
       "5                   3.0                  20.0                   0.0   \n",
       "6                   0.0                   0.0                   0.0   \n",
       "7                   0.0                   0.0                   0.0   \n",
       "\n",
       "   count-cdr3-reads-TRB  count-cdr3-reads-TRA  \n",
       "0                   0.0                 239.0  \n",
       "1                   0.0                  26.0  \n",
       "2                   0.0                   4.0  \n",
       "3                   0.0                   2.0  \n",
       "4                   0.0                 163.0  \n",
       "5                   0.0                  21.0  \n",
       "6                   0.0                   0.0  \n",
       "7                   0.0                   0.0  "
      ]
     },
     "execution_count": 8,
     "metadata": {},
     "output_type": "execute_result"
    }
   ],
   "source": [
    "# Merge tables\n",
    "df = pd.merge(df_alignments, df_assembled, how='left', on=['barcode', 'sequences'])\n",
    "df = pd.merge(df, df_igh, how='left', on=['barcode', 'sequences'])\n",
    "df = pd.merge(df, df_igk, how='left', on=['barcode', 'sequences'])\n",
    "df = pd.merge(df, df_igl, how='left', on=['barcode', 'sequences'])\n",
    "df = pd.merge(df, df_trb, how='left', on=['barcode', 'sequences'])\n",
    "df = pd.merge(df, df_tra, how='left', on=['barcode', 'sequences'])\n",
    "df = df.fillna(0)\n",
    "df"
   ]
  },
  {
   "cell_type": "markdown",
   "id": "eb6e42f5",
   "metadata": {},
   "source": [
    "## Create saturation plots"
   ]
  },
  {
   "cell_type": "code",
   "execution_count": 9,
   "id": "ea6ec966",
   "metadata": {},
   "outputs": [
    {
     "data": {
      "image/png": "[encoded data removed]",
      "text/plain": [
       "<Figure size 640x480 with 1 Axes>"
      ]
     },
     "metadata": {},
     "output_type": "display_data"
    }
   ],
   "source": [
    "plt.scatter(df['sequences'], df['count-alignments'])\n",
    "plt.show()"
   ]
  },
  {
   "cell_type": "code",
   "execution_count": 10,
   "id": "042a68a9",
   "metadata": {},
   "outputs": [
    {
     "data": {
      "image/png": "[encoded data removed]",
      "text/plain": [
       "<Figure size 640x480 with 1 Axes>"
      ]
     },
     "metadata": {},
     "output_type": "display_data"
    }
   ],
   "source": [
    "plt.scatter(df['sequences'], df['count-assembled'])\n",
    "plt.show()"
   ]
  },
  {
   "cell_type": "code",
   "execution_count": 11,
   "id": "9dedc74b",
   "metadata": {},
   "outputs": [
    {
     "data": {
      "image/png": "[encoded data removed]",
      "text/plain": [
       "<Figure size 640x480 with 1 Axes>"
      ]
     },
     "metadata": {},
     "output_type": "display_data"
    }
   ],
   "source": [
    "plt.scatter(df['sequences'], df['count-cdr3-reads-IGH'])\n",
    "plt.show()"
   ]
  },
  {
   "cell_type": "code",
   "execution_count": 12,
   "id": "5694ce63",
   "metadata": {},
   "outputs": [
    {
     "data": {
      "image/png": "[encoded data removed]",
      "text/plain": [
       "<Figure size 640x480 with 1 Axes>"
      ]
     },
     "metadata": {},
     "output_type": "display_data"
    }
   ],
   "source": [
    "plt.scatter(df['sequences'], df['count-cdr3-reads-IGK'])\n",
    "plt.show()"
   ]
  },
  {
   "cell_type": "code",
   "execution_count": 13,
   "id": "32d22af5",
   "metadata": {},
   "outputs": [
    {
     "data": {
      "image/png": "[encoded data removed]",
      "text/plain": [
       "<Figure size 640x480 with 1 Axes>"
      ]
     },
     "metadata": {},
     "output_type": "display_data"
    }
   ],
   "source": [
    "plt.scatter(df['sequences'], df['count-cdr3-reads-IGL'])\n",
    "plt.show()"
   ]
  },
  {
   "cell_type": "code",
   "execution_count": 14,
   "id": "017ffe5c",
   "metadata": {},
   "outputs": [
    {
     "data": {
      "image/png": "[encoded data removed]",
      "text/plain": [
       "<Figure size 640x480 with 1 Axes>"
      ]
     },
     "metadata": {},
     "output_type": "display_data"
    }
   ],
   "source": [
    "plt.scatter(df['sequences'], df['count-cdr3-reads-TRB'])\n",
    "plt.show()"
   ]
  },
  {
   "cell_type": "code",
   "execution_count": 15,
   "id": "687f0d12",
   "metadata": {},
   "outputs": [
    {
     "data": {
      "image/png": "[encoded data removed]",
      "text/plain": [
       "<Figure size 640x480 with 1 Axes>"
      ]
     },
     "metadata": {},
     "output_type": "display_data"
    }
   ],
   "source": [
    "plt.scatter(df['sequences'], df['count-cdr3-reads-TRA'])\n",
    "plt.show()"
   ]
  },
  {
   "cell_type": "code",
   "execution_count": null,
   "id": "f4bf6cc3",
   "metadata": {},
   "outputs": [],
   "source": []
  }
 ],
 "metadata": {
  "kernelspec": {
   "display_name": "reseda",
   "language": "python",
   "name": "reseda"
  },
  "language_info": {
   "codemirror_mode": {
    "name": "ipython",
    "version": 3
   },
   "file_extension": ".py",
   "mimetype": "text/x-python",
   "name": "python",
   "nbconvert_exporter": "python",
   "pygments_lexer": "ipython3",
   "version": "3.7.0"
  }
 },
 "nbformat": 4,
 "nbformat_minor": 5
}
