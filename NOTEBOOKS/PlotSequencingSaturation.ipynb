{
 "cells": [
  {
   "cell_type": "code",
   "execution_count": 2,
   "id": "5214dd6a",
   "metadata": {},
   "outputs": [],
   "source": [
    "import os\n",
    "import pandas as pd\n",
    "import matplotlib.pyplot as plt"
   ]
  },
  {
   "cell_type": "code",
   "execution_count": 5,
   "id": "9f571b56",
   "metadata": {},
   "outputs": [],
   "source": [
    "mydir = \"counts-sampled/\"\n",
    "os.listdir(mydir)\n",
    "cell = \"AAGCGAGT\""
   ]
  },
  {
   "cell_type": "code",
   "execution_count": 6,
   "id": "1308665e",
   "metadata": {},
   "outputs": [
    {
     "data": {
      "text/html": [
       "<div>\n",
       "<style scoped>\n",
       "    .dataframe tbody tr th:only-of-type {\n",
       "        vertical-align: middle;\n",
       "    }\n",
       "\n",
       "    .dataframe tbody tr th {\n",
       "        vertical-align: top;\n",
       "    }\n",
       "\n",
       "    .dataframe thead th {\n",
       "        text-align: right;\n",
       "    }\n",
       "</style>\n",
       "<table border=\"1\" class=\"dataframe\">\n",
       "  <thead>\n",
       "    <tr style=\"text-align: right;\">\n",
       "      <th></th>\n",
       "      <th>Unnamed: 0</th>\n",
       "      <th>barcode</th>\n",
       "      <th>totalseq</th>\n",
       "      <th>ufis</th>\n",
       "      <th>chain</th>\n",
       "      <th>reads_ufi</th>\n",
       "      <th>unique_ufis</th>\n",
       "      <th>unique_cdr3s</th>\n",
       "    </tr>\n",
       "  </thead>\n",
       "  <tbody>\n",
       "    <tr>\n",
       "      <th>10</th>\n",
       "      <td>10</td>\n",
       "      <td>AAGCGAGT</td>\n",
       "      <td>2876236</td>\n",
       "      <td>3934</td>\n",
       "      <td>IGH</td>\n",
       "      <td>1335</td>\n",
       "      <td>263</td>\n",
       "      <td>73</td>\n",
       "    </tr>\n",
       "    <tr>\n",
       "      <th>19</th>\n",
       "      <td>19</td>\n",
       "      <td>AAGGAGCA</td>\n",
       "      <td>1177614</td>\n",
       "      <td>564</td>\n",
       "      <td>IGH</td>\n",
       "      <td>8</td>\n",
       "      <td>4</td>\n",
       "      <td>4</td>\n",
       "    </tr>\n",
       "    <tr>\n",
       "      <th>24</th>\n",
       "      <td>24</td>\n",
       "      <td>AAGGTCAG</td>\n",
       "      <td>1489266</td>\n",
       "      <td>709</td>\n",
       "      <td>IGH</td>\n",
       "      <td>15</td>\n",
       "      <td>2</td>\n",
       "      <td>2</td>\n",
       "    </tr>\n",
       "    <tr>\n",
       "      <th>28</th>\n",
       "      <td>28</td>\n",
       "      <td>AAGTCTCG</td>\n",
       "      <td>701508</td>\n",
       "      <td>381</td>\n",
       "      <td>IGH</td>\n",
       "      <td>6</td>\n",
       "      <td>2</td>\n",
       "      <td>3</td>\n",
       "    </tr>\n",
       "    <tr>\n",
       "      <th>37</th>\n",
       "      <td>37</td>\n",
       "      <td>AATCATGC</td>\n",
       "      <td>1911124</td>\n",
       "      <td>764</td>\n",
       "      <td>IGH</td>\n",
       "      <td>6</td>\n",
       "      <td>5</td>\n",
       "      <td>5</td>\n",
       "    </tr>\n",
       "  </tbody>\n",
       "</table>\n",
       "</div>"
      ],
      "text/plain": [
       "    Unnamed: 0   barcode  totalseq  ufis chain  reads_ufi  unique_ufis  \\\n",
       "10          10  AAGCGAGT   2876236  3934   IGH       1335          263   \n",
       "19          19  AAGGAGCA   1177614   564   IGH          8            4   \n",
       "24          24  AAGGTCAG   1489266   709   IGH         15            2   \n",
       "28          28  AAGTCTCG    701508   381   IGH          6            2   \n",
       "37          37  AATCATGC   1911124   764   IGH          6            5   \n",
       "\n",
       "    unique_cdr3s  \n",
       "10            73  \n",
       "19             4  \n",
       "24             2  \n",
       "28             3  \n",
       "37             5  "
      ]
     },
     "execution_count": 6,
     "metadata": {},
     "output_type": "execute_result"
    }
   ],
   "source": [
    "# Read total nr of reads and UFIs\n",
    "df_total = pd.read_excel(\"TotalSeqVsUfis.xlsx\")\n",
    "df_total = df_total[df_total['chain'] == \"IGH\"] # filter on IGH\n",
    "df_total.head()"
   ]
  },
  {
   "cell_type": "code",
   "execution_count": 7,
   "id": "5ca62287",
   "metadata": {},
   "outputs": [
    {
     "data": {
      "text/html": [
       "<div>\n",
       "<style scoped>\n",
       "    .dataframe tbody tr th:only-of-type {\n",
       "        vertical-align: middle;\n",
       "    }\n",
       "\n",
       "    .dataframe tbody tr th {\n",
       "        vertical-align: top;\n",
       "    }\n",
       "\n",
       "    .dataframe thead th {\n",
       "        text-align: right;\n",
       "    }\n",
       "</style>\n",
       "<table border=\"1\" class=\"dataframe\">\n",
       "  <thead>\n",
       "    <tr style=\"text-align: right;\">\n",
       "      <th></th>\n",
       "      <th>Unnamed: 0</th>\n",
       "      <th>barcode</th>\n",
       "      <th>totalseq</th>\n",
       "      <th>ufis</th>\n",
       "      <th>chain</th>\n",
       "      <th>reads_ufi</th>\n",
       "      <th>unique_ufis</th>\n",
       "      <th>unique_cdr3s</th>\n",
       "    </tr>\n",
       "  </thead>\n",
       "  <tbody>\n",
       "    <tr>\n",
       "      <th>10</th>\n",
       "      <td>10</td>\n",
       "      <td>AAGCGAGT</td>\n",
       "      <td>2876236</td>\n",
       "      <td>3934</td>\n",
       "      <td>IGH</td>\n",
       "      <td>1335</td>\n",
       "      <td>263</td>\n",
       "      <td>73</td>\n",
       "    </tr>\n",
       "  </tbody>\n",
       "</table>\n",
       "</div>"
      ],
      "text/plain": [
       "    Unnamed: 0   barcode  totalseq  ufis chain  reads_ufi  unique_ufis  \\\n",
       "10          10  AAGCGAGT   2876236  3934   IGH       1335          263   \n",
       "\n",
       "    unique_cdr3s  \n",
       "10            73  "
      ]
     },
     "execution_count": 7,
     "metadata": {},
     "output_type": "execute_result"
    }
   ],
   "source": [
    "# Get entry for this particular barcode\n",
    "df_total = df_total[df_total['barcode'] == cell]\n",
    "df_total"
   ]
  },
  {
   "cell_type": "code",
   "execution_count": 8,
   "id": "cd18057b",
   "metadata": {},
   "outputs": [
    {
     "data": {
      "text/html": [
       "<div>\n",
       "<style scoped>\n",
       "    .dataframe tbody tr th:only-of-type {\n",
       "        vertical-align: middle;\n",
       "    }\n",
       "\n",
       "    .dataframe tbody tr th {\n",
       "        vertical-align: top;\n",
       "    }\n",
       "\n",
       "    .dataframe thead th {\n",
       "        text-align: right;\n",
       "    }\n",
       "</style>\n",
       "<table border=\"1\" class=\"dataframe\">\n",
       "  <thead>\n",
       "    <tr style=\"text-align: right;\">\n",
       "      <th></th>\n",
       "      <th>barcode</th>\n",
       "      <th>sequences</th>\n",
       "      <th>count-alignments</th>\n",
       "    </tr>\n",
       "  </thead>\n",
       "  <tbody>\n",
       "    <tr>\n",
       "      <th>0</th>\n",
       "      <td>AAGCGAGT</td>\n",
       "      <td>1000000</td>\n",
       "      <td>42182</td>\n",
       "    </tr>\n",
       "    <tr>\n",
       "      <th>1</th>\n",
       "      <td>AAGCGAGT</td>\n",
       "      <td>100000</td>\n",
       "      <td>4208</td>\n",
       "    </tr>\n",
       "    <tr>\n",
       "      <th>2</th>\n",
       "      <td>AAGCGAGT</td>\n",
       "      <td>10000</td>\n",
       "      <td>425</td>\n",
       "    </tr>\n",
       "    <tr>\n",
       "      <th>3</th>\n",
       "      <td>AAGCGAGT</td>\n",
       "      <td>1000</td>\n",
       "      <td>44</td>\n",
       "    </tr>\n",
       "    <tr>\n",
       "      <th>4</th>\n",
       "      <td>AAGCGAGT</td>\n",
       "      <td>500000</td>\n",
       "      <td>21212</td>\n",
       "    </tr>\n",
       "    <tr>\n",
       "      <th>5</th>\n",
       "      <td>AAGCGAGT</td>\n",
       "      <td>50000</td>\n",
       "      <td>2105</td>\n",
       "    </tr>\n",
       "    <tr>\n",
       "      <th>6</th>\n",
       "      <td>AAGCGAGT</td>\n",
       "      <td>5000</td>\n",
       "      <td>200</td>\n",
       "    </tr>\n",
       "    <tr>\n",
       "      <th>7</th>\n",
       "      <td>AAGCGAGT</td>\n",
       "      <td>500</td>\n",
       "      <td>23</td>\n",
       "    </tr>\n",
       "  </tbody>\n",
       "</table>\n",
       "</div>"
      ],
      "text/plain": [
       "    barcode  sequences  count-alignments\n",
       "0  AAGCGAGT    1000000             42182\n",
       "1  AAGCGAGT     100000              4208\n",
       "2  AAGCGAGT      10000               425\n",
       "3  AAGCGAGT       1000                44\n",
       "4  AAGCGAGT     500000             21212\n",
       "5  AAGCGAGT      50000              2105\n",
       "6  AAGCGAGT       5000               200\n",
       "7  AAGCGAGT        500                23"
      ]
     },
     "execution_count": 8,
     "metadata": {},
     "output_type": "execute_result"
    }
   ],
   "source": [
    "# Read nr of alignments\n",
    "fh = open(mydir + cell + '-count-alignments.txt')\n",
    "barcodes = list()\n",
    "sequences = list()\n",
    "counts = list()\n",
    "for line in fh:\n",
    "    line = line.strip()\n",
    "    count, path = line.split(\" \")\n",
    "    path = path.replace(\"align-VJC-sampled-R2/\", \"\").replace(\"_S1_L001_R2_001-mapped.sam\", \"\")\n",
    "    if path == \"total\" or \"_R1_\" in path:\n",
    "        continue\n",
    "    barcode, nr = path.split(\"-\")\n",
    "    barcodes.append(barcode)\n",
    "    sequences.append(int(nr))\n",
    "    counts.append(int(count))\n",
    "fh.close()\n",
    "df_alignments = pd.DataFrame({'barcode': barcodes, 'sequences': sequences, 'count-alignments': counts})\n",
    "df_alignments"
   ]
  },
  {
   "cell_type": "code",
   "execution_count": 9,
   "id": "df7a4170",
   "metadata": {},
   "outputs": [
    {
     "data": {
      "text/html": [
       "<div>\n",
       "<style scoped>\n",
       "    .dataframe tbody tr th:only-of-type {\n",
       "        vertical-align: middle;\n",
       "    }\n",
       "\n",
       "    .dataframe tbody tr th {\n",
       "        vertical-align: top;\n",
       "    }\n",
       "\n",
       "    .dataframe thead th {\n",
       "        text-align: right;\n",
       "    }\n",
       "</style>\n",
       "<table border=\"1\" class=\"dataframe\">\n",
       "  <thead>\n",
       "    <tr style=\"text-align: right;\">\n",
       "      <th></th>\n",
       "      <th>barcode</th>\n",
       "      <th>sequences</th>\n",
       "      <th>matefixed</th>\n",
       "      <th>count-assembled</th>\n",
       "    </tr>\n",
       "  </thead>\n",
       "  <tbody>\n",
       "    <tr>\n",
       "      <th>0</th>\n",
       "      <td>AAGCGAGT</td>\n",
       "      <td>1000000</td>\n",
       "      <td>31266</td>\n",
       "      <td>26596</td>\n",
       "    </tr>\n",
       "    <tr>\n",
       "      <th>1</th>\n",
       "      <td>AAGCGAGT</td>\n",
       "      <td>100000</td>\n",
       "      <td>3219</td>\n",
       "      <td>2747</td>\n",
       "    </tr>\n",
       "    <tr>\n",
       "      <th>2</th>\n",
       "      <td>AAGCGAGT</td>\n",
       "      <td>10000</td>\n",
       "      <td>338</td>\n",
       "      <td>287</td>\n",
       "    </tr>\n",
       "    <tr>\n",
       "      <th>3</th>\n",
       "      <td>AAGCGAGT</td>\n",
       "      <td>1000</td>\n",
       "      <td>33</td>\n",
       "      <td>28</td>\n",
       "    </tr>\n",
       "    <tr>\n",
       "      <th>4</th>\n",
       "      <td>AAGCGAGT</td>\n",
       "      <td>500000</td>\n",
       "      <td>19955</td>\n",
       "      <td>16898</td>\n",
       "    </tr>\n",
       "    <tr>\n",
       "      <th>5</th>\n",
       "      <td>AAGCGAGT</td>\n",
       "      <td>50000</td>\n",
       "      <td>1039</td>\n",
       "      <td>890</td>\n",
       "    </tr>\n",
       "    <tr>\n",
       "      <th>6</th>\n",
       "      <td>AAGCGAGT</td>\n",
       "      <td>5000</td>\n",
       "      <td>138</td>\n",
       "      <td>118</td>\n",
       "    </tr>\n",
       "    <tr>\n",
       "      <th>7</th>\n",
       "      <td>AAGCGAGT</td>\n",
       "      <td>500</td>\n",
       "      <td>20</td>\n",
       "      <td>17</td>\n",
       "    </tr>\n",
       "  </tbody>\n",
       "</table>\n",
       "</div>"
      ],
      "text/plain": [
       "    barcode  sequences  matefixed  count-assembled\n",
       "0  AAGCGAGT    1000000      31266            26596\n",
       "1  AAGCGAGT     100000       3219             2747\n",
       "2  AAGCGAGT      10000        338              287\n",
       "3  AAGCGAGT       1000         33               28\n",
       "4  AAGCGAGT     500000      19955            16898\n",
       "5  AAGCGAGT      50000       1039              890\n",
       "6  AAGCGAGT       5000        138              118\n",
       "7  AAGCGAGT        500         20               17"
      ]
     },
     "execution_count": 9,
     "metadata": {},
     "output_type": "execute_result"
    }
   ],
   "source": [
    "# Count assembled sequences\n",
    "fh = open(mydir + cell + '-count-assembled.txt')\n",
    "barcodes = list()\n",
    "sequences = list()\n",
    "matefixed = list()\n",
    "assembled = list()\n",
    "for line in fh:\n",
    "    line = line.strip()\n",
    "    path, descr, nr_assembled = line.split(\":\")\n",
    "    path = path.replace(\"assembly-sampled/\", \"\").replace(\"_S1-pear.log\", \"\")\n",
    "    barcode, nr = path.split(\"-\")\n",
    "    nr_assembled, rest = nr_assembled.split(\" / \")\n",
    "    nr_matefixed, rest = rest.split(\" \")\n",
    "    nr_assembled = nr_assembled.replace(\",\", \"\")\n",
    "    nr_matefixed = nr_matefixed.replace(\",\", \"\")\n",
    "    barcodes.append(barcode)\n",
    "    sequences.append(int(nr))\n",
    "    matefixed.append(int(nr_matefixed))\n",
    "    assembled.append(int(nr_assembled))\n",
    "fh.close()\n",
    "df_assembled = pd.DataFrame({'barcode': barcodes, 'sequences': sequences, 'matefixed': matefixed, 'count-assembled': assembled})\n",
    "df_assembled"
   ]
  },
  {
   "cell_type": "code",
   "execution_count": 10,
   "id": "cddc5d29",
   "metadata": {},
   "outputs": [
    {
     "data": {
      "text/html": [
       "<div>\n",
       "<style scoped>\n",
       "    .dataframe tbody tr th:only-of-type {\n",
       "        vertical-align: middle;\n",
       "    }\n",
       "\n",
       "    .dataframe tbody tr th {\n",
       "        vertical-align: top;\n",
       "    }\n",
       "\n",
       "    .dataframe thead th {\n",
       "        text-align: right;\n",
       "    }\n",
       "</style>\n",
       "<table border=\"1\" class=\"dataframe\">\n",
       "  <thead>\n",
       "    <tr style=\"text-align: right;\">\n",
       "      <th></th>\n",
       "      <th>barcode</th>\n",
       "      <th>sequences</th>\n",
       "      <th>count-cdr3-reads-TRA</th>\n",
       "    </tr>\n",
       "  </thead>\n",
       "  <tbody>\n",
       "    <tr>\n",
       "      <th>3</th>\n",
       "      <td>AAGCGAGT</td>\n",
       "      <td>1000000</td>\n",
       "      <td>2</td>\n",
       "    </tr>\n",
       "    <tr>\n",
       "      <th>11</th>\n",
       "      <td>AAGCGAGT</td>\n",
       "      <td>500000</td>\n",
       "      <td>1</td>\n",
       "    </tr>\n",
       "  </tbody>\n",
       "</table>\n",
       "</div>"
      ],
      "text/plain": [
       "     barcode  sequences  count-cdr3-reads-TRA\n",
       "3   AAGCGAGT    1000000                     2\n",
       "11  AAGCGAGT     500000                     1"
      ]
     },
     "execution_count": 10,
     "metadata": {},
     "output_type": "execute_result"
    }
   ],
   "source": [
    "# Count nr of CDR3s\n",
    "fh = open(mydir + cell + '-count-cdr3.txt')\n",
    "barcodes = list()\n",
    "sequences = list()\n",
    "chains = list()\n",
    "counts_cdr3 = list()\n",
    "for line in fh:\n",
    "    line = line.strip()\n",
    "    path, nr_cdr3, perc = line.split(\"\\t\")\n",
    "    path = path.replace(\"cdr3-sampled/\", \"\").replace(\"_S1.assembled.fastq.gz-\", \"-\").replace(\"_HUMAN-report.txt:4. Reads with CDR3\", \"\")\n",
    "    barcode, nr, chain = path.split(\"-\")\n",
    "    barcodes.append(barcode)\n",
    "    sequences.append(int(nr))\n",
    "    chains.append(chain)\n",
    "    counts_cdr3.append(int(nr_cdr3))\n",
    "fh.close()\n",
    "df_cdr3s = pd.DataFrame({'barcode': barcodes, 'sequences': sequences, 'chain': chains, 'count-cdr3-reads': counts_cdr3})\n",
    "df_igh = df_cdr3s[df_cdr3s['chain'] == \"IGH\"]\n",
    "df_igk = df_cdr3s[df_cdr3s['chain'] == \"IGK\"]\n",
    "df_igl = df_cdr3s[df_cdr3s['chain'] == \"IGL\"]\n",
    "df_trb = df_cdr3s[df_cdr3s['chain'] == \"TRB\"]\n",
    "df_tra = df_cdr3s[df_cdr3s['chain'] == \"TRA\"]\n",
    "cols = ['barcode', 'sequences', 'count-cdr3-reads']\n",
    "df_igh = df_igh[cols]\n",
    "df_igk = df_igk[cols]\n",
    "df_igl = df_igl[cols]\n",
    "df_trb = df_trb[cols]\n",
    "df_tra = df_tra[cols]\n",
    "df_igh = df_igh.rename(columns={'count-cdr3-reads': 'count-cdr3-reads-IGH'})\n",
    "df_igk = df_igk.rename(columns={'count-cdr3-reads': 'count-cdr3-reads-IGK'})\n",
    "df_igl = df_igl.rename(columns={'count-cdr3-reads': 'count-cdr3-reads-IGL'})\n",
    "df_trb = df_trb.rename(columns={'count-cdr3-reads': 'count-cdr3-reads-TRB'})\n",
    "df_tra = df_tra.rename(columns={'count-cdr3-reads': 'count-cdr3-reads-TRA'})\n",
    "df_tra"
   ]
  },
  {
   "cell_type": "code",
   "execution_count": 6,
   "id": "02a14a6a",
   "metadata": {},
   "outputs": [
    {
     "data": {
      "text/html": [
       "<div>\n",
       "<style scoped>\n",
       "    .dataframe tbody tr th:only-of-type {\n",
       "        vertical-align: middle;\n",
       "    }\n",
       "\n",
       "    .dataframe tbody tr th {\n",
       "        vertical-align: top;\n",
       "    }\n",
       "\n",
       "    .dataframe thead th {\n",
       "        text-align: right;\n",
       "    }\n",
       "</style>\n",
       "<table border=\"1\" class=\"dataframe\">\n",
       "  <thead>\n",
       "    <tr style=\"text-align: right;\">\n",
       "      <th></th>\n",
       "      <th>barcode</th>\n",
       "      <th>sequences</th>\n",
       "      <th>count-alignments</th>\n",
       "      <th>matefixed</th>\n",
       "      <th>count-assembled</th>\n",
       "      <th>count-cdr3-reads-IGH</th>\n",
       "      <th>count-cdr3-reads-IGK</th>\n",
       "      <th>count-cdr3-reads-IGL</th>\n",
       "      <th>count-cdr3-reads-TRB</th>\n",
       "      <th>count-cdr3-reads-TRA</th>\n",
       "    </tr>\n",
       "  </thead>\n",
       "  <tbody>\n",
       "    <tr>\n",
       "      <th>0</th>\n",
       "      <td>TCCTAGCT</td>\n",
       "      <td>1000000</td>\n",
       "      <td>1106</td>\n",
       "      <td>613.0</td>\n",
       "      <td>263.0</td>\n",
       "      <td>0.0</td>\n",
       "      <td>0.0</td>\n",
       "      <td>0.0</td>\n",
       "      <td>0.0</td>\n",
       "      <td>0.0</td>\n",
       "    </tr>\n",
       "    <tr>\n",
       "      <th>1</th>\n",
       "      <td>TCCTAGCT</td>\n",
       "      <td>100000</td>\n",
       "      <td>103</td>\n",
       "      <td>56.0</td>\n",
       "      <td>27.0</td>\n",
       "      <td>0.0</td>\n",
       "      <td>0.0</td>\n",
       "      <td>0.0</td>\n",
       "      <td>0.0</td>\n",
       "      <td>0.0</td>\n",
       "    </tr>\n",
       "    <tr>\n",
       "      <th>2</th>\n",
       "      <td>TCCTAGCT</td>\n",
       "      <td>10000</td>\n",
       "      <td>11</td>\n",
       "      <td>9.0</td>\n",
       "      <td>5.0</td>\n",
       "      <td>0.0</td>\n",
       "      <td>0.0</td>\n",
       "      <td>0.0</td>\n",
       "      <td>0.0</td>\n",
       "      <td>0.0</td>\n",
       "    </tr>\n",
       "    <tr>\n",
       "      <th>3</th>\n",
       "      <td>TCCTAGCT</td>\n",
       "      <td>1000</td>\n",
       "      <td>1</td>\n",
       "      <td>1.0</td>\n",
       "      <td>1.0</td>\n",
       "      <td>0.0</td>\n",
       "      <td>0.0</td>\n",
       "      <td>0.0</td>\n",
       "      <td>0.0</td>\n",
       "      <td>0.0</td>\n",
       "    </tr>\n",
       "    <tr>\n",
       "      <th>4</th>\n",
       "      <td>TCCTAGCT</td>\n",
       "      <td>500000</td>\n",
       "      <td>549</td>\n",
       "      <td>472.0</td>\n",
       "      <td>214.0</td>\n",
       "      <td>0.0</td>\n",
       "      <td>0.0</td>\n",
       "      <td>0.0</td>\n",
       "      <td>0.0</td>\n",
       "      <td>0.0</td>\n",
       "    </tr>\n",
       "    <tr>\n",
       "      <th>5</th>\n",
       "      <td>TCCTAGCT</td>\n",
       "      <td>50000</td>\n",
       "      <td>60</td>\n",
       "      <td>54.0</td>\n",
       "      <td>27.0</td>\n",
       "      <td>0.0</td>\n",
       "      <td>0.0</td>\n",
       "      <td>0.0</td>\n",
       "      <td>0.0</td>\n",
       "      <td>0.0</td>\n",
       "    </tr>\n",
       "    <tr>\n",
       "      <th>6</th>\n",
       "      <td>TCCTAGCT</td>\n",
       "      <td>5000</td>\n",
       "      <td>6</td>\n",
       "      <td>4.0</td>\n",
       "      <td>2.0</td>\n",
       "      <td>0.0</td>\n",
       "      <td>0.0</td>\n",
       "      <td>0.0</td>\n",
       "      <td>0.0</td>\n",
       "      <td>0.0</td>\n",
       "    </tr>\n",
       "    <tr>\n",
       "      <th>7</th>\n",
       "      <td>TCCTAGCT</td>\n",
       "      <td>500</td>\n",
       "      <td>0</td>\n",
       "      <td>0.0</td>\n",
       "      <td>0.0</td>\n",
       "      <td>0.0</td>\n",
       "      <td>0.0</td>\n",
       "      <td>0.0</td>\n",
       "      <td>0.0</td>\n",
       "      <td>0.0</td>\n",
       "    </tr>\n",
       "  </tbody>\n",
       "</table>\n",
       "</div>"
      ],
      "text/plain": [
       "    barcode  sequences  count-alignments  matefixed  count-assembled  \\\n",
       "0  TCCTAGCT    1000000              1106      613.0            263.0   \n",
       "1  TCCTAGCT     100000               103       56.0             27.0   \n",
       "2  TCCTAGCT      10000                11        9.0              5.0   \n",
       "3  TCCTAGCT       1000                 1        1.0              1.0   \n",
       "4  TCCTAGCT     500000               549      472.0            214.0   \n",
       "5  TCCTAGCT      50000                60       54.0             27.0   \n",
       "6  TCCTAGCT       5000                 6        4.0              2.0   \n",
       "7  TCCTAGCT        500                 0        0.0              0.0   \n",
       "\n",
       "   count-cdr3-reads-IGH  count-cdr3-reads-IGK  count-cdr3-reads-IGL  \\\n",
       "0                   0.0                   0.0                   0.0   \n",
       "1                   0.0                   0.0                   0.0   \n",
       "2                   0.0                   0.0                   0.0   \n",
       "3                   0.0                   0.0                   0.0   \n",
       "4                   0.0                   0.0                   0.0   \n",
       "5                   0.0                   0.0                   0.0   \n",
       "6                   0.0                   0.0                   0.0   \n",
       "7                   0.0                   0.0                   0.0   \n",
       "\n",
       "   count-cdr3-reads-TRB  count-cdr3-reads-TRA  \n",
       "0                   0.0                   0.0  \n",
       "1                   0.0                   0.0  \n",
       "2                   0.0                   0.0  \n",
       "3                   0.0                   0.0  \n",
       "4                   0.0                   0.0  \n",
       "5                   0.0                   0.0  \n",
       "6                   0.0                   0.0  \n",
       "7                   0.0                   0.0  "
      ]
     },
     "execution_count": 6,
     "metadata": {},
     "output_type": "execute_result"
    }
   ],
   "source": [
    "# Merge tables\n",
    "df = pd.merge(df_alignments, df_assembled, how='left', on=['barcode', 'sequences'])\n",
    "df = pd.merge(df, df_igh, how='left', on=['barcode', 'sequences'])\n",
    "df = pd.merge(df, df_igk, how='left', on=['barcode', 'sequences'])\n",
    "df = pd.merge(df, df_igl, how='left', on=['barcode', 'sequences'])\n",
    "df = pd.merge(df, df_trb, how='left', on=['barcode', 'sequences'])\n",
    "df = pd.merge(df, df_tra, how='left', on=['barcode', 'sequences'])\n",
    "df = df.fillna(0)\n",
    "df"
   ]
  },
  {
   "cell_type": "markdown",
   "id": "eb6e42f5",
   "metadata": {},
   "source": [
    "## Create saturation plots"
   ]
  },
  {
   "cell_type": "code",
   "execution_count": 7,
   "id": "ea6ec966",
   "metadata": {},
   "outputs": [
    {
     "data": {
      "image/png": "[encoded data removed]",
      "text/plain": [
       "<Figure size 640x480 with 1 Axes>"
      ]
     },
     "metadata": {},
     "output_type": "display_data"
    }
   ],
   "source": [
    "plt.scatter(df['sequences'], df['count-alignments'])\n",
    "plt.show()"
   ]
  },
  {
   "cell_type": "code",
   "execution_count": 8,
   "id": "042a68a9",
   "metadata": {},
   "outputs": [
    {
     "data": {
      "image/png": "[encoded data removed]",
      "text/plain": [
       "<Figure size 640x480 with 1 Axes>"
      ]
     },
     "metadata": {},
     "output_type": "display_data"
    }
   ],
   "source": [
    "plt.scatter(df['sequences'], df['count-assembled'])\n",
    "plt.show()"
   ]
  },
  {
   "cell_type": "code",
   "execution_count": 9,
   "id": "9dedc74b",
   "metadata": {},
   "outputs": [
    {
     "data": {
      "image/png": "[encoded data removed]",
      "text/plain": [
       "<Figure size 640x480 with 1 Axes>"
      ]
     },
     "metadata": {},
     "output_type": "display_data"
    }
   ],
   "source": [
    "plt.scatter(df['sequences'], df['count-cdr3-reads-IGH'])\n",
    "plt.show()"
   ]
  },
  {
   "cell_type": "code",
   "execution_count": 10,
   "id": "5694ce63",
   "metadata": {},
   "outputs": [
    {
     "data": {
      "image/png": "[encoded data removed]",
      "text/plain": [
       "<Figure size 640x480 with 1 Axes>"
      ]
     },
     "metadata": {},
     "output_type": "display_data"
    }
   ],
   "source": [
    "plt.scatter(df['sequences'], df['count-cdr3-reads-IGK'])\n",
    "plt.show()"
   ]
  },
  {
   "cell_type": "code",
   "execution_count": 11,
   "id": "32d22af5",
   "metadata": {},
   "outputs": [
    {
     "data": {
      "image/png": "[encoded data removed]",
      "text/plain": [
       "<Figure size 640x480 with 1 Axes>"
      ]
     },
     "metadata": {},
     "output_type": "display_data"
    }
   ],
   "source": [
    "plt.scatter(df['sequences'], df['count-cdr3-reads-IGL'])\n",
    "plt.show()"
   ]
  },
  {
   "cell_type": "code",
   "execution_count": 12,
   "id": "017ffe5c",
   "metadata": {},
   "outputs": [
    {
     "data": {
      "image/png": "[encoded data removed]",
      "text/plain": [
       "<Figure size 640x480 with 1 Axes>"
      ]
     },
     "metadata": {},
     "output_type": "display_data"
    }
   ],
   "source": [
    "plt.scatter(df['sequences'], df['count-cdr3-reads-TRB'])\n",
    "plt.show()"
   ]
  },
  {
   "cell_type": "code",
   "execution_count": 13,
   "id": "687f0d12",
   "metadata": {},
   "outputs": [
    {
     "data": {
      "image/png": "[encoded data removed]",
      "text/plain": [
       "<Figure size 640x480 with 1 Axes>"
      ]
     },
     "metadata": {},
     "output_type": "display_data"
    }
   ],
   "source": [
    "plt.scatter(df['sequences'], df['count-cdr3-reads-TRA'])\n",
    "plt.show()"
   ]
  },
  {
   "cell_type": "code",
   "execution_count": null,
   "id": "f4bf6cc3",
   "metadata": {},
   "outputs": [],
   "source": []
  }
 ],
 "metadata": {
  "kernelspec": {
   "display_name": "reseda",
   "language": "python",
   "name": "reseda"
  },
  "language_info": {
   "codemirror_mode": {
    "name": "ipython",
    "version": 3
   },
   "file_extension": ".py",
   "mimetype": "text/x-python",
   "name": "python",
   "nbconvert_exporter": "python",
   "pygments_lexer": "ipython3",
   "version": "3.7.0"
  }
 },
 "nbformat": 4,
 "nbformat_minor": 5
}
