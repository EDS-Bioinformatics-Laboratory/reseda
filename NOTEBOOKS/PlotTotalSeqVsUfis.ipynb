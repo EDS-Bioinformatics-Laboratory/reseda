{
 "cells": [
  {
   "cell_type": "code",
   "execution_count": 1,
   "id": "bec06724",
   "metadata": {},
   "outputs": [],
   "source": [
    "import pandas as pd\n",
    "import os\n",
    "import matplotlib.pyplot as plt"
   ]
  },
  {
   "cell_type": "code",
   "execution_count": 2,
   "id": "6ae3a72d",
   "metadata": {},
   "outputs": [
    {
     "data": {
      "text/plain": [
       "['count-igl.txt',\n",
       " 'count-IGH-VJC.txt',\n",
       " 'count-sequences.txt',\n",
       " 'count-alignments.txt',\n",
       " 'count-tra.txt',\n",
       " 'count-IGL-VJC.txt',\n",
       " 'count-TRB-VJC.txt',\n",
       " 'count-ufis.txt',\n",
       " 'count-IGK-VJC.txt',\n",
       " 'count-trb.txt',\n",
       " 'count-igk.txt',\n",
       " 'count-TRA-VJC.txt',\n",
       " 'count-igh.txt',\n",
       " 'count-assembly.txt']"
      ]
     },
     "execution_count": 2,
     "metadata": {},
     "output_type": "execute_result"
    }
   ],
   "source": [
    "mydir = \"counts-VJC-R2/\"\n",
    "os.listdir(mydir)"
   ]
  },
  {
   "cell_type": "code",
   "execution_count": 3,
   "id": "c3e8aa9f",
   "metadata": {},
   "outputs": [
    {
     "data": {
      "text/html": [
       "<div>\n",
       "<style scoped>\n",
       "    .dataframe tbody tr th:only-of-type {\n",
       "        vertical-align: middle;\n",
       "    }\n",
       "\n",
       "    .dataframe tbody tr th {\n",
       "        vertical-align: top;\n",
       "    }\n",
       "\n",
       "    .dataframe thead th {\n",
       "        text-align: right;\n",
       "    }\n",
       "</style>\n",
       "<table border=\"1\" class=\"dataframe\">\n",
       "  <thead>\n",
       "    <tr style=\"text-align: right;\">\n",
       "      <th></th>\n",
       "      <th>barcode</th>\n",
       "      <th>totalseq</th>\n",
       "    </tr>\n",
       "  </thead>\n",
       "  <tbody>\n",
       "    <tr>\n",
       "      <th>0</th>\n",
       "      <td>AACTCTGG</td>\n",
       "      <td>678540</td>\n",
       "    </tr>\n",
       "    <tr>\n",
       "      <th>1</th>\n",
       "      <td>AAGACAGC</td>\n",
       "      <td>1051166</td>\n",
       "    </tr>\n",
       "    <tr>\n",
       "      <th>2</th>\n",
       "      <td>AAGCACAT</td>\n",
       "      <td>12065</td>\n",
       "    </tr>\n",
       "    <tr>\n",
       "      <th>3</th>\n",
       "      <td>AAGCGAGT</td>\n",
       "      <td>2876236</td>\n",
       "    </tr>\n",
       "    <tr>\n",
       "      <th>4</th>\n",
       "      <td>AAGCTGCA</td>\n",
       "      <td>1681712</td>\n",
       "    </tr>\n",
       "  </tbody>\n",
       "</table>\n",
       "</div>"
      ],
      "text/plain": [
       "    barcode  totalseq\n",
       "0  AACTCTGG    678540\n",
       "1  AAGACAGC   1051166\n",
       "2  AAGCACAT     12065\n",
       "3  AAGCGAGT   2876236\n",
       "4  AAGCTGCA   1681712"
      ]
     },
     "execution_count": 3,
     "metadata": {},
     "output_type": "execute_result"
    }
   ],
   "source": [
    "df_totalseq = pd.read_csv(mydir + 'count-sequences.txt', sep=\" \", header=None)\n",
    "df_totalseq.columns = ['barcode', 'totalseq']\n",
    "df_totalseq.head()"
   ]
  },
  {
   "cell_type": "code",
   "execution_count": 4,
   "id": "f1a5265a",
   "metadata": {},
   "outputs": [
    {
     "data": {
      "text/html": [
       "<div>\n",
       "<style scoped>\n",
       "    .dataframe tbody tr th:only-of-type {\n",
       "        vertical-align: middle;\n",
       "    }\n",
       "\n",
       "    .dataframe tbody tr th {\n",
       "        vertical-align: top;\n",
       "    }\n",
       "\n",
       "    .dataframe thead th {\n",
       "        text-align: right;\n",
       "    }\n",
       "</style>\n",
       "<table border=\"1\" class=\"dataframe\">\n",
       "  <thead>\n",
       "    <tr style=\"text-align: right;\">\n",
       "      <th></th>\n",
       "      <th>barcode</th>\n",
       "      <th>ufis</th>\n",
       "    </tr>\n",
       "  </thead>\n",
       "  <tbody>\n",
       "    <tr>\n",
       "      <th>0</th>\n",
       "      <td>AAACAGGC</td>\n",
       "      <td>174</td>\n",
       "    </tr>\n",
       "    <tr>\n",
       "      <th>1</th>\n",
       "      <td>AAAGCGGA</td>\n",
       "      <td>530</td>\n",
       "    </tr>\n",
       "    <tr>\n",
       "      <th>2</th>\n",
       "      <td>AAAGGCTG</td>\n",
       "      <td>392</td>\n",
       "    </tr>\n",
       "    <tr>\n",
       "      <th>3</th>\n",
       "      <td>AACACGCA</td>\n",
       "      <td>26</td>\n",
       "    </tr>\n",
       "    <tr>\n",
       "      <th>4</th>\n",
       "      <td>AACATGGG</td>\n",
       "      <td>352</td>\n",
       "    </tr>\n",
       "  </tbody>\n",
       "</table>\n",
       "</div>"
      ],
      "text/plain": [
       "    barcode  ufis\n",
       "0  AAACAGGC   174\n",
       "1  AAAGCGGA   530\n",
       "2  AAAGGCTG   392\n",
       "3  AACACGCA    26\n",
       "4  AACATGGG   352"
      ]
     },
     "execution_count": 4,
     "metadata": {},
     "output_type": "execute_result"
    }
   ],
   "source": [
    "df_ufis = pd.read_csv(mydir + 'count-ufis.txt', sep=\" \", header=None)\n",
    "df_ufis.columns = ['barcode', 'ufis']\n",
    "df_ufis.head()"
   ]
  },
  {
   "cell_type": "markdown",
   "id": "3118b26b",
   "metadata": {},
   "source": [
    "# link tables and make scatterplot"
   ]
  },
  {
   "cell_type": "code",
   "execution_count": 5,
   "id": "e576d229",
   "metadata": {},
   "outputs": [
    {
     "data": {
      "text/html": [
       "<div>\n",
       "<style scoped>\n",
       "    .dataframe tbody tr th:only-of-type {\n",
       "        vertical-align: middle;\n",
       "    }\n",
       "\n",
       "    .dataframe tbody tr th {\n",
       "        vertical-align: top;\n",
       "    }\n",
       "\n",
       "    .dataframe thead th {\n",
       "        text-align: right;\n",
       "    }\n",
       "</style>\n",
       "<table border=\"1\" class=\"dataframe\">\n",
       "  <thead>\n",
       "    <tr style=\"text-align: right;\">\n",
       "      <th></th>\n",
       "      <th>barcode</th>\n",
       "      <th>totalseq</th>\n",
       "      <th>ufis</th>\n",
       "    </tr>\n",
       "  </thead>\n",
       "  <tbody>\n",
       "    <tr>\n",
       "      <th>0</th>\n",
       "      <td>AACTCTGG</td>\n",
       "      <td>678540</td>\n",
       "      <td>308</td>\n",
       "    </tr>\n",
       "    <tr>\n",
       "      <th>1</th>\n",
       "      <td>AAGACAGC</td>\n",
       "      <td>1051166</td>\n",
       "      <td>570</td>\n",
       "    </tr>\n",
       "    <tr>\n",
       "      <th>2</th>\n",
       "      <td>AAGCACAT</td>\n",
       "      <td>12065</td>\n",
       "      <td>12</td>\n",
       "    </tr>\n",
       "    <tr>\n",
       "      <th>3</th>\n",
       "      <td>AAGCGAGT</td>\n",
       "      <td>2876236</td>\n",
       "      <td>3934</td>\n",
       "    </tr>\n",
       "    <tr>\n",
       "      <th>4</th>\n",
       "      <td>AAGCTGCA</td>\n",
       "      <td>1681712</td>\n",
       "      <td>763</td>\n",
       "    </tr>\n",
       "  </tbody>\n",
       "</table>\n",
       "</div>"
      ],
      "text/plain": [
       "    barcode  totalseq  ufis\n",
       "0  AACTCTGG    678540   308\n",
       "1  AAGACAGC   1051166   570\n",
       "2  AAGCACAT     12065    12\n",
       "3  AAGCGAGT   2876236  3934\n",
       "4  AAGCTGCA   1681712   763"
      ]
     },
     "execution_count": 5,
     "metadata": {},
     "output_type": "execute_result"
    }
   ],
   "source": [
    "df = pd.merge(df_totalseq, df_ufis, how='left', on='barcode')\n",
    "df = df.fillna(0)\n",
    "df.head()"
   ]
  },
  {
   "cell_type": "code",
   "execution_count": 6,
   "id": "418027a2",
   "metadata": {},
   "outputs": [
    {
     "data": {
      "image/png": "[encoded data removed]",
      "text/plain": [
       "<Figure size 640x480 with 1 Axes>"
      ]
     },
     "metadata": {},
     "output_type": "display_data"
    }
   ],
   "source": [
    "plt.scatter(df['totalseq'], df['ufis'])\n",
    "plt.title(\"Sequences per cell vs UFIs (after alignment)\")\n",
    "plt.xlabel(\"Nr of sequences\")\n",
    "plt.ylabel(\"UFIs after alignment (all chains combined)\")\n",
    "plt.show()"
   ]
  },
  {
   "cell_type": "markdown",
   "id": "7a5821a2",
   "metadata": {},
   "source": [
    "# Plot the same information per chain"
   ]
  },
  {
   "cell_type": "code",
   "execution_count": 7,
   "id": "6cfa8452",
   "metadata": {},
   "outputs": [
    {
     "data": {
      "text/plain": [
       "['CCGCATTT_S1.assembled.fastq.gz-IGL_HUMAN-CDR3.csv',\n",
       " 'CACACTGA_S1.assembled.fastq.gz-IGL_HUMAN-CDR3.csv',\n",
       " 'TCGCCATT_S1.assembled.fastq.gz-IGH_HUMAN-CDR3.csv',\n",
       " 'CCATTTCC_S1.assembled.fastq.gz-TRB_HUMAN-CDR3.csv',\n",
       " 'TCTAGAGG_S1.assembled.fastq.gz-TRA_HUMAN-CDR3.csv',\n",
       " 'TACCACGA_S1.assembled.fastq.gz-IGL_HUMAN-CDR3.csv',\n",
       " 'TTACGGGT_S1.assembled.fastq.gz-IGL_HUMAN-CDR3.csv',\n",
       " 'CAGTGTCA_S1.assembled.fastq.gz-TRB_HUMAN-CDR3.csv',\n",
       " 'CGTGATTC_S1.assembled.fastq.gz-IGK_HUMAN-CDR3.csv',\n",
       " 'TCAGCACT_S1.assembled.fastq.gz-IGH_HUMAN-CDR3.csv']"
      ]
     },
     "execution_count": 7,
     "metadata": {},
     "output_type": "execute_result"
    }
   ],
   "source": [
    "cdr3dir = \"cdr3-VJC/\"\n",
    "myfiles = os.listdir(cdr3dir)\n",
    "myfiles[:10]"
   ]
  },
  {
   "cell_type": "code",
   "execution_count": 8,
   "id": "b19dec54",
   "metadata": {},
   "outputs": [],
   "source": [
    "def readCdr3(f):\n",
    "    c = f.split(\"_\")\n",
    "    barcode = c[0]\n",
    "    chain = c[1].split(\"-\")[-1]\n",
    "    df = pd.read_csv(cdr3dir + f, header=None, sep=\"\\t\")\n",
    "    df = df.rename(columns={0: 'acc', 4: 'cdr3'})\n",
    "    df['barcode'] = barcode\n",
    "    df['chain'] = chain\n",
    "    cols = ['barcode', 'chain', 'acc', 'cdr3']\n",
    "    df = df[cols]\n",
    "    return(df)"
   ]
  },
  {
   "cell_type": "code",
   "execution_count": 9,
   "id": "b80924b8",
   "metadata": {},
   "outputs": [],
   "source": [
    "if os.path.getsize(cdr3dir + myfiles[0]) > 0:\n",
    "    df_cdr3 = readCdr3(myfiles[0])\n",
    "for f in myfiles[1:]:\n",
    "    if os.path.getsize(cdr3dir + f) > 0:\n",
    "        df_cdr3 = pd.concat([df_cdr3, readCdr3(f)])"
   ]
  },
  {
   "cell_type": "code",
   "execution_count": 10,
   "id": "8ed611dd",
   "metadata": {},
   "outputs": [
    {
     "data": {
      "text/html": [
       "<div>\n",
       "<style scoped>\n",
       "    .dataframe tbody tr th:only-of-type {\n",
       "        vertical-align: middle;\n",
       "    }\n",
       "\n",
       "    .dataframe tbody tr th {\n",
       "        vertical-align: top;\n",
       "    }\n",
       "\n",
       "    .dataframe thead th {\n",
       "        text-align: right;\n",
       "    }\n",
       "</style>\n",
       "<table border=\"1\" class=\"dataframe\">\n",
       "  <thead>\n",
       "    <tr style=\"text-align: right;\">\n",
       "      <th></th>\n",
       "      <th>barcode</th>\n",
       "      <th>chain</th>\n",
       "      <th>acc</th>\n",
       "      <th>cdr3</th>\n",
       "    </tr>\n",
       "  </thead>\n",
       "  <tbody>\n",
       "    <tr>\n",
       "      <th>0</th>\n",
       "      <td>CCGCATTT</td>\n",
       "      <td>IGL</td>\n",
       "      <td>ST-E00127:1241:HHKC7CCX2:5:1201:10196:3823</td>\n",
       "      <td>CQVWDSS</td>\n",
       "    </tr>\n",
       "    <tr>\n",
       "      <th>0</th>\n",
       "      <td>TACCACGA</td>\n",
       "      <td>IGL</td>\n",
       "      <td>ST-E00127:1241:HHKC7CCX2:5:1108:2960:15689</td>\n",
       "      <td>CQVWDSS</td>\n",
       "    </tr>\n",
       "    <tr>\n",
       "      <th>1</th>\n",
       "      <td>TACCACGA</td>\n",
       "      <td>IGL</td>\n",
       "      <td>ST-E00127:1241:HHKC7CCX2:5:1205:17716:56792</td>\n",
       "      <td>CQAWD</td>\n",
       "    </tr>\n",
       "    <tr>\n",
       "      <th>0</th>\n",
       "      <td>TCAGCACT</td>\n",
       "      <td>IGH</td>\n",
       "      <td>ST-E00127:1241:HHKC7CCX2:5:1101:20354:3594</td>\n",
       "      <td>CPRQGVCASQGLRVVPAAMDYYYCGLDVG</td>\n",
       "    </tr>\n",
       "    <tr>\n",
       "      <th>1</th>\n",
       "      <td>TCAGCACT</td>\n",
       "      <td>IGH</td>\n",
       "      <td>ST-E00127:1241:HHKC7CCX2:5:1101:14641:10292</td>\n",
       "      <td>CARQGVGARQGVGVVPAAMDYYYSGLDVW</td>\n",
       "    </tr>\n",
       "  </tbody>\n",
       "</table>\n",
       "</div>"
      ],
      "text/plain": [
       "    barcode chain                                          acc  \\\n",
       "0  CCGCATTT   IGL   ST-E00127:1241:HHKC7CCX2:5:1201:10196:3823   \n",
       "0  TACCACGA   IGL   ST-E00127:1241:HHKC7CCX2:5:1108:2960:15689   \n",
       "1  TACCACGA   IGL  ST-E00127:1241:HHKC7CCX2:5:1205:17716:56792   \n",
       "0  TCAGCACT   IGH   ST-E00127:1241:HHKC7CCX2:5:1101:20354:3594   \n",
       "1  TCAGCACT   IGH  ST-E00127:1241:HHKC7CCX2:5:1101:14641:10292   \n",
       "\n",
       "                            cdr3  \n",
       "0                        CQVWDSS  \n",
       "0                        CQVWDSS  \n",
       "1                          CQAWD  \n",
       "0  CPRQGVCASQGLRVVPAAMDYYYCGLDVG  \n",
       "1  CARQGVGARQGVGVVPAAMDYYYSGLDVW  "
      ]
     },
     "execution_count": 10,
     "metadata": {},
     "output_type": "execute_result"
    }
   ],
   "source": [
    "df_cdr3.head()"
   ]
  },
  {
   "cell_type": "code",
   "execution_count": 11,
   "id": "fd7f1a42",
   "metadata": {},
   "outputs": [
    {
     "data": {
      "text/plain": [
       "['ATACACGG_S1_L001_R1_001-mapped-ufis.csv',\n",
       " 'ACCACGAT_S1_L001_R1_001-mapped-ufis.csv',\n",
       " 'GCATTTGG_S1_L001_R1_001-mapped-ufis.csv',\n",
       " 'ACATGTGC_S1_L001_R1_001-mapped-ufis.csv',\n",
       " 'GGGATTGT_S1_L001_R1_001-mapped-ufis.csv',\n",
       " 'CGGTAATC_S1_L001_R1_001-mapped-ufis.csv',\n",
       " 'TCGCGATA_S1_L001_R1_001-mapped-ufis.csv',\n",
       " 'AAGTCTCG_S1_L001_R1_001-mapped-ufis.csv',\n",
       " 'CCTTCAAG_S1_L001_R1_001-mapped-ufis.csv',\n",
       " 'ATAGCTGC_S1_L001_R1_001-mapped-ufis.csv']"
      ]
     },
     "execution_count": 11,
     "metadata": {},
     "output_type": "execute_result"
    }
   ],
   "source": [
    "ufidir = \"ufis-VJC/\"\n",
    "myfiles = os.listdir(ufidir)\n",
    "myfiles[:10]"
   ]
  },
  {
   "cell_type": "code",
   "execution_count": 12,
   "id": "58e6ea39",
   "metadata": {},
   "outputs": [],
   "source": [
    "def readUfi(f):\n",
    "    barcode = f.split(\"_\")[0]\n",
    "    df = pd.read_csv(ufidir + f, header=None, sep=\"\\t\")\n",
    "    df = df.rename(columns={0: 'acc', 1: 'ufi'})\n",
    "    df['barcode'] = barcode\n",
    "    return(df)"
   ]
  },
  {
   "cell_type": "code",
   "execution_count": 13,
   "id": "850791df",
   "metadata": {},
   "outputs": [],
   "source": [
    "if os.path.getsize(ufidir + myfiles[0]) > 0:\n",
    "    df_ufis = readUfi(myfiles[0])\n",
    "for f in myfiles[1:]:\n",
    "    if os.path.getsize(ufidir + f) > 0:\n",
    "        df_ufis = pd.concat([df_ufis, readUfi(f)])"
   ]
  },
  {
   "cell_type": "code",
   "execution_count": 14,
   "id": "2dea2a76",
   "metadata": {},
   "outputs": [
    {
     "data": {
      "text/html": [
       "<div>\n",
       "<style scoped>\n",
       "    .dataframe tbody tr th:only-of-type {\n",
       "        vertical-align: middle;\n",
       "    }\n",
       "\n",
       "    .dataframe tbody tr th {\n",
       "        vertical-align: top;\n",
       "    }\n",
       "\n",
       "    .dataframe thead th {\n",
       "        text-align: right;\n",
       "    }\n",
       "</style>\n",
       "<table border=\"1\" class=\"dataframe\">\n",
       "  <thead>\n",
       "    <tr style=\"text-align: right;\">\n",
       "      <th></th>\n",
       "      <th>acc</th>\n",
       "      <th>ufi</th>\n",
       "      <th>barcode</th>\n",
       "    </tr>\n",
       "  </thead>\n",
       "  <tbody>\n",
       "    <tr>\n",
       "      <th>0</th>\n",
       "      <td>ST-E00127:1241:HHKC7CCX2:5:1101:31812:11804</td>\n",
       "      <td>GGTAAG</td>\n",
       "      <td>ATACACGG</td>\n",
       "    </tr>\n",
       "    <tr>\n",
       "      <th>1</th>\n",
       "      <td>ST-E00127:1241:HHKC7CCX2:5:1101:13707:20313</td>\n",
       "      <td>TTCGGG</td>\n",
       "      <td>ATACACGG</td>\n",
       "    </tr>\n",
       "    <tr>\n",
       "      <th>2</th>\n",
       "      <td>ST-E00127:1241:HHKC7CCX2:5:1101:28595:24690</td>\n",
       "      <td>TGTATA</td>\n",
       "      <td>ATACACGG</td>\n",
       "    </tr>\n",
       "    <tr>\n",
       "      <th>3</th>\n",
       "      <td>ST-E00127:1241:HHKC7CCX2:5:1101:22516:25833</td>\n",
       "      <td>TTGATC</td>\n",
       "      <td>ATACACGG</td>\n",
       "    </tr>\n",
       "    <tr>\n",
       "      <th>4</th>\n",
       "      <td>ST-E00127:1241:HHKC7CCX2:5:1101:29508:31547</td>\n",
       "      <td>TTTTGC</td>\n",
       "      <td>ATACACGG</td>\n",
       "    </tr>\n",
       "  </tbody>\n",
       "</table>\n",
       "</div>"
      ],
      "text/plain": [
       "                                           acc     ufi   barcode\n",
       "0  ST-E00127:1241:HHKC7CCX2:5:1101:31812:11804  GGTAAG  ATACACGG\n",
       "1  ST-E00127:1241:HHKC7CCX2:5:1101:13707:20313  TTCGGG  ATACACGG\n",
       "2  ST-E00127:1241:HHKC7CCX2:5:1101:28595:24690  TGTATA  ATACACGG\n",
       "3  ST-E00127:1241:HHKC7CCX2:5:1101:22516:25833  TTGATC  ATACACGG\n",
       "4  ST-E00127:1241:HHKC7CCX2:5:1101:29508:31547  TTTTGC  ATACACGG"
      ]
     },
     "execution_count": 14,
     "metadata": {},
     "output_type": "execute_result"
    }
   ],
   "source": [
    "df_ufis.head()"
   ]
  },
  {
   "cell_type": "code",
   "execution_count": 15,
   "id": "dad94263",
   "metadata": {},
   "outputs": [
    {
     "data": {
      "text/html": [
       "<div>\n",
       "<style scoped>\n",
       "    .dataframe tbody tr th:only-of-type {\n",
       "        vertical-align: middle;\n",
       "    }\n",
       "\n",
       "    .dataframe tbody tr th {\n",
       "        vertical-align: top;\n",
       "    }\n",
       "\n",
       "    .dataframe thead th {\n",
       "        text-align: right;\n",
       "    }\n",
       "</style>\n",
       "<table border=\"1\" class=\"dataframe\">\n",
       "  <thead>\n",
       "    <tr style=\"text-align: right;\">\n",
       "      <th></th>\n",
       "      <th>barcode</th>\n",
       "      <th>chain</th>\n",
       "      <th>acc</th>\n",
       "      <th>ufi</th>\n",
       "      <th>cdr3</th>\n",
       "    </tr>\n",
       "  </thead>\n",
       "  <tbody>\n",
       "    <tr>\n",
       "      <th>0</th>\n",
       "      <td>ATACACGG</td>\n",
       "      <td>0</td>\n",
       "      <td>ST-E00127:1241:HHKC7CCX2:5:1101:31812:11804</td>\n",
       "      <td>GGTAAG</td>\n",
       "      <td>0</td>\n",
       "    </tr>\n",
       "    <tr>\n",
       "      <th>1</th>\n",
       "      <td>ATACACGG</td>\n",
       "      <td>0</td>\n",
       "      <td>ST-E00127:1241:HHKC7CCX2:5:1101:13707:20313</td>\n",
       "      <td>TTCGGG</td>\n",
       "      <td>0</td>\n",
       "    </tr>\n",
       "    <tr>\n",
       "      <th>2</th>\n",
       "      <td>ATACACGG</td>\n",
       "      <td>0</td>\n",
       "      <td>ST-E00127:1241:HHKC7CCX2:5:1101:28595:24690</td>\n",
       "      <td>TGTATA</td>\n",
       "      <td>0</td>\n",
       "    </tr>\n",
       "    <tr>\n",
       "      <th>3</th>\n",
       "      <td>ATACACGG</td>\n",
       "      <td>0</td>\n",
       "      <td>ST-E00127:1241:HHKC7CCX2:5:1101:22516:25833</td>\n",
       "      <td>TTGATC</td>\n",
       "      <td>0</td>\n",
       "    </tr>\n",
       "    <tr>\n",
       "      <th>4</th>\n",
       "      <td>ATACACGG</td>\n",
       "      <td>0</td>\n",
       "      <td>ST-E00127:1241:HHKC7CCX2:5:1101:29508:31547</td>\n",
       "      <td>TTTTGC</td>\n",
       "      <td>0</td>\n",
       "    </tr>\n",
       "  </tbody>\n",
       "</table>\n",
       "</div>"
      ],
      "text/plain": [
       "    barcode chain                                          acc     ufi cdr3\n",
       "0  ATACACGG     0  ST-E00127:1241:HHKC7CCX2:5:1101:31812:11804  GGTAAG    0\n",
       "1  ATACACGG     0  ST-E00127:1241:HHKC7CCX2:5:1101:13707:20313  TTCGGG    0\n",
       "2  ATACACGG     0  ST-E00127:1241:HHKC7CCX2:5:1101:28595:24690  TGTATA    0\n",
       "3  ATACACGG     0  ST-E00127:1241:HHKC7CCX2:5:1101:22516:25833  TTGATC    0\n",
       "4  ATACACGG     0  ST-E00127:1241:HHKC7CCX2:5:1101:29508:31547  TTTTGC    0"
      ]
     },
     "execution_count": 15,
     "metadata": {},
     "output_type": "execute_result"
    }
   ],
   "source": [
    "# Link cdr3s to ufis\n",
    "df_ufi_cdr3 = pd.merge(df_ufis, df_cdr3, how='left', on='acc')\n",
    "df_ufi_cdr3 = df_ufi_cdr3.fillna(0)\n",
    "df_ufi_cdr3 = df_ufi_cdr3.rename(columns={'barcode_x': 'barcode'})\n",
    "cols = ['barcode', 'chain', 'acc', 'ufi', 'cdr3']\n",
    "df_ufi_cdr3 = df_ufi_cdr3[cols]\n",
    "df_ufi_cdr3.head()"
   ]
  },
  {
   "cell_type": "code",
   "execution_count": 16,
   "id": "5492dd06",
   "metadata": {},
   "outputs": [
    {
     "data": {
      "text/html": [
       "<div>\n",
       "<style scoped>\n",
       "    .dataframe tbody tr th:only-of-type {\n",
       "        vertical-align: middle;\n",
       "    }\n",
       "\n",
       "    .dataframe tbody tr th {\n",
       "        vertical-align: top;\n",
       "    }\n",
       "\n",
       "    .dataframe thead th {\n",
       "        text-align: right;\n",
       "    }\n",
       "</style>\n",
       "<table border=\"1\" class=\"dataframe\">\n",
       "  <thead>\n",
       "    <tr style=\"text-align: right;\">\n",
       "      <th></th>\n",
       "      <th>barcode</th>\n",
       "      <th>chain</th>\n",
       "      <th>reads_ufi</th>\n",
       "      <th>unique_ufis</th>\n",
       "      <th>unique_cdr3s</th>\n",
       "    </tr>\n",
       "  </thead>\n",
       "  <tbody>\n",
       "    <tr>\n",
       "      <th>0</th>\n",
       "      <td>AAACAGGC</td>\n",
       "      <td>0</td>\n",
       "      <td>514</td>\n",
       "      <td>172</td>\n",
       "      <td>1</td>\n",
       "    </tr>\n",
       "    <tr>\n",
       "      <th>1</th>\n",
       "      <td>AAACAGGC</td>\n",
       "      <td>IGH</td>\n",
       "      <td>6</td>\n",
       "      <td>2</td>\n",
       "      <td>1</td>\n",
       "    </tr>\n",
       "    <tr>\n",
       "      <th>2</th>\n",
       "      <td>AAACAGGC</td>\n",
       "      <td>IGL</td>\n",
       "      <td>6</td>\n",
       "      <td>2</td>\n",
       "      <td>2</td>\n",
       "    </tr>\n",
       "    <tr>\n",
       "      <th>3</th>\n",
       "      <td>AAAGCGGA</td>\n",
       "      <td>0</td>\n",
       "      <td>914</td>\n",
       "      <td>530</td>\n",
       "      <td>1</td>\n",
       "    </tr>\n",
       "    <tr>\n",
       "      <th>4</th>\n",
       "      <td>AAAGCGGA</td>\n",
       "      <td>TRA</td>\n",
       "      <td>3</td>\n",
       "      <td>2</td>\n",
       "      <td>1</td>\n",
       "    </tr>\n",
       "  </tbody>\n",
       "</table>\n",
       "</div>"
      ],
      "text/plain": [
       "    barcode chain  reads_ufi  unique_ufis  unique_cdr3s\n",
       "0  AAACAGGC     0        514          172             1\n",
       "1  AAACAGGC   IGH          6            2             1\n",
       "2  AAACAGGC   IGL          6            2             2\n",
       "3  AAAGCGGA     0        914          530             1\n",
       "4  AAAGCGGA   TRA          3            2             1"
      ]
     },
     "execution_count": 16,
     "metadata": {},
     "output_type": "execute_result"
    }
   ],
   "source": [
    "df_summary = df_ufi_cdr3.groupby(['barcode', 'chain']).agg({'acc': 'nunique', 'ufi': 'nunique', 'cdr3': 'nunique'})\n",
    "df_summary = df_summary.reset_index()\n",
    "df_summary = df_summary.rename(columns={'acc': 'reads_ufi', 'ufi': 'unique_ufis', 'cdr3': 'unique_cdr3s'})\n",
    "df_summary.head()"
   ]
  },
  {
   "cell_type": "code",
   "execution_count": 17,
   "id": "b4944617",
   "metadata": {},
   "outputs": [
    {
     "data": {
      "text/html": [
       "<div>\n",
       "<style scoped>\n",
       "    .dataframe tbody tr th:only-of-type {\n",
       "        vertical-align: middle;\n",
       "    }\n",
       "\n",
       "    .dataframe tbody tr th {\n",
       "        vertical-align: top;\n",
       "    }\n",
       "\n",
       "    .dataframe thead th {\n",
       "        text-align: right;\n",
       "    }\n",
       "</style>\n",
       "<table border=\"1\" class=\"dataframe\">\n",
       "  <thead>\n",
       "    <tr style=\"text-align: right;\">\n",
       "      <th></th>\n",
       "      <th>barcode</th>\n",
       "      <th>chain</th>\n",
       "      <th>reads_ufi</th>\n",
       "      <th>unique_ufis</th>\n",
       "      <th>unique_cdr3s</th>\n",
       "    </tr>\n",
       "  </thead>\n",
       "  <tbody>\n",
       "    <tr>\n",
       "      <th>41</th>\n",
       "      <td>AAGCGAGT</td>\n",
       "      <td>0</td>\n",
       "      <td>111878</td>\n",
       "      <td>3931</td>\n",
       "      <td>1</td>\n",
       "    </tr>\n",
       "    <tr>\n",
       "      <th>42</th>\n",
       "      <td>AAGCGAGT</td>\n",
       "      <td>IGH</td>\n",
       "      <td>1335</td>\n",
       "      <td>263</td>\n",
       "      <td>73</td>\n",
       "    </tr>\n",
       "    <tr>\n",
       "      <th>43</th>\n",
       "      <td>AAGCGAGT</td>\n",
       "      <td>IGK</td>\n",
       "      <td>7</td>\n",
       "      <td>4</td>\n",
       "      <td>4</td>\n",
       "    </tr>\n",
       "    <tr>\n",
       "      <th>44</th>\n",
       "      <td>AAGCGAGT</td>\n",
       "      <td>IGL</td>\n",
       "      <td>746</td>\n",
       "      <td>135</td>\n",
       "      <td>25</td>\n",
       "    </tr>\n",
       "    <tr>\n",
       "      <th>45</th>\n",
       "      <td>AAGCGAGT</td>\n",
       "      <td>TRA</td>\n",
       "      <td>3</td>\n",
       "      <td>3</td>\n",
       "      <td>2</td>\n",
       "    </tr>\n",
       "  </tbody>\n",
       "</table>\n",
       "</div>"
      ],
      "text/plain": [
       "     barcode chain  reads_ufi  unique_ufis  unique_cdr3s\n",
       "41  AAGCGAGT     0     111878         3931             1\n",
       "42  AAGCGAGT   IGH       1335          263            73\n",
       "43  AAGCGAGT   IGK          7            4             4\n",
       "44  AAGCGAGT   IGL        746          135            25\n",
       "45  AAGCGAGT   TRA          3            3             2"
      ]
     },
     "execution_count": 17,
     "metadata": {},
     "output_type": "execute_result"
    }
   ],
   "source": [
    "# check how many ufis there are for AAGCGAGT, should be 3934 in total\n",
    "df_summary[df_summary['barcode'] == \"AAGCGAGT\"]"
   ]
  },
  {
   "cell_type": "code",
   "execution_count": 18,
   "id": "d9bfad20",
   "metadata": {},
   "outputs": [
    {
     "data": {
      "text/html": [
       "<div>\n",
       "<style scoped>\n",
       "    .dataframe tbody tr th:only-of-type {\n",
       "        vertical-align: middle;\n",
       "    }\n",
       "\n",
       "    .dataframe tbody tr th {\n",
       "        vertical-align: top;\n",
       "    }\n",
       "\n",
       "    .dataframe thead th {\n",
       "        text-align: right;\n",
       "    }\n",
       "</style>\n",
       "<table border=\"1\" class=\"dataframe\">\n",
       "  <thead>\n",
       "    <tr style=\"text-align: right;\">\n",
       "      <th></th>\n",
       "      <th>barcode</th>\n",
       "      <th>chain</th>\n",
       "      <th>reads_ufi</th>\n",
       "      <th>unique_ufis</th>\n",
       "      <th>unique_cdr3s</th>\n",
       "    </tr>\n",
       "  </thead>\n",
       "  <tbody>\n",
       "    <tr>\n",
       "      <th>34</th>\n",
       "      <td>AAGACAGC</td>\n",
       "      <td>0</td>\n",
       "      <td>1668</td>\n",
       "      <td>568</td>\n",
       "      <td>1</td>\n",
       "    </tr>\n",
       "    <tr>\n",
       "      <th>35</th>\n",
       "      <td>AAGACAGC</td>\n",
       "      <td>IGK</td>\n",
       "      <td>2</td>\n",
       "      <td>2</td>\n",
       "      <td>1</td>\n",
       "    </tr>\n",
       "    <tr>\n",
       "      <th>36</th>\n",
       "      <td>AAGACAGC</td>\n",
       "      <td>IGL</td>\n",
       "      <td>1</td>\n",
       "      <td>1</td>\n",
       "      <td>1</td>\n",
       "    </tr>\n",
       "    <tr>\n",
       "      <th>37</th>\n",
       "      <td>AAGACAGC</td>\n",
       "      <td>TRA</td>\n",
       "      <td>2</td>\n",
       "      <td>2</td>\n",
       "      <td>1</td>\n",
       "    </tr>\n",
       "  </tbody>\n",
       "</table>\n",
       "</div>"
      ],
      "text/plain": [
       "     barcode chain  reads_ufi  unique_ufis  unique_cdr3s\n",
       "34  AAGACAGC     0       1668          568             1\n",
       "35  AAGACAGC   IGK          2            2             1\n",
       "36  AAGACAGC   IGL          1            1             1\n",
       "37  AAGACAGC   TRA          2            2             1"
      ]
     },
     "execution_count": 18,
     "metadata": {},
     "output_type": "execute_result"
    }
   ],
   "source": [
    "# check how many ufis there are for AAGACAGC, should be 570 in total\n",
    "df_summary[df_summary['barcode'] == \"AAGACAGC\"]"
   ]
  },
  {
   "cell_type": "code",
   "execution_count": 19,
   "id": "7076bf8b",
   "metadata": {},
   "outputs": [
    {
     "data": {
      "text/html": [
       "<div>\n",
       "<style scoped>\n",
       "    .dataframe tbody tr th:only-of-type {\n",
       "        vertical-align: middle;\n",
       "    }\n",
       "\n",
       "    .dataframe tbody tr th {\n",
       "        vertical-align: top;\n",
       "    }\n",
       "\n",
       "    .dataframe thead th {\n",
       "        text-align: right;\n",
       "    }\n",
       "</style>\n",
       "<table border=\"1\" class=\"dataframe\">\n",
       "  <thead>\n",
       "    <tr style=\"text-align: right;\">\n",
       "      <th></th>\n",
       "      <th>barcode</th>\n",
       "      <th>chain</th>\n",
       "      <th>reads_ufi</th>\n",
       "      <th>unique_ufis</th>\n",
       "      <th>unique_cdr3s</th>\n",
       "    </tr>\n",
       "  </thead>\n",
       "  <tbody>\n",
       "    <tr>\n",
       "      <th>32</th>\n",
       "      <td>AACTCTGG</td>\n",
       "      <td>0</td>\n",
       "      <td>436</td>\n",
       "      <td>306</td>\n",
       "      <td>1</td>\n",
       "    </tr>\n",
       "    <tr>\n",
       "      <th>33</th>\n",
       "      <td>AACTCTGG</td>\n",
       "      <td>IGL</td>\n",
       "      <td>2</td>\n",
       "      <td>2</td>\n",
       "      <td>2</td>\n",
       "    </tr>\n",
       "  </tbody>\n",
       "</table>\n",
       "</div>"
      ],
      "text/plain": [
       "     barcode chain  reads_ufi  unique_ufis  unique_cdr3s\n",
       "32  AACTCTGG     0        436          306             1\n",
       "33  AACTCTGG   IGL          2            2             2"
      ]
     },
     "execution_count": 19,
     "metadata": {},
     "output_type": "execute_result"
    }
   ],
   "source": [
    "# check how many ufis there are for AACTCTGG, should be 308 in total\n",
    "df_summary[df_summary['barcode'] == \"AACTCTGG\"]"
   ]
  },
  {
   "cell_type": "markdown",
   "id": "607e7899",
   "metadata": {},
   "source": [
    "NOTE: some reads were identified as both IG-light and TRA"
   ]
  },
  {
   "cell_type": "markdown",
   "id": "74c960a1",
   "metadata": {},
   "source": [
    "## Make the figures"
   ]
  },
  {
   "cell_type": "markdown",
   "id": "493ab7ae",
   "metadata": {},
   "source": [
    "Description of the columns:\n",
    "\n",
    "* barcode = cell barcode\n",
    "* totalseq = total number of sequences per cell\n",
    "* ufis = number of unique ufis after alignment against VJC\n",
    "* chain = IGH, IGK, IGL, TRB, TRA or 0 (0 means that no CDR3 was found)\n",
    "* reads_ufi = number of reads corresponding to the UFIs\n",
    "* unique_ufis = number of UFIs for that particular chain\n",
    "* unique_cdr3s = unique number of CDR3 sequences found for that chain (ideally this should be 1)"
   ]
  },
  {
   "cell_type": "code",
   "execution_count": 20,
   "id": "aa7bb93f",
   "metadata": {},
   "outputs": [
    {
     "data": {
      "text/html": [
       "<div>\n",
       "<style scoped>\n",
       "    .dataframe tbody tr th:only-of-type {\n",
       "        vertical-align: middle;\n",
       "    }\n",
       "\n",
       "    .dataframe tbody tr th {\n",
       "        vertical-align: top;\n",
       "    }\n",
       "\n",
       "    .dataframe thead th {\n",
       "        text-align: right;\n",
       "    }\n",
       "</style>\n",
       "<table border=\"1\" class=\"dataframe\">\n",
       "  <thead>\n",
       "    <tr style=\"text-align: right;\">\n",
       "      <th></th>\n",
       "      <th>barcode</th>\n",
       "      <th>totalseq</th>\n",
       "      <th>ufis</th>\n",
       "      <th>chain</th>\n",
       "      <th>reads_ufi</th>\n",
       "      <th>unique_ufis</th>\n",
       "      <th>unique_cdr3s</th>\n",
       "    </tr>\n",
       "  </thead>\n",
       "  <tbody>\n",
       "    <tr>\n",
       "      <th>0</th>\n",
       "      <td>AACTCTGG</td>\n",
       "      <td>678540</td>\n",
       "      <td>308</td>\n",
       "      <td>0</td>\n",
       "      <td>436</td>\n",
       "      <td>306</td>\n",
       "      <td>1</td>\n",
       "    </tr>\n",
       "    <tr>\n",
       "      <th>1</th>\n",
       "      <td>AACTCTGG</td>\n",
       "      <td>678540</td>\n",
       "      <td>308</td>\n",
       "      <td>IGL</td>\n",
       "      <td>2</td>\n",
       "      <td>2</td>\n",
       "      <td>2</td>\n",
       "    </tr>\n",
       "    <tr>\n",
       "      <th>2</th>\n",
       "      <td>AAGACAGC</td>\n",
       "      <td>1051166</td>\n",
       "      <td>570</td>\n",
       "      <td>0</td>\n",
       "      <td>1668</td>\n",
       "      <td>568</td>\n",
       "      <td>1</td>\n",
       "    </tr>\n",
       "    <tr>\n",
       "      <th>3</th>\n",
       "      <td>AAGACAGC</td>\n",
       "      <td>1051166</td>\n",
       "      <td>570</td>\n",
       "      <td>IGK</td>\n",
       "      <td>2</td>\n",
       "      <td>2</td>\n",
       "      <td>1</td>\n",
       "    </tr>\n",
       "    <tr>\n",
       "      <th>4</th>\n",
       "      <td>AAGACAGC</td>\n",
       "      <td>1051166</td>\n",
       "      <td>570</td>\n",
       "      <td>IGL</td>\n",
       "      <td>1</td>\n",
       "      <td>1</td>\n",
       "      <td>1</td>\n",
       "    </tr>\n",
       "  </tbody>\n",
       "</table>\n",
       "</div>"
      ],
      "text/plain": [
       "    barcode  totalseq  ufis chain  reads_ufi  unique_ufis  unique_cdr3s\n",
       "0  AACTCTGG    678540   308     0        436          306             1\n",
       "1  AACTCTGG    678540   308   IGL          2            2             2\n",
       "2  AAGACAGC   1051166   570     0       1668          568             1\n",
       "3  AAGACAGC   1051166   570   IGK          2            2             1\n",
       "4  AAGACAGC   1051166   570   IGL          1            1             1"
      ]
     },
     "execution_count": 20,
     "metadata": {},
     "output_type": "execute_result"
    }
   ],
   "source": [
    "df = pd.merge(df, df_summary, how='left', on='barcode')\n",
    "df.head()"
   ]
  },
  {
   "cell_type": "code",
   "execution_count": 21,
   "id": "fb8e9e97",
   "metadata": {},
   "outputs": [
    {
     "name": "stdout",
     "output_type": "stream",
     "text": [
      "Wrote TotalSeqVsUfis.xlsx to disk\n"
     ]
    }
   ],
   "source": [
    "df.to_excel(\"TotalSeqVsUfis.xlsx\")\n",
    "print(\"Wrote TotalSeqVsUfis.xlsx to disk\")"
   ]
  },
  {
   "cell_type": "code",
   "execution_count": 22,
   "id": "53a196e2",
   "metadata": {},
   "outputs": [
    {
     "data": {
      "image/png": "[encoded data removed]",
      "text/plain": [
       "<Figure size 640x480 with 1 Axes>"
      ]
     },
     "metadata": {},
     "output_type": "display_data"
    }
   ],
   "source": [
    "df_igh = df[df['chain'] == \"IGH\"]\n",
    "plt.scatter(df_igh['totalseq'], df_igh['unique_ufis'])\n",
    "plt.title(\"Sequences per cell vs UFIs (IGH)\")\n",
    "plt.xlabel(\"Nr of sequences\")\n",
    "plt.ylabel(\"UFIs after CDR3 detection\")\n",
    "plt.show()"
   ]
  },
  {
   "cell_type": "code",
   "execution_count": 23,
   "id": "b30a8f9a",
   "metadata": {},
   "outputs": [
    {
     "data": {
      "image/png": "[encoded data removed]",
      "text/plain": [
       "<Figure size 640x480 with 1 Axes>"
      ]
     },
     "metadata": {},
     "output_type": "display_data"
    }
   ],
   "source": [
    "df_igk = df[df['chain'] == \"IGK\"]\n",
    "plt.scatter(df_igk['totalseq'], df_igk['unique_ufis'])\n",
    "plt.title(\"Sequences per cell vs UFIs (IGK)\")\n",
    "plt.xlabel(\"Nr of sequences\")\n",
    "plt.ylabel(\"UFIs after CDR3 detection\")\n",
    "plt.show()"
   ]
  },
  {
   "cell_type": "code",
   "execution_count": 24,
   "id": "ec6fce2e",
   "metadata": {},
   "outputs": [
    {
     "data": {
      "image/png": "[encoded data removed]",
      "text/plain": [
       "<Figure size 640x480 with 1 Axes>"
      ]
     },
     "metadata": {},
     "output_type": "display_data"
    }
   ],
   "source": [
    "df_igl = df[df['chain'] == \"IGL\"]\n",
    "plt.scatter(df_igl['totalseq'], df_igl['unique_ufis'])\n",
    "plt.title(\"Sequences per cell vs UFIs (IGL)\")\n",
    "plt.xlabel(\"Nr of sequences\")\n",
    "plt.ylabel(\"UFIs after CDR3 detection\")\n",
    "plt.show()"
   ]
  },
  {
   "cell_type": "code",
   "execution_count": 25,
   "id": "77b2ecce",
   "metadata": {},
   "outputs": [
    {
     "data": {
      "image/png": "[encoded data removed]",
      "text/plain": [
       "<Figure size 640x480 with 1 Axes>"
      ]
     },
     "metadata": {},
     "output_type": "display_data"
    }
   ],
   "source": [
    "df_trb = df[df['chain'] == \"TRB\"]\n",
    "plt.scatter(df_trb['totalseq'], df_trb['unique_ufis'])\n",
    "plt.title(\"Sequences per cell vs UFIs (TRB)\")\n",
    "plt.xlabel(\"Nr of sequences\")\n",
    "plt.ylabel(\"UFIs after CDR3 detection\")\n",
    "plt.show()"
   ]
  },
  {
   "cell_type": "code",
   "execution_count": 26,
   "id": "7b0dace9",
   "metadata": {},
   "outputs": [
    {
     "data": {
      "image/png": "[encoded data removed]",
      "text/plain": [
       "<Figure size 640x480 with 1 Axes>"
      ]
     },
     "metadata": {},
     "output_type": "display_data"
    }
   ],
   "source": [
    "df_tra = df[df['chain'] == \"TRA\"]\n",
    "plt.scatter(df_tra['totalseq'], df_tra['unique_ufis'])\n",
    "plt.title(\"Sequences per cell vs UFIs (TRA)\")\n",
    "plt.xlabel(\"Nr of sequences\")\n",
    "plt.ylabel(\"UFIs after CDR3 detection\")\n",
    "plt.show()"
   ]
  },
  {
   "cell_type": "code",
   "execution_count": 27,
   "id": "a148f47e",
   "metadata": {},
   "outputs": [
    {
     "data": {
      "image/png": "[encoded data removed]",
      "text/plain": [
       "<Figure size 640x480 with 1 Axes>"
      ]
     },
     "metadata": {},
     "output_type": "display_data"
    }
   ],
   "source": [
    "df_rest = df[df['chain'] == 0]\n",
    "plt.scatter(df_rest['totalseq'], df_rest['unique_ufis'])\n",
    "plt.title(\"Sequences per cell vs UFIs (REST)\")\n",
    "plt.xlabel(\"Nr of sequences\")\n",
    "plt.ylabel(\"UFIs after alignment, no CDR3 detection\")\n",
    "plt.show()"
   ]
  },
  {
   "cell_type": "code",
   "execution_count": null,
   "id": "6daf3496",
   "metadata": {},
   "outputs": [],
   "source": []
  }
 ],
 "metadata": {
  "kernelspec": {
   "display_name": "reseda",
   "language": "python",
   "name": "reseda"
  },
  "language_info": {
   "codemirror_mode": {
    "name": "ipython",
    "version": 3
   },
   "file_extension": ".py",
   "mimetype": "text/x-python",
   "name": "python",
   "nbconvert_exporter": "python",
   "pygments_lexer": "ipython3",
   "version": "3.7.0"
  }
 },
 "nbformat": 4,
 "nbformat_minor": 5
}
