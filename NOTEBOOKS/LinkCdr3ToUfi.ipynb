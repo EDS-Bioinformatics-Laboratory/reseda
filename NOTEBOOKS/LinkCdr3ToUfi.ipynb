{
 "cells": [
  {
   "cell_type": "code",
   "execution_count": 1,
   "id": "5dbf0ac0",
   "metadata": {},
   "outputs": [],
   "source": [
    "import pandas as pd\n",
    "import os\n",
    "import matplotlib.pyplot as plt"
   ]
  },
  {
   "cell_type": "code",
   "execution_count": 2,
   "id": "e1b59b46",
   "metadata": {},
   "outputs": [
    {
     "data": {
      "text/plain": [
       "['TACTGGTA-1000000_S1.assembled.fastq.gz-IGH_HUMAN-CDR3.csv',\n",
       " 'TACTGGTA-500000_S1.assembled.fastq.gz-IGH_HUMAN-CDR3.csv',\n",
       " 'TACTGGTA-10000_S1.assembled.fastq.gz-IGH_HUMAN-CDR3.csv',\n",
       " 'TACTGGTA-100000_S1.assembled.fastq.gz-IGH_HUMAN-CDR3.csv',\n",
       " 'TACTGGTA-50000_S1.assembled.fastq.gz-IGH_HUMAN-CDR3.csv']"
      ]
     },
     "execution_count": 2,
     "metadata": {},
     "output_type": "execute_result"
    }
   ],
   "source": [
    "myfiles = [x for x in os.listdir() if x.endswith(\"-IGH_HUMAN-CDR3.csv\")]\n",
    "myfiles = [x for x in myfiles if x.startswith(\"T\")]\n",
    "myfiles"
   ]
  },
  {
   "cell_type": "code",
   "execution_count": 3,
   "id": "51aedd6b",
   "metadata": {},
   "outputs": [
    {
     "data": {
      "text/html": [
       "<div>\n",
       "<style scoped>\n",
       "    .dataframe tbody tr th:only-of-type {\n",
       "        vertical-align: middle;\n",
       "    }\n",
       "\n",
       "    .dataframe tbody tr th {\n",
       "        vertical-align: top;\n",
       "    }\n",
       "\n",
       "    .dataframe thead th {\n",
       "        text-align: right;\n",
       "    }\n",
       "</style>\n",
       "<table border=\"1\" class=\"dataframe\">\n",
       "  <thead>\n",
       "    <tr style=\"text-align: right;\">\n",
       "      <th></th>\n",
       "      <th>acc</th>\n",
       "      <th>ufi</th>\n",
       "    </tr>\n",
       "  </thead>\n",
       "  <tbody>\n",
       "    <tr>\n",
       "      <th>0</th>\n",
       "      <td>ST-E00127:1241:HHKC7CCX2:5:1101:2463:3296</td>\n",
       "      <td>ATTCAT</td>\n",
       "    </tr>\n",
       "    <tr>\n",
       "      <th>1</th>\n",
       "      <td>ST-E00127:1241:HHKC7CCX2:5:1101:27590:3331</td>\n",
       "      <td>TGGGGA</td>\n",
       "    </tr>\n",
       "    <tr>\n",
       "      <th>2</th>\n",
       "      <td>ST-E00127:1241:HHKC7CCX2:5:1101:12023:3366</td>\n",
       "      <td>GTTGGG</td>\n",
       "    </tr>\n",
       "    <tr>\n",
       "      <th>3</th>\n",
       "      <td>ST-E00127:1241:HHKC7CCX2:5:1101:6705:3964</td>\n",
       "      <td>TATATA</td>\n",
       "    </tr>\n",
       "    <tr>\n",
       "      <th>4</th>\n",
       "      <td>ST-E00127:1241:HHKC7CCX2:5:1101:24637:4016</td>\n",
       "      <td>TAATCT</td>\n",
       "    </tr>\n",
       "  </tbody>\n",
       "</table>\n",
       "</div>"
      ],
      "text/plain": [
       "                                          acc     ufi\n",
       "0   ST-E00127:1241:HHKC7CCX2:5:1101:2463:3296  ATTCAT\n",
       "1  ST-E00127:1241:HHKC7CCX2:5:1101:27590:3331  TGGGGA\n",
       "2  ST-E00127:1241:HHKC7CCX2:5:1101:12023:3366  GTTGGG\n",
       "3   ST-E00127:1241:HHKC7CCX2:5:1101:6705:3964  TATATA\n",
       "4  ST-E00127:1241:HHKC7CCX2:5:1101:24637:4016  TAATCT"
      ]
     },
     "execution_count": 3,
     "metadata": {},
     "output_type": "execute_result"
    }
   ],
   "source": [
    "df_ufis = pd.read_csv('TACTGGTA_S1_L001_R1_001-mapped-ufis.csv', header=None, sep=\"\\t\")\n",
    "df_ufis = df_ufis.rename(columns={0: 'acc', 1: 'ufi'})\n",
    "df_ufis.head()"
   ]
  },
  {
   "cell_type": "code",
   "execution_count": 4,
   "id": "e1cd6aca",
   "metadata": {},
   "outputs": [],
   "source": [
    "def readCdr3(f):\n",
    "    c = f.split(\"-\")\n",
    "    barcode = c[0]\n",
    "    sequences = int(c[1].split(\"_\")[0])\n",
    "    chain = c[2].replace(\"_HUMAN\", \"\")\n",
    "    df = pd.read_csv(f, header=None, sep=\"\\t\")\n",
    "    df = df.rename(columns={0: 'acc', 4: 'cdr3'})\n",
    "    df['barcode'] = barcode\n",
    "    df['sequences'] = sequences\n",
    "    df['chain'] = chain\n",
    "    cols = ['barcode', 'sequences', 'chain', 'acc', 'cdr3']\n",
    "    df = df[cols]\n",
    "    return(df)"
   ]
  },
  {
   "cell_type": "code",
   "execution_count": 5,
   "id": "36577bab",
   "metadata": {},
   "outputs": [],
   "source": [
    "df_cdr3 = readCdr3(myfiles[0])\n",
    "for f in myfiles[1:]:\n",
    "    df_cdr3 = pd.concat([df_cdr3, readCdr3(f)])"
   ]
  },
  {
   "cell_type": "code",
   "execution_count": 6,
   "id": "483d50cd",
   "metadata": {},
   "outputs": [
    {
     "data": {
      "text/html": [
       "<div>\n",
       "<style scoped>\n",
       "    .dataframe tbody tr th:only-of-type {\n",
       "        vertical-align: middle;\n",
       "    }\n",
       "\n",
       "    .dataframe tbody tr th {\n",
       "        vertical-align: top;\n",
       "    }\n",
       "\n",
       "    .dataframe thead th {\n",
       "        text-align: right;\n",
       "    }\n",
       "</style>\n",
       "<table border=\"1\" class=\"dataframe\">\n",
       "  <thead>\n",
       "    <tr style=\"text-align: right;\">\n",
       "      <th></th>\n",
       "      <th>barcode</th>\n",
       "      <th>sequences</th>\n",
       "      <th>chain</th>\n",
       "      <th>acc</th>\n",
       "      <th>cdr3</th>\n",
       "    </tr>\n",
       "  </thead>\n",
       "  <tbody>\n",
       "    <tr>\n",
       "      <th>0</th>\n",
       "      <td>TACTGGTA</td>\n",
       "      <td>1000000</td>\n",
       "      <td>IGH</td>\n",
       "      <td>ST-E00127:1241:HHKC7CCX2:5:1224:14164:63613</td>\n",
       "      <td>CATRGYCSGASCYKVYYYGMDVW</td>\n",
       "    </tr>\n",
       "    <tr>\n",
       "      <th>1</th>\n",
       "      <td>TACTGGTA</td>\n",
       "      <td>1000000</td>\n",
       "      <td>IGH</td>\n",
       "      <td>ST-E00127:1241:HHKC7CCX2:5:2210:3924:38526</td>\n",
       "      <td>CATRGYCSGASCYKVYYYGMDVW</td>\n",
       "    </tr>\n",
       "    <tr>\n",
       "      <th>2</th>\n",
       "      <td>TACTGGTA</td>\n",
       "      <td>1000000</td>\n",
       "      <td>IGH</td>\n",
       "      <td>ST-E00127:1241:HHKC7CCX2:5:2109:21399:39546</td>\n",
       "      <td>CATRGYCSGASCYKVYYYGMDVW</td>\n",
       "    </tr>\n",
       "    <tr>\n",
       "      <th>3</th>\n",
       "      <td>TACTGGTA</td>\n",
       "      <td>1000000</td>\n",
       "      <td>IGH</td>\n",
       "      <td>ST-E00127:1241:HHKC7CCX2:5:2205:29082:22370</td>\n",
       "      <td>CATRGYCSGARCYKVYYYGMDVW</td>\n",
       "    </tr>\n",
       "    <tr>\n",
       "      <th>4</th>\n",
       "      <td>TACTGGTA</td>\n",
       "      <td>1000000</td>\n",
       "      <td>IGH</td>\n",
       "      <td>ST-E00127:1241:HHKC7CCX2:5:2209:18812:38016</td>\n",
       "      <td>CATRGYCSGASCYKVYYYGMDVW</td>\n",
       "    </tr>\n",
       "  </tbody>\n",
       "</table>\n",
       "</div>"
      ],
      "text/plain": [
       "    barcode  sequences chain                                          acc  \\\n",
       "0  TACTGGTA    1000000   IGH  ST-E00127:1241:HHKC7CCX2:5:1224:14164:63613   \n",
       "1  TACTGGTA    1000000   IGH   ST-E00127:1241:HHKC7CCX2:5:2210:3924:38526   \n",
       "2  TACTGGTA    1000000   IGH  ST-E00127:1241:HHKC7CCX2:5:2109:21399:39546   \n",
       "3  TACTGGTA    1000000   IGH  ST-E00127:1241:HHKC7CCX2:5:2205:29082:22370   \n",
       "4  TACTGGTA    1000000   IGH  ST-E00127:1241:HHKC7CCX2:5:2209:18812:38016   \n",
       "\n",
       "                      cdr3  \n",
       "0  CATRGYCSGASCYKVYYYGMDVW  \n",
       "1  CATRGYCSGASCYKVYYYGMDVW  \n",
       "2  CATRGYCSGASCYKVYYYGMDVW  \n",
       "3  CATRGYCSGARCYKVYYYGMDVW  \n",
       "4  CATRGYCSGASCYKVYYYGMDVW  "
      ]
     },
     "execution_count": 6,
     "metadata": {},
     "output_type": "execute_result"
    }
   ],
   "source": [
    "df_cdr3.head()"
   ]
  },
  {
   "cell_type": "code",
   "execution_count": 7,
   "id": "bcf06607",
   "metadata": {},
   "outputs": [
    {
     "data": {
      "text/html": [
       "<div>\n",
       "<style scoped>\n",
       "    .dataframe tbody tr th:only-of-type {\n",
       "        vertical-align: middle;\n",
       "    }\n",
       "\n",
       "    .dataframe tbody tr th {\n",
       "        vertical-align: top;\n",
       "    }\n",
       "\n",
       "    .dataframe thead th {\n",
       "        text-align: right;\n",
       "    }\n",
       "</style>\n",
       "<table border=\"1\" class=\"dataframe\">\n",
       "  <thead>\n",
       "    <tr style=\"text-align: right;\">\n",
       "      <th></th>\n",
       "      <th>barcode</th>\n",
       "      <th>sequences</th>\n",
       "      <th>chain</th>\n",
       "      <th>acc</th>\n",
       "      <th>cdr3</th>\n",
       "    </tr>\n",
       "  </thead>\n",
       "  <tbody>\n",
       "    <tr>\n",
       "      <th>3</th>\n",
       "      <td>TACTGGTA</td>\n",
       "      <td>100000</td>\n",
       "      <td>IGH</td>\n",
       "      <td>ST-E00127:1241:HHKC7CCX2:5:1211:18578:6390</td>\n",
       "      <td>CATRGYCSGASCYKVYYYGMDVW</td>\n",
       "    </tr>\n",
       "    <tr>\n",
       "      <th>4</th>\n",
       "      <td>TACTGGTA</td>\n",
       "      <td>100000</td>\n",
       "      <td>IGH</td>\n",
       "      <td>ST-E00127:1241:HHKC7CCX2:5:2117:27184:41409</td>\n",
       "      <td>CATRGYCSGASCYKVYYYGMDVW</td>\n",
       "    </tr>\n",
       "    <tr>\n",
       "      <th>0</th>\n",
       "      <td>TACTGGTA</td>\n",
       "      <td>50000</td>\n",
       "      <td>IGH</td>\n",
       "      <td>ST-E00127:1241:HHKC7CCX2:5:2203:5893:19399</td>\n",
       "      <td>CASRRYCSGASCYKVYYYGMDVW</td>\n",
       "    </tr>\n",
       "    <tr>\n",
       "      <th>1</th>\n",
       "      <td>TACTGGTA</td>\n",
       "      <td>50000</td>\n",
       "      <td>IGH</td>\n",
       "      <td>ST-E00127:1241:HHKC7CCX2:5:1104:20273:41567</td>\n",
       "      <td>CATRGYCSGASCYKVYYYGMDVW</td>\n",
       "    </tr>\n",
       "    <tr>\n",
       "      <th>2</th>\n",
       "      <td>TACTGGTA</td>\n",
       "      <td>50000</td>\n",
       "      <td>IGH</td>\n",
       "      <td>ST-E00127:1241:HHKC7CCX2:5:1216:24951:8851</td>\n",
       "      <td>CATRGYCSGASCYKVYYYGMDVW</td>\n",
       "    </tr>\n",
       "  </tbody>\n",
       "</table>\n",
       "</div>"
      ],
      "text/plain": [
       "    barcode  sequences chain                                          acc  \\\n",
       "3  TACTGGTA     100000   IGH   ST-E00127:1241:HHKC7CCX2:5:1211:18578:6390   \n",
       "4  TACTGGTA     100000   IGH  ST-E00127:1241:HHKC7CCX2:5:2117:27184:41409   \n",
       "0  TACTGGTA      50000   IGH   ST-E00127:1241:HHKC7CCX2:5:2203:5893:19399   \n",
       "1  TACTGGTA      50000   IGH  ST-E00127:1241:HHKC7CCX2:5:1104:20273:41567   \n",
       "2  TACTGGTA      50000   IGH   ST-E00127:1241:HHKC7CCX2:5:1216:24951:8851   \n",
       "\n",
       "                      cdr3  \n",
       "3  CATRGYCSGASCYKVYYYGMDVW  \n",
       "4  CATRGYCSGASCYKVYYYGMDVW  \n",
       "0  CASRRYCSGASCYKVYYYGMDVW  \n",
       "1  CATRGYCSGASCYKVYYYGMDVW  \n",
       "2  CATRGYCSGASCYKVYYYGMDVW  "
      ]
     },
     "execution_count": 7,
     "metadata": {},
     "output_type": "execute_result"
    }
   ],
   "source": [
    "df_cdr3.tail()"
   ]
  },
  {
   "cell_type": "markdown",
   "id": "5e7f7eca",
   "metadata": {},
   "source": [
    "## Link ufis to cdr3s"
   ]
  },
  {
   "cell_type": "code",
   "execution_count": 8,
   "id": "e7ca7ed8",
   "metadata": {},
   "outputs": [
    {
     "data": {
      "text/html": [
       "<div>\n",
       "<style scoped>\n",
       "    .dataframe tbody tr th:only-of-type {\n",
       "        vertical-align: middle;\n",
       "    }\n",
       "\n",
       "    .dataframe tbody tr th {\n",
       "        vertical-align: top;\n",
       "    }\n",
       "\n",
       "    .dataframe thead th {\n",
       "        text-align: right;\n",
       "    }\n",
       "</style>\n",
       "<table border=\"1\" class=\"dataframe\">\n",
       "  <thead>\n",
       "    <tr style=\"text-align: right;\">\n",
       "      <th></th>\n",
       "      <th>barcode</th>\n",
       "      <th>sequences</th>\n",
       "      <th>chain</th>\n",
       "      <th>acc</th>\n",
       "      <th>cdr3</th>\n",
       "      <th>ufi</th>\n",
       "    </tr>\n",
       "  </thead>\n",
       "  <tbody>\n",
       "    <tr>\n",
       "      <th>0</th>\n",
       "      <td>TACTGGTA</td>\n",
       "      <td>1000000</td>\n",
       "      <td>IGH</td>\n",
       "      <td>ST-E00127:1241:HHKC7CCX2:5:1224:14164:63613</td>\n",
       "      <td>CATRGYCSGASCYKVYYYGMDVW</td>\n",
       "      <td>GTGTAG</td>\n",
       "    </tr>\n",
       "    <tr>\n",
       "      <th>1</th>\n",
       "      <td>TACTGGTA</td>\n",
       "      <td>1000000</td>\n",
       "      <td>IGH</td>\n",
       "      <td>ST-E00127:1241:HHKC7CCX2:5:2210:3924:38526</td>\n",
       "      <td>CATRGYCSGASCYKVYYYGMDVW</td>\n",
       "      <td>ATAACT</td>\n",
       "    </tr>\n",
       "    <tr>\n",
       "      <th>2</th>\n",
       "      <td>TACTGGTA</td>\n",
       "      <td>1000000</td>\n",
       "      <td>IGH</td>\n",
       "      <td>ST-E00127:1241:HHKC7CCX2:5:2109:21399:39546</td>\n",
       "      <td>CATRGYCSGASCYKVYYYGMDVW</td>\n",
       "      <td>GTATTG</td>\n",
       "    </tr>\n",
       "    <tr>\n",
       "      <th>3</th>\n",
       "      <td>TACTGGTA</td>\n",
       "      <td>1000000</td>\n",
       "      <td>IGH</td>\n",
       "      <td>ST-E00127:1241:HHKC7CCX2:5:2205:29082:22370</td>\n",
       "      <td>CATRGYCSGARCYKVYYYGMDVW</td>\n",
       "      <td>GTATTG</td>\n",
       "    </tr>\n",
       "    <tr>\n",
       "      <th>4</th>\n",
       "      <td>TACTGGTA</td>\n",
       "      <td>1000000</td>\n",
       "      <td>IGH</td>\n",
       "      <td>ST-E00127:1241:HHKC7CCX2:5:2209:18812:38016</td>\n",
       "      <td>CATRGYCSGASCYKVYYYGMDVW</td>\n",
       "      <td>ACTTTT</td>\n",
       "    </tr>\n",
       "  </tbody>\n",
       "</table>\n",
       "</div>"
      ],
      "text/plain": [
       "    barcode  sequences chain                                          acc  \\\n",
       "0  TACTGGTA    1000000   IGH  ST-E00127:1241:HHKC7CCX2:5:1224:14164:63613   \n",
       "1  TACTGGTA    1000000   IGH   ST-E00127:1241:HHKC7CCX2:5:2210:3924:38526   \n",
       "2  TACTGGTA    1000000   IGH  ST-E00127:1241:HHKC7CCX2:5:2109:21399:39546   \n",
       "3  TACTGGTA    1000000   IGH  ST-E00127:1241:HHKC7CCX2:5:2205:29082:22370   \n",
       "4  TACTGGTA    1000000   IGH  ST-E00127:1241:HHKC7CCX2:5:2209:18812:38016   \n",
       "\n",
       "                      cdr3     ufi  \n",
       "0  CATRGYCSGASCYKVYYYGMDVW  GTGTAG  \n",
       "1  CATRGYCSGASCYKVYYYGMDVW  ATAACT  \n",
       "2  CATRGYCSGASCYKVYYYGMDVW  GTATTG  \n",
       "3  CATRGYCSGARCYKVYYYGMDVW  GTATTG  \n",
       "4  CATRGYCSGASCYKVYYYGMDVW  ACTTTT  "
      ]
     },
     "execution_count": 8,
     "metadata": {},
     "output_type": "execute_result"
    }
   ],
   "source": [
    "df = pd.merge(df_cdr3, df_ufis, how='left', on='acc')\n",
    "df.head()"
   ]
  },
  {
   "cell_type": "markdown",
   "id": "36934caa",
   "metadata": {},
   "source": [
    "## Count ufis"
   ]
  },
  {
   "cell_type": "code",
   "execution_count": 9,
   "id": "9830ca5b",
   "metadata": {},
   "outputs": [
    {
     "data": {
      "text/html": [
       "<div>\n",
       "<style scoped>\n",
       "    .dataframe tbody tr th:only-of-type {\n",
       "        vertical-align: middle;\n",
       "    }\n",
       "\n",
       "    .dataframe tbody tr th {\n",
       "        vertical-align: top;\n",
       "    }\n",
       "\n",
       "    .dataframe thead th {\n",
       "        text-align: right;\n",
       "    }\n",
       "</style>\n",
       "<table border=\"1\" class=\"dataframe\">\n",
       "  <thead>\n",
       "    <tr style=\"text-align: right;\">\n",
       "      <th></th>\n",
       "      <th>barcode</th>\n",
       "      <th>sequences</th>\n",
       "      <th>chain</th>\n",
       "      <th>cdr3</th>\n",
       "      <th>ufi</th>\n",
       "    </tr>\n",
       "  </thead>\n",
       "  <tbody>\n",
       "    <tr>\n",
       "      <th>0</th>\n",
       "      <td>TACTGGTA</td>\n",
       "      <td>10000</td>\n",
       "      <td>IGH</td>\n",
       "      <td>1</td>\n",
       "      <td>1</td>\n",
       "    </tr>\n",
       "    <tr>\n",
       "      <th>1</th>\n",
       "      <td>TACTGGTA</td>\n",
       "      <td>50000</td>\n",
       "      <td>IGH</td>\n",
       "      <td>2</td>\n",
       "      <td>2</td>\n",
       "    </tr>\n",
       "    <tr>\n",
       "      <th>2</th>\n",
       "      <td>TACTGGTA</td>\n",
       "      <td>100000</td>\n",
       "      <td>IGH</td>\n",
       "      <td>2</td>\n",
       "      <td>2</td>\n",
       "    </tr>\n",
       "    <tr>\n",
       "      <th>3</th>\n",
       "      <td>TACTGGTA</td>\n",
       "      <td>500000</td>\n",
       "      <td>IGH</td>\n",
       "      <td>7</td>\n",
       "      <td>11</td>\n",
       "    </tr>\n",
       "    <tr>\n",
       "      <th>4</th>\n",
       "      <td>TACTGGTA</td>\n",
       "      <td>1000000</td>\n",
       "      <td>IGH</td>\n",
       "      <td>9</td>\n",
       "      <td>14</td>\n",
       "    </tr>\n",
       "  </tbody>\n",
       "</table>\n",
       "</div>"
      ],
      "text/plain": [
       "    barcode  sequences chain  cdr3  ufi\n",
       "0  TACTGGTA      10000   IGH     1    1\n",
       "1  TACTGGTA      50000   IGH     2    2\n",
       "2  TACTGGTA     100000   IGH     2    2\n",
       "3  TACTGGTA     500000   IGH     7   11\n",
       "4  TACTGGTA    1000000   IGH     9   14"
      ]
     },
     "execution_count": 9,
     "metadata": {},
     "output_type": "execute_result"
    }
   ],
   "source": [
    "df_summary = df.groupby(['barcode', 'sequences', 'chain']).agg({'cdr3': 'nunique', 'ufi': 'nunique'}).reset_index()\n",
    "df_summary"
   ]
  },
  {
   "cell_type": "code",
   "execution_count": 10,
   "id": "ec5563f9",
   "metadata": {},
   "outputs": [
    {
     "data": {
      "image/png": "[encoded data removed]",
      "text/plain": [
       "<Figure size 640x480 with 1 Axes>"
      ]
     },
     "metadata": {},
     "output_type": "display_data"
    }
   ],
   "source": [
    "plt.scatter(df_summary['sequences'], df_summary['ufi'])\n",
    "plt.show()"
   ]
  },
  {
   "cell_type": "code",
   "execution_count": null,
   "id": "8548b89e",
   "metadata": {},
   "outputs": [],
   "source": []
  }
 ],
 "metadata": {
  "kernelspec": {
   "display_name": "reseda",
   "language": "python",
   "name": "reseda"
  },
  "language_info": {
   "codemirror_mode": {
    "name": "ipython",
    "version": 3
   },
   "file_extension": ".py",
   "mimetype": "text/x-python",
   "name": "python",
   "nbconvert_exporter": "python",
   "pygments_lexer": "ipython3",
   "version": "3.7.0"
  }
 },
 "nbformat": 4,
 "nbformat_minor": 5
}
