{
 "cells": [
  {
   "cell_type": "code",
   "execution_count": 1,
   "metadata": {},
   "outputs": [],
   "source": [
    "import os\n",
    "import pandas as pd"
   ]
  },
  {
   "cell_type": "code",
   "execution_count": 2,
   "metadata": {},
   "outputs": [],
   "source": [
    "outfile = \"HLA-summary.xlsx\""
   ]
  },
  {
   "cell_type": "code",
   "execution_count": 3,
   "metadata": {},
   "outputs": [
    {
     "data": {
      "text/plain": [
       "['Myo201tissue-DP_S192_L001.assembled-nomatch-hla_nuc_nospace-easy-import.txt',\n",
       " 'Myo201tissue-DQ_S193_L001.assembled-nomatch-hla_nuc_nospace-easy-import.txt',\n",
       " 'Myo201tissue-DR_S194_L001.assembled-nomatch-hla_nuc_nospace-easy-import.txt',\n",
       " 'Myo201week0-DP_S195_L001.assembled-nomatch-hla_nuc_nospace-easy-import.txt',\n",
       " 'Myo201week0-DQ_S196_L001.assembled-nomatch-hla_nuc_nospace-easy-import.txt',\n",
       " 'Myo201week0-DR_S197_L001.assembled-nomatch-hla_nuc_nospace-easy-import.txt',\n",
       " 'Myo201week52-DP_S209_L001.assembled-nomatch-hla_nuc_nospace-easy-import.txt',\n",
       " 'Myo201week52-DQ_S210_L001.assembled-nomatch-hla_nuc_nospace-easy-import.txt',\n",
       " 'Myo201week52-DR_S211_L001.assembled-nomatch-hla_nuc_nospace-easy-import.txt',\n",
       " 'Myo201week9-DP_S198_L001.assembled-nomatch-hla_nuc_nospace-easy-import.txt',\n",
       " 'Myo201week9-DQ_S199_L001.assembled-nomatch-hla_nuc_nospace-easy-import.txt',\n",
       " 'Myo201week9-DR_S208_L001.assembled-nomatch-hla_nuc_nospace-easy-import.txt']"
      ]
     },
     "execution_count": 3,
     "metadata": {},
     "output_type": "execute_result"
    }
   ],
   "source": [
    "myfiles = [x for x in os.listdir() if x.endswith(\"-easy-import.txt\")]\n",
    "myfiles"
   ]
  },
  {
   "cell_type": "code",
   "execution_count": 4,
   "metadata": {},
   "outputs": [],
   "source": [
    "def readFile(f):\n",
    "    sample, rest = f.split(\"_L001\")\n",
    "    df = pd.read_csv(f, sep=\"\\t\", header=None)\n",
    "    df.columns = [\"acc\", \"flag\", \"hit\"]\n",
    "    df = df[(df[\"flag\"] == 0) | (df[\"flag\"] == 16)] # only keep good bwa hits\n",
    "    df[\"sample\"] = sample\n",
    "    return(df)"
   ]
  },
  {
   "cell_type": "code",
   "execution_count": 5,
   "metadata": {},
   "outputs": [
    {
     "data": {
      "text/html": [
       "<div>\n",
       "<style scoped>\n",
       "    .dataframe tbody tr th:only-of-type {\n",
       "        vertical-align: middle;\n",
       "    }\n",
       "\n",
       "    .dataframe tbody tr th {\n",
       "        vertical-align: top;\n",
       "    }\n",
       "\n",
       "    .dataframe thead th {\n",
       "        text-align: right;\n",
       "    }\n",
       "</style>\n",
       "<table border=\"1\" class=\"dataframe\">\n",
       "  <thead>\n",
       "    <tr style=\"text-align: right;\">\n",
       "      <th></th>\n",
       "      <th>acc</th>\n",
       "      <th>flag</th>\n",
       "      <th>hit</th>\n",
       "      <th>sample</th>\n",
       "    </tr>\n",
       "  </thead>\n",
       "  <tbody>\n",
       "    <tr>\n",
       "      <th>97387</th>\n",
       "      <td>M04659:591:000000000-JFHKP:1:1113:28888:13122</td>\n",
       "      <td>0</td>\n",
       "      <td>HLA:HLA00625_DQB1*03:01:01:01_786_bp</td>\n",
       "      <td>Myo201week9-DR_S208</td>\n",
       "    </tr>\n",
       "    <tr>\n",
       "      <th>97388</th>\n",
       "      <td>M04659:591:000000000-JFHKP:1:2118:19364:12347</td>\n",
       "      <td>0</td>\n",
       "      <td>HLA:HLA00625_DQB1*03:01:01:01_786_bp</td>\n",
       "      <td>Myo201week9-DR_S208</td>\n",
       "    </tr>\n",
       "    <tr>\n",
       "      <th>97389</th>\n",
       "      <td>M04659:591:000000000-JFHKP:1:1101:11566:4657</td>\n",
       "      <td>0</td>\n",
       "      <td>HLA:HLA06616_DQB1*03:01:01:03_786_bp</td>\n",
       "      <td>Myo201week9-DR_S208</td>\n",
       "    </tr>\n",
       "    <tr>\n",
       "      <th>97390</th>\n",
       "      <td>M04659:591:000000000-JFHKP:1:1119:28136:11843</td>\n",
       "      <td>0</td>\n",
       "      <td>HLA:HLA00627_DQB1*03:02:01_786_bp</td>\n",
       "      <td>Myo201week9-DR_S208</td>\n",
       "    </tr>\n",
       "    <tr>\n",
       "      <th>97391</th>\n",
       "      <td>M04659:591:000000000-JFHKP:1:2101:23806:19621</td>\n",
       "      <td>0</td>\n",
       "      <td>HLA:HLA00627_DQB1*03:02:01_786_bp</td>\n",
       "      <td>Myo201week9-DR_S208</td>\n",
       "    </tr>\n",
       "  </tbody>\n",
       "</table>\n",
       "</div>"
      ],
      "text/plain": [
       "                                                 acc  flag  \\\n",
       "97387  M04659:591:000000000-JFHKP:1:1113:28888:13122     0   \n",
       "97388  M04659:591:000000000-JFHKP:1:2118:19364:12347     0   \n",
       "97389   M04659:591:000000000-JFHKP:1:1101:11566:4657     0   \n",
       "97390  M04659:591:000000000-JFHKP:1:1119:28136:11843     0   \n",
       "97391  M04659:591:000000000-JFHKP:1:2101:23806:19621     0   \n",
       "\n",
       "                                        hit               sample  \n",
       "97387  HLA:HLA00625_DQB1*03:01:01:01_786_bp  Myo201week9-DR_S208  \n",
       "97388  HLA:HLA00625_DQB1*03:01:01:01_786_bp  Myo201week9-DR_S208  \n",
       "97389  HLA:HLA06616_DQB1*03:01:01:03_786_bp  Myo201week9-DR_S208  \n",
       "97390     HLA:HLA00627_DQB1*03:02:01_786_bp  Myo201week9-DR_S208  \n",
       "97391     HLA:HLA00627_DQB1*03:02:01_786_bp  Myo201week9-DR_S208  "
      ]
     },
     "execution_count": 5,
     "metadata": {},
     "output_type": "execute_result"
    }
   ],
   "source": [
    "df = readFile(myfiles[0])\n",
    "for myfile in myfiles[1:]:\n",
    "    df = pd.concat([df, readFile(myfile)])\n",
    "df.tail()"
   ]
  },
  {
   "cell_type": "code",
   "execution_count": 6,
   "metadata": {},
   "outputs": [
    {
     "data": {
      "text/html": [
       "<div>\n",
       "<style scoped>\n",
       "    .dataframe tbody tr th:only-of-type {\n",
       "        vertical-align: middle;\n",
       "    }\n",
       "\n",
       "    .dataframe tbody tr th {\n",
       "        vertical-align: top;\n",
       "    }\n",
       "\n",
       "    .dataframe thead th {\n",
       "        text-align: right;\n",
       "    }\n",
       "</style>\n",
       "<table border=\"1\" class=\"dataframe\">\n",
       "  <thead>\n",
       "    <tr style=\"text-align: right;\">\n",
       "      <th></th>\n",
       "      <th>sample</th>\n",
       "      <th>hit</th>\n",
       "      <th>acc</th>\n",
       "    </tr>\n",
       "  </thead>\n",
       "  <tbody>\n",
       "    <tr>\n",
       "      <th>55</th>\n",
       "      <td>Myo201tissue-DP_S192</td>\n",
       "      <td>HLA:HLA02047_DPB1*105:01_777_bp</td>\n",
       "      <td>3422</td>\n",
       "    </tr>\n",
       "    <tr>\n",
       "      <th>6</th>\n",
       "      <td>Myo201tissue-DP_S192</td>\n",
       "      <td>HLA:HLA00522_DPB1*04:02:01:01_777_bp</td>\n",
       "      <td>3401</td>\n",
       "    </tr>\n",
       "    <tr>\n",
       "      <th>74</th>\n",
       "      <td>Myo201tissue-DP_S192</td>\n",
       "      <td>HLA:HLA06634_DPB1*04:02:01:02_777_bp</td>\n",
       "      <td>3347</td>\n",
       "    </tr>\n",
       "    <tr>\n",
       "      <th>67</th>\n",
       "      <td>Myo201tissue-DP_S192</td>\n",
       "      <td>HLA:HLA06078_DPB1*131:01_777_bp</td>\n",
       "      <td>3063</td>\n",
       "    </tr>\n",
       "    <tr>\n",
       "      <th>15</th>\n",
       "      <td>Myo201tissue-DP_S192</td>\n",
       "      <td>HLA:HLA00533_DPB1*16:01_777_bp</td>\n",
       "      <td>1602</td>\n",
       "    </tr>\n",
       "  </tbody>\n",
       "</table>\n",
       "</div>"
      ],
      "text/plain": [
       "                  sample                                   hit   acc\n",
       "55  Myo201tissue-DP_S192       HLA:HLA02047_DPB1*105:01_777_bp  3422\n",
       "6   Myo201tissue-DP_S192  HLA:HLA00522_DPB1*04:02:01:01_777_bp  3401\n",
       "74  Myo201tissue-DP_S192  HLA:HLA06634_DPB1*04:02:01:02_777_bp  3347\n",
       "67  Myo201tissue-DP_S192       HLA:HLA06078_DPB1*131:01_777_bp  3063\n",
       "15  Myo201tissue-DP_S192        HLA:HLA00533_DPB1*16:01_777_bp  1602"
      ]
     },
     "execution_count": 6,
     "metadata": {},
     "output_type": "execute_result"
    }
   ],
   "source": [
    "df_summary = df.groupby([\"sample\", \"hit\"]).agg({'acc': 'nunique'})\n",
    "df_summary = df_summary.reset_index()\n",
    "df_summary = df_summary.sort_values(by=['sample', 'acc'], ascending=[True, False])\n",
    "df_summary.head()"
   ]
  },
  {
   "cell_type": "code",
   "execution_count": 7,
   "metadata": {},
   "outputs": [
    {
     "name": "stdout",
     "output_type": "stream",
     "text": [
      "Wrote HLA-summary.xlsx to disk\n"
     ]
    }
   ],
   "source": [
    "df_summary.to_excel(outfile)\n",
    "print(\"Wrote\", outfile, \"to disk\")"
   ]
  },
  {
   "cell_type": "code",
   "execution_count": null,
   "metadata": {},
   "outputs": [],
   "source": []
  }
 ],
 "metadata": {
  "kernelspec": {
   "display_name": "Python 3",
   "language": "python",
   "name": "python3"
  },
  "language_info": {
   "codemirror_mode": {
    "name": "ipython",
    "version": 3
   },
   "file_extension": ".py",
   "mimetype": "text/x-python",
   "name": "python",
   "nbconvert_exporter": "python",
   "pygments_lexer": "ipython3",
   "version": "3.6.5"
  }
 },
 "nbformat": 4,
 "nbformat_minor": 2
}
