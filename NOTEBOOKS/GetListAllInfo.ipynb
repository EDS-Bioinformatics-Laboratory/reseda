{
 "cells": [
  {
   "cell_type": "code",
   "execution_count": 1,
   "metadata": {},
   "outputs": [
    {
     "name": "stdout",
     "output_type": "stream",
     "text": [
      "Wrote SAMPLES-basta-allinfo to disk\n"
     ]
    }
   ],
   "source": [
    "fh = open(\"SAMPLES-basta\")\n",
    "fhOut = open(\"SAMPLES-basta-allinfo\", \"w\")\n",
    "for myfile in fh:\n",
    "    myfile = myfile.rstrip()\n",
    "    newfile = myfile.replace(\"-clones-mut-sites-reassigned.csv\", \"-all_info.csv.rr.all_info.csv\")\n",
    "    print(newfile, file=fhOut)\n",
    "fh.close()\n",
    "fhOut.close()\n",
    "print(\"Wrote SAMPLES-basta-allinfo to disk\")"
   ]
  },
  {
   "cell_type": "code",
   "execution_count": null,
   "metadata": {},
   "outputs": [],
   "source": []
  }
 ],
 "metadata": {
  "kernelspec": {
   "display_name": "Python 3",
   "language": "python",
   "name": "python3"
  },
  "language_info": {
   "codemirror_mode": {
    "name": "ipython",
    "version": 3
   },
   "file_extension": ".py",
   "mimetype": "text/x-python",
   "name": "python",
   "nbconvert_exporter": "python",
   "pygments_lexer": "ipython3",
   "version": "3.6.5"
  }
 },
 "nbformat": 4,
 "nbformat_minor": 2
}
