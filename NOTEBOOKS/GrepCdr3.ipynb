{
 "cells": [
  {
   "cell_type": "code",
   "execution_count": 1,
   "metadata": {},
   "outputs": [],
   "source": [
    "import pandas as pd\n",
    "import os"
   ]
  },
  {
   "cell_type": "code",
   "execution_count": 2,
   "metadata": {},
   "outputs": [
    {
     "data": {
      "text/plain": [
       "['G9UO0YJ01_L001.assembled.fastq.gz-IGH_HUMAN-CDR3.csv',\n",
       " 'G9UO0YJ02_L001.assembled.fastq.gz-IGH_HUMAN-CDR3.csv',\n",
       " 'run142-r1_L001.assembled.fastq.gz-IGH_HUMAN-CDR3.csv',\n",
       " 'run142-r2_L001.assembled.fastq.gz-IGH_HUMAN-CDR3.csv',\n",
       " 'run71-r1-GVHSAYA01_S1_L001.assembled.fastq.gz-IGH_HUMAN-CDR3.csv',\n",
       " 'run71-r2-GVHSAYA02_S2_L001.assembled.fastq.gz-IGH_HUMAN-CDR3.csv',\n",
       " 'run73-r1-GWBG4B301_S1_L001.assembled.fastq.gz-IGH_HUMAN-CDR3.csv',\n",
       " 'run73-r2-GWBG4B302_S2_L001.assembled.fastq.gz-IGH_HUMAN-CDR3.csv',\n",
       " 'run74-r1_L001.assembled.fastq.gz-IGH_HUMAN-CDR3.csv',\n",
       " 'run74-r2_L001.assembled.fastq.gz-IGH_HUMAN-CDR3.csv']"
      ]
     },
     "execution_count": 2,
     "metadata": {},
     "output_type": "execute_result"
    }
   ],
   "source": [
    "# Input: CDR3 files of all Roche runs (except run214 and run258)\n",
    "mydir = \"/mnt/immunogenomics/RUNS/runXXX-roche-LN2/CDR3_20201015/\"\n",
    "myfiles = [x for x in os.listdir(mydir) if x.endswith(\"-IGH_HUMAN-CDR3.csv\")]\n",
    "myfiles[:10]"
   ]
  },
  {
   "cell_type": "code",
   "execution_count": 3,
   "metadata": {},
   "outputs": [
    {
     "data": {
      "text/html": [
       "<div>\n",
       "<style scoped>\n",
       "    .dataframe tbody tr th:only-of-type {\n",
       "        vertical-align: middle;\n",
       "    }\n",
       "\n",
       "    .dataframe tbody tr th {\n",
       "        vertical-align: top;\n",
       "    }\n",
       "\n",
       "    .dataframe thead th {\n",
       "        text-align: right;\n",
       "    }\n",
       "</style>\n",
       "<table border=\"1\" class=\"dataframe\">\n",
       "  <thead>\n",
       "    <tr style=\"text-align: right;\">\n",
       "      <th></th>\n",
       "      <th>unnamed</th>\n",
       "      <th>CDR3_x</th>\n",
       "      <th>Samples</th>\n",
       "    </tr>\n",
       "  </thead>\n",
       "  <tbody>\n",
       "    <tr>\n",
       "      <th>0</th>\n",
       "      <td>1</td>\n",
       "      <td>CAAGHYDSSGYWDYWGQGTLVT x</td>\n",
       "      <td>RA-min-3 LN99-run81-r2_S6__RA-min-2 LN98-run81...</td>\n",
       "    </tr>\n",
       "    <tr>\n",
       "      <th>1</th>\n",
       "      <td>2</td>\n",
       "      <td>CAREHRYSSYFYYYYMDVWGKGTAVT x</td>\n",
       "      <td>RA-min-3 LN99-run81-r2_S6__RA-min-2 LN98-run81...</td>\n",
       "    </tr>\n",
       "    <tr>\n",
       "      <th>2</th>\n",
       "      <td>3</td>\n",
       "      <td>CASLPVGAAAGPYWGQGTLVT x</td>\n",
       "      <td>RA-min-3 LN99-run81-r2_S6__RA-min-2 LN98-run81...</td>\n",
       "    </tr>\n",
       "    <tr>\n",
       "      <th>3</th>\n",
       "      <td>4</td>\n",
       "      <td>CARAGYSYAYRLNWFDPWGQGTLVT x</td>\n",
       "      <td>RA-min-3 LN99-run81-r2_S6__RA-min-2 LN98-run81...</td>\n",
       "    </tr>\n",
       "    <tr>\n",
       "      <th>4</th>\n",
       "      <td>5</td>\n",
       "      <td>CARSGSYQENYFDYWGQGTLVT x</td>\n",
       "      <td>RA-min-3 LN99-run81-r2_S6__RA-min-2 LN98-run81...</td>\n",
       "    </tr>\n",
       "  </tbody>\n",
       "</table>\n",
       "</div>"
      ],
      "text/plain": [
       "   unnamed                        CDR3_x  \\\n",
       "0        1      CAAGHYDSSGYWDYWGQGTLVT x   \n",
       "1        2  CAREHRYSSYFYYYYMDVWGKGTAVT x   \n",
       "2        3       CASLPVGAAAGPYWGQGTLVT x   \n",
       "3        4   CARAGYSYAYRLNWFDPWGQGTLVT x   \n",
       "4        5      CARSGSYQENYFDYWGQGTLVT x   \n",
       "\n",
       "                                             Samples  \n",
       "0  RA-min-3 LN99-run81-r2_S6__RA-min-2 LN98-run81...  \n",
       "1  RA-min-3 LN99-run81-r2_S6__RA-min-2 LN98-run81...  \n",
       "2  RA-min-3 LN99-run81-r2_S6__RA-min-2 LN98-run81...  \n",
       "3  RA-min-3 LN99-run81-r2_S6__RA-min-2 LN98-run81...  \n",
       "4  RA-min-3 LN99-run81-r2_S6__RA-min-2 LN98-run81...  "
      ]
     },
     "execution_count": 3,
     "metadata": {},
     "output_type": "execute_result"
    }
   ],
   "source": [
    "# Input: list of CDR3's that I received from Aram\n",
    "df_cdr3 = pd.read_csv(\"2020-08-21.presyn-top100-clones-contamination-table-on-pt.csv\", sep=\",\")\n",
    "df_cdr3.columns = ['unnamed', 'CDR3_x', 'Samples']\n",
    "df_cdr3.head()"
   ]
  },
  {
   "cell_type": "code",
   "execution_count": 4,
   "metadata": {},
   "outputs": [],
   "source": [
    "# Output\n",
    "# Files will be written in the current directory with this name: outfile = myfile.replace(\".csv\", \"-matches.csv\")"
   ]
  },
  {
   "cell_type": "code",
   "execution_count": 5,
   "metadata": {},
   "outputs": [
    {
     "data": {
      "text/html": [
       "<div>\n",
       "<style scoped>\n",
       "    .dataframe tbody tr th:only-of-type {\n",
       "        vertical-align: middle;\n",
       "    }\n",
       "\n",
       "    .dataframe tbody tr th {\n",
       "        vertical-align: top;\n",
       "    }\n",
       "\n",
       "    .dataframe thead th {\n",
       "        text-align: right;\n",
       "    }\n",
       "</style>\n",
       "<table border=\"1\" class=\"dataframe\">\n",
       "  <thead>\n",
       "    <tr style=\"text-align: right;\">\n",
       "      <th></th>\n",
       "      <th>unnamed</th>\n",
       "      <th>CDR3_x</th>\n",
       "      <th>Samples</th>\n",
       "      <th>CDR3</th>\n",
       "    </tr>\n",
       "  </thead>\n",
       "  <tbody>\n",
       "    <tr>\n",
       "      <th>0</th>\n",
       "      <td>1</td>\n",
       "      <td>CAAGHYDSSGYWDYWGQGTLVT x</td>\n",
       "      <td>RA-min-3 LN99-run81-r2_S6__RA-min-2 LN98-run81...</td>\n",
       "      <td>CAAGHYDSSGYWDYWGQGTLVT</td>\n",
       "    </tr>\n",
       "    <tr>\n",
       "      <th>1</th>\n",
       "      <td>2</td>\n",
       "      <td>CAREHRYSSYFYYYYMDVWGKGTAVT x</td>\n",
       "      <td>RA-min-3 LN99-run81-r2_S6__RA-min-2 LN98-run81...</td>\n",
       "      <td>CAREHRYSSYFYYYYMDVWGKGTAVT</td>\n",
       "    </tr>\n",
       "    <tr>\n",
       "      <th>2</th>\n",
       "      <td>3</td>\n",
       "      <td>CASLPVGAAAGPYWGQGTLVT x</td>\n",
       "      <td>RA-min-3 LN99-run81-r2_S6__RA-min-2 LN98-run81...</td>\n",
       "      <td>CASLPVGAAAGPYWGQGTLVT</td>\n",
       "    </tr>\n",
       "    <tr>\n",
       "      <th>3</th>\n",
       "      <td>4</td>\n",
       "      <td>CARAGYSYAYRLNWFDPWGQGTLVT x</td>\n",
       "      <td>RA-min-3 LN99-run81-r2_S6__RA-min-2 LN98-run81...</td>\n",
       "      <td>CARAGYSYAYRLNWFDPWGQGTLVT</td>\n",
       "    </tr>\n",
       "    <tr>\n",
       "      <th>4</th>\n",
       "      <td>5</td>\n",
       "      <td>CARSGSYQENYFDYWGQGTLVT x</td>\n",
       "      <td>RA-min-3 LN99-run81-r2_S6__RA-min-2 LN98-run81...</td>\n",
       "      <td>CARSGSYQENYFDYWGQGTLVT</td>\n",
       "    </tr>\n",
       "  </tbody>\n",
       "</table>\n",
       "</div>"
      ],
      "text/plain": [
       "   unnamed                        CDR3_x  \\\n",
       "0        1      CAAGHYDSSGYWDYWGQGTLVT x   \n",
       "1        2  CAREHRYSSYFYYYYMDVWGKGTAVT x   \n",
       "2        3       CASLPVGAAAGPYWGQGTLVT x   \n",
       "3        4   CARAGYSYAYRLNWFDPWGQGTLVT x   \n",
       "4        5      CARSGSYQENYFDYWGQGTLVT x   \n",
       "\n",
       "                                             Samples  \\\n",
       "0  RA-min-3 LN99-run81-r2_S6__RA-min-2 LN98-run81...   \n",
       "1  RA-min-3 LN99-run81-r2_S6__RA-min-2 LN98-run81...   \n",
       "2  RA-min-3 LN99-run81-r2_S6__RA-min-2 LN98-run81...   \n",
       "3  RA-min-3 LN99-run81-r2_S6__RA-min-2 LN98-run81...   \n",
       "4  RA-min-3 LN99-run81-r2_S6__RA-min-2 LN98-run81...   \n",
       "\n",
       "                         CDR3  \n",
       "0      CAAGHYDSSGYWDYWGQGTLVT  \n",
       "1  CAREHRYSSYFYYYYMDVWGKGTAVT  \n",
       "2       CASLPVGAAAGPYWGQGTLVT  \n",
       "3   CARAGYSYAYRLNWFDPWGQGTLVT  \n",
       "4      CARSGSYQENYFDYWGQGTLVT  "
      ]
     },
     "execution_count": 5,
     "metadata": {},
     "output_type": "execute_result"
    }
   ],
   "source": [
    "f = lambda x: x.replace(\" x\", \"\")\n",
    "df_cdr3['CDR3'] = [x for x in map(f, df_cdr3['CDR3_x'])]\n",
    "df_cdr3.head()"
   ]
  },
  {
   "cell_type": "markdown",
   "metadata": {},
   "source": [
    "## Find the CDR3s in all Roche runs"
   ]
  },
  {
   "cell_type": "code",
   "execution_count": 6,
   "metadata": {},
   "outputs": [
    {
     "name": "stdout",
     "output_type": "stream",
     "text": [
      "Wrote G9UO0YJ01_L001.assembled.fastq.gz-IGH_HUMAN-CDR3-matches.csv to disk\n",
      "Wrote G9UO0YJ02_L001.assembled.fastq.gz-IGH_HUMAN-CDR3-matches.csv to disk\n"
     ]
    }
   ],
   "source": [
    "for myfile in myfiles[:2]:\n",
    "    df = pd.read_csv(mydir + myfile, sep=\"\\t\", header=None)\n",
    "    df.columns = ['acc', 'frame', 'CDR3pep', 'CDR3nuc', 'CDR3pep-short', 'CDR3nuc-short', 'qc1', 'qc2', 'qc3', 'basecalls', 'x', 'y', 'z']\n",
    "    df = pd.merge(df, df_cdr3, how=\"inner\", left_on=\"CDR3pep\", right_on=\"CDR3\")\n",
    "    outfile = myfile.replace(\".csv\", \"-matches.csv\")\n",
    "    df.to_csv(outfile)\n",
    "    print(\"Wrote\", outfile, \"to disk\")"
   ]
  },
  {
   "cell_type": "code",
   "execution_count": null,
   "metadata": {},
   "outputs": [],
   "source": []
  }
 ],
 "metadata": {
  "kernelspec": {
   "display_name": "Python 3",
   "language": "python",
   "name": "python3"
  },
  "language_info": {
   "codemirror_mode": {
    "name": "ipython",
    "version": 3
   },
   "file_extension": ".py",
   "mimetype": "text/x-python",
   "name": "python",
   "nbconvert_exporter": "python",
   "pygments_lexer": "ipython3",
   "version": "3.6.5"
  }
 },
 "nbformat": 4,
 "nbformat_minor": 2
}
