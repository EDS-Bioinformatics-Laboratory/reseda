{
 "cells": [
  {
   "cell_type": "code",
   "execution_count": 1,
   "id": "1c685eb2",
   "metadata": {},
   "outputs": [],
   "source": [
    "import os"
   ]
  },
  {
   "cell_type": "code",
   "execution_count": 2,
   "id": "85dc2792",
   "metadata": {},
   "outputs": [
    {
     "data": {
      "text/plain": [
       "['CCAGATGA-assembly_contigs.fa',\n",
       " 'CAGATAGC-assembly_contigs.fa',\n",
       " 'ACAAGGCA-assembly_contigs.fa',\n",
       " 'ACGTACTG-assembly_contigs.fa',\n",
       " 'CCCCTATT-assembly_contigs.fa',\n",
       " 'ATACACGG-assembly_contigs.fa',\n",
       " 'GGCTCTAT-assembly_contigs.fa',\n",
       " 'TACCACGA-assembly_contigs.fa',\n",
       " 'TCGGTTGA-assembly_contigs.fa',\n",
       " 'TACCAGAC-assembly_contigs.fa']"
      ]
     },
     "execution_count": 2,
     "metadata": {},
     "output_type": "execute_result"
    }
   ],
   "source": [
    "myfiles = [x for x in os.listdir() if x.endswith(\".fa\")]\n",
    "myfiles[:10]"
   ]
  },
  {
   "cell_type": "code",
   "execution_count": 3,
   "id": "030d5b26",
   "metadata": {},
   "outputs": [],
   "source": [
    "outfile = \"ALL-contigs.fasta\"\n",
    "fhOut = open(outfile, \"w\")\n",
    "for f in myfiles:\n",
    "    barcode = f.split(\"-\")[0]\n",
    "    fh = open(f)\n",
    "    for line in fh:\n",
    "        line = line.rstrip()\n",
    "        if line.startswith(\">\"):\n",
    "            line = line.replace(\">\", \">\" + barcode + \"|\")\n",
    "        print(line, file=fhOut)\n",
    "    fh.close()\n",
    "fhOut.close()"
   ]
  },
  {
   "cell_type": "code",
   "execution_count": null,
   "id": "9ce507ac",
   "metadata": {},
   "outputs": [],
   "source": []
  }
 ],
 "metadata": {
  "kernelspec": {
   "display_name": "reseda",
   "language": "python",
   "name": "reseda"
  },
  "language_info": {
   "codemirror_mode": {
    "name": "ipython",
    "version": 3
   },
   "file_extension": ".py",
   "mimetype": "text/x-python",
   "name": "python",
   "nbconvert_exporter": "python",
   "pygments_lexer": "ipython3",
   "version": "3.7.0"
  }
 },
 "nbformat": 4,
 "nbformat_minor": 5
}
