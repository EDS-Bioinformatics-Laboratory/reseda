{
 "cells": [
  {
   "cell_type": "code",
   "execution_count": 37,
   "metadata": {},
   "outputs": [],
   "source": [
    "import pandas as pd\n",
    "import igraph\n",
    "import numpy as np\n",
    "import seaborn as sns\n",
    "import matplotlib.pylab as plt"
   ]
  },
  {
   "cell_type": "code",
   "execution_count": 62,
   "metadata": {},
   "outputs": [
    {
     "data": {
      "text/html": [
       "<div>\n",
       "<style scoped>\n",
       "    .dataframe tbody tr th:only-of-type {\n",
       "        vertical-align: middle;\n",
       "    }\n",
       "\n",
       "    .dataframe tbody tr th {\n",
       "        vertical-align: top;\n",
       "    }\n",
       "\n",
       "    .dataframe thead th {\n",
       "        text-align: right;\n",
       "    }\n",
       "</style>\n",
       "<table border=\"1\" class=\"dataframe\">\n",
       "  <thead>\n",
       "    <tr style=\"text-align: right;\">\n",
       "      <th></th>\n",
       "      <th>cdr3pep</th>\n",
       "      <th>V_sub</th>\n",
       "      <th>J_sub</th>\n",
       "      <th>C_region</th>\n",
       "      <th>beforeMID</th>\n",
       "      <th>acc</th>\n",
       "    </tr>\n",
       "  </thead>\n",
       "  <tbody>\n",
       "    <tr>\n",
       "      <th>0</th>\n",
       "      <td>CTTVAYDYSNFRYGMDVWGQGTTVT</td>\n",
       "      <td>IGHV3-74</td>\n",
       "      <td>IGHJ6:326</td>\n",
       "      <td>IGHG2:276,IGHG1:44,IGHG3:5,IGHG4:1</td>\n",
       "      <td>137</td>\n",
       "      <td>326</td>\n",
       "    </tr>\n",
       "    <tr>\n",
       "      <th>1</th>\n",
       "      <td>CATSTTSFDPWGQGTLVT</td>\n",
       "      <td>IGHV3-7</td>\n",
       "      <td>IGHJ5:159</td>\n",
       "      <td>IGHG1:136,IGHG2:16,IGHG3:7</td>\n",
       "      <td>99</td>\n",
       "      <td>159</td>\n",
       "    </tr>\n",
       "    <tr>\n",
       "      <th>2</th>\n",
       "      <td>CANEQRYMAVSDWGQGTLVT</td>\n",
       "      <td>IGHV3-7</td>\n",
       "      <td>IGHJ4:186</td>\n",
       "      <td>IGHG2:149,IGHG1:33,IGHG3:4</td>\n",
       "      <td>99</td>\n",
       "      <td>186</td>\n",
       "    </tr>\n",
       "    <tr>\n",
       "      <th>3</th>\n",
       "      <td>CARNIPITPLGYWGQGTLVT</td>\n",
       "      <td>IGHV3-66</td>\n",
       "      <td>IGHJ4:111</td>\n",
       "      <td>IGHG2:83,IGHG1:26,IGHG3:2</td>\n",
       "      <td>73</td>\n",
       "      <td>111</td>\n",
       "    </tr>\n",
       "    <tr>\n",
       "      <th>4</th>\n",
       "      <td>CARGSTGYSNYYFDYWGQGTLVT</td>\n",
       "      <td>IGHV3-74</td>\n",
       "      <td>IGHJ4:96</td>\n",
       "      <td>IGHG2:72,IGHG1:24</td>\n",
       "      <td>64</td>\n",
       "      <td>96</td>\n",
       "    </tr>\n",
       "  </tbody>\n",
       "</table>\n",
       "</div>"
      ],
      "text/plain": [
       "                     cdr3pep     V_sub      J_sub  \\\n",
       "0  CTTVAYDYSNFRYGMDVWGQGTTVT  IGHV3-74  IGHJ6:326   \n",
       "1         CATSTTSFDPWGQGTLVT   IGHV3-7  IGHJ5:159   \n",
       "2       CANEQRYMAVSDWGQGTLVT   IGHV3-7  IGHJ4:186   \n",
       "3       CARNIPITPLGYWGQGTLVT  IGHV3-66  IGHJ4:111   \n",
       "4    CARGSTGYSNYYFDYWGQGTLVT  IGHV3-74   IGHJ4:96   \n",
       "\n",
       "                             C_region  beforeMID  acc  \n",
       "0  IGHG2:276,IGHG1:44,IGHG3:5,IGHG4:1        137  326  \n",
       "1          IGHG1:136,IGHG2:16,IGHG3:7         99  159  \n",
       "2          IGHG2:149,IGHG1:33,IGHG3:4         99  186  \n",
       "3           IGHG2:83,IGHG1:26,IGHG3:2         73  111  \n",
       "4                   IGHG2:72,IGHG1:24         64   96  "
      ]
     },
     "execution_count": 62,
     "metadata": {},
     "output_type": "execute_result"
    }
   ],
   "source": [
    "df = pd.read_csv(\"IgSub2-3_S104_L001.assembled-ACGTACGT-IGH_HUMAN-ighc-clones.csv\", sep=\"\\t\")\n",
    "df.head()"
   ]
  },
  {
   "cell_type": "code",
   "execution_count": 69,
   "metadata": {},
   "outputs": [
    {
     "name": "stdout",
     "output_type": "stream",
     "text": [
      "['IGHM', 'IGHD', 'IGHG3', 'IGHG1', 'IGHA1', 'IGHG2', 'IGHG4', 'IGHE', 'IGHA2']\n"
     ]
    }
   ],
   "source": [
    "# Create an empty graph\n",
    "ids = [\"IGHM\", \"IGHD\", \"IGHG3\", \"IGHG1\", \"IGHA1\", \"IGHG2\", \"IGHG4\", \"IGHE\", \"IGHA2\"]\n",
    "g = igraph.Graph(len(ids), directed=False)\n",
    "g.vs[\"id\"] = range(len(ids))\n",
    "g.vs[\"name\"] = ids\n",
    "g.vs[\"label\"] = ids\n",
    "print(g.vs['name'])"
   ]
  },
  {
   "cell_type": "code",
   "execution_count": 75,
   "metadata": {},
   "outputs": [
    {
     "name": "stdout",
     "output_type": "stream",
     "text": [
      "dict_keys(['IGHG2', 'IGHG1', 'IGHG3', 'IGHG4', 'nan'])\n"
     ]
    }
   ],
   "source": [
    "# Parse the C_region column\n",
    "clones = dict()    # count clones\n",
    "reads = dict()         # count reads\n",
    "for entry in df[\"C_region\"]:\n",
    "    gene_entries = entry.split(\",\")\n",
    "    gene_names = list()\n",
    "    for gene_entry in gene_entries:\n",
    "        gene, count = gene_entry.split(\":\")\n",
    "        gene_names.append(gene)      # per CDR3\n",
    "        clones[gene] = clones.get(gene, 0) + 1  # per donor\n",
    "        reads[gene] = reads.get(gene, 0) + int(count)  # per donor\n",
    "    for i in range(len(gene_names) - 1):\n",
    "        for j in range(i + 1, len(gene_names)):\n",
    "            geneA = gene_names[i]\n",
    "            geneB = gene_names[j]\n",
    "            g.add_edge(ids.index(geneA), ids.index(geneB))\n",
    "print(clones.keys())"
   ]
  },
  {
   "cell_type": "code",
   "execution_count": 76,
   "metadata": {},
   "outputs": [
    {
     "name": "stdout",
     "output_type": "stream",
     "text": [
      "IGHM 0\n",
      "IGHD 0\n",
      "IGHG3 66\n",
      "IGHG1 761\n",
      "IGHA1 0\n",
      "IGHG2 561\n",
      "IGHG4 23\n",
      "IGHE 0\n",
      "IGHA2 0\n"
     ]
    }
   ],
   "source": [
    "# nr of clones per gene\n",
    "for gene in ids:\n",
    "    print(gene, clones.get(gene, 0))"
   ]
  },
  {
   "cell_type": "code",
   "execution_count": 77,
   "metadata": {},
   "outputs": [
    {
     "name": "stdout",
     "output_type": "stream",
     "text": [
      "IGHM 0\n",
      "IGHD 0\n",
      "IGHG3 113\n",
      "IGHG1 2235\n",
      "IGHA1 0\n",
      "IGHG2 2141\n",
      "IGHG4 71\n",
      "IGHE 0\n",
      "IGHA2 0\n"
     ]
    }
   ],
   "source": [
    "# nr of reads per gene\n",
    "for gene in ids:\n",
    "    print(gene, reads.get(gene, 0))"
   ]
  },
  {
   "cell_type": "code",
   "execution_count": 78,
   "metadata": {},
   "outputs": [
    {
     "data": {
      "text/html": [
       "<div>\n",
       "<style scoped>\n",
       "    .dataframe tbody tr th:only-of-type {\n",
       "        vertical-align: middle;\n",
       "    }\n",
       "\n",
       "    .dataframe tbody tr th {\n",
       "        vertical-align: top;\n",
       "    }\n",
       "\n",
       "    .dataframe thead th {\n",
       "        text-align: right;\n",
       "    }\n",
       "</style>\n",
       "<table border=\"1\" class=\"dataframe\">\n",
       "  <thead>\n",
       "    <tr style=\"text-align: right;\">\n",
       "      <th></th>\n",
       "      <th>IGHM</th>\n",
       "      <th>IGHD</th>\n",
       "      <th>IGHG3</th>\n",
       "      <th>IGHG1</th>\n",
       "      <th>IGHA1</th>\n",
       "      <th>IGHG2</th>\n",
       "      <th>IGHG4</th>\n",
       "      <th>IGHE</th>\n",
       "      <th>IGHA2</th>\n",
       "    </tr>\n",
       "  </thead>\n",
       "  <tbody>\n",
       "    <tr>\n",
       "      <th>IGHM</th>\n",
       "      <td>0</td>\n",
       "      <td>0</td>\n",
       "      <td>0</td>\n",
       "      <td>0</td>\n",
       "      <td>0</td>\n",
       "      <td>0</td>\n",
       "      <td>0</td>\n",
       "      <td>0</td>\n",
       "      <td>0</td>\n",
       "    </tr>\n",
       "    <tr>\n",
       "      <th>IGHD</th>\n",
       "      <td>0</td>\n",
       "      <td>0</td>\n",
       "      <td>0</td>\n",
       "      <td>0</td>\n",
       "      <td>0</td>\n",
       "      <td>0</td>\n",
       "      <td>0</td>\n",
       "      <td>0</td>\n",
       "      <td>0</td>\n",
       "    </tr>\n",
       "    <tr>\n",
       "      <th>IGHG3</th>\n",
       "      <td>0</td>\n",
       "      <td>0</td>\n",
       "      <td>0</td>\n",
       "      <td>58</td>\n",
       "      <td>0</td>\n",
       "      <td>74</td>\n",
       "      <td>12</td>\n",
       "      <td>0</td>\n",
       "      <td>0</td>\n",
       "    </tr>\n",
       "    <tr>\n",
       "      <th>IGHG1</th>\n",
       "      <td>0</td>\n",
       "      <td>0</td>\n",
       "      <td>58</td>\n",
       "      <td>0</td>\n",
       "      <td>0</td>\n",
       "      <td>336</td>\n",
       "      <td>20</td>\n",
       "      <td>0</td>\n",
       "      <td>0</td>\n",
       "    </tr>\n",
       "    <tr>\n",
       "      <th>IGHA1</th>\n",
       "      <td>0</td>\n",
       "      <td>0</td>\n",
       "      <td>0</td>\n",
       "      <td>0</td>\n",
       "      <td>0</td>\n",
       "      <td>0</td>\n",
       "      <td>0</td>\n",
       "      <td>0</td>\n",
       "      <td>0</td>\n",
       "    </tr>\n",
       "    <tr>\n",
       "      <th>IGHG2</th>\n",
       "      <td>0</td>\n",
       "      <td>0</td>\n",
       "      <td>74</td>\n",
       "      <td>336</td>\n",
       "      <td>0</td>\n",
       "      <td>0</td>\n",
       "      <td>20</td>\n",
       "      <td>0</td>\n",
       "      <td>0</td>\n",
       "    </tr>\n",
       "    <tr>\n",
       "      <th>IGHG4</th>\n",
       "      <td>0</td>\n",
       "      <td>0</td>\n",
       "      <td>12</td>\n",
       "      <td>20</td>\n",
       "      <td>0</td>\n",
       "      <td>20</td>\n",
       "      <td>0</td>\n",
       "      <td>0</td>\n",
       "      <td>0</td>\n",
       "    </tr>\n",
       "    <tr>\n",
       "      <th>IGHE</th>\n",
       "      <td>0</td>\n",
       "      <td>0</td>\n",
       "      <td>0</td>\n",
       "      <td>0</td>\n",
       "      <td>0</td>\n",
       "      <td>0</td>\n",
       "      <td>0</td>\n",
       "      <td>0</td>\n",
       "      <td>0</td>\n",
       "    </tr>\n",
       "    <tr>\n",
       "      <th>IGHA2</th>\n",
       "      <td>0</td>\n",
       "      <td>0</td>\n",
       "      <td>0</td>\n",
       "      <td>0</td>\n",
       "      <td>0</td>\n",
       "      <td>0</td>\n",
       "      <td>0</td>\n",
       "      <td>0</td>\n",
       "      <td>0</td>\n",
       "    </tr>\n",
       "  </tbody>\n",
       "</table>\n",
       "</div>"
      ],
      "text/plain": [
       "       IGHM  IGHD  IGHG3  IGHG1  IGHA1  IGHG2  IGHG4  IGHE  IGHA2\n",
       "IGHM      0     0      0      0      0      0      0     0      0\n",
       "IGHD      0     0      0      0      0      0      0     0      0\n",
       "IGHG3     0     0      0     58      0     74     12     0      0\n",
       "IGHG1     0     0     58      0      0    336     20     0      0\n",
       "IGHA1     0     0      0      0      0      0      0     0      0\n",
       "IGHG2     0     0     74    336      0      0     20     0      0\n",
       "IGHG4     0     0     12     20      0     20      0     0      0\n",
       "IGHE      0     0      0      0      0      0      0     0      0\n",
       "IGHA2     0     0      0      0      0      0      0     0      0"
      ]
     },
     "execution_count": 78,
     "metadata": {},
     "output_type": "execute_result"
    }
   ],
   "source": [
    "df_clones = pd.DataFrame(g.get_adjacency(), columns=ids, index=ids)\n",
    "df_clones"
   ]
  },
  {
   "cell_type": "code",
   "execution_count": 79,
   "metadata": {},
   "outputs": [
    {
     "data": {
      "image/png": "[encoded data removed]",
      "text/plain": [
       "<matplotlib.figure.Figure at 0x7f6f44eeeda0>"
      ]
     },
     "metadata": {},
     "output_type": "display_data"
    }
   ],
   "source": [
    "ax = sns.heatmap(df_clones, linewidth=0.5, cmap=\"YlGnBu\")\n",
    "plt.show()"
   ]
  },
  {
   "cell_type": "code",
   "execution_count": null,
   "metadata": {},
   "outputs": [],
   "source": []
  }
 ],
 "metadata": {
  "kernelspec": {
   "display_name": "Python 3",
   "language": "python",
   "name": "python3"
  },
  "language_info": {
   "codemirror_mode": {
    "name": "ipython",
    "version": 3
   },
   "file_extension": ".py",
   "mimetype": "text/x-python",
   "name": "python",
   "nbconvert_exporter": "python",
   "pygments_lexer": "ipython3",
   "version": "3.6.4"
  }
 },
 "nbformat": 4,
 "nbformat_minor": 2
}
