{
 "cells": [
  {
   "cell_type": "code",
   "execution_count": 1,
   "metadata": {},
   "outputs": [],
   "source": [
    "import os\n",
    "from Bio import AlignIO"
   ]
  },
  {
   "cell_type": "code",
   "execution_count": 2,
   "metadata": {},
   "outputs": [
    {
     "name": "stdout",
     "output_type": "stream",
     "text": [
      "refs: [0, 1]\n",
      "exp: [2, 3, 4]\n",
      "names: ['IGLJ2*01', 'IGLJ3*01', 'L1B3', 'L1D4', 'L3D4']\n"
     ]
    }
   ],
   "source": [
    "f = \"light-Jref-clustalo.fasta\"\n",
    "fhIn = open(f)\n",
    "aln = AlignIO.read(fhIn, \"fasta\")\n",
    "i = 0\n",
    "refs = list()\n",
    "exp = list()\n",
    "seq_names = list()\n",
    "for record in aln:\n",
    "    #print(record)\n",
    "    seq_names.append(record.id)\n",
    "    if record.id.startswith(\"IG\"):\n",
    "        refs.append(i)\n",
    "    else:\n",
    "        exp.append(i)\n",
    "    i = i + 1\n",
    "print(\"refs:\", refs)\n",
    "print(\"exp:\", exp)\n",
    "print(\"names:\", seq_names)"
   ]
  },
  {
   "cell_type": "code",
   "execution_count": 3,
   "metadata": {},
   "outputs": [
    {
     "name": "stdout",
     "output_type": "stream",
     "text": [
      "['ccccc', 'aaaaa', 'ttttt', 'ggggg', '-----']\n"
     ]
    }
   ],
   "source": [
    "n = len(aln[:, 0])  # how many sequences?\n",
    "same = [n * \"c\", n * \"a\", n * \"t\", n * \"g\", n * \"-\"]\n",
    "print(same)"
   ]
  },
  {
   "cell_type": "code",
   "execution_count": 4,
   "metadata": {},
   "outputs": [
    {
     "name": "stdout",
     "output_type": "stream",
     "text": [
      "{2: {0: [], 1: []}, 3: {0: [], 1: []}, 4: {0: [], 1: []}}\n"
     ]
    }
   ],
   "source": [
    "# Create an empty matrix for the mutations\n",
    "mutations = dict()\n",
    "for e in exp:\n",
    "    mutations[e] = dict()\n",
    "    for r in refs:\n",
    "        mutations[e][r] = list()\n",
    "print(mutations)"
   ]
  },
  {
   "cell_type": "code",
   "execution_count": 5,
   "metadata": {},
   "outputs": [
    {
     "name": "stdout",
     "output_type": "stream",
     "text": [
      "{2: {0: ['t288>g', 'g289>a', 'g291>t', 'g292>a', 'a311>g'], 1: ['t288>g', 'g289>a', 'g291>t', 'g292>a', 'a311>g']}, 3: {0: ['t288>g', 'g291>t', 'g292>a', 'a294>c', 'a311>g', 'g312>t', 'c322>t'], 1: ['t288>g', 'g291>t', 'g292>a', 'a294>c', 'a311>g', 'g312>t', 'c322>t']}, 4: {0: ['g291>c', 'g292>t', 't296>g', 'c297>t', 'c300>t', 'g312>a', 'a324>g'], 1: ['g291>c', 'g292>t', 't296>g', 'c297>t', 'c300>t', 'g312>a', 'a324>g']}}\n"
     ]
    }
   ],
   "source": [
    "for i in range(aln.get_alignment_length()):\n",
    "    column = aln[:, i] # get column\n",
    "    \n",
    "    if column in same: # skip if everything is the same\n",
    "        continue\n",
    "\n",
    "    for e in exp: # for every experiment sequence\n",
    "        for r in refs: # for every reference sequence\n",
    "            if column[r] != column[e] and column[r] != \"-\" and column[e] != \"-\": # check for different nucleotides, skip indels\n",
    "                mut = column[r] + str(i+1) + \">\" + column[e]\n",
    "                mutations[e][r].append(mut)\n",
    "print(mutations)"
   ]
  },
  {
   "cell_type": "code",
   "execution_count": 6,
   "metadata": {},
   "outputs": [
    {
     "name": "stdout",
     "output_type": "stream",
     "text": [
      "Total amount of point mutations compared to the reference sequences\n",
      "IGLJ2*01 L1B3 5\n",
      "IGLJ2*01 L1D4 7\n",
      "IGLJ2*01 L3D4 7\n",
      "IGLJ3*01 L1B3 5\n",
      "IGLJ3*01 L1D4 7\n",
      "IGLJ3*01 L3D4 7\n"
     ]
    }
   ],
   "source": [
    "# Count mutations\n",
    "print(\"Total amount of point mutations compared to the reference sequences\")\n",
    "mut_count = dict()\n",
    "for r in refs:\n",
    "    mut_count[r] = dict()\n",
    "    for e in exp:\n",
    "        print(seq_names[r], seq_names[e], len(mutations[e][r]))\n",
    "        mut_count[r][e] = len(mutations[e][r])"
   ]
  },
  {
   "cell_type": "code",
   "execution_count": 7,
   "metadata": {},
   "outputs": [
    {
     "name": "stdout",
     "output_type": "stream",
     "text": [
      "Nr of common point mutations and perc compared to total nr of mutations\n",
      "IGLJ2*01 L1B3 L1D4 4 80.0 57.1\n",
      "IGLJ2*01 L1B3 L3D4 0 0.0 0.0\n",
      "IGLJ2*01 L1D4 L3D4 0 0.0 0.0\n",
      "IGLJ3*01 L1B3 L1D4 4 80.0 57.1\n",
      "IGLJ3*01 L1B3 L3D4 0 0.0 0.0\n",
      "IGLJ3*01 L1D4 L3D4 0 0.0 0.0\n"
     ]
    }
   ],
   "source": [
    "# Create matrix for common mutations compared to the references\n",
    "print(\"Nr of common point mutations and perc compared to total nr of mutations\")\n",
    "for r in refs:\n",
    "    for i in range(len(exp) - 1):\n",
    "        e1 = exp[i]\n",
    "        for j in range(i+1, len(exp)):\n",
    "            e2 = exp[j]\n",
    "            nr_common_mut = len(set(mutations[e1][r]).intersection(set(mutations[e2][r])))\n",
    "            perc_e1 = round(100 * nr_common_mut / mut_count[r][e1], 1)\n",
    "            perc_e2 = round(100 * nr_common_mut / mut_count[r][e2], 1)\n",
    "            print(seq_names[r], seq_names[e1], seq_names[e2], nr_common_mut, perc_e1, perc_e2)"
   ]
  },
  {
   "cell_type": "code",
   "execution_count": null,
   "metadata": {},
   "outputs": [],
   "source": []
  }
 ],
 "metadata": {
  "kernelspec": {
   "display_name": "Python 3",
   "language": "python",
   "name": "python3"
  },
  "language_info": {
   "codemirror_mode": {
    "name": "ipython",
    "version": 3
   },
   "file_extension": ".py",
   "mimetype": "text/x-python",
   "name": "python",
   "nbconvert_exporter": "python",
   "pygments_lexer": "ipython3",
   "version": "3.6.4"
  }
 },
 "nbformat": 4,
 "nbformat_minor": 2
}
