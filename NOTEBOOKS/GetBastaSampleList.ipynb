{
 "cells": [
  {
   "cell_type": "code",
   "execution_count": 1,
   "metadata": {},
   "outputs": [],
   "source": [
    "import pandas as pd"
   ]
  },
  {
   "cell_type": "code",
   "execution_count": 2,
   "metadata": {},
   "outputs": [
    {
     "data": {
      "text/html": [
       "<div>\n",
       "<style scoped>\n",
       "    .dataframe tbody tr th:only-of-type {\n",
       "        vertical-align: middle;\n",
       "    }\n",
       "\n",
       "    .dataframe tbody tr th {\n",
       "        vertical-align: top;\n",
       "    }\n",
       "\n",
       "    .dataframe thead th {\n",
       "        text-align: right;\n",
       "    }\n",
       "</style>\n",
       "<table border=\"1\" class=\"dataframe\">\n",
       "  <thead>\n",
       "    <tr style=\"text-align: right;\">\n",
       "      <th></th>\n",
       "      <th>Sample_Name</th>\n",
       "      <th>Run</th>\n",
       "    </tr>\n",
       "  </thead>\n",
       "  <tbody>\n",
       "    <tr>\n",
       "      <th>0</th>\n",
       "      <td>B005-SG-B</td>\n",
       "      <td>RUN31</td>\n",
       "    </tr>\n",
       "    <tr>\n",
       "      <th>1</th>\n",
       "      <td>BASTA-2172-B</td>\n",
       "      <td>RUN35</td>\n",
       "    </tr>\n",
       "    <tr>\n",
       "      <th>2</th>\n",
       "      <td>2172-mem</td>\n",
       "      <td>RUN35</td>\n",
       "    </tr>\n",
       "    <tr>\n",
       "      <th>3</th>\n",
       "      <td>3684-MZ</td>\n",
       "      <td>RUN35</td>\n",
       "    </tr>\n",
       "    <tr>\n",
       "      <th>4</th>\n",
       "      <td>BASTA-1467-B</td>\n",
       "      <td>RUN35</td>\n",
       "    </tr>\n",
       "  </tbody>\n",
       "</table>\n",
       "</div>"
      ],
      "text/plain": [
       "    Sample_Name    Run\n",
       "0     B005-SG-B  RUN31\n",
       "1  BASTA-2172-B  RUN35\n",
       "2      2172-mem  RUN35\n",
       "3       3684-MZ  RUN35\n",
       "4  BASTA-1467-B  RUN35"
      ]
     },
     "execution_count": 2,
     "metadata": {},
     "output_type": "execute_result"
    }
   ],
   "source": [
    "df = pd.read_csv(\"Basta-samples.csv\", header=None)\n",
    "df.columns = ['Sample_Name', 'Run']\n",
    "df.head()"
   ]
  },
  {
   "cell_type": "code",
   "execution_count": 3,
   "metadata": {},
   "outputs": [
    {
     "data": {
      "text/plain": [
       "['RUN29', 'RUN31', 'RUN32', 'RUN34', 'RUN35']"
      ]
     },
     "execution_count": 3,
     "metadata": {},
     "output_type": "execute_result"
    }
   ],
   "source": [
    "# Which runs?\n",
    "runs = list(df['Run'].unique())\n",
    "runs.sort()\n",
    "runs"
   ]
  },
  {
   "cell_type": "code",
   "execution_count": 4,
   "metadata": {},
   "outputs": [],
   "source": [
    "# Manually made this list\n",
    "prefix = '/mnt/immunogenomics/RUNS/'\n",
    "rundirs = [prefix + 'run29-20180605-miseq/BASTA20181217/final/',\n",
    "           prefix + 'run31-20180921-miseq/BASTA20181217/final/',\n",
    "           prefix + 'run32-20181125-miseq/results-tbcell/final/',\n",
    "           prefix + 'run34-20190218-miseq/UMI-human/final/',\n",
    "           prefix + 'run35-20190609-miseq/results-tbcell/final/']"
   ]
  },
  {
   "cell_type": "code",
   "execution_count": 5,
   "metadata": {},
   "outputs": [
    {
     "data": {
      "text/html": [
       "<div>\n",
       "<style scoped>\n",
       "    .dataframe tbody tr th:only-of-type {\n",
       "        vertical-align: middle;\n",
       "    }\n",
       "\n",
       "    .dataframe tbody tr th {\n",
       "        vertical-align: top;\n",
       "    }\n",
       "\n",
       "    .dataframe thead th {\n",
       "        text-align: right;\n",
       "    }\n",
       "</style>\n",
       "<table border=\"1\" class=\"dataframe\">\n",
       "  <thead>\n",
       "    <tr style=\"text-align: right;\">\n",
       "      <th></th>\n",
       "      <th>Sample_Name</th>\n",
       "      <th>Run</th>\n",
       "      <th>Dir</th>\n",
       "    </tr>\n",
       "  </thead>\n",
       "  <tbody>\n",
       "    <tr>\n",
       "      <th>0</th>\n",
       "      <td>B005-SG-B</td>\n",
       "      <td>RUN31</td>\n",
       "      <td>/mnt/immunogenomics/RUNS/run31-20180921-miseq/...</td>\n",
       "    </tr>\n",
       "    <tr>\n",
       "      <th>1</th>\n",
       "      <td>B007-Lnpre-B</td>\n",
       "      <td>RUN31</td>\n",
       "      <td>/mnt/immunogenomics/RUNS/run31-20180921-miseq/...</td>\n",
       "    </tr>\n",
       "    <tr>\n",
       "      <th>2</th>\n",
       "      <td>BASTA-1467-B</td>\n",
       "      <td>RUN31</td>\n",
       "      <td>/mnt/immunogenomics/RUNS/run31-20180921-miseq/...</td>\n",
       "    </tr>\n",
       "    <tr>\n",
       "      <th>3</th>\n",
       "      <td>B007-Lnpost-B</td>\n",
       "      <td>RUN31</td>\n",
       "      <td>/mnt/immunogenomics/RUNS/run31-20180921-miseq/...</td>\n",
       "    </tr>\n",
       "    <tr>\n",
       "      <th>4</th>\n",
       "      <td>B007-BMDC-B</td>\n",
       "      <td>RUN31</td>\n",
       "      <td>/mnt/immunogenomics/RUNS/run31-20180921-miseq/...</td>\n",
       "    </tr>\n",
       "  </tbody>\n",
       "</table>\n",
       "</div>"
      ],
      "text/plain": [
       "     Sample_Name    Run                                                Dir\n",
       "0      B005-SG-B  RUN31  /mnt/immunogenomics/RUNS/run31-20180921-miseq/...\n",
       "1   B007-Lnpre-B  RUN31  /mnt/immunogenomics/RUNS/run31-20180921-miseq/...\n",
       "2   BASTA-1467-B  RUN31  /mnt/immunogenomics/RUNS/run31-20180921-miseq/...\n",
       "3  B007-Lnpost-B  RUN31  /mnt/immunogenomics/RUNS/run31-20180921-miseq/...\n",
       "4    B007-BMDC-B  RUN31  /mnt/immunogenomics/RUNS/run31-20180921-miseq/..."
      ]
     },
     "execution_count": 5,
     "metadata": {},
     "output_type": "execute_result"
    }
   ],
   "source": [
    "df = pd.merge(df, pd.DataFrame({'Run': runs, 'Dir': rundirs}), on='Run')\n",
    "df.head()"
   ]
  },
  {
   "cell_type": "code",
   "execution_count": 6,
   "metadata": {},
   "outputs": [
    {
     "name": "stdout",
     "output_type": "stream",
     "text": [
      "ls /mnt/immunogenomics/RUNS/run31-20180921-miseq/BASTA20181217/final/B005-SG-B*-clones-mut-sites-reassigned.csv >> SAMPLES-basta\n",
      "ls /mnt/immunogenomics/RUNS/run31-20180921-miseq/BASTA20181217/final/B007-Lnpre-B*-clones-mut-sites-reassigned.csv >> SAMPLES-basta\n",
      "ls /mnt/immunogenomics/RUNS/run31-20180921-miseq/BASTA20181217/final/BASTA-1467-B*-clones-mut-sites-reassigned.csv >> SAMPLES-basta\n",
      "ls /mnt/immunogenomics/RUNS/run31-20180921-miseq/BASTA20181217/final/B007-Lnpost-B*-clones-mut-sites-reassigned.csv >> SAMPLES-basta\n",
      "ls /mnt/immunogenomics/RUNS/run31-20180921-miseq/BASTA20181217/final/B007-BMDC-B*-clones-mut-sites-reassigned.csv >> SAMPLES-basta\n",
      "ls /mnt/immunogenomics/RUNS/run31-20180921-miseq/BASTA20181217/final/B007-PBBMDC-1-B*-clones-mut-sites-reassigned.csv >> SAMPLES-basta\n",
      "ls /mnt/immunogenomics/RUNS/run31-20180921-miseq/BASTA20181217/final/B007-PBBMDC-2-B*-clones-mut-sites-reassigned.csv >> SAMPLES-basta\n",
      "ls /mnt/immunogenomics/RUNS/run31-20180921-miseq/BASTA20181217/final/B009-clone2-B*-clones-mut-sites-reassigned.csv >> SAMPLES-basta\n",
      "ls /mnt/immunogenomics/RUNS/run31-20180921-miseq/BASTA20181217/final/B009-clone6-B*-clones-mut-sites-reassigned.csv >> SAMPLES-basta\n",
      "ls /mnt/immunogenomics/RUNS/run31-20180921-miseq/BASTA20181217/final/B009-clone10-B*-clones-mut-sites-reassigned.csv >> SAMPLES-basta\n",
      "ls /mnt/immunogenomics/RUNS/run31-20180921-miseq/BASTA20181217/final/B009-clone17-B*-clones-mut-sites-reassigned.csv >> SAMPLES-basta\n",
      "ls /mnt/immunogenomics/RUNS/run31-20180921-miseq/BASTA20181217/final/SS3-lung-1a-B*-clones-mut-sites-reassigned.csv >> SAMPLES-basta\n",
      "ls /mnt/immunogenomics/RUNS/run31-20180921-miseq/BASTA20181217/final/SS3-lung-1b-B*-clones-mut-sites-reassigned.csv >> SAMPLES-basta\n",
      "ls /mnt/immunogenomics/RUNS/run31-20180921-miseq/BASTA20181217/final/SS3-lung-1c-B*-clones-mut-sites-reassigned.csv >> SAMPLES-basta\n",
      "ls /mnt/immunogenomics/RUNS/run35-20190609-miseq/results-tbcell/final/BASTA-2172-B*-clones-mut-sites-reassigned.csv >> SAMPLES-basta\n",
      "ls /mnt/immunogenomics/RUNS/run35-20190609-miseq/results-tbcell/final/2172-mem*-clones-mut-sites-reassigned.csv >> SAMPLES-basta\n",
      "ls /mnt/immunogenomics/RUNS/run35-20190609-miseq/results-tbcell/final/3684-MZ*-clones-mut-sites-reassigned.csv >> SAMPLES-basta\n",
      "ls /mnt/immunogenomics/RUNS/run35-20190609-miseq/results-tbcell/final/BASTA-1467-B*-clones-mut-sites-reassigned.csv >> SAMPLES-basta\n",
      "ls /mnt/immunogenomics/RUNS/run35-20190609-miseq/results-tbcell/final/B007-naive*-clones-mut-sites-reassigned.csv >> SAMPLES-basta\n",
      "ls /mnt/immunogenomics/RUNS/run35-20190609-miseq/results-tbcell/final/2172-MZ*-clones-mut-sites-reassigned.csv >> SAMPLES-basta\n",
      "ls /mnt/immunogenomics/RUNS/run35-20190609-miseq/results-tbcell/final/3684-naive*-clones-mut-sites-reassigned.csv >> SAMPLES-basta\n",
      "ls /mnt/immunogenomics/RUNS/run35-20190609-miseq/results-tbcell/final/B007-PB*-clones-mut-sites-reassigned.csv >> SAMPLES-basta\n",
      "ls /mnt/immunogenomics/RUNS/run35-20190609-miseq/results-tbcell/final/1193-DN*-clones-mut-sites-reassigned.csv >> SAMPLES-basta\n",
      "ls /mnt/immunogenomics/RUNS/run35-20190609-miseq/results-tbcell/final/2172-naive*-clones-mut-sites-reassigned.csv >> SAMPLES-basta\n",
      "ls /mnt/immunogenomics/RUNS/run35-20190609-miseq/results-tbcell/final/3684-PB*-clones-mut-sites-reassigned.csv >> SAMPLES-basta\n",
      "ls /mnt/immunogenomics/RUNS/run35-20190609-miseq/results-tbcell/final/B005-PB*-clones-mut-sites-reassigned.csv >> SAMPLES-basta\n",
      "ls /mnt/immunogenomics/RUNS/run35-20190609-miseq/results-tbcell/final/1193-mem*-clones-mut-sites-reassigned.csv >> SAMPLES-basta\n",
      "ls /mnt/immunogenomics/RUNS/run35-20190609-miseq/results-tbcell/final/2172-PB*-clones-mut-sites-reassigned.csv >> SAMPLES-basta\n",
      "ls /mnt/immunogenomics/RUNS/run35-20190609-miseq/results-tbcell/final/1193-MZ*-clones-mut-sites-reassigned.csv >> SAMPLES-basta\n",
      "ls /mnt/immunogenomics/RUNS/run35-20190609-miseq/results-tbcell/final/1467-DN*-clones-mut-sites-reassigned.csv >> SAMPLES-basta\n",
      "ls /mnt/immunogenomics/RUNS/run35-20190609-miseq/results-tbcell/final/1193-naive*-clones-mut-sites-reassigned.csv >> SAMPLES-basta\n",
      "ls /mnt/immunogenomics/RUNS/run35-20190609-miseq/results-tbcell/final/3684-CD20p*-clones-mut-sites-reassigned.csv >> SAMPLES-basta\n",
      "ls /mnt/immunogenomics/RUNS/run35-20190609-miseq/results-tbcell/final/1467-mem*-clones-mut-sites-reassigned.csv >> SAMPLES-basta\n",
      "ls /mnt/immunogenomics/RUNS/run35-20190609-miseq/results-tbcell/final/2172-CD20p*-clones-mut-sites-reassigned.csv >> SAMPLES-basta\n",
      "ls /mnt/immunogenomics/RUNS/run35-20190609-miseq/results-tbcell/final/3684-DN*-clones-mut-sites-reassigned.csv >> SAMPLES-basta\n",
      "ls /mnt/immunogenomics/RUNS/run35-20190609-miseq/results-tbcell/final/1467-MZ*-clones-mut-sites-reassigned.csv >> SAMPLES-basta\n",
      "ls /mnt/immunogenomics/RUNS/run35-20190609-miseq/results-tbcell/final/2172-DN*-clones-mut-sites-reassigned.csv >> SAMPLES-basta\n",
      "ls /mnt/immunogenomics/RUNS/run35-20190609-miseq/results-tbcell/final/3684-mem*-clones-mut-sites-reassigned.csv >> SAMPLES-basta\n",
      "ls /mnt/immunogenomics/RUNS/run35-20190609-miseq/results-tbcell/final/1467-naive*-clones-mut-sites-reassigned.csv >> SAMPLES-basta\n",
      "ls /mnt/immunogenomics/RUNS/run35-20190609-miseq/results-tbcell/final/SS4-PE-slice*-clones-mut-sites-reassigned.csv >> SAMPLES-basta\n",
      "ls /mnt/immunogenomics/RUNS/run35-20190609-miseq/results-tbcell/final/2172-PE-slice*-clones-mut-sites-reassigned.csv >> SAMPLES-basta\n",
      "ls /mnt/immunogenomics/RUNS/run35-20190609-miseq/results-tbcell/final/3684-PE-slice*-clones-mut-sites-reassigned.csv >> SAMPLES-basta\n",
      "ls /mnt/immunogenomics/RUNS/run35-20190609-miseq/results-tbcell/final/2172-PE-block*-clones-mut-sites-reassigned.csv >> SAMPLES-basta\n",
      "ls /mnt/immunogenomics/RUNS/run35-20190609-miseq/results-tbcell/final/SS4-PE-block*-clones-mut-sites-reassigned.csv >> SAMPLES-basta\n",
      "ls /mnt/immunogenomics/RUNS/run35-20190609-miseq/results-tbcell/final/3684-PE-block*-clones-mut-sites-reassigned.csv >> SAMPLES-basta\n",
      "ls /mnt/immunogenomics/RUNS/run35-20190609-miseq/results-tbcell/final/1467-PE-block*-clones-mut-sites-reassigned.csv >> SAMPLES-basta\n",
      "ls /mnt/immunogenomics/RUNS/run34-20190218-miseq/UMI-human/final/BASTA-1D*-clones-mut-sites-reassigned.csv >> SAMPLES-basta\n",
      "ls /mnt/immunogenomics/RUNS/run34-20190218-miseq/UMI-human/final/BASTA-3M*-clones-mut-sites-reassigned.csv >> SAMPLES-basta\n",
      "ls /mnt/immunogenomics/RUNS/run34-20190218-miseq/UMI-human/final/BASTA-1G*-clones-mut-sites-reassigned.csv >> SAMPLES-basta\n",
      "ls /mnt/immunogenomics/RUNS/run34-20190218-miseq/UMI-human/final/BASTA-1M*-clones-mut-sites-reassigned.csv >> SAMPLES-basta\n",
      "ls /mnt/immunogenomics/RUNS/run34-20190218-miseq/UMI-human/final/BASTA-4M*-clones-mut-sites-reassigned.csv >> SAMPLES-basta\n",
      "ls /mnt/immunogenomics/RUNS/run34-20190218-miseq/UMI-human/final/BASTA-2G*-clones-mut-sites-reassigned.csv >> SAMPLES-basta\n",
      "ls /mnt/immunogenomics/RUNS/run34-20190218-miseq/UMI-human/final/BASTA-2M*-clones-mut-sites-reassigned.csv >> SAMPLES-basta\n",
      "ls /mnt/immunogenomics/RUNS/run34-20190218-miseq/UMI-human/final/BASTA-3G*-clones-mut-sites-reassigned.csv >> SAMPLES-basta\n",
      "ls /mnt/immunogenomics/RUNS/run34-20190218-miseq/UMI-human/final/BASTA-6G*-clones-mut-sites-reassigned.csv >> SAMPLES-basta\n",
      "ls /mnt/immunogenomics/RUNS/run34-20190218-miseq/UMI-human/final/BASTA-6M*-clones-mut-sites-reassigned.csv >> SAMPLES-basta\n",
      "ls /mnt/immunogenomics/RUNS/run34-20190218-miseq/UMI-human/final/BASTA-7D*-clones-mut-sites-reassigned.csv >> SAMPLES-basta\n",
      "ls /mnt/immunogenomics/RUNS/run34-20190218-miseq/UMI-human/final/BASTA-7G*-clones-mut-sites-reassigned.csv >> SAMPLES-basta\n",
      "ls /mnt/immunogenomics/RUNS/run34-20190218-miseq/UMI-human/final/BASTA-7M*-clones-mut-sites-reassigned.csv >> SAMPLES-basta\n",
      "ls /mnt/immunogenomics/RUNS/run32-20181125-miseq/results-tbcell/final/BASTA-0352*-clones-mut-sites-reassigned.csv >> SAMPLES-basta\n",
      "ls /mnt/immunogenomics/RUNS/run32-20181125-miseq/results-tbcell/final/SS3-lip*-clones-mut-sites-reassigned.csv >> SAMPLES-basta\n",
      "ls /mnt/immunogenomics/RUNS/run32-20181125-miseq/results-tbcell/final/B007-LN*-clones-mut-sites-reassigned.csv >> SAMPLES-basta\n",
      "ls /mnt/immunogenomics/RUNS/run29-20180605-miseq/BASTA20181217/final/BASTA17*-clones-mut-sites-reassigned.csv >> SAMPLES-basta\n",
      "ls /mnt/immunogenomics/RUNS/run29-20180605-miseq/BASTA20181217/final/BASTA18*-clones-mut-sites-reassigned.csv >> SAMPLES-basta\n",
      "ls /mnt/immunogenomics/RUNS/run29-20180605-miseq/BASTA20181217/final/BASTA11*-clones-mut-sites-reassigned.csv >> SAMPLES-basta\n",
      "ls /mnt/immunogenomics/RUNS/run29-20180605-miseq/BASTA20181217/final/BASTA19*-clones-mut-sites-reassigned.csv >> SAMPLES-basta\n",
      "ls /mnt/immunogenomics/RUNS/run29-20180605-miseq/BASTA20181217/final/BASTA12*-clones-mut-sites-reassigned.csv >> SAMPLES-basta\n",
      "ls /mnt/immunogenomics/RUNS/run29-20180605-miseq/BASTA20181217/final/BASTA20*-clones-mut-sites-reassigned.csv >> SAMPLES-basta\n",
      "ls /mnt/immunogenomics/RUNS/run29-20180605-miseq/BASTA20181217/final/BASTA13*-clones-mut-sites-reassigned.csv >> SAMPLES-basta\n",
      "ls /mnt/immunogenomics/RUNS/run29-20180605-miseq/BASTA20181217/final/BASTA14*-clones-mut-sites-reassigned.csv >> SAMPLES-basta\n",
      "ls /mnt/immunogenomics/RUNS/run29-20180605-miseq/BASTA20181217/final/BASTA15*-clones-mut-sites-reassigned.csv >> SAMPLES-basta\n",
      "ls /mnt/immunogenomics/RUNS/run29-20180605-miseq/BASTA20181217/final/BASTA16*-clones-mut-sites-reassigned.csv >> SAMPLES-basta\n",
      "Wrote list-samples.sh to disk\n"
     ]
    }
   ],
   "source": [
    "fhOut = open(\"list-samples.sh\", \"w\")\n",
    "f = lambda d,s: \"ls \" + d + s + \"*-clones-mut-sites-reassigned.csv >> SAMPLES-basta\"\n",
    "for x in map(f, df['Dir'], df['Sample_Name']):\n",
    "    print(x)\n",
    "    print(x, file=fhOut)\n",
    "fhOut.close()\n",
    "print(\"Wrote list-samples.sh to disk\")"
   ]
  },
  {
   "cell_type": "code",
   "execution_count": null,
   "metadata": {},
   "outputs": [],
   "source": []
  }
 ],
 "metadata": {
  "kernelspec": {
   "display_name": "Python 3",
   "language": "python",
   "name": "python3"
  },
  "language_info": {
   "codemirror_mode": {
    "name": "ipython",
    "version": 3
   },
   "file_extension": ".py",
   "mimetype": "text/x-python",
   "name": "python",
   "nbconvert_exporter": "python",
   "pygments_lexer": "ipython3",
   "version": "3.6.5"
  }
 },
 "nbformat": 4,
 "nbformat_minor": 2
}
