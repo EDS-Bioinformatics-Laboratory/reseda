{
 "cells": [
  {
   "cell_type": "code",
   "execution_count": 1,
   "metadata": {},
   "outputs": [],
   "source": [
    "import pandas as pd\n",
    "import os"
   ]
  },
  {
   "cell_type": "code",
   "execution_count": 2,
   "metadata": {},
   "outputs": [],
   "source": [
    "# First align the sequences against IGHC, then integrate this table with all_info\n",
    "# And generate a new clones file (integration and creating new files in this script)\n",
    "MYDIR = \"../final/\""
   ]
  },
  {
   "cell_type": "code",
   "execution_count": 3,
   "metadata": {},
   "outputs": [
    {
     "data": {
      "text/plain": [
       "{'IgSub5-3_S144': 'IgSub5-3_S144_L001.assembled-ACGTACGT-IGHC_CH12_human-easy-import.txt',\n",
       " 'IgSub1-3_S100': 'IgSub1-3_S100_L001.assembled-ACGTACGT-IGHC_CH12_human-easy-import.txt',\n",
       " 'IgSub2-3_S104': 'IgSub2-3_S104_L001.assembled-ACGTACGT-IGHC_CH12_human-easy-import.txt',\n",
       " 'IgSub3-3_S122': 'IgSub3-3_S122_L001.assembled-ACGTACGT-IGHC_CH12_human-easy-import.txt',\n",
       " 'IgSub4-3_S126': 'IgSub4-3_S126_L001.assembled-ACGTACGT-IGHC_CH12_human-easy-import.txt',\n",
       " 'IgSub6-3_S148': 'IgSub6-3_S148_L001.assembled-ACGTACGT-IGHC_CH12_human-easy-import.txt'}"
      ]
     },
     "execution_count": 3,
     "metadata": {},
     "output_type": "execute_result"
    }
   ],
   "source": [
    "# Get list of files with aligned sequences (IGHC)\n",
    "ighc_files = dict()\n",
    "for myfile in os.listdir(MYDIR):\n",
    "    if myfile.endswith(\"-IGHC_CH12_human-easy-import.txt\"):\n",
    "        mysample = myfile.split(\"_L001\")[0]\n",
    "        ighc_files[mysample] = myfile\n",
    "ighc_files"
   ]
  },
  {
   "cell_type": "code",
   "execution_count": 4,
   "metadata": {},
   "outputs": [
    {
     "data": {
      "text/plain": [
       "{'IgSub5-3_S144': 'IgSub5-3_S144_L001.assembled-ACGTACGT-IGH_HUMAN-all_info.csv',\n",
       " 'IgSub1-3_S100': 'IgSub1-3_S100_L001.assembled-ACGTACGT-IGH_HUMAN-all_info.csv',\n",
       " 'IgSub2-3_S104': 'IgSub2-3_S104_L001.assembled-ACGTACGT-IGH_HUMAN-all_info.csv',\n",
       " 'IgSub3-3_S122': 'IgSub3-3_S122_L001.assembled-ACGTACGT-IGH_HUMAN-all_info.csv',\n",
       " 'IgSub4-3_S126': 'IgSub4-3_S126_L001.assembled-ACGTACGT-IGH_HUMAN-all_info.csv',\n",
       " 'IgSub6-3_S148': 'IgSub6-3_S148_L001.assembled-ACGTACGT-IGH_HUMAN-all_info.csv'}"
      ]
     },
     "execution_count": 4,
     "metadata": {},
     "output_type": "execute_result"
    }
   ],
   "source": [
    "# Retrieve the all_info.csv files\n",
    "allinfo_files = dict()\n",
    "for myfile in os.listdir(MYDIR):\n",
    "    if myfile.endswith(\"-all_info.csv\"):\n",
    "        mysample = myfile.split(\"_L001\")[0]\n",
    "        allinfo_files[mysample] = myfile\n",
    "allinfo_files"
   ]
  },
  {
   "cell_type": "code",
   "execution_count": 5,
   "metadata": {},
   "outputs": [],
   "source": [
    "def integrateIghcAllinfo(sample, allinfo_files, ighc_files):\n",
    "    # Read all_info and IGHC tables\n",
    "    df_a = pd.read_csv(MYDIR + allinfo_files[sample], sep=\"\\t\", na_values=['None', ''])\n",
    "    df_c = pd.read_csv(MYDIR + ighc_files[sample], sep=\"\\t\", header=None, na_values=['None', ''])\n",
    "    df_c.columns = ['acc', 'bwa_flag', 'C_region']\n",
    "\n",
    "    # Clean up the gene name from the alignment\n",
    "    clean_name = lambda x: x.split(\"|\")[1]\n",
    "    df_c[\"C_region\"] = [g for g in map(clean_name, df_c['C_region'])]\n",
    "\n",
    "    # Filter on bwa_flag (should be 0 or 16)\n",
    "    df_c = df_c.loc[(df_c['bwa_flag'] == 16) | (df_c['bwa_flag'] == 0)]\n",
    "\n",
    "    # Merge the two tables\n",
    "    df = pd.merge(df_a, df_c, how=\"left\", on=\"acc\")\n",
    "    \n",
    "    return(df)"
   ]
  },
  {
   "cell_type": "code",
   "execution_count": 6,
   "metadata": {},
   "outputs": [],
   "source": [
    "def concat_jc_gene(genes):\n",
    "    genes = list(set(genes))           # get unique names\n",
    "    genes = [ str(x) for x in genes ]  # make sure that everything is a string\n",
    "    genes.sort()                       # sort alphabetically\n",
    "    return \",\".join(genes)"
   ]
  },
  {
   "cell_type": "code",
   "execution_count": 7,
   "metadata": {},
   "outputs": [],
   "source": [
    "def create_clones(df):\n",
    "    # Apply filter to all info\n",
    "    df = df.loc[(df['cdr3_qual_min'] >= 30) & (pd.isna(df['V_sub']) == False) & (pd.isna(df['J_sub']) == False) & ((df['V_flag'] == 0) | (df['V_flag'] == 16)) & ((df['J_flag'] == 0) | (df['J_flag'] == 16))]\n",
    "    \n",
    "    # Now group it into clones\n",
    "    select = ['cdr3pep', 'V_sub', 'J_sub', 'C_region', 'acc', 'beforeMID', 'cdr3nuc']\n",
    "    cols = ['cdr3pep', 'V_sub']\n",
    "    clones = df[select].groupby(cols).agg({'J_sub': concat_jc_gene, 'C_region': concat_jc_gene, 'beforeMID': 'nunique', 'acc': 'nunique'})\n",
    "    clones = clones.sort_values(by='beforeMID', ascending=False)\n",
    "    clones = clones.reset_index()\n",
    "    \n",
    "    return(clones)"
   ]
  },
  {
   "cell_type": "code",
   "execution_count": 8,
   "metadata": {},
   "outputs": [
    {
     "name": "stdout",
     "output_type": "stream",
     "text": [
      "Wrote ../final/IgSub5-3_S144_L001.assembled-ACGTACGT-IGH_HUMAN-ighc-all_info.csv to disk\n",
      "Wrote ../final/IgSub5-3_S144_L001.assembled-ACGTACGT-IGH_HUMAN-ighc-clones.csv to disk\n",
      "Wrote ../final/IgSub1-3_S100_L001.assembled-ACGTACGT-IGH_HUMAN-ighc-all_info.csv to disk\n",
      "Wrote ../final/IgSub1-3_S100_L001.assembled-ACGTACGT-IGH_HUMAN-ighc-clones.csv to disk\n",
      "Wrote ../final/IgSub2-3_S104_L001.assembled-ACGTACGT-IGH_HUMAN-ighc-all_info.csv to disk\n",
      "Wrote ../final/IgSub2-3_S104_L001.assembled-ACGTACGT-IGH_HUMAN-ighc-clones.csv to disk\n",
      "Wrote ../final/IgSub3-3_S122_L001.assembled-ACGTACGT-IGH_HUMAN-ighc-all_info.csv to disk\n",
      "Wrote ../final/IgSub3-3_S122_L001.assembled-ACGTACGT-IGH_HUMAN-ighc-clones.csv to disk\n",
      "Wrote ../final/IgSub4-3_S126_L001.assembled-ACGTACGT-IGH_HUMAN-ighc-all_info.csv to disk\n",
      "Wrote ../final/IgSub4-3_S126_L001.assembled-ACGTACGT-IGH_HUMAN-ighc-clones.csv to disk\n",
      "Wrote ../final/IgSub6-3_S148_L001.assembled-ACGTACGT-IGH_HUMAN-ighc-all_info.csv to disk\n",
      "Wrote ../final/IgSub6-3_S148_L001.assembled-ACGTACGT-IGH_HUMAN-ighc-clones.csv to disk\n"
     ]
    }
   ],
   "source": [
    "for sample in list(ighc_files.keys()):\n",
    "    df = integrateIghcAllinfo(sample, allinfo_files, ighc_files)\n",
    "    allinfonew = allinfo_files[sample].replace(\"-all_info.csv\", \"-ighc-all_info.csv\")\n",
    "    df.to_csv(MYDIR + allinfonew, sep=\"\\t\", index=False)\n",
    "    print(\"Wrote\", MYDIR + allinfonew, \"to disk\")\n",
    "\n",
    "    clones = create_clones(df)\n",
    "    clonesnew = allinfo_files[sample].replace(\"-all_info.csv\", \"-ighc-clones.csv\")\n",
    "    clones.to_csv(MYDIR + clonesnew, sep=\"\\t\", index=False)\n",
    "    print(\"Wrote\", MYDIR + clonesnew, \"to disk\")"
   ]
  },
  {
   "cell_type": "code",
   "execution_count": null,
   "metadata": {},
   "outputs": [],
   "source": []
  }
 ],
 "metadata": {
  "kernelspec": {
   "display_name": "Python 3",
   "language": "python",
   "name": "python3"
  },
  "language_info": {
   "codemirror_mode": {
    "name": "ipython",
    "version": 3
   },
   "file_extension": ".py",
   "mimetype": "text/x-python",
   "name": "python",
   "nbconvert_exporter": "python",
   "pygments_lexer": "ipython3",
   "version": "3.6.5"
  }
 },
 "nbformat": 4,
 "nbformat_minor": 2
}
