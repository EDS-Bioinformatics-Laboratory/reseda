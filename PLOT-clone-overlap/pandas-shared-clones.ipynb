{
 "cells": [
  {
   "cell_type": "code",
   "execution_count": 164,
   "metadata": {},
   "outputs": [],
   "source": [
    "import pandas as pd"
   ]
  },
  {
   "cell_type": "markdown",
   "metadata": {},
   "source": [
    "## Import data"
   ]
  },
  {
   "cell_type": "code",
   "execution_count": 165,
   "metadata": {},
   "outputs": [],
   "source": [
    "#clones_file = \"cdr3-clones-AB-ADA-IGH_HUMAN-after-reassignment.csv\" # 3MB file\n",
    "clones_file = \"cdr3-clones-AB-RBF-TRB_HUMAN-after-reassignment.csv\" # 300 MB file\n",
    "df = pd.read_csv(clones_file, sep=\"\\t\")"
   ]
  },
  {
   "cell_type": "code",
   "execution_count": 166,
   "metadata": {},
   "outputs": [
    {
     "data": {
      "text/html": [
       "<div>\n",
       "<style scoped>\n",
       "    .dataframe tbody tr th:only-of-type {\n",
       "        vertical-align: middle;\n",
       "    }\n",
       "\n",
       "    .dataframe tbody tr th {\n",
       "        vertical-align: top;\n",
       "    }\n",
       "\n",
       "    .dataframe thead th {\n",
       "        text-align: right;\n",
       "    }\n",
       "</style>\n",
       "<table border=\"1\" class=\"dataframe\">\n",
       "  <thead>\n",
       "    <tr style=\"text-align: right;\">\n",
       "      <th></th>\n",
       "      <th>Sample</th>\n",
       "      <th>MID</th>\n",
       "      <th>cdr3pep</th>\n",
       "      <th>freq</th>\n",
       "      <th>uniq_umis</th>\n",
       "      <th>V_sub</th>\n",
       "      <th>J_sub</th>\n",
       "      <th>read_perc</th>\n",
       "      <th>umi_perc</th>\n",
       "    </tr>\n",
       "  </thead>\n",
       "  <tbody>\n",
       "    <tr>\n",
       "      <th>0</th>\n",
       "      <td>AB-RBF002-Tu_S1</td>\n",
       "      <td>ACGTACGT</td>\n",
       "      <td>CASSAVAGGYNEQFFG</td>\n",
       "      <td>574</td>\n",
       "      <td>517</td>\n",
       "      <td>TRBV6-2+TRBV6-3</td>\n",
       "      <td>TRBJ2-1,TRBJ2-5,TRBJ2-7</td>\n",
       "      <td>0.876577</td>\n",
       "      <td>0.992056</td>\n",
       "    </tr>\n",
       "    <tr>\n",
       "      <th>1</th>\n",
       "      <td>AB-RBF002-Tu_S1</td>\n",
       "      <td>ACGTACGT</td>\n",
       "      <td>CASSLVTDTQYFG</td>\n",
       "      <td>419</td>\n",
       "      <td>333</td>\n",
       "      <td>TRBV11-2</td>\n",
       "      <td>TRBJ2-3</td>\n",
       "      <td>0.639870</td>\n",
       "      <td>0.638984</td>\n",
       "    </tr>\n",
       "    <tr>\n",
       "      <th>2</th>\n",
       "      <td>AB-RBF002-Tu_S1</td>\n",
       "      <td>ACGTACGT</td>\n",
       "      <td>CSGARGEGTEAFFG</td>\n",
       "      <td>327</td>\n",
       "      <td>216</td>\n",
       "      <td>TRBV29-1</td>\n",
       "      <td>TRBJ1-1</td>\n",
       "      <td>0.499374</td>\n",
       "      <td>0.414476</td>\n",
       "    </tr>\n",
       "    <tr>\n",
       "      <th>3</th>\n",
       "      <td>AB-RBF002-Tu_S1</td>\n",
       "      <td>ACGTACGT</td>\n",
       "      <td>CASSTSPRGYTFG</td>\n",
       "      <td>311</td>\n",
       "      <td>247</td>\n",
       "      <td>TRBV19</td>\n",
       "      <td>TRBJ1-2</td>\n",
       "      <td>0.474940</td>\n",
       "      <td>0.473961</td>\n",
       "    </tr>\n",
       "    <tr>\n",
       "      <th>4</th>\n",
       "      <td>AB-RBF002-Tu_S1</td>\n",
       "      <td>ACGTACGT</td>\n",
       "      <td>CSVEEGGYTFG</td>\n",
       "      <td>297</td>\n",
       "      <td>189</td>\n",
       "      <td>TRBV29-1</td>\n",
       "      <td>TRBJ1-2</td>\n",
       "      <td>0.453560</td>\n",
       "      <td>0.362666</td>\n",
       "    </tr>\n",
       "  </tbody>\n",
       "</table>\n",
       "</div>"
      ],
      "text/plain": [
       "            Sample       MID           cdr3pep  freq  uniq_umis  \\\n",
       "0  AB-RBF002-Tu_S1  ACGTACGT  CASSAVAGGYNEQFFG   574        517   \n",
       "1  AB-RBF002-Tu_S1  ACGTACGT     CASSLVTDTQYFG   419        333   \n",
       "2  AB-RBF002-Tu_S1  ACGTACGT    CSGARGEGTEAFFG   327        216   \n",
       "3  AB-RBF002-Tu_S1  ACGTACGT     CASSTSPRGYTFG   311        247   \n",
       "4  AB-RBF002-Tu_S1  ACGTACGT       CSVEEGGYTFG   297        189   \n",
       "\n",
       "             V_sub                    J_sub  read_perc  umi_perc  \n",
       "0  TRBV6-2+TRBV6-3  TRBJ2-1,TRBJ2-5,TRBJ2-7   0.876577  0.992056  \n",
       "1         TRBV11-2                  TRBJ2-3   0.639870  0.638984  \n",
       "2         TRBV29-1                  TRBJ1-1   0.499374  0.414476  \n",
       "3           TRBV19                  TRBJ1-2   0.474940  0.473961  \n",
       "4         TRBV29-1                  TRBJ1-2   0.453560  0.362666  "
      ]
     },
     "execution_count": 166,
     "metadata": {},
     "output_type": "execute_result"
    }
   ],
   "source": [
    "df.head()"
   ]
  },
  {
   "cell_type": "markdown",
   "metadata": {},
   "source": [
    "## Summary of the content"
   ]
  },
  {
   "cell_type": "code",
   "execution_count": 167,
   "metadata": {},
   "outputs": [
    {
     "name": "stdout",
     "output_type": "stream",
     "text": [
      "Table length: 3501186\n",
      "Nr of samples: 140\n",
      "Nr of unique cdr3pep, V and J: cdr3pep    2645657\n",
      "V_sub         1663\n",
      "J_sub          537\n",
      "dtype: int64\n"
     ]
    }
   ],
   "source": [
    "print(\"Table length:\", len(df))\n",
    "print(\"Nr of samples:\", df[\"Sample\"].nunique())\n",
    "print(\"Nr of unique cdr3pep, V and J:\", df[[\"cdr3pep\",\"V_sub\",\"J_sub\"]].nunique())"
   ]
  },
  {
   "cell_type": "markdown",
   "metadata": {},
   "source": [
    "## Which CDR3's are shared?"
   ]
  },
  {
   "cell_type": "code",
   "execution_count": 168,
   "metadata": {},
   "outputs": [],
   "source": [
    "# Group by cdr3pep and count samples\n",
    "grouped = df.groupby('cdr3pep')['Sample'].count()\n",
    "#grouped.head()"
   ]
  },
  {
   "cell_type": "code",
   "execution_count": 169,
   "metadata": {},
   "outputs": [
    {
     "data": {
      "text/plain": [
       "cdr3pep\n",
       "CASSFG           140\n",
       "CASSLFG          134\n",
       "CASSPFG          124\n",
       "CASSPSTDTQYFG    121\n",
       "CASSPQETQYFG     120\n",
       "Name: Sample, dtype: int64"
      ]
     },
     "execution_count": 169,
     "metadata": {},
     "output_type": "execute_result"
    }
   ],
   "source": [
    "# Select entries that occur in more than one sample and sort on nr of samples\n",
    "shared_cdr3 = grouped[grouped > 1]\n",
    "shared_cdr3 = shared_cdr3.sort_values(ascending=False)\n",
    "shared_cdr3.head()"
   ]
  },
  {
   "cell_type": "markdown",
   "metadata": {},
   "source": [
    "## Which Clones are shared?"
   ]
  },
  {
   "cell_type": "code",
   "execution_count": 170,
   "metadata": {},
   "outputs": [],
   "source": [
    "# Group by cdr3pep, v and j. Count nr of samples, sort on nr_samples\n",
    "clones_in_samples = df.groupby(['cdr3pep', 'V_sub', 'J_sub'])['Sample'].apply(list)\n",
    "clones_in_samples = pd.DataFrame(clones_in_samples)\n",
    "clones_in_samples[\"nr_samples\"] = clones_in_samples['Sample'].apply(len)\n",
    "clones_in_samples = clones_in_samples.sort_values('nr_samples', ascending=False)"
   ]
  },
  {
   "cell_type": "code",
   "execution_count": 171,
   "metadata": {},
   "outputs": [
    {
     "name": "stdout",
     "output_type": "stream",
     "text": [
      "Total unique clones: 3013705\n"
     ]
    },
    {
     "data": {
      "text/html": [
       "<div>\n",
       "<style scoped>\n",
       "    .dataframe tbody tr th:only-of-type {\n",
       "        vertical-align: middle;\n",
       "    }\n",
       "\n",
       "    .dataframe tbody tr th {\n",
       "        vertical-align: top;\n",
       "    }\n",
       "\n",
       "    .dataframe thead th {\n",
       "        text-align: right;\n",
       "    }\n",
       "</style>\n",
       "<table border=\"1\" class=\"dataframe\">\n",
       "  <thead>\n",
       "    <tr style=\"text-align: right;\">\n",
       "      <th></th>\n",
       "      <th></th>\n",
       "      <th></th>\n",
       "      <th>Sample</th>\n",
       "      <th>nr_samples</th>\n",
       "    </tr>\n",
       "    <tr>\n",
       "      <th>cdr3pep</th>\n",
       "      <th>V_sub</th>\n",
       "      <th>J_sub</th>\n",
       "      <th></th>\n",
       "      <th></th>\n",
       "    </tr>\n",
       "  </thead>\n",
       "  <tbody>\n",
       "    <tr>\n",
       "      <th>CASSPQETQYFG</th>\n",
       "      <th>TRBV18</th>\n",
       "      <th>TRBJ2-5</th>\n",
       "      <td>[AB-RBF002-Tu_S1, AB-RBF003-Tu_S2, AB-RBF007-T...</td>\n",
       "      <td>86</td>\n",
       "    </tr>\n",
       "    <tr>\n",
       "      <th>CASSPPSTDTQYFG</th>\n",
       "      <th>TRBV18</th>\n",
       "      <th>TRBJ2-3</th>\n",
       "      <td>[AB-RBF002-Tu_S1, AB-RBF003-Tu_S2, AB-RBF007-T...</td>\n",
       "      <td>85</td>\n",
       "    </tr>\n",
       "    <tr>\n",
       "      <th>CSVGGNTEAFFG</th>\n",
       "      <th>TRBV29-1</th>\n",
       "      <th>TRBJ1-1</th>\n",
       "      <td>[AB-RBF002-Tu_S1, AB-RBF009-Tu_S4, AB-RBF010-T...</td>\n",
       "      <td>76</td>\n",
       "    </tr>\n",
       "    <tr>\n",
       "      <th>CSVGGSNQPQHFG</th>\n",
       "      <th>TRBV29-1</th>\n",
       "      <th>TRBJ1-5</th>\n",
       "      <td>[AB-RBF014-Tu_S6, AB-RBF017-Tu_S7, AB-RBF018-T...</td>\n",
       "      <td>70</td>\n",
       "    </tr>\n",
       "    <tr>\n",
       "      <th>CASSPGLNTEAFFG</th>\n",
       "      <th>TRBV18</th>\n",
       "      <th>TRBJ1-1</th>\n",
       "      <td>[AB-RBF002-Tu_S1, AB-RBF007-Tu_S3, AB-RBF010-T...</td>\n",
       "      <td>70</td>\n",
       "    </tr>\n",
       "  </tbody>\n",
       "</table>\n",
       "</div>"
      ],
      "text/plain": [
       "                                                                            Sample  \\\n",
       "cdr3pep        V_sub    J_sub                                                        \n",
       "CASSPQETQYFG   TRBV18   TRBJ2-5  [AB-RBF002-Tu_S1, AB-RBF003-Tu_S2, AB-RBF007-T...   \n",
       "CASSPPSTDTQYFG TRBV18   TRBJ2-3  [AB-RBF002-Tu_S1, AB-RBF003-Tu_S2, AB-RBF007-T...   \n",
       "CSVGGNTEAFFG   TRBV29-1 TRBJ1-1  [AB-RBF002-Tu_S1, AB-RBF009-Tu_S4, AB-RBF010-T...   \n",
       "CSVGGSNQPQHFG  TRBV29-1 TRBJ1-5  [AB-RBF014-Tu_S6, AB-RBF017-Tu_S7, AB-RBF018-T...   \n",
       "CASSPGLNTEAFFG TRBV18   TRBJ1-1  [AB-RBF002-Tu_S1, AB-RBF007-Tu_S3, AB-RBF010-T...   \n",
       "\n",
       "                                 nr_samples  \n",
       "cdr3pep        V_sub    J_sub                \n",
       "CASSPQETQYFG   TRBV18   TRBJ2-5          86  \n",
       "CASSPPSTDTQYFG TRBV18   TRBJ2-3          85  \n",
       "CSVGGNTEAFFG   TRBV29-1 TRBJ1-1          76  \n",
       "CSVGGSNQPQHFG  TRBV29-1 TRBJ1-5          70  \n",
       "CASSPGLNTEAFFG TRBV18   TRBJ1-1          70  "
      ]
     },
     "execution_count": 171,
     "metadata": {},
     "output_type": "execute_result"
    }
   ],
   "source": [
    "total_unique_clones = len(clones_in_samples)\n",
    "print('Total unique clones:', total_unique_clones)\n",
    "clones_in_samples.head()"
   ]
  },
  {
   "cell_type": "code",
   "execution_count": 172,
   "metadata": {},
   "outputs": [
    {
     "name": "stdout",
     "output_type": "stream",
     "text": [
      "Shared clones: 259274\n",
      "Perc shared clones: 8.603164543311307\n"
     ]
    },
    {
     "data": {
      "text/html": [
       "<div>\n",
       "<style scoped>\n",
       "    .dataframe tbody tr th:only-of-type {\n",
       "        vertical-align: middle;\n",
       "    }\n",
       "\n",
       "    .dataframe tbody tr th {\n",
       "        vertical-align: top;\n",
       "    }\n",
       "\n",
       "    .dataframe thead th {\n",
       "        text-align: right;\n",
       "    }\n",
       "</style>\n",
       "<table border=\"1\" class=\"dataframe\">\n",
       "  <thead>\n",
       "    <tr style=\"text-align: right;\">\n",
       "      <th></th>\n",
       "      <th></th>\n",
       "      <th></th>\n",
       "      <th>Sample</th>\n",
       "      <th>nr_samples</th>\n",
       "    </tr>\n",
       "    <tr>\n",
       "      <th>cdr3pep</th>\n",
       "      <th>V_sub</th>\n",
       "      <th>J_sub</th>\n",
       "      <th></th>\n",
       "      <th></th>\n",
       "    </tr>\n",
       "  </thead>\n",
       "  <tbody>\n",
       "    <tr>\n",
       "      <th>CASSPQETQYFG</th>\n",
       "      <th>TRBV18</th>\n",
       "      <th>TRBJ2-5</th>\n",
       "      <td>[AB-RBF002-Tu_S1, AB-RBF003-Tu_S2, AB-RBF007-T...</td>\n",
       "      <td>86</td>\n",
       "    </tr>\n",
       "    <tr>\n",
       "      <th>CASSPPSTDTQYFG</th>\n",
       "      <th>TRBV18</th>\n",
       "      <th>TRBJ2-3</th>\n",
       "      <td>[AB-RBF002-Tu_S1, AB-RBF003-Tu_S2, AB-RBF007-T...</td>\n",
       "      <td>85</td>\n",
       "    </tr>\n",
       "    <tr>\n",
       "      <th>CSVGGNTEAFFG</th>\n",
       "      <th>TRBV29-1</th>\n",
       "      <th>TRBJ1-1</th>\n",
       "      <td>[AB-RBF002-Tu_S1, AB-RBF009-Tu_S4, AB-RBF010-T...</td>\n",
       "      <td>76</td>\n",
       "    </tr>\n",
       "    <tr>\n",
       "      <th>CSVGGSNQPQHFG</th>\n",
       "      <th>TRBV29-1</th>\n",
       "      <th>TRBJ1-5</th>\n",
       "      <td>[AB-RBF014-Tu_S6, AB-RBF017-Tu_S7, AB-RBF018-T...</td>\n",
       "      <td>70</td>\n",
       "    </tr>\n",
       "    <tr>\n",
       "      <th>CASSPGLNTEAFFG</th>\n",
       "      <th>TRBV18</th>\n",
       "      <th>TRBJ1-1</th>\n",
       "      <td>[AB-RBF002-Tu_S1, AB-RBF007-Tu_S3, AB-RBF010-T...</td>\n",
       "      <td>70</td>\n",
       "    </tr>\n",
       "  </tbody>\n",
       "</table>\n",
       "</div>"
      ],
      "text/plain": [
       "                                                                            Sample  \\\n",
       "cdr3pep        V_sub    J_sub                                                        \n",
       "CASSPQETQYFG   TRBV18   TRBJ2-5  [AB-RBF002-Tu_S1, AB-RBF003-Tu_S2, AB-RBF007-T...   \n",
       "CASSPPSTDTQYFG TRBV18   TRBJ2-3  [AB-RBF002-Tu_S1, AB-RBF003-Tu_S2, AB-RBF007-T...   \n",
       "CSVGGNTEAFFG   TRBV29-1 TRBJ1-1  [AB-RBF002-Tu_S1, AB-RBF009-Tu_S4, AB-RBF010-T...   \n",
       "CSVGGSNQPQHFG  TRBV29-1 TRBJ1-5  [AB-RBF014-Tu_S6, AB-RBF017-Tu_S7, AB-RBF018-T...   \n",
       "CASSPGLNTEAFFG TRBV18   TRBJ1-1  [AB-RBF002-Tu_S1, AB-RBF007-Tu_S3, AB-RBF010-T...   \n",
       "\n",
       "                                 nr_samples  \n",
       "cdr3pep        V_sub    J_sub                \n",
       "CASSPQETQYFG   TRBV18   TRBJ2-5          86  \n",
       "CASSPPSTDTQYFG TRBV18   TRBJ2-3          85  \n",
       "CSVGGNTEAFFG   TRBV29-1 TRBJ1-1          76  \n",
       "CSVGGSNQPQHFG  TRBV29-1 TRBJ1-5          70  \n",
       "CASSPGLNTEAFFG TRBV18   TRBJ1-1          70  "
      ]
     },
     "execution_count": 172,
     "metadata": {},
     "output_type": "execute_result"
    }
   ],
   "source": [
    "# Select clones that occur in > 1 sample and sort on nr of samples\n",
    "shared_clones = clones_in_samples.loc[clones_in_samples['nr_samples'] > 1]\n",
    "shared_clones = shared_clones.sort_values('nr_samples', ascending=False)\n",
    "total_shared_clones = len(shared_clones)\n",
    "print('Shared clones:', total_shared_clones)\n",
    "print('Perc shared clones:', 100 * total_shared_clones / total_unique_clones)\n",
    "shared_clones.head()"
   ]
  },
  {
   "cell_type": "code",
   "execution_count": 173,
   "metadata": {},
   "outputs": [
    {
     "data": {
      "text/html": [
       "<div>\n",
       "<style scoped>\n",
       "    .dataframe tbody tr th:only-of-type {\n",
       "        vertical-align: middle;\n",
       "    }\n",
       "\n",
       "    .dataframe tbody tr th {\n",
       "        vertical-align: top;\n",
       "    }\n",
       "\n",
       "    .dataframe thead th {\n",
       "        text-align: right;\n",
       "    }\n",
       "</style>\n",
       "<table border=\"1\" class=\"dataframe\">\n",
       "  <thead>\n",
       "    <tr style=\"text-align: right;\">\n",
       "      <th></th>\n",
       "      <th>cdr3pep</th>\n",
       "      <th>V_sub</th>\n",
       "      <th>J_sub</th>\n",
       "      <th>Sample</th>\n",
       "      <th>nr_samples</th>\n",
       "    </tr>\n",
       "  </thead>\n",
       "  <tbody>\n",
       "    <tr>\n",
       "      <th>0</th>\n",
       "      <td>CASSPQETQYFG</td>\n",
       "      <td>TRBV18</td>\n",
       "      <td>TRBJ2-5</td>\n",
       "      <td>[AB-RBF002-Tu_S1, AB-RBF003-Tu_S2, AB-RBF007-T...</td>\n",
       "      <td>86</td>\n",
       "    </tr>\n",
       "    <tr>\n",
       "      <th>1</th>\n",
       "      <td>CASSPPSTDTQYFG</td>\n",
       "      <td>TRBV18</td>\n",
       "      <td>TRBJ2-3</td>\n",
       "      <td>[AB-RBF002-Tu_S1, AB-RBF003-Tu_S2, AB-RBF007-T...</td>\n",
       "      <td>85</td>\n",
       "    </tr>\n",
       "    <tr>\n",
       "      <th>2</th>\n",
       "      <td>CSVGGNTEAFFG</td>\n",
       "      <td>TRBV29-1</td>\n",
       "      <td>TRBJ1-1</td>\n",
       "      <td>[AB-RBF002-Tu_S1, AB-RBF009-Tu_S4, AB-RBF010-T...</td>\n",
       "      <td>76</td>\n",
       "    </tr>\n",
       "    <tr>\n",
       "      <th>3</th>\n",
       "      <td>CSVGGSNQPQHFG</td>\n",
       "      <td>TRBV29-1</td>\n",
       "      <td>TRBJ1-5</td>\n",
       "      <td>[AB-RBF014-Tu_S6, AB-RBF017-Tu_S7, AB-RBF018-T...</td>\n",
       "      <td>70</td>\n",
       "    </tr>\n",
       "    <tr>\n",
       "      <th>4</th>\n",
       "      <td>CASSPGLNTEAFFG</td>\n",
       "      <td>TRBV18</td>\n",
       "      <td>TRBJ1-1</td>\n",
       "      <td>[AB-RBF002-Tu_S1, AB-RBF007-Tu_S3, AB-RBF010-T...</td>\n",
       "      <td>70</td>\n",
       "    </tr>\n",
       "  </tbody>\n",
       "</table>\n",
       "</div>"
      ],
      "text/plain": [
       "          cdr3pep     V_sub    J_sub  \\\n",
       "0    CASSPQETQYFG    TRBV18  TRBJ2-5   \n",
       "1  CASSPPSTDTQYFG    TRBV18  TRBJ2-3   \n",
       "2    CSVGGNTEAFFG  TRBV29-1  TRBJ1-1   \n",
       "3   CSVGGSNQPQHFG  TRBV29-1  TRBJ1-5   \n",
       "4  CASSPGLNTEAFFG    TRBV18  TRBJ1-1   \n",
       "\n",
       "                                              Sample  nr_samples  \n",
       "0  [AB-RBF002-Tu_S1, AB-RBF003-Tu_S2, AB-RBF007-T...          86  \n",
       "1  [AB-RBF002-Tu_S1, AB-RBF003-Tu_S2, AB-RBF007-T...          85  \n",
       "2  [AB-RBF002-Tu_S1, AB-RBF009-Tu_S4, AB-RBF010-T...          76  \n",
       "3  [AB-RBF014-Tu_S6, AB-RBF017-Tu_S7, AB-RBF018-T...          70  \n",
       "4  [AB-RBF002-Tu_S1, AB-RBF007-Tu_S3, AB-RBF010-T...          70  "
      ]
     },
     "execution_count": 173,
     "metadata": {},
     "output_type": "execute_result"
    }
   ],
   "source": [
    "# Reset indices\n",
    "clones_in_samples = clones_in_samples.reset_index()\n",
    "shared_clones = shared_clones.reset_index()\n",
    "shared_clones.head()"
   ]
  },
  {
   "cell_type": "markdown",
   "metadata": {},
   "source": [
    "## Show V and J gene usage"
   ]
  },
  {
   "cell_type": "code",
   "execution_count": 174,
   "metadata": {},
   "outputs": [
    {
     "data": {
      "text/plain": [
       "V_sub     J_sub  \n",
       "TRBV29-1  TRBJ2-1    93302\n",
       "          TRBJ1-1    91354\n",
       "          TRBJ1-2    68546\n",
       "          TRBJ2-3    64754\n",
       "          TRBJ2-7    61844\n",
       "TRBV19    TRBJ1-5    45512\n",
       "TRBV29-1  TRBJ2-5    43544\n",
       "TRBV19    TRBJ2-1    42754\n",
       "TRBV18    TRBJ1-1    41951\n",
       "          TRBJ2-1    35930\n",
       "TRBV29-1  TRBJ2-2    33548\n",
       "TRBV19    TRBJ1-2    32905\n",
       "TRBV6-5   TRBJ2-1    32248\n",
       "          TRBJ2-7    28117\n",
       "          TRBJ1-1    28076\n",
       "TRBV18    TRBJ2-7    27214\n",
       "TRBV27    TRBJ2-7    25128\n",
       "          TRBJ2-1    24831\n",
       "TRBV6-5   TRBJ1-2    24086\n",
       "TRBV27    TRBJ1-1    22940\n",
       "TRBV18    TRBJ2-3    22654\n",
       "TRBV29-1  TRBJ1-5    22162\n",
       "TRBV18    TRBJ1-5    22011\n",
       "          TRBJ1-2    21806\n",
       "TRBV6-5   TRBJ2-3    21734\n",
       "Name: cdr3pep, dtype: int64"
      ]
     },
     "execution_count": 174,
     "metadata": {},
     "output_type": "execute_result"
    }
   ],
   "source": [
    "# V J usage in all clones\n",
    "v_j_usage_all = clones_in_samples.groupby(['V_sub', 'J_sub'])['cdr3pep'].count()\n",
    "v_j_usage_all = v_j_usage_all.sort_values(ascending=False)\n",
    "v_j_usage_all.head(25)"
   ]
  },
  {
   "cell_type": "code",
   "execution_count": 175,
   "metadata": {},
   "outputs": [
    {
     "data": {
      "text/plain": [
       "V_sub     J_sub  \n",
       "TRBV29-1  TRBJ1-1    13815\n",
       "          TRBJ2-1    10435\n",
       "          TRBJ1-2     8829\n",
       "          TRBJ2-3     8785\n",
       "          TRBJ2-7     8136\n",
       "TRBV18    TRBJ1-1     6139\n",
       "TRBV29-1  TRBJ2-5     5854\n",
       "TRBV19    TRBJ1-5     4696\n",
       "TRBV29-1  TRBJ2-2     4455\n",
       "TRBV18    TRBJ2-1     4286\n",
       "TRBV29-1  TRBJ1-5     4089\n",
       "TRBV19    TRBJ2-1     3842\n",
       "TRBV18    TRBJ2-7     3414\n",
       "          TRBJ1-5     3354\n",
       "          TRBJ2-3     3191\n",
       "TRBV19    TRBJ1-2     2720\n",
       "TRBV6-5   TRBJ1-1     2676\n",
       "          TRBJ2-1     2619\n",
       "          TRBJ2-7     2529\n",
       "TRBV18    TRBJ1-2     2521\n",
       "TRBV29-1  TRBJ1-4     2498\n",
       "TRBV27    TRBJ1-1     2443\n",
       "          TRBJ2-7     2297\n",
       "          TRBJ1-5     2167\n",
       "TRBV6-5   TRBJ1-5     2160\n",
       "Name: cdr3pep, dtype: int64"
      ]
     },
     "execution_count": 175,
     "metadata": {},
     "output_type": "execute_result"
    }
   ],
   "source": [
    "# V J usage in shared clones\n",
    "v_j_usage = shared_clones.groupby(['V_sub', 'J_sub'])['cdr3pep'].count()\n",
    "v_j_usage = v_j_usage.sort_values(ascending=False)\n",
    "v_j_usage.head(25)"
   ]
  },
  {
   "cell_type": "code",
   "execution_count": null,
   "metadata": {},
   "outputs": [],
   "source": []
  }
 ],
 "metadata": {
  "kernelspec": {
   "display_name": "Python 3",
   "language": "python",
   "name": "python3"
  },
  "language_info": {
   "codemirror_mode": {
    "name": "ipython",
    "version": 3
   },
   "file_extension": ".py",
   "mimetype": "text/x-python",
   "name": "python",
   "nbconvert_exporter": "python",
   "pygments_lexer": "ipython3",
   "version": "3.6.4"
  }
 },
 "nbformat": 4,
 "nbformat_minor": 2
}
