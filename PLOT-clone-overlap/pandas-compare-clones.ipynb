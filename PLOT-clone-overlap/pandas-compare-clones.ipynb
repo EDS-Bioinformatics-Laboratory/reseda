{
 "cells": [
  {
   "cell_type": "code",
   "execution_count": 424,
   "metadata": {},
   "outputs": [],
   "source": [
    "import pandas as pd\n",
    "import numpy as np\n",
    "from scipy.stats import spearmanr\n",
    "import matplotlib\n",
    "import matplotlib.pyplot as plt\n",
    "import matplotlib.colors as colors"
   ]
  },
  {
   "cell_type": "markdown",
   "metadata": {},
   "source": [
    "## Input data"
   ]
  },
  {
   "cell_type": "code",
   "execution_count": 425,
   "metadata": {},
   "outputs": [],
   "source": [
    "clones_file = \"cdr3-clones-AB-ADA-IGH_HUMAN-after-reassignment.csv\" # 3MB file (run28)\n",
    "pt_file = \"20180514_Run028_pt-table_CORRECT.csv\"\n",
    "plotfile = \"run28-AB-ADA-IGH_HUMAN.pdf\"\n",
    "\n",
    "#clones_file = \"cdr3-clones-Eomes-TRB_MOUSE-after-reassignment.csv\"  # 14 MB (run28)\n",
    "#pt_file = \"20180514_Run028_pt-table_CORRECT.csv\"\n",
    "#plotfile = \"run28-Eomes-TRB_MOUSE.pdf\"\n",
    "\n",
    "#clones_file = \"cdr3-clones-Prairi-IGH_HUMAN-after-reassignment.csv\" # 22 MB (run25)\n",
    "#pt_file = \"20180326_RUN25_pt.table.csv\"\n",
    "#plotfile = \"run25-Prairi-IGH_HUMAN.pdf\"\n",
    "\n",
    "#clones_file = \"cdr3-clones-AB-RBF-TRB_HUMAN-after-reassignment.csv\" # 300 MB file (run25)\n",
    "#pt_file = \"20180326_RUN25_pt.table.csv\"\n",
    "#plotfile = \"run25-AB-RBF-TRB_HUMAN.pdf\""
   ]
  },
  {
   "cell_type": "markdown",
   "metadata": {},
   "source": [
    "## Import clonesdata"
   ]
  },
  {
   "cell_type": "code",
   "execution_count": 426,
   "metadata": {},
   "outputs": [],
   "source": [
    "clones = pd.read_csv(clones_file, sep=\"\\t\")\n",
    "clones = clones.set_index('Sample')"
   ]
  },
  {
   "cell_type": "code",
   "execution_count": 427,
   "metadata": {},
   "outputs": [
    {
     "data": {
      "text/html": [
       "<div>\n",
       "<style scoped>\n",
       "    .dataframe tbody tr th:only-of-type {\n",
       "        vertical-align: middle;\n",
       "    }\n",
       "\n",
       "    .dataframe tbody tr th {\n",
       "        vertical-align: top;\n",
       "    }\n",
       "\n",
       "    .dataframe thead th {\n",
       "        text-align: right;\n",
       "    }\n",
       "</style>\n",
       "<table border=\"1\" class=\"dataframe\">\n",
       "  <thead>\n",
       "    <tr style=\"text-align: right;\">\n",
       "      <th></th>\n",
       "      <th>MID</th>\n",
       "      <th>cdr3pep</th>\n",
       "      <th>freq</th>\n",
       "      <th>uniq_umis</th>\n",
       "      <th>V_sub</th>\n",
       "      <th>J_sub</th>\n",
       "      <th>sum_sites</th>\n",
       "      <th>avg_sites</th>\n",
       "      <th>read_perc</th>\n",
       "      <th>umi_perc</th>\n",
       "    </tr>\n",
       "    <tr>\n",
       "      <th>Sample</th>\n",
       "      <th></th>\n",
       "      <th></th>\n",
       "      <th></th>\n",
       "      <th></th>\n",
       "      <th></th>\n",
       "      <th></th>\n",
       "      <th></th>\n",
       "      <th></th>\n",
       "      <th></th>\n",
       "      <th></th>\n",
       "    </tr>\n",
       "  </thead>\n",
       "  <tbody>\n",
       "    <tr>\n",
       "      <th>AB-ADA37-Bu_S113</th>\n",
       "      <td>ACTGACTG</td>\n",
       "      <td>CARDTSLVDNAMIMGQGTLVT</td>\n",
       "      <td>9</td>\n",
       "      <td>9</td>\n",
       "      <td>IGHV3-11+IGHV3-48</td>\n",
       "      <td>IGHJ5,IGHJ4</td>\n",
       "      <td>0</td>\n",
       "      <td>0.0</td>\n",
       "      <td>0.235048</td>\n",
       "      <td>0.238221</td>\n",
       "    </tr>\n",
       "    <tr>\n",
       "      <th>AB-ADA37-Bu_S113</th>\n",
       "      <td>ACTGACTG</td>\n",
       "      <td>CARSFSSSHFNYWGQGTLVT</td>\n",
       "      <td>8</td>\n",
       "      <td>8</td>\n",
       "      <td>IGHV6-1</td>\n",
       "      <td>IGHJ4</td>\n",
       "      <td>0</td>\n",
       "      <td>0.0</td>\n",
       "      <td>0.208932</td>\n",
       "      <td>0.211752</td>\n",
       "    </tr>\n",
       "    <tr>\n",
       "      <th>AB-ADA37-Bu_S113</th>\n",
       "      <td>ACTGACTG</td>\n",
       "      <td>CVRDSGPARPGFGMDVWGQGTTVT</td>\n",
       "      <td>7</td>\n",
       "      <td>7</td>\n",
       "      <td>IGHV3-21+IGHV3-30+IGHV3-48+IGHV3-66</td>\n",
       "      <td>IGHJ6</td>\n",
       "      <td>0</td>\n",
       "      <td>0.0</td>\n",
       "      <td>0.182815</td>\n",
       "      <td>0.185283</td>\n",
       "    </tr>\n",
       "    <tr>\n",
       "      <th>AB-ADA37-Bu_S113</th>\n",
       "      <td>ACTGACTG</td>\n",
       "      <td>CVRDSGPARPGYVMDVWGQGTTVT</td>\n",
       "      <td>7</td>\n",
       "      <td>7</td>\n",
       "      <td>IGHV3-21</td>\n",
       "      <td>IGHJ6</td>\n",
       "      <td>0</td>\n",
       "      <td>0.0</td>\n",
       "      <td>0.182815</td>\n",
       "      <td>0.185283</td>\n",
       "    </tr>\n",
       "    <tr>\n",
       "      <th>AB-ADA37-Bu_S113</th>\n",
       "      <td>ACTGACTG</td>\n",
       "      <td>CAKLAVAGGGYYHYYMDVWGKGTTVT</td>\n",
       "      <td>6</td>\n",
       "      <td>6</td>\n",
       "      <td>IGHV5-51</td>\n",
       "      <td>IGHJ6</td>\n",
       "      <td>0</td>\n",
       "      <td>0.0</td>\n",
       "      <td>0.156699</td>\n",
       "      <td>0.158814</td>\n",
       "    </tr>\n",
       "  </tbody>\n",
       "</table>\n",
       "</div>"
      ],
      "text/plain": [
       "                       MID                     cdr3pep  freq  uniq_umis  \\\n",
       "Sample                                                                    \n",
       "AB-ADA37-Bu_S113  ACTGACTG       CARDTSLVDNAMIMGQGTLVT     9          9   \n",
       "AB-ADA37-Bu_S113  ACTGACTG        CARSFSSSHFNYWGQGTLVT     8          8   \n",
       "AB-ADA37-Bu_S113  ACTGACTG    CVRDSGPARPGFGMDVWGQGTTVT     7          7   \n",
       "AB-ADA37-Bu_S113  ACTGACTG    CVRDSGPARPGYVMDVWGQGTTVT     7          7   \n",
       "AB-ADA37-Bu_S113  ACTGACTG  CAKLAVAGGGYYHYYMDVWGKGTTVT     6          6   \n",
       "\n",
       "                                                V_sub        J_sub  sum_sites  \\\n",
       "Sample                                                                          \n",
       "AB-ADA37-Bu_S113                    IGHV3-11+IGHV3-48  IGHJ5,IGHJ4          0   \n",
       "AB-ADA37-Bu_S113                              IGHV6-1        IGHJ4          0   \n",
       "AB-ADA37-Bu_S113  IGHV3-21+IGHV3-30+IGHV3-48+IGHV3-66        IGHJ6          0   \n",
       "AB-ADA37-Bu_S113                             IGHV3-21        IGHJ6          0   \n",
       "AB-ADA37-Bu_S113                             IGHV5-51        IGHJ6          0   \n",
       "\n",
       "                  avg_sites  read_perc  umi_perc  \n",
       "Sample                                            \n",
       "AB-ADA37-Bu_S113        0.0   0.235048  0.238221  \n",
       "AB-ADA37-Bu_S113        0.0   0.208932  0.211752  \n",
       "AB-ADA37-Bu_S113        0.0   0.182815  0.185283  \n",
       "AB-ADA37-Bu_S113        0.0   0.182815  0.185283  \n",
       "AB-ADA37-Bu_S113        0.0   0.156699  0.158814  "
      ]
     },
     "execution_count": 427,
     "metadata": {},
     "output_type": "execute_result"
    }
   ],
   "source": [
    "clones.head()"
   ]
  },
  {
   "cell_type": "markdown",
   "metadata": {},
   "source": [
    "## Import patient table"
   ]
  },
  {
   "cell_type": "code",
   "execution_count": 428,
   "metadata": {},
   "outputs": [],
   "source": [
    "pt = pd.read_csv(pt_file, sep=\";\")"
   ]
  },
  {
   "cell_type": "code",
   "execution_count": 429,
   "metadata": {},
   "outputs": [],
   "source": [
    "# Concatenate sample-id and nr in a new column\n",
    "f = lambda x,y: str(x) + \"_\" + str(y)\n",
    "pt['SampleNameNr'] = [name for name in map(f, pt['Sample name'], pt['Samples order'])]\n",
    "pt = pt.set_index('SampleNameNr')\n",
    "pt = pt[\"Patient\"]"
   ]
  },
  {
   "cell_type": "code",
   "execution_count": 430,
   "metadata": {},
   "outputs": [
    {
     "data": {
      "text/plain": [
       "SampleNameNr\n",
       "BMC101-1-BuH_S1    7839192\n",
       "BMC101-2-BuH_S2    7839192\n",
       "BMC102-1-BuH_S3    3836360\n",
       "BMC102-2-BuH_S4    3836360\n",
       "BMC103-1-BuH_S5    6824962\n",
       "Name: Patient, dtype: object"
      ]
     },
     "execution_count": 430,
     "metadata": {},
     "output_type": "execute_result"
    }
   ],
   "source": [
    "pt.head()"
   ]
  },
  {
   "cell_type": "markdown",
   "metadata": {},
   "source": [
    "## Merge clones with pt"
   ]
  },
  {
   "cell_type": "code",
   "execution_count": 431,
   "metadata": {},
   "outputs": [
    {
     "data": {
      "text/plain": [
       "Index(['BMC101-1-BuH_S1', 'BMC101-2-BuH_S2', 'BMC102-1-BuH_S3',\n",
       "       'BMC102-2-BuH_S4', 'BMC103-1-BuH_S5', 'BMC103-2-BuH_S6',\n",
       "       'BMC104-1-BuH_S7', 'BMC104-2-BuH_S8', 'Eomes-01_S9', 'Eomes-02_S10'],\n",
       "      dtype='object', name='SampleNameNr')"
      ]
     },
     "execution_count": 431,
     "metadata": {},
     "output_type": "execute_result"
    }
   ],
   "source": [
    "pt.index[0:10]"
   ]
  },
  {
   "cell_type": "code",
   "execution_count": 432,
   "metadata": {},
   "outputs": [
    {
     "data": {
      "text/html": [
       "<div>\n",
       "<style scoped>\n",
       "    .dataframe tbody tr th:only-of-type {\n",
       "        vertical-align: middle;\n",
       "    }\n",
       "\n",
       "    .dataframe tbody tr th {\n",
       "        vertical-align: top;\n",
       "    }\n",
       "\n",
       "    .dataframe thead th {\n",
       "        text-align: right;\n",
       "    }\n",
       "</style>\n",
       "<table border=\"1\" class=\"dataframe\">\n",
       "  <thead>\n",
       "    <tr style=\"text-align: right;\">\n",
       "      <th></th>\n",
       "      <th></th>\n",
       "      <th>MID</th>\n",
       "      <th>cdr3pep</th>\n",
       "      <th>freq</th>\n",
       "      <th>uniq_umis</th>\n",
       "      <th>V_sub</th>\n",
       "      <th>J_sub</th>\n",
       "      <th>sum_sites</th>\n",
       "      <th>avg_sites</th>\n",
       "      <th>read_perc</th>\n",
       "      <th>umi_perc</th>\n",
       "    </tr>\n",
       "    <tr>\n",
       "      <th>Patient</th>\n",
       "      <th>SampleNameNr</th>\n",
       "      <th></th>\n",
       "      <th></th>\n",
       "      <th></th>\n",
       "      <th></th>\n",
       "      <th></th>\n",
       "      <th></th>\n",
       "      <th></th>\n",
       "      <th></th>\n",
       "      <th></th>\n",
       "      <th></th>\n",
       "    </tr>\n",
       "  </thead>\n",
       "  <tbody>\n",
       "    <tr>\n",
       "      <th rowspan=\"5\" valign=\"top\">40-01-0013</th>\n",
       "      <th>AB-ADA37-Bu_S113</th>\n",
       "      <td>ACTGACTG</td>\n",
       "      <td>CARDTSLVDNAMIMGQGTLVT</td>\n",
       "      <td>9</td>\n",
       "      <td>9</td>\n",
       "      <td>IGHV3-11+IGHV3-48</td>\n",
       "      <td>IGHJ5,IGHJ4</td>\n",
       "      <td>0</td>\n",
       "      <td>0.0</td>\n",
       "      <td>0.235048</td>\n",
       "      <td>0.238221</td>\n",
       "    </tr>\n",
       "    <tr>\n",
       "      <th>AB-ADA37-Bu_S113</th>\n",
       "      <td>ACTGACTG</td>\n",
       "      <td>CARSFSSSHFNYWGQGTLVT</td>\n",
       "      <td>8</td>\n",
       "      <td>8</td>\n",
       "      <td>IGHV6-1</td>\n",
       "      <td>IGHJ4</td>\n",
       "      <td>0</td>\n",
       "      <td>0.0</td>\n",
       "      <td>0.208932</td>\n",
       "      <td>0.211752</td>\n",
       "    </tr>\n",
       "    <tr>\n",
       "      <th>AB-ADA37-Bu_S113</th>\n",
       "      <td>ACTGACTG</td>\n",
       "      <td>CVRDSGPARPGFGMDVWGQGTTVT</td>\n",
       "      <td>7</td>\n",
       "      <td>7</td>\n",
       "      <td>IGHV3-21+IGHV3-30+IGHV3-48+IGHV3-66</td>\n",
       "      <td>IGHJ6</td>\n",
       "      <td>0</td>\n",
       "      <td>0.0</td>\n",
       "      <td>0.182815</td>\n",
       "      <td>0.185283</td>\n",
       "    </tr>\n",
       "    <tr>\n",
       "      <th>AB-ADA37-Bu_S113</th>\n",
       "      <td>ACTGACTG</td>\n",
       "      <td>CVRDSGPARPGYVMDVWGQGTTVT</td>\n",
       "      <td>7</td>\n",
       "      <td>7</td>\n",
       "      <td>IGHV3-21</td>\n",
       "      <td>IGHJ6</td>\n",
       "      <td>0</td>\n",
       "      <td>0.0</td>\n",
       "      <td>0.182815</td>\n",
       "      <td>0.185283</td>\n",
       "    </tr>\n",
       "    <tr>\n",
       "      <th>AB-ADA37-Bu_S113</th>\n",
       "      <td>ACTGACTG</td>\n",
       "      <td>CAKLAVAGGGYYHYYMDVWGKGTTVT</td>\n",
       "      <td>6</td>\n",
       "      <td>6</td>\n",
       "      <td>IGHV5-51</td>\n",
       "      <td>IGHJ6</td>\n",
       "      <td>0</td>\n",
       "      <td>0.0</td>\n",
       "      <td>0.156699</td>\n",
       "      <td>0.158814</td>\n",
       "    </tr>\n",
       "  </tbody>\n",
       "</table>\n",
       "</div>"
      ],
      "text/plain": [
       "                                  MID                     cdr3pep  freq  \\\n",
       "Patient    SampleNameNr                                                   \n",
       "40-01-0013 AB-ADA37-Bu_S113  ACTGACTG       CARDTSLVDNAMIMGQGTLVT     9   \n",
       "           AB-ADA37-Bu_S113  ACTGACTG        CARSFSSSHFNYWGQGTLVT     8   \n",
       "           AB-ADA37-Bu_S113  ACTGACTG    CVRDSGPARPGFGMDVWGQGTTVT     7   \n",
       "           AB-ADA37-Bu_S113  ACTGACTG    CVRDSGPARPGYVMDVWGQGTTVT     7   \n",
       "           AB-ADA37-Bu_S113  ACTGACTG  CAKLAVAGGGYYHYYMDVWGKGTTVT     6   \n",
       "\n",
       "                             uniq_umis                                V_sub  \\\n",
       "Patient    SampleNameNr                                                       \n",
       "40-01-0013 AB-ADA37-Bu_S113          9                    IGHV3-11+IGHV3-48   \n",
       "           AB-ADA37-Bu_S113          8                              IGHV6-1   \n",
       "           AB-ADA37-Bu_S113          7  IGHV3-21+IGHV3-30+IGHV3-48+IGHV3-66   \n",
       "           AB-ADA37-Bu_S113          7                             IGHV3-21   \n",
       "           AB-ADA37-Bu_S113          6                             IGHV5-51   \n",
       "\n",
       "                                   J_sub  sum_sites  avg_sites  read_perc  \\\n",
       "Patient    SampleNameNr                                                     \n",
       "40-01-0013 AB-ADA37-Bu_S113  IGHJ5,IGHJ4          0        0.0   0.235048   \n",
       "           AB-ADA37-Bu_S113        IGHJ4          0        0.0   0.208932   \n",
       "           AB-ADA37-Bu_S113        IGHJ6          0        0.0   0.182815   \n",
       "           AB-ADA37-Bu_S113        IGHJ6          0        0.0   0.182815   \n",
       "           AB-ADA37-Bu_S113        IGHJ6          0        0.0   0.156699   \n",
       "\n",
       "                             umi_perc  \n",
       "Patient    SampleNameNr                \n",
       "40-01-0013 AB-ADA37-Bu_S113  0.238221  \n",
       "           AB-ADA37-Bu_S113  0.211752  \n",
       "           AB-ADA37-Bu_S113  0.185283  \n",
       "           AB-ADA37-Bu_S113  0.185283  \n",
       "           AB-ADA37-Bu_S113  0.158814  "
      ]
     },
     "execution_count": 432,
     "metadata": {},
     "output_type": "execute_result"
    }
   ],
   "source": [
    "# Join data frames\n",
    "df = clones.join(pt)\n",
    "df['SampleNameNr'] = df.index\n",
    "df = df.set_index(['Patient', 'SampleNameNr'])\n",
    "df.head()"
   ]
  },
  {
   "cell_type": "markdown",
   "metadata": {},
   "source": [
    "## Count overlapping clones between samples"
   ]
  },
  {
   "cell_type": "code",
   "execution_count": 433,
   "metadata": {},
   "outputs": [],
   "source": [
    "# Sort index for better performance\n",
    "df = df.sort_index()\n",
    "\n",
    "# Make empty data frame for the distance matrix\n",
    "colnames = list(set(df.index))\n",
    "colnames.sort()\n",
    "overlap = pd.DataFrame(index=colnames, columns=colnames, dtype=np.float)"
   ]
  },
  {
   "cell_type": "code",
   "execution_count": 434,
   "metadata": {},
   "outputs": [],
   "source": [
    "# Function to count overlapping elements (cdr3pep): Jaccard index\n",
    "dist = lambda x, y: len(set(x).intersection(set(y))) / len(set(x).union(set(y)))\n",
    "\n",
    "for x in overlap.index:\n",
    "    for y in overlap.index:\n",
    "        overlap[x][y] = max(dist(df.loc[x]['cdr3pep'], df.loc[y]['cdr3pep']), 0.0000000001) # Jaccard"
   ]
  },
  {
   "cell_type": "code",
   "execution_count": 435,
   "metadata": {},
   "outputs": [
    {
     "data": {
      "text/html": [
       "<div>\n",
       "<style scoped>\n",
       "    .dataframe tbody tr th:only-of-type {\n",
       "        vertical-align: middle;\n",
       "    }\n",
       "\n",
       "    .dataframe tbody tr th {\n",
       "        vertical-align: top;\n",
       "    }\n",
       "\n",
       "    .dataframe thead th {\n",
       "        text-align: right;\n",
       "    }\n",
       "</style>\n",
       "<table border=\"1\" class=\"dataframe\">\n",
       "  <thead>\n",
       "    <tr style=\"text-align: right;\">\n",
       "      <th></th>\n",
       "      <th>(40-01-0013, AB-ADA37-Bu_S113)</th>\n",
       "      <th>(40-01-0017, AB-ADA84-Bu_S114)</th>\n",
       "    </tr>\n",
       "  </thead>\n",
       "  <tbody>\n",
       "    <tr>\n",
       "      <th>(40-01-0013, AB-ADA37-Bu_S113)</th>\n",
       "      <td>1.000000</td>\n",
       "      <td>0.000101</td>\n",
       "    </tr>\n",
       "    <tr>\n",
       "      <th>(40-01-0017, AB-ADA84-Bu_S114)</th>\n",
       "      <td>0.000101</td>\n",
       "      <td>1.000000</td>\n",
       "    </tr>\n",
       "  </tbody>\n",
       "</table>\n",
       "</div>"
      ],
      "text/plain": [
       "                                (40-01-0013, AB-ADA37-Bu_S113)  \\\n",
       "(40-01-0013, AB-ADA37-Bu_S113)                        1.000000   \n",
       "(40-01-0017, AB-ADA84-Bu_S114)                        0.000101   \n",
       "\n",
       "                                (40-01-0017, AB-ADA84-Bu_S114)  \n",
       "(40-01-0013, AB-ADA37-Bu_S113)                        0.000101  \n",
       "(40-01-0017, AB-ADA84-Bu_S114)                        1.000000  "
      ]
     },
     "execution_count": 435,
     "metadata": {},
     "output_type": "execute_result"
    }
   ],
   "source": [
    "overlap.head()"
   ]
  },
  {
   "cell_type": "code",
   "execution_count": 436,
   "metadata": {},
   "outputs": [],
   "source": [
    "# Replace NaN and zero's with low number\n",
    "overlap[overlap.isna()] = 0.0000000001\n",
    "overlap[overlap == 0] = 0.0000000001"
   ]
  },
  {
   "cell_type": "markdown",
   "metadata": {},
   "source": [
    "## Create a heatmap"
   ]
  },
  {
   "cell_type": "code",
   "execution_count": 437,
   "metadata": {},
   "outputs": [
    {
     "name": "stdout",
     "output_type": "stream",
     "text": [
      "Wrote run28-AB-ADA-IGH_HUMAN.pdf to disk\n"
     ]
    },
    {
     "data": {
      "image/png": "[encoded data removed]",
      "text/plain": [
       "<matplotlib.figure.Figure at 0x7fd5076e27f0>"
      ]
     },
     "metadata": {},
     "output_type": "display_data"
    }
   ],
   "source": [
    "font = {'family' : 'sans-serif',\n",
    "        'weight' : 'normal',\n",
    "        'size'   : 22}\n",
    "\n",
    "matplotlib.rc('font', **font)\n",
    "\n",
    "fig, ax = plt.subplots(figsize=(60, 60))\n",
    "fig.subplots_adjust(bottom=0.3)\n",
    "\n",
    "# is used for log scaling\n",
    "Z1 = overlap.values\n",
    "\n",
    "# get the patient-id\n",
    "labels_x = [x[0] for x in overlap.index]\n",
    "labels_y = [y[0] for y in overlap.columns]\n",
    "\n",
    "# draw heatmap\n",
    "plt.pcolor(overlap.values, cmap=plt.cm.viridis, norm=colors.LogNorm(vmin=Z1.min(), vmax=Z1.max()))\n",
    "plt.colorbar()\n",
    "plt.yticks(np.arange(0.5, len(overlap.index), 1), overlap.columns, rotation=0)\n",
    "plt.xticks(np.arange(0.5, len(overlap.columns), 1), overlap.index, rotation=90)\n",
    "\n",
    "# Add lines around same patient-id\n",
    "def drawBox(end, length):\n",
    "    '''\n",
    "    Description: draw a square with lines\n",
    "    In: start (int), length (int)\n",
    "    Out: None, 4 lines will be drawn on the canvas\n",
    "    '''\n",
    "    linewidth = 5\n",
    "    low = end - length\n",
    "    high = end\n",
    "    plt.plot([low, high], [high, high], 'k-', lw=linewidth)   # N\n",
    "    plt.plot([high, high], [low, high], 'k-', lw=linewidth)   # E\n",
    "    plt.plot([low, high], [low, low], 'k-', lw=linewidth)     # S\n",
    "    plt.plot([low, low], [low, high], 'k-', lw=linewidth)     # W\n",
    "\n",
    "prev_label = None\n",
    "length = 0\n",
    "for i in range(len(labels_x)):\n",
    "    if prev_label is not None and prev_label != labels_x[i]:\n",
    "        drawBox(i, length)\n",
    "        length = 0\n",
    "    prev_label = labels_x[i]\n",
    "    length +=1\n",
    "i += 1\n",
    "drawBox(i, length)\n",
    "\n",
    "# Save figure to file\n",
    "fig.savefig(plotfile)\n",
    "print(\"Wrote\", plotfile, \"to disk\")"
   ]
  },
  {
   "cell_type": "code",
   "execution_count": null,
   "metadata": {},
   "outputs": [],
   "source": []
  }
 ],
 "metadata": {
  "kernelspec": {
   "display_name": "Python 3",
   "language": "python",
   "name": "python3"
  },
  "language_info": {
   "codemirror_mode": {
    "name": "ipython",
    "version": 3
   },
   "file_extension": ".py",
   "mimetype": "text/x-python",
   "name": "python",
   "nbconvert_exporter": "python",
   "pygments_lexer": "ipython3",
   "version": "3.6.4"
  }
 },
 "nbformat": 4,
 "nbformat_minor": 2
}
