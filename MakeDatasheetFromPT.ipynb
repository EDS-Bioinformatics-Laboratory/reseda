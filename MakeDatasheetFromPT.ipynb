{
 "cells": [
  {
   "cell_type": "code",
   "execution_count": 1,
   "metadata": {},
   "outputs": [],
   "source": [
    "import os\n",
    "import pandas as pd"
   ]
  },
  {
   "cell_type": "code",
   "execution_count": 33,
   "metadata": {},
   "outputs": [],
   "source": [
    "outfile = \"20220117-DataSheet-RUN28-AB.csv\""
   ]
  },
  {
   "cell_type": "markdown",
   "metadata": {},
   "source": [
    "## Fill in header of the data sheet"
   ]
  },
  {
   "cell_type": "code",
   "execution_count": 34,
   "metadata": {},
   "outputs": [],
   "source": [
    "fh = open(\"DataSheetHeader.csv\")\n",
    "datasheet_header = fh.read().rstrip()\n",
    "fh.close()"
   ]
  },
  {
   "cell_type": "code",
   "execution_count": 35,
   "metadata": {},
   "outputs": [
    {
     "name": "stdout",
     "output_type": "stream",
     "text": [
      "[Header],,,,,,,,,,,,,,,\n",
      "IEMFileVersion,4,,,,,,,,,,,,,,\n",
      "Investigator Name,Niek de Vries,,,,,,,,,,,,,,\n",
      "Experiment Name,run28-20220117-miseq-AB,,,,,,,,,,,,,,\n",
      "Date,17-01-2022,,,,,,,,,,,,,,\n",
      "Workflow,GenerateFASTQ,,,,,,,,,,,,,,\n",
      "Application,FASTQ Only,,,,,,,,,,,,,,\n",
      "Assay,Nextera XT v2,,,,,,,,,,,,,,\n",
      "Description,RNA,,,,,,,,,,,,,,\n",
      "Chemistry,Amplicon,,,,,,,,,,,,,,\n",
      ",,,,,,,,,,,,,,,\n",
      "[Reads],,,,,,,,,,,,,,,\n",
      "301,,,,,,,,,,,,,,,\n",
      "301,,,,,,,,,,,,,,,\n",
      ",,,,,,,,,,,,,,,\n",
      "[Settings],,,,,,,,,,,,,,,\n",
      "ReverseComplement,0,,,,,,,,,,,,,,\n",
      "Adapter,CTGTCTCTTATACACATCT,,,,,,,,,,,,,,\n",
      ",,,,,,,,,,,,,,,\n",
      "[Data],,,,,,,,,,,,,,,\n",
      "Sample_ID,Sample_Name,Sample_Plate,Sample_Well,I7_Index_ID,index,I5_Index_ID,index2,Run,Nr,Sample_Project,Species,Chain,Patient,Sample,UMI\n"
     ]
    }
   ],
   "source": [
    "datasheet_header = datasheet_header.replace(\"INVESTIGATOR\", \"Niek de Vries\")\n",
    "datasheet_header = datasheet_header.replace(\"RUNNAME\", \"run28-20220117-miseq-AB\")\n",
    "datasheet_header = datasheet_header.replace(\"DATE\", \"17-01-2022\")\n",
    "print(datasheet_header)"
   ]
  },
  {
   "cell_type": "markdown",
   "metadata": {},
   "source": [
    "## Read PT table"
   ]
  },
  {
   "cell_type": "code",
   "execution_count": 36,
   "metadata": {},
   "outputs": [
    {
     "data": {
      "text/plain": [
       "['Samples for re-analysis_ADAlimumab.xlsx',\n",
       " 'run24-ADAlimumab.csv',\n",
       " 'run28-ADAlimumab.csv',\n",
       " 'run22-ADAlimumab.csv']"
      ]
     },
     "execution_count": 36,
     "metadata": {},
     "output_type": "execute_result"
    }
   ],
   "source": [
    "mydir = \"/home/barbera/Downloads/Dornatien/project-20210117-ADAlimumab/data/meta/\"\n",
    "os.listdir(mydir)"
   ]
  },
  {
   "cell_type": "code",
   "execution_count": 37,
   "metadata": {},
   "outputs": [
    {
     "data": {
      "text/html": [
       "<div>\n",
       "<style scoped>\n",
       "    .dataframe tbody tr th:only-of-type {\n",
       "        vertical-align: middle;\n",
       "    }\n",
       "\n",
       "    .dataframe tbody tr th {\n",
       "        vertical-align: top;\n",
       "    }\n",
       "\n",
       "    .dataframe thead th {\n",
       "        text-align: right;\n",
       "    }\n",
       "</style>\n",
       "<table border=\"1\" class=\"dataframe\">\n",
       "  <thead>\n",
       "    <tr style=\"text-align: right;\">\n",
       "      <th></th>\n",
       "      <th>Samples order</th>\n",
       "      <th>Sample_ID</th>\n",
       "      <th>Sample name</th>\n",
       "      <th>Project</th>\n",
       "      <th>Species</th>\n",
       "      <th>Chain</th>\n",
       "      <th>Patient</th>\n",
       "      <th>Sample</th>\n",
       "      <th>UMI (yes or no)</th>\n",
       "      <th>RUN</th>\n",
       "    </tr>\n",
       "  </thead>\n",
       "  <tbody>\n",
       "    <tr>\n",
       "      <th>0</th>\n",
       "      <td>S113</td>\n",
       "      <td>N728_S507</td>\n",
       "      <td>AB-ADA37-Bu</td>\n",
       "      <td>AB-ADA</td>\n",
       "      <td>human</td>\n",
       "      <td>BCRh</td>\n",
       "      <td>40-01-0013</td>\n",
       "      <td>V5-M6</td>\n",
       "      <td>YES</td>\n",
       "      <td>28</td>\n",
       "    </tr>\n",
       "    <tr>\n",
       "      <th>1</th>\n",
       "      <td>S114</td>\n",
       "      <td>N729_S507</td>\n",
       "      <td>AB-ADA84-Bu</td>\n",
       "      <td>AB-ADA</td>\n",
       "      <td>human</td>\n",
       "      <td>BCRh</td>\n",
       "      <td>40-01-0017</td>\n",
       "      <td>V3-M1</td>\n",
       "      <td>YES</td>\n",
       "      <td>28</td>\n",
       "    </tr>\n",
       "  </tbody>\n",
       "</table>\n",
       "</div>"
      ],
      "text/plain": [
       "  Samples order  Sample_ID  Sample name Project Species Chain     Patient  \\\n",
       "0          S113  N728_S507  AB-ADA37-Bu  AB-ADA   human  BCRh  40-01-0013   \n",
       "1          S114  N729_S507  AB-ADA84-Bu  AB-ADA   human  BCRh  40-01-0017   \n",
       "\n",
       "  Sample UMI (yes or no)  RUN  \n",
       "0  V5-M6             YES   28  \n",
       "1  V3-M1             YES   28  "
      ]
     },
     "execution_count": 37,
     "metadata": {},
     "output_type": "execute_result"
    }
   ],
   "source": [
    "df = pd.read_csv(mydir + 'run28-ADAlimumab.csv', sep=';')\n",
    "df.head()"
   ]
  },
  {
   "cell_type": "code",
   "execution_count": 38,
   "metadata": {},
   "outputs": [
    {
     "data": {
      "text/html": [
       "<div>\n",
       "<style scoped>\n",
       "    .dataframe tbody tr th:only-of-type {\n",
       "        vertical-align: middle;\n",
       "    }\n",
       "\n",
       "    .dataframe tbody tr th {\n",
       "        vertical-align: top;\n",
       "    }\n",
       "\n",
       "    .dataframe thead th {\n",
       "        text-align: right;\n",
       "    }\n",
       "</style>\n",
       "<table border=\"1\" class=\"dataframe\">\n",
       "  <thead>\n",
       "    <tr style=\"text-align: right;\">\n",
       "      <th></th>\n",
       "      <th>Samples order</th>\n",
       "      <th>Sample_ID</th>\n",
       "      <th>Sample name</th>\n",
       "      <th>Project</th>\n",
       "      <th>Species</th>\n",
       "      <th>Chain</th>\n",
       "      <th>Patient</th>\n",
       "      <th>Sample</th>\n",
       "      <th>UMI (yes or no)</th>\n",
       "      <th>RUN</th>\n",
       "    </tr>\n",
       "  </thead>\n",
       "  <tbody>\n",
       "    <tr>\n",
       "      <th>0</th>\n",
       "      <td>S113</td>\n",
       "      <td>N728_S507</td>\n",
       "      <td>AB-ADA37-Bu</td>\n",
       "      <td>AB-ADA</td>\n",
       "      <td>human</td>\n",
       "      <td>BCRh</td>\n",
       "      <td>40-01-0013</td>\n",
       "      <td>V5-M6</td>\n",
       "      <td>yes</td>\n",
       "      <td>28</td>\n",
       "    </tr>\n",
       "    <tr>\n",
       "      <th>1</th>\n",
       "      <td>S114</td>\n",
       "      <td>N729_S507</td>\n",
       "      <td>AB-ADA84-Bu</td>\n",
       "      <td>AB-ADA</td>\n",
       "      <td>human</td>\n",
       "      <td>BCRh</td>\n",
       "      <td>40-01-0017</td>\n",
       "      <td>V3-M1</td>\n",
       "      <td>yes</td>\n",
       "      <td>28</td>\n",
       "    </tr>\n",
       "  </tbody>\n",
       "</table>\n",
       "</div>"
      ],
      "text/plain": [
       "  Samples order  Sample_ID  Sample name Project Species Chain     Patient  \\\n",
       "0          S113  N728_S507  AB-ADA37-Bu  AB-ADA   human  BCRh  40-01-0013   \n",
       "1          S114  N729_S507  AB-ADA84-Bu  AB-ADA   human  BCRh  40-01-0017   \n",
       "\n",
       "  Sample UMI (yes or no)  RUN  \n",
       "0  V5-M6             yes   28  \n",
       "1  V3-M1             yes   28  "
      ]
     },
     "execution_count": 38,
     "metadata": {},
     "output_type": "execute_result"
    }
   ],
   "source": [
    "# data in UMI column to lowercase\n",
    "df['UMI (yes or no)'] = [x for x in map(str.lower, df['UMI (yes or no)'])]\n",
    "df.head()"
   ]
  },
  {
   "cell_type": "code",
   "execution_count": 39,
   "metadata": {},
   "outputs": [
    {
     "data": {
      "text/plain": [
       "Index(['Samples order', 'Sample_ID', 'Sample name', 'Project', 'Species',\n",
       "       'Chain', 'Patient', 'Sample', 'UMI (yes or no)', 'RUN'],\n",
       "      dtype='object')"
      ]
     },
     "execution_count": 39,
     "metadata": {},
     "output_type": "execute_result"
    }
   ],
   "source": [
    "df.columns"
   ]
  },
  {
   "cell_type": "code",
   "execution_count": 40,
   "metadata": {},
   "outputs": [
    {
     "data": {
      "text/html": [
       "<div>\n",
       "<style scoped>\n",
       "    .dataframe tbody tr th:only-of-type {\n",
       "        vertical-align: middle;\n",
       "    }\n",
       "\n",
       "    .dataframe tbody tr th {\n",
       "        vertical-align: top;\n",
       "    }\n",
       "\n",
       "    .dataframe thead th {\n",
       "        text-align: right;\n",
       "    }\n",
       "</style>\n",
       "<table border=\"1\" class=\"dataframe\">\n",
       "  <thead>\n",
       "    <tr style=\"text-align: right;\">\n",
       "      <th></th>\n",
       "      <th>Nr</th>\n",
       "      <th>Sample_ID</th>\n",
       "      <th>Sample_Name</th>\n",
       "      <th>Sample_Project</th>\n",
       "      <th>Species</th>\n",
       "      <th>Chain</th>\n",
       "      <th>Patient</th>\n",
       "      <th>Sample</th>\n",
       "      <th>UMI</th>\n",
       "      <th>RUN</th>\n",
       "    </tr>\n",
       "  </thead>\n",
       "  <tbody>\n",
       "    <tr>\n",
       "      <th>0</th>\n",
       "      <td>S113</td>\n",
       "      <td>N728_S507</td>\n",
       "      <td>AB-ADA37-Bu</td>\n",
       "      <td>AB-ADA</td>\n",
       "      <td>human</td>\n",
       "      <td>BCRh</td>\n",
       "      <td>40-01-0013</td>\n",
       "      <td>V5-M6</td>\n",
       "      <td>yes</td>\n",
       "      <td>28</td>\n",
       "    </tr>\n",
       "    <tr>\n",
       "      <th>1</th>\n",
       "      <td>S114</td>\n",
       "      <td>N729_S507</td>\n",
       "      <td>AB-ADA84-Bu</td>\n",
       "      <td>AB-ADA</td>\n",
       "      <td>human</td>\n",
       "      <td>BCRh</td>\n",
       "      <td>40-01-0017</td>\n",
       "      <td>V3-M1</td>\n",
       "      <td>yes</td>\n",
       "      <td>28</td>\n",
       "    </tr>\n",
       "  </tbody>\n",
       "</table>\n",
       "</div>"
      ],
      "text/plain": [
       "     Nr  Sample_ID  Sample_Name Sample_Project Species Chain     Patient  \\\n",
       "0  S113  N728_S507  AB-ADA37-Bu         AB-ADA   human  BCRh  40-01-0013   \n",
       "1  S114  N729_S507  AB-ADA84-Bu         AB-ADA   human  BCRh  40-01-0017   \n",
       "\n",
       "  Sample  UMI  RUN  \n",
       "0  V5-M6  yes   28  \n",
       "1  V3-M1  yes   28  "
      ]
     },
     "execution_count": 40,
     "metadata": {},
     "output_type": "execute_result"
    }
   ],
   "source": [
    "# Rename columns to match it to the DatasheetHeader\n",
    "df = df.rename(columns={'Samples order': 'Nr',\n",
    "                  'Sample_ID': 'Sample_ID',\n",
    "                  'Sample name': 'Sample_Name',\n",
    "                  'Project': 'Sample_Project',\n",
    "                  'UMI (yes or no)': 'UMI',\n",
    "                  'HEK cells (yes or no)': 'HEK_cells',\n",
    "                  'RACE (yes or no)': 'RACE',\n",
    "                  'Constant (yes or no)': 'Constant'})\n",
    "df.head()"
   ]
  },
  {
   "cell_type": "code",
   "execution_count": 41,
   "metadata": {},
   "outputs": [
    {
     "name": "stdout",
     "output_type": "stream",
     "text": [
      "Sample_Plate\n",
      "I7_Index_ID\n",
      "Run\n",
      "index2\n",
      "index\n",
      "Sample_Well\n",
      "I5_Index_ID\n"
     ]
    },
    {
     "data": {
      "text/html": [
       "<div>\n",
       "<style scoped>\n",
       "    .dataframe tbody tr th:only-of-type {\n",
       "        vertical-align: middle;\n",
       "    }\n",
       "\n",
       "    .dataframe tbody tr th {\n",
       "        vertical-align: top;\n",
       "    }\n",
       "\n",
       "    .dataframe thead th {\n",
       "        text-align: right;\n",
       "    }\n",
       "</style>\n",
       "<table border=\"1\" class=\"dataframe\">\n",
       "  <thead>\n",
       "    <tr style=\"text-align: right;\">\n",
       "      <th></th>\n",
       "      <th>Nr</th>\n",
       "      <th>Sample_ID</th>\n",
       "      <th>Sample_Name</th>\n",
       "      <th>Sample_Project</th>\n",
       "      <th>Species</th>\n",
       "      <th>Chain</th>\n",
       "      <th>Patient</th>\n",
       "      <th>Sample</th>\n",
       "      <th>UMI</th>\n",
       "      <th>RUN</th>\n",
       "      <th>Sample_Plate</th>\n",
       "      <th>I7_Index_ID</th>\n",
       "      <th>Run</th>\n",
       "      <th>index2</th>\n",
       "      <th>index</th>\n",
       "      <th>Sample_Well</th>\n",
       "      <th>I5_Index_ID</th>\n",
       "    </tr>\n",
       "  </thead>\n",
       "  <tbody>\n",
       "    <tr>\n",
       "      <th>0</th>\n",
       "      <td>S113</td>\n",
       "      <td>N728_S507</td>\n",
       "      <td>AB-ADA37-Bu</td>\n",
       "      <td>AB-ADA</td>\n",
       "      <td>human</td>\n",
       "      <td>BCRh</td>\n",
       "      <td>40-01-0013</td>\n",
       "      <td>V5-M6</td>\n",
       "      <td>yes</td>\n",
       "      <td>28</td>\n",
       "      <td></td>\n",
       "      <td></td>\n",
       "      <td></td>\n",
       "      <td></td>\n",
       "      <td></td>\n",
       "      <td></td>\n",
       "      <td></td>\n",
       "    </tr>\n",
       "    <tr>\n",
       "      <th>1</th>\n",
       "      <td>S114</td>\n",
       "      <td>N729_S507</td>\n",
       "      <td>AB-ADA84-Bu</td>\n",
       "      <td>AB-ADA</td>\n",
       "      <td>human</td>\n",
       "      <td>BCRh</td>\n",
       "      <td>40-01-0017</td>\n",
       "      <td>V3-M1</td>\n",
       "      <td>yes</td>\n",
       "      <td>28</td>\n",
       "      <td></td>\n",
       "      <td></td>\n",
       "      <td></td>\n",
       "      <td></td>\n",
       "      <td></td>\n",
       "      <td></td>\n",
       "      <td></td>\n",
       "    </tr>\n",
       "  </tbody>\n",
       "</table>\n",
       "</div>"
      ],
      "text/plain": [
       "     Nr  Sample_ID  Sample_Name Sample_Project Species Chain     Patient  \\\n",
       "0  S113  N728_S507  AB-ADA37-Bu         AB-ADA   human  BCRh  40-01-0013   \n",
       "1  S114  N729_S507  AB-ADA84-Bu         AB-ADA   human  BCRh  40-01-0017   \n",
       "\n",
       "  Sample  UMI  RUN Sample_Plate I7_Index_ID Run index2 index Sample_Well  \\\n",
       "0  V5-M6  yes   28                                                         \n",
       "1  V3-M1  yes   28                                                         \n",
       "\n",
       "  I5_Index_ID  \n",
       "0              \n",
       "1              "
      ]
     },
     "execution_count": 41,
     "metadata": {},
     "output_type": "execute_result"
    }
   ],
   "source": [
    "# Add missing columns\n",
    "cols = ['Sample_ID', 'Sample_Name', 'Sample_Plate', 'Sample_Well', 'I7_Index_ID', 'index', 'I5_Index_ID', 'index2', 'Run', 'Nr', 'Sample_Project', 'Species', 'Chain', 'Patient', 'Sample', 'UMI']\n",
    "missing_cols = set(cols).difference(set(df.columns))\n",
    "for missing in missing_cols:\n",
    "    print(missing)\n",
    "    df[missing] = \"\"\n",
    "df.head()"
   ]
  },
  {
   "cell_type": "code",
   "execution_count": 42,
   "metadata": {},
   "outputs": [
    {
     "name": "stdout",
     "output_type": "stream",
     "text": [
      "[Header],,,,,,,,,,,,,,,\n",
      "IEMFileVersion,4,,,,,,,,,,,,,,\n",
      "Investigator Name,Niek de Vries,,,,,,,,,,,,,,\n",
      "Experiment Name,run28-20220117-miseq-AB,,,,,,,,,,,,,,\n",
      "Date,17-01-2022,,,,,,,,,,,,,,\n",
      "Workflow,GenerateFASTQ,,,,,,,,,,,,,,\n",
      "Application,FASTQ Only,,,,,,,,,,,,,,\n",
      "Assay,Nextera XT v2,,,,,,,,,,,,,,\n",
      "Description,RNA,,,,,,,,,,,,,,\n",
      "Chemistry,Amplicon,,,,,,,,,,,,,,\n",
      ",,,,,,,,,,,,,,,\n",
      "[Reads],,,,,,,,,,,,,,,\n",
      "301,,,,,,,,,,,,,,,\n",
      "301,,,,,,,,,,,,,,,\n",
      ",,,,,,,,,,,,,,,\n",
      "[Settings],,,,,,,,,,,,,,,\n",
      "ReverseComplement,0,,,,,,,,,,,,,,\n",
      "Adapter,CTGTCTCTTATACACATCT,,,,,,,,,,,,,,\n",
      ",,,,,,,,,,,,,,,\n",
      "[Data],,,,,,,,,,,,,,,\n",
      "Sample_ID,Sample_Name,Sample_Plate,Sample_Well,I7_Index_ID,index,I5_Index_ID,index2,Run,Nr,Sample_Project,Species,Chain,Patient,Sample,UMI,RUN\n"
     ]
    }
   ],
   "source": [
    "# Check for extra columns in the pt-table\n",
    "extra_cols = set(df.columns).difference(set(cols))\n",
    "for extra in extra_cols:\n",
    "    #print(extra)\n",
    "    datasheet_header = datasheet_header + \",\" + extra\n",
    "print(datasheet_header)"
   ]
  },
  {
   "cell_type": "code",
   "execution_count": 43,
   "metadata": {},
   "outputs": [
    {
     "data": {
      "text/html": [
       "<div>\n",
       "<style scoped>\n",
       "    .dataframe tbody tr th:only-of-type {\n",
       "        vertical-align: middle;\n",
       "    }\n",
       "\n",
       "    .dataframe tbody tr th {\n",
       "        vertical-align: top;\n",
       "    }\n",
       "\n",
       "    .dataframe thead th {\n",
       "        text-align: right;\n",
       "    }\n",
       "</style>\n",
       "<table border=\"1\" class=\"dataframe\">\n",
       "  <thead>\n",
       "    <tr style=\"text-align: right;\">\n",
       "      <th></th>\n",
       "      <th>Sample_ID</th>\n",
       "      <th>Sample_Name</th>\n",
       "      <th>Sample_Plate</th>\n",
       "      <th>Sample_Well</th>\n",
       "      <th>I7_Index_ID</th>\n",
       "      <th>index</th>\n",
       "      <th>I5_Index_ID</th>\n",
       "      <th>index2</th>\n",
       "      <th>Run</th>\n",
       "      <th>Nr</th>\n",
       "      <th>Sample_Project</th>\n",
       "      <th>Species</th>\n",
       "      <th>Chain</th>\n",
       "      <th>Patient</th>\n",
       "      <th>Sample</th>\n",
       "      <th>UMI</th>\n",
       "      <th>RUN</th>\n",
       "    </tr>\n",
       "  </thead>\n",
       "  <tbody>\n",
       "    <tr>\n",
       "      <th>0</th>\n",
       "      <td>N728_S507</td>\n",
       "      <td>AB-ADA37-Bu</td>\n",
       "      <td></td>\n",
       "      <td></td>\n",
       "      <td></td>\n",
       "      <td></td>\n",
       "      <td></td>\n",
       "      <td></td>\n",
       "      <td></td>\n",
       "      <td>S113</td>\n",
       "      <td>AB-ADA</td>\n",
       "      <td>human</td>\n",
       "      <td>BCRh</td>\n",
       "      <td>40-01-0013</td>\n",
       "      <td>V5-M6</td>\n",
       "      <td>yes</td>\n",
       "      <td>28</td>\n",
       "    </tr>\n",
       "    <tr>\n",
       "      <th>1</th>\n",
       "      <td>N729_S507</td>\n",
       "      <td>AB-ADA84-Bu</td>\n",
       "      <td></td>\n",
       "      <td></td>\n",
       "      <td></td>\n",
       "      <td></td>\n",
       "      <td></td>\n",
       "      <td></td>\n",
       "      <td></td>\n",
       "      <td>S114</td>\n",
       "      <td>AB-ADA</td>\n",
       "      <td>human</td>\n",
       "      <td>BCRh</td>\n",
       "      <td>40-01-0017</td>\n",
       "      <td>V3-M1</td>\n",
       "      <td>yes</td>\n",
       "      <td>28</td>\n",
       "    </tr>\n",
       "  </tbody>\n",
       "</table>\n",
       "</div>"
      ],
      "text/plain": [
       "   Sample_ID  Sample_Name Sample_Plate Sample_Well I7_Index_ID index  \\\n",
       "0  N728_S507  AB-ADA37-Bu                                              \n",
       "1  N729_S507  AB-ADA84-Bu                                              \n",
       "\n",
       "  I5_Index_ID index2 Run    Nr Sample_Project Species Chain     Patient  \\\n",
       "0                         S113         AB-ADA   human  BCRh  40-01-0013   \n",
       "1                         S114         AB-ADA   human  BCRh  40-01-0017   \n",
       "\n",
       "  Sample  UMI  RUN  \n",
       "0  V5-M6  yes   28  \n",
       "1  V3-M1  yes   28  "
      ]
     },
     "execution_count": 43,
     "metadata": {},
     "output_type": "execute_result"
    }
   ],
   "source": [
    "# Change the order of the columns in the data frame\n",
    "cols = cols + list(extra_cols)\n",
    "df = df[cols]\n",
    "df.head()"
   ]
  },
  {
   "cell_type": "markdown",
   "metadata": {},
   "source": [
    "## Glue together the header and the values"
   ]
  },
  {
   "cell_type": "code",
   "execution_count": 44,
   "metadata": {},
   "outputs": [],
   "source": [
    "df.to_csv(\"tmp.csv\", header=None, index=None)"
   ]
  },
  {
   "cell_type": "code",
   "execution_count": 45,
   "metadata": {},
   "outputs": [],
   "source": [
    "fh = open(\"tmp.csv\")\n",
    "values = fh.read().rstrip()\n",
    "fh.close()"
   ]
  },
  {
   "cell_type": "code",
   "execution_count": 46,
   "metadata": {},
   "outputs": [
    {
     "name": "stdout",
     "output_type": "stream",
     "text": [
      "Wrote 20220117-DataSheet-RUN28-AB.csv to disk\n"
     ]
    }
   ],
   "source": [
    "fhOut = open(outfile, \"w\")\n",
    "print(datasheet_header, file=fhOut)\n",
    "print(values, file=fhOut)\n",
    "fhOut.close()\n",
    "print(\"Wrote\", outfile, \"to disk\")"
   ]
  },
  {
   "cell_type": "markdown",
   "metadata": {},
   "source": [
    "## Make separate datasheets for different types of data"
   ]
  },
  {
   "cell_type": "code",
   "execution_count": 15,
   "metadata": {},
   "outputs": [
    {
     "name": "stdout",
     "output_type": "stream",
     "text": [
      "Wrote 20210621-DataSheet-RUN41-human-TCRb.csv to disk\n"
     ]
    }
   ],
   "source": [
    "# human TCRb\n",
    "outfile_new = outfile.replace(\".csv\", \"-human-TCRb.csv\")\n",
    "df_selection = df[(df['Species'] == \"human\") & (df['Chain'] == \"TCRb\")]\n",
    "df_selection.to_csv(\"tmp-selection.csv\", header=None, index=None)\n",
    "\n",
    "fh = open(\"tmp-selection.csv\")\n",
    "values = fh.read().rstrip()\n",
    "fh.close()\n",
    "\n",
    "fhOut = open(outfile_new, \"w\")\n",
    "print(datasheet_header, file=fhOut)\n",
    "print(values, file=fhOut)\n",
    "fhOut.close()\n",
    "print(\"Wrote\", outfile_new, \"to disk\")"
   ]
  },
  {
   "cell_type": "code",
   "execution_count": 16,
   "metadata": {},
   "outputs": [
    {
     "name": "stdout",
     "output_type": "stream",
     "text": [
      "Wrote 20210621-DataSheet-RUN41-human-BCRh-UMI.csv to disk\n"
     ]
    }
   ],
   "source": [
    "# human BCRh UMI\n",
    "outfile_new = outfile.replace(\".csv\", \"-human-BCRh-UMI.csv\")\n",
    "df_selection = df[(df['Species'] == \"human\") & (df['Chain'] == \"BCRh\") & (df['UMI'] == \"yes\") & (df['RACE'] == \"no\")]\n",
    "df_selection.to_csv(\"tmp-selection.csv\", header=None, index=None)\n",
    "\n",
    "fh = open(\"tmp-selection.csv\")\n",
    "values = fh.read().rstrip()\n",
    "fh.close()\n",
    "\n",
    "fhOut = open(outfile_new, \"w\")\n",
    "print(datasheet_header, file=fhOut)\n",
    "print(values, file=fhOut)\n",
    "fhOut.close()\n",
    "print(\"Wrote\", outfile_new, \"to disk\")"
   ]
  },
  {
   "cell_type": "code",
   "execution_count": 17,
   "metadata": {},
   "outputs": [
    {
     "name": "stdout",
     "output_type": "stream",
     "text": [
      "Wrote 20210621-DataSheet-RUN41-human-RACE-plus-Contant.csv to disk\n"
     ]
    }
   ],
   "source": [
    "# human RACE+Constant\n",
    "outfile_new = outfile.replace(\".csv\", \"-human-RACE-plus-Contant.csv\")\n",
    "df_selection = df[(df['Species'] == \"human\") & (df['RACE'] == \"yes\") & (df['Constant'] == \"yes\")]\n",
    "df_selection.to_csv(\"tmp-selection.csv\", header=None, index=None)\n",
    "\n",
    "fh = open(\"tmp-selection.csv\")\n",
    "values = fh.read().rstrip()\n",
    "fh.close()\n",
    "\n",
    "fhOut = open(outfile_new, \"w\")\n",
    "print(datasheet_header, file=fhOut)\n",
    "print(values, file=fhOut)\n",
    "fhOut.close()\n",
    "print(\"Wrote\", outfile_new, \"to disk\")"
   ]
  },
  {
   "cell_type": "code",
   "execution_count": 18,
   "metadata": {},
   "outputs": [
    {
     "name": "stdout",
     "output_type": "stream",
     "text": [
      "Wrote 20210621-DataSheet-RUN41-human-RACE-min-Contant.csv to disk\n"
     ]
    }
   ],
   "source": [
    "# human RACE-Constant\n",
    "outfile_new = outfile.replace(\".csv\", \"-human-RACE-min-Contant.csv\")\n",
    "df_selection = df[(df['Species'] == \"human\") & (df['RACE'] == \"yes\") & (df['Constant'] == \"no\")]\n",
    "df_selection.to_csv(\"tmp-selection.csv\", header=None, index=None)\n",
    "\n",
    "fh = open(\"tmp-selection.csv\")\n",
    "values = fh.read().rstrip()\n",
    "fh.close()\n",
    "\n",
    "fhOut = open(outfile_new, \"w\")\n",
    "print(datasheet_header, file=fhOut)\n",
    "print(values, file=fhOut)\n",
    "fhOut.close()\n",
    "print(\"Wrote\", outfile_new, \"to disk\")"
   ]
  },
  {
   "cell_type": "code",
   "execution_count": 19,
   "metadata": {},
   "outputs": [
    {
     "name": "stdout",
     "output_type": "stream",
     "text": [
      "Wrote 20210621-DataSheet-RUN41-human-HLA.csv to disk\n"
     ]
    }
   ],
   "source": [
    "# human HLA\n",
    "outfile_new = outfile.replace(\".csv\", \"-human-HLA.csv\")\n",
    "df_selection = df[(df['Species'] == \"human\") & (df['Chain'].str.startswith(\"HLA\"))]\n",
    "df_selection.to_csv(\"tmp-selection.csv\", header=None, index=None)\n",
    "\n",
    "fh = open(\"tmp-selection.csv\")\n",
    "values = fh.read().rstrip()\n",
    "fh.close()\n",
    "\n",
    "fhOut = open(outfile_new, \"w\")\n",
    "print(datasheet_header, file=fhOut)\n",
    "print(values, file=fhOut)\n",
    "fhOut.close()\n",
    "print(\"Wrote\", outfile_new, \"to disk\")"
   ]
  },
  {
   "cell_type": "code",
   "execution_count": null,
   "metadata": {},
   "outputs": [],
   "source": []
  }
 ],
 "metadata": {
  "kernelspec": {
   "display_name": "Python 3",
   "language": "python",
   "name": "python3"
  },
  "language_info": {
   "codemirror_mode": {
    "name": "ipython",
    "version": 3
   },
   "file_extension": ".py",
   "mimetype": "text/x-python",
   "name": "python",
   "nbconvert_exporter": "python",
   "pygments_lexer": "ipython3",
   "version": "3.6.4"
  }
 },
 "nbformat": 4,
 "nbformat_minor": 2
}
