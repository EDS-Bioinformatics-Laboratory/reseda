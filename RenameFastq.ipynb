{
 "cells": [
  {
   "cell_type": "code",
   "execution_count": 1,
   "metadata": {},
   "outputs": [],
   "source": [
    "import os"
   ]
  },
  {
   "cell_type": "code",
   "execution_count": 2,
   "metadata": {},
   "outputs": [
    {
     "data": {
      "text/plain": [
       "['MSmm-01_1.fastq.gz',\n",
       " 'MSmm-01_2.fastq.gz',\n",
       " 'MSmm-02_1.fastq.gz',\n",
       " 'MSmm-02_2.fastq.gz',\n",
       " 'MSmm-03_1.fastq.gz',\n",
       " 'MSmm-03_2.fastq.gz',\n",
       " 'MSmm-04_1.fastq.gz',\n",
       " 'MSmm-04_2.fastq.gz',\n",
       " 'MSmm-05_1.fastq.gz',\n",
       " 'MSmm-05_2.fastq.gz']"
      ]
     },
     "execution_count": 2,
     "metadata": {},
     "output_type": "execute_result"
    }
   ],
   "source": [
    "myfiles = [x for x in os.listdir() if x.endswith(\".fastq.gz\")]\n",
    "myfiles.sort()\n",
    "myfiles"
   ]
  },
  {
   "cell_type": "code",
   "execution_count": 3,
   "metadata": {},
   "outputs": [
    {
     "name": "stdout",
     "output_type": "stream",
     "text": [
      "mv MSmm-01_1.fastq.gz MSmm-01_S1_L001_R1_001.fastq.gz\n",
      "mv MSmm-01_2.fastq.gz MSmm-01_S1_L001_R2_001.fastq.gz\n",
      "mv MSmm-02_1.fastq.gz MSmm-02_S2_L001_R1_001.fastq.gz\n",
      "mv MSmm-02_2.fastq.gz MSmm-02_S2_L001_R2_001.fastq.gz\n",
      "mv MSmm-03_1.fastq.gz MSmm-03_S3_L001_R1_001.fastq.gz\n",
      "mv MSmm-03_2.fastq.gz MSmm-03_S3_L001_R2_001.fastq.gz\n",
      "mv MSmm-04_1.fastq.gz MSmm-04_S4_L001_R1_001.fastq.gz\n",
      "mv MSmm-04_2.fastq.gz MSmm-04_S4_L001_R2_001.fastq.gz\n",
      "mv MSmm-05_1.fastq.gz MSmm-05_S5_L001_R1_001.fastq.gz\n",
      "mv MSmm-05_2.fastq.gz MSmm-05_S5_L001_R2_001.fastq.gz\n",
      "Wrote rename.sh to disk\n"
     ]
    }
   ],
   "source": [
    "fhOut = open(\"rename.sh\", \"w\")\n",
    "n = 1\n",
    "for myfile in myfiles:\n",
    "    samplename, pair = myfile.replace(\".fastq.gz\", \"\").split(\"_\")\n",
    "    #\"test-run32-B_S58_L001_R1_001.fastq.gz\"\n",
    "    newfile = samplename + \"_S\" + str(n) + \"_L001_R\" + pair + \"_001.fastq.gz\"\n",
    "    print(\"mv\", myfile, newfile)\n",
    "    print(\"mv\", myfile, newfile, file=fhOut)\n",
    "    if pair == \"2\":\n",
    "        n += 1\n",
    "fhOut.close()\n",
    "print(\"Wrote rename.sh to disk\")"
   ]
  },
  {
   "cell_type": "code",
   "execution_count": null,
   "metadata": {},
   "outputs": [],
   "source": []
  }
 ],
 "metadata": {
  "kernelspec": {
   "display_name": "Python 3",
   "language": "python",
   "name": "python3"
  },
  "language_info": {
   "codemirror_mode": {
    "name": "ipython",
    "version": 3
   },
   "file_extension": ".py",
   "mimetype": "text/x-python",
   "name": "python",
   "nbconvert_exporter": "python",
   "pygments_lexer": "ipython3",
   "version": "3.6.5"
  }
 },
 "nbformat": 4,
 "nbformat_minor": 2
}
