{
 "cells": [
  {
   "cell_type": "code",
   "execution_count": 1,
   "metadata": {},
   "outputs": [],
   "source": [
    "import pandas as pd\n",
    "import matplotlib.pyplot as plt\n",
    "from PairwiseAlignment import pairAlign"
   ]
  },
  {
   "cell_type": "code",
   "execution_count": 2,
   "metadata": {},
   "outputs": [
    {
     "name": "stdout",
     "output_type": "stream",
     "text": [
      "102378\n"
     ]
    },
    {
     "data": {
      "text/html": [
       "<div>\n",
       "<style scoped>\n",
       "    .dataframe tbody tr th:only-of-type {\n",
       "        vertical-align: middle;\n",
       "    }\n",
       "\n",
       "    .dataframe tbody tr th {\n",
       "        vertical-align: top;\n",
       "    }\n",
       "\n",
       "    .dataframe thead th {\n",
       "        text-align: right;\n",
       "    }\n",
       "</style>\n",
       "<table border=\"1\" class=\"dataframe\">\n",
       "  <thead>\n",
       "    <tr style=\"text-align: right;\">\n",
       "      <th></th>\n",
       "      <th>Reference</th>\n",
       "      <th>Antibody 1</th>\n",
       "      <th>Antibody 2</th>\n",
       "      <th>Shared mutations</th>\n",
       "      <th>Perc AB1</th>\n",
       "      <th>Perc AB2</th>\n",
       "    </tr>\n",
       "  </thead>\n",
       "  <tbody>\n",
       "    <tr>\n",
       "      <th>0</th>\n",
       "      <td>IGHV3-23*01</td>\n",
       "      <td>M02984:889:000000000-JGK5F:1:1117:19428:18082|...</td>\n",
       "      <td>M02984:889:000000000-JGK5F:1:2101:15160:14551|...</td>\n",
       "      <td>2</td>\n",
       "      <td>40.0</td>\n",
       "      <td>16.7</td>\n",
       "    </tr>\n",
       "    <tr>\n",
       "      <th>1</th>\n",
       "      <td>IGHV3-23*01</td>\n",
       "      <td>M02984:889:000000000-JGK5F:1:1117:19428:18082|...</td>\n",
       "      <td>M02984:889:000000000-JGK5F:1:1119:25273:23416|...</td>\n",
       "      <td>1</td>\n",
       "      <td>20.0</td>\n",
       "      <td>3.7</td>\n",
       "    </tr>\n",
       "    <tr>\n",
       "      <th>2</th>\n",
       "      <td>IGHV3-23*01</td>\n",
       "      <td>M02984:889:000000000-JGK5F:1:1117:19428:18082|...</td>\n",
       "      <td>M02984:889:000000000-JGK5F:1:1115:6658:10737|D...</td>\n",
       "      <td>0</td>\n",
       "      <td>0.0</td>\n",
       "      <td>0.0</td>\n",
       "    </tr>\n",
       "    <tr>\n",
       "      <th>3</th>\n",
       "      <td>IGHV3-23*01</td>\n",
       "      <td>M02984:889:000000000-JGK5F:1:1117:19428:18082|...</td>\n",
       "      <td>M02984:889:000000000-JGK5F:1:2111:19388:14491|...</td>\n",
       "      <td>0</td>\n",
       "      <td>0.0</td>\n",
       "      <td>0.0</td>\n",
       "    </tr>\n",
       "    <tr>\n",
       "      <th>4</th>\n",
       "      <td>IGHV3-23*01</td>\n",
       "      <td>M02984:889:000000000-JGK5F:1:1117:19428:18082|...</td>\n",
       "      <td>M02984:889:000000000-JGK5F:1:2101:10641:7693|D...</td>\n",
       "      <td>2</td>\n",
       "      <td>40.0</td>\n",
       "      <td>18.2</td>\n",
       "    </tr>\n",
       "  </tbody>\n",
       "</table>\n",
       "</div>"
      ],
      "text/plain": [
       "     Reference                                         Antibody 1  \\\n",
       "0  IGHV3-23*01  M02984:889:000000000-JGK5F:1:1117:19428:18082|...   \n",
       "1  IGHV3-23*01  M02984:889:000000000-JGK5F:1:1117:19428:18082|...   \n",
       "2  IGHV3-23*01  M02984:889:000000000-JGK5F:1:1117:19428:18082|...   \n",
       "3  IGHV3-23*01  M02984:889:000000000-JGK5F:1:1117:19428:18082|...   \n",
       "4  IGHV3-23*01  M02984:889:000000000-JGK5F:1:1117:19428:18082|...   \n",
       "\n",
       "                                          Antibody 2  Shared mutations  \\\n",
       "0  M02984:889:000000000-JGK5F:1:2101:15160:14551|...                 2   \n",
       "1  M02984:889:000000000-JGK5F:1:1119:25273:23416|...                 1   \n",
       "2  M02984:889:000000000-JGK5F:1:1115:6658:10737|D...                 0   \n",
       "3  M02984:889:000000000-JGK5F:1:2111:19388:14491|...                 0   \n",
       "4  M02984:889:000000000-JGK5F:1:2101:10641:7693|D...                 2   \n",
       "\n",
       "   Perc AB1  Perc AB2  \n",
       "0      40.0      16.7  \n",
       "1      20.0       3.7  \n",
       "2       0.0       0.0  \n",
       "3       0.0       0.0  \n",
       "4      40.0      18.2  "
      ]
     },
     "execution_count": 2,
     "metadata": {},
     "output_type": "execute_result"
    }
   ],
   "source": [
    "df = pd.read_csv(\"./tmp/DO-051V1-CD24.V.clustalo.fasta.shared-mutations.csv\", sep=\"\\t\")\n",
    "print(len(df))\n",
    "df.head()"
   ]
  },
  {
   "cell_type": "code",
   "execution_count": 3,
   "metadata": {},
   "outputs": [
    {
     "data": {
      "text/html": [
       "<div>\n",
       "<style scoped>\n",
       "    .dataframe tbody tr th:only-of-type {\n",
       "        vertical-align: middle;\n",
       "    }\n",
       "\n",
       "    .dataframe tbody tr th {\n",
       "        vertical-align: top;\n",
       "    }\n",
       "\n",
       "    .dataframe thead th {\n",
       "        text-align: right;\n",
       "    }\n",
       "</style>\n",
       "<table border=\"1\" class=\"dataframe\">\n",
       "  <thead>\n",
       "    <tr style=\"text-align: right;\">\n",
       "      <th></th>\n",
       "      <th>Reference</th>\n",
       "      <th>Antibody 1</th>\n",
       "      <th>Antibody 2</th>\n",
       "      <th>Shared mutations</th>\n",
       "      <th>Perc AB1</th>\n",
       "      <th>Perc AB2</th>\n",
       "      <th>cdr3_AB1</th>\n",
       "      <th>cdr3_AB2</th>\n",
       "    </tr>\n",
       "  </thead>\n",
       "  <tbody>\n",
       "    <tr>\n",
       "      <th>0</th>\n",
       "      <td>IGHV3-23*01</td>\n",
       "      <td>M02984:889:000000000-JGK5F:1:1117:19428:18082|...</td>\n",
       "      <td>M02984:889:000000000-JGK5F:1:2101:15160:14551|...</td>\n",
       "      <td>2</td>\n",
       "      <td>40.0</td>\n",
       "      <td>16.7</td>\n",
       "      <td>CAKKVSQYSSSSLDYWGQGTLVT</td>\n",
       "      <td>CARGNIDGANYFHNWGQGTLVT</td>\n",
       "    </tr>\n",
       "    <tr>\n",
       "      <th>1</th>\n",
       "      <td>IGHV3-23*01</td>\n",
       "      <td>M02984:889:000000000-JGK5F:1:1117:19428:18082|...</td>\n",
       "      <td>M02984:889:000000000-JGK5F:1:1119:25273:23416|...</td>\n",
       "      <td>1</td>\n",
       "      <td>20.0</td>\n",
       "      <td>3.7</td>\n",
       "      <td>CAKKVSQYSSSSLDYWGQGTLVT</td>\n",
       "      <td>CAKGVRKGGYDLYYFDSWGQGTLVT</td>\n",
       "    </tr>\n",
       "    <tr>\n",
       "      <th>2</th>\n",
       "      <td>IGHV3-23*01</td>\n",
       "      <td>M02984:889:000000000-JGK5F:1:1117:19428:18082|...</td>\n",
       "      <td>M02984:889:000000000-JGK5F:1:1115:6658:10737|D...</td>\n",
       "      <td>0</td>\n",
       "      <td>0.0</td>\n",
       "      <td>0.0</td>\n",
       "      <td>CAKKVSQYSSSSLDYWGQGTLVT</td>\n",
       "      <td>CAREAQVFDLVKRGPHVDYWGQGTLVT</td>\n",
       "    </tr>\n",
       "    <tr>\n",
       "      <th>3</th>\n",
       "      <td>IGHV3-23*01</td>\n",
       "      <td>M02984:889:000000000-JGK5F:1:1117:19428:18082|...</td>\n",
       "      <td>M02984:889:000000000-JGK5F:1:2111:19388:14491|...</td>\n",
       "      <td>0</td>\n",
       "      <td>0.0</td>\n",
       "      <td>0.0</td>\n",
       "      <td>CAKKVSQYSSSSLDYWGQGTLVT</td>\n",
       "      <td>CAKGYGFDSWGQGTLVT</td>\n",
       "    </tr>\n",
       "    <tr>\n",
       "      <th>4</th>\n",
       "      <td>IGHV3-23*01</td>\n",
       "      <td>M02984:889:000000000-JGK5F:1:1117:19428:18082|...</td>\n",
       "      <td>M02984:889:000000000-JGK5F:1:2101:10641:7693|D...</td>\n",
       "      <td>2</td>\n",
       "      <td>40.0</td>\n",
       "      <td>18.2</td>\n",
       "      <td>CAKKVSQYSSSSLDYWGQGTLVT</td>\n",
       "      <td>CGKSATREIMITFGGVIPPSVWGQGTLVT</td>\n",
       "    </tr>\n",
       "  </tbody>\n",
       "</table>\n",
       "</div>"
      ],
      "text/plain": [
       "     Reference                                         Antibody 1  \\\n",
       "0  IGHV3-23*01  M02984:889:000000000-JGK5F:1:1117:19428:18082|...   \n",
       "1  IGHV3-23*01  M02984:889:000000000-JGK5F:1:1117:19428:18082|...   \n",
       "2  IGHV3-23*01  M02984:889:000000000-JGK5F:1:1117:19428:18082|...   \n",
       "3  IGHV3-23*01  M02984:889:000000000-JGK5F:1:1117:19428:18082|...   \n",
       "4  IGHV3-23*01  M02984:889:000000000-JGK5F:1:1117:19428:18082|...   \n",
       "\n",
       "                                          Antibody 2  Shared mutations  \\\n",
       "0  M02984:889:000000000-JGK5F:1:2101:15160:14551|...                 2   \n",
       "1  M02984:889:000000000-JGK5F:1:1119:25273:23416|...                 1   \n",
       "2  M02984:889:000000000-JGK5F:1:1115:6658:10737|D...                 0   \n",
       "3  M02984:889:000000000-JGK5F:1:2111:19388:14491|...                 0   \n",
       "4  M02984:889:000000000-JGK5F:1:2101:10641:7693|D...                 2   \n",
       "\n",
       "   Perc AB1  Perc AB2                 cdr3_AB1                       cdr3_AB2  \n",
       "0      40.0      16.7  CAKKVSQYSSSSLDYWGQGTLVT         CARGNIDGANYFHNWGQGTLVT  \n",
       "1      20.0       3.7  CAKKVSQYSSSSLDYWGQGTLVT      CAKGVRKGGYDLYYFDSWGQGTLVT  \n",
       "2       0.0       0.0  CAKKVSQYSSSSLDYWGQGTLVT    CAREAQVFDLVKRGPHVDYWGQGTLVT  \n",
       "3       0.0       0.0  CAKKVSQYSSSSLDYWGQGTLVT              CAKGYGFDSWGQGTLVT  \n",
       "4      40.0      18.2  CAKKVSQYSSSSLDYWGQGTLVT  CGKSATREIMITFGGVIPPSVWGQGTLVT  "
      ]
     },
     "execution_count": 3,
     "metadata": {},
     "output_type": "execute_result"
    }
   ],
   "source": [
    "get_cdr3 = lambda x: x.split(\"|\")[-1].split(\",\")[0]\n",
    "df[\"cdr3_AB1\"] = [x for x in map(get_cdr3, df[\"Antibody 1\"])]\n",
    "df[\"cdr3_AB2\"] = [x for x in map(get_cdr3, df[\"Antibody 2\"])]\n",
    "df.head()"
   ]
  },
  {
   "cell_type": "code",
   "execution_count": 4,
   "metadata": {},
   "outputs": [
    {
     "data": {
      "text/plain": [
       "13"
      ]
     },
     "execution_count": 4,
     "metadata": {},
     "output_type": "execute_result"
    }
   ],
   "source": [
    "pairAlign(df.iloc[0]['cdr3_AB1'], df.iloc[0]['cdr3_AB2']).distance"
   ]
  },
  {
   "cell_type": "code",
   "execution_count": 5,
   "metadata": {},
   "outputs": [
    {
     "data": {
      "text/html": [
       "<div>\n",
       "<style scoped>\n",
       "    .dataframe tbody tr th:only-of-type {\n",
       "        vertical-align: middle;\n",
       "    }\n",
       "\n",
       "    .dataframe tbody tr th {\n",
       "        vertical-align: top;\n",
       "    }\n",
       "\n",
       "    .dataframe thead th {\n",
       "        text-align: right;\n",
       "    }\n",
       "</style>\n",
       "<table border=\"1\" class=\"dataframe\">\n",
       "  <thead>\n",
       "    <tr style=\"text-align: right;\">\n",
       "      <th></th>\n",
       "      <th>Reference</th>\n",
       "      <th>Antibody 1</th>\n",
       "      <th>Antibody 2</th>\n",
       "      <th>Shared mutations</th>\n",
       "      <th>Perc AB1</th>\n",
       "      <th>Perc AB2</th>\n",
       "      <th>cdr3_AB1</th>\n",
       "      <th>cdr3_AB2</th>\n",
       "      <th>cdr3_distance</th>\n",
       "    </tr>\n",
       "  </thead>\n",
       "  <tbody>\n",
       "    <tr>\n",
       "      <th>0</th>\n",
       "      <td>IGHV3-23*01</td>\n",
       "      <td>M02984:889:000000000-JGK5F:1:1117:19428:18082|...</td>\n",
       "      <td>M02984:889:000000000-JGK5F:1:2101:15160:14551|...</td>\n",
       "      <td>2</td>\n",
       "      <td>40.0</td>\n",
       "      <td>16.7</td>\n",
       "      <td>CAKKVSQYSSSSLDYWGQGTLVT</td>\n",
       "      <td>CARGNIDGANYFHNWGQGTLVT</td>\n",
       "      <td>13</td>\n",
       "    </tr>\n",
       "    <tr>\n",
       "      <th>1</th>\n",
       "      <td>IGHV3-23*01</td>\n",
       "      <td>M02984:889:000000000-JGK5F:1:1117:19428:18082|...</td>\n",
       "      <td>M02984:889:000000000-JGK5F:1:1119:25273:23416|...</td>\n",
       "      <td>1</td>\n",
       "      <td>20.0</td>\n",
       "      <td>3.7</td>\n",
       "      <td>CAKKVSQYSSSSLDYWGQGTLVT</td>\n",
       "      <td>CAKGVRKGGYDLYYFDSWGQGTLVT</td>\n",
       "      <td>11</td>\n",
       "    </tr>\n",
       "    <tr>\n",
       "      <th>2</th>\n",
       "      <td>IGHV3-23*01</td>\n",
       "      <td>M02984:889:000000000-JGK5F:1:1117:19428:18082|...</td>\n",
       "      <td>M02984:889:000000000-JGK5F:1:1115:6658:10737|D...</td>\n",
       "      <td>0</td>\n",
       "      <td>0.0</td>\n",
       "      <td>0.0</td>\n",
       "      <td>CAKKVSQYSSSSLDYWGQGTLVT</td>\n",
       "      <td>CAREAQVFDLVKRGPHVDYWGQGTLVT</td>\n",
       "      <td>14</td>\n",
       "    </tr>\n",
       "    <tr>\n",
       "      <th>3</th>\n",
       "      <td>IGHV3-23*01</td>\n",
       "      <td>M02984:889:000000000-JGK5F:1:1117:19428:18082|...</td>\n",
       "      <td>M02984:889:000000000-JGK5F:1:2111:19388:14491|...</td>\n",
       "      <td>0</td>\n",
       "      <td>0.0</td>\n",
       "      <td>0.0</td>\n",
       "      <td>CAKKVSQYSSSSLDYWGQGTLVT</td>\n",
       "      <td>CAKGYGFDSWGQGTLVT</td>\n",
       "      <td>10</td>\n",
       "    </tr>\n",
       "    <tr>\n",
       "      <th>4</th>\n",
       "      <td>IGHV3-23*01</td>\n",
       "      <td>M02984:889:000000000-JGK5F:1:1117:19428:18082|...</td>\n",
       "      <td>M02984:889:000000000-JGK5F:1:2101:10641:7693|D...</td>\n",
       "      <td>2</td>\n",
       "      <td>40.0</td>\n",
       "      <td>18.2</td>\n",
       "      <td>CAKKVSQYSSSSLDYWGQGTLVT</td>\n",
       "      <td>CGKSATREIMITFGGVIPPSVWGQGTLVT</td>\n",
       "      <td>19</td>\n",
       "    </tr>\n",
       "  </tbody>\n",
       "</table>\n",
       "</div>"
      ],
      "text/plain": [
       "     Reference                                         Antibody 1  \\\n",
       "0  IGHV3-23*01  M02984:889:000000000-JGK5F:1:1117:19428:18082|...   \n",
       "1  IGHV3-23*01  M02984:889:000000000-JGK5F:1:1117:19428:18082|...   \n",
       "2  IGHV3-23*01  M02984:889:000000000-JGK5F:1:1117:19428:18082|...   \n",
       "3  IGHV3-23*01  M02984:889:000000000-JGK5F:1:1117:19428:18082|...   \n",
       "4  IGHV3-23*01  M02984:889:000000000-JGK5F:1:1117:19428:18082|...   \n",
       "\n",
       "                                          Antibody 2  Shared mutations  \\\n",
       "0  M02984:889:000000000-JGK5F:1:2101:15160:14551|...                 2   \n",
       "1  M02984:889:000000000-JGK5F:1:1119:25273:23416|...                 1   \n",
       "2  M02984:889:000000000-JGK5F:1:1115:6658:10737|D...                 0   \n",
       "3  M02984:889:000000000-JGK5F:1:2111:19388:14491|...                 0   \n",
       "4  M02984:889:000000000-JGK5F:1:2101:10641:7693|D...                 2   \n",
       "\n",
       "   Perc AB1  Perc AB2                 cdr3_AB1                       cdr3_AB2  \\\n",
       "0      40.0      16.7  CAKKVSQYSSSSLDYWGQGTLVT         CARGNIDGANYFHNWGQGTLVT   \n",
       "1      20.0       3.7  CAKKVSQYSSSSLDYWGQGTLVT      CAKGVRKGGYDLYYFDSWGQGTLVT   \n",
       "2       0.0       0.0  CAKKVSQYSSSSLDYWGQGTLVT    CAREAQVFDLVKRGPHVDYWGQGTLVT   \n",
       "3       0.0       0.0  CAKKVSQYSSSSLDYWGQGTLVT              CAKGYGFDSWGQGTLVT   \n",
       "4      40.0      18.2  CAKKVSQYSSSSLDYWGQGTLVT  CGKSATREIMITFGGVIPPSVWGQGTLVT   \n",
       "\n",
       "   cdr3_distance  \n",
       "0             13  \n",
       "1             11  \n",
       "2             14  \n",
       "3             10  \n",
       "4             19  "
      ]
     },
     "execution_count": 5,
     "metadata": {},
     "output_type": "execute_result"
    }
   ],
   "source": [
    "df['cdr3_distance'] = [x.distance for x in map(pairAlign, df['cdr3_AB1'], df['cdr3_AB2'])]\n",
    "df.head()"
   ]
  },
  {
   "cell_type": "code",
   "execution_count": 6,
   "metadata": {},
   "outputs": [
    {
     "name": "stderr",
     "output_type": "stream",
     "text": [
      "/home/barbera/anaconda3/lib/python3.6/site-packages/matplotlib/figure.py:418: UserWarning: matplotlib is currently using a non-GUI backend, so cannot show the figure\n",
      "  \"matplotlib is currently using a non-GUI backend, \"\n"
     ]
    },
    {
     "data": {
      "image/png": "[encoded data removed]",
      "text/plain": [
       "<matplotlib.figure.Figure at 0x7fb873750da0>"
      ]
     },
     "metadata": {},
     "output_type": "display_data"
    }
   ],
   "source": [
    "fig, ax = plt.subplots()\n",
    "ax.scatter(df['Shared mutations'], df['cdr3_distance'])\n",
    "plt.title(\"XY Shared mutation vs CDR3pep distance\")\n",
    "plt.xlabel('shared mutations')\n",
    "plt.ylabel('cdr3pep distance')\n",
    "fig.show()"
   ]
  },
  {
   "cell_type": "code",
   "execution_count": 7,
   "metadata": {},
   "outputs": [
    {
     "data": {
      "image/png": "[encoded data removed]",
      "text/plain": [
       "<matplotlib.figure.Figure at 0x7fb86a256eb8>"
      ]
     },
     "metadata": {},
     "output_type": "display_data"
    }
   ],
   "source": [
    "plt.hist(df['Shared mutations'], bins=60)\n",
    "plt.title(\"Shared mutations histogram\")\n",
    "plt.show()"
   ]
  },
  {
   "cell_type": "code",
   "execution_count": 8,
   "metadata": {},
   "outputs": [
    {
     "data": {
      "image/png": "[encoded data removed]",
      "text/plain": [
       "<matplotlib.figure.Figure at 0x7fb86a212550>"
      ]
     },
     "metadata": {},
     "output_type": "display_data"
    }
   ],
   "source": [
    "plt.hist(df['cdr3_distance'], bins=60)\n",
    "plt.title(\"CDR3 peptide distance histogram\")\n",
    "plt.show()"
   ]
  },
  {
   "cell_type": "markdown",
   "metadata": {},
   "source": [
    "## Check the nr of shared mutations between close CDR3s and distant CDR3s"
   ]
  },
  {
   "cell_type": "code",
   "execution_count": 9,
   "metadata": {},
   "outputs": [],
   "source": [
    "df_close = df[df['cdr3_distance'] < 5]\n",
    "df_distant = df[df['cdr3_distance'] >= 5]"
   ]
  },
  {
   "cell_type": "code",
   "execution_count": 10,
   "metadata": {},
   "outputs": [
    {
     "data": {
      "image/png": "[encoded data removed]",
      "text/plain": [
       "<matplotlib.figure.Figure at 0x7fb86a0f80b8>"
      ]
     },
     "metadata": {},
     "output_type": "display_data"
    }
   ],
   "source": [
    "plt.hist(df_close['Shared mutations'], bins=60)\n",
    "plt.title(\"Shared mutations of close CDR3s\")\n",
    "plt.show()"
   ]
  },
  {
   "cell_type": "code",
   "execution_count": 11,
   "metadata": {},
   "outputs": [
    {
     "data": {
      "image/png": "[encoded data removed]",
      "text/plain": [
       "<matplotlib.figure.Figure at 0x7fb86a066630>"
      ]
     },
     "metadata": {},
     "output_type": "display_data"
    }
   ],
   "source": [
    "plt.hist(df_distant['Shared mutations'], bins=60)\n",
    "plt.title(\"Shared mutations of distant CDR3s\")\n",
    "plt.show()"
   ]
  },
  {
   "cell_type": "code",
   "execution_count": 12,
   "metadata": {},
   "outputs": [
    {
     "name": "stderr",
     "output_type": "stream",
     "text": [
      "/home/barbera/anaconda3/lib/python3.6/site-packages/matplotlib/figure.py:418: UserWarning: matplotlib is currently using a non-GUI backend, so cannot show the figure\n",
      "  \"matplotlib is currently using a non-GUI backend, \"\n"
     ]
    },
    {
     "data": {
      "image/png": "[encoded data removed]",
      "text/plain": [
       "<matplotlib.figure.Figure at 0x7fb869e5c940>"
      ]
     },
     "metadata": {},
     "output_type": "display_data"
    }
   ],
   "source": [
    "fig, ax = plt.subplots()\n",
    "ax.scatter(df_close['Shared mutations'], df_close['cdr3_distance'])\n",
    "plt.title(\"XY Shared mutation vs CDR3pep distance (distance < 5 aa)\")\n",
    "plt.xlabel('shared mutations')\n",
    "plt.ylabel('cdr3pep distance')\n",
    "fig.show()"
   ]
  },
  {
   "cell_type": "code",
   "execution_count": 13,
   "metadata": {},
   "outputs": [
    {
     "name": "stderr",
     "output_type": "stream",
     "text": [
      "/home/barbera/anaconda3/lib/python3.6/site-packages/matplotlib/figure.py:418: UserWarning: matplotlib is currently using a non-GUI backend, so cannot show the figure\n",
      "  \"matplotlib is currently using a non-GUI backend, \"\n"
     ]
    },
    {
     "data": {
      "image/png": "[encoded data removed]",
      "text/plain": [
       "<matplotlib.figure.Figure at 0x7fb873e0cba8>"
      ]
     },
     "metadata": {},
     "output_type": "display_data"
    }
   ],
   "source": [
    "fig, ax = plt.subplots()\n",
    "ax.scatter(df_distant['Shared mutations'], df_distant['cdr3_distance'])\n",
    "plt.title(\"XY Shared mutation vs CDR3pep distance (distance >= 5 aa)\")\n",
    "plt.xlabel('shared mutations')\n",
    "plt.ylabel('cdr3pep distance')\n",
    "fig.show()"
   ]
  },
  {
   "cell_type": "code",
   "execution_count": null,
   "metadata": {},
   "outputs": [],
   "source": []
  }
 ],
 "metadata": {
  "kernelspec": {
   "display_name": "Python 3",
   "language": "python",
   "name": "python3"
  },
  "language_info": {
   "codemirror_mode": {
    "name": "ipython",
    "version": 3
   },
   "file_extension": ".py",
   "mimetype": "text/x-python",
   "name": "python",
   "nbconvert_exporter": "python",
   "pygments_lexer": "ipython3",
   "version": "3.6.4"
  }
 },
 "nbformat": 4,
 "nbformat_minor": 2
}
