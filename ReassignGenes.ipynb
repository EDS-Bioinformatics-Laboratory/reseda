{
 "cells": [
  {
   "cell_type": "code",
   "execution_count": null,
   "metadata": {},
   "outputs": [],
   "source": [
    "import pandas as pd\n",
    "import numpy as np"
   ]
  },
  {
   "cell_type": "code",
   "execution_count": null,
   "metadata": {},
   "outputs": [],
   "source": [
    "df = pd.read_csv(\"TESTDATA/B001-B_S83_L001.assembled-ACGTACGT-IGH_HUMAN-clones-mut-sites.csv\", sep=\"\\t\")\n",
    "print(len(df))\n",
    "df.head()"
   ]
  },
  {
   "cell_type": "code",
   "execution_count": null,
   "metadata": {},
   "outputs": [],
   "source": [
    "cols = ['cdr3pep', 'V_sub', 'acc.nunique']\n",
    "cdr3pep_uniq = df[cols].groupby('cdr3pep').agg({'V_sub': 'nunique', 'acc.nunique': sum})\n",
    "print(len(cdr3pep_uniq))\n",
    "\n",
    "# get CDR3's with more than one V gene assigned\n",
    "cdr3pep_uniq = cdr3pep_uniq.loc[cdr3pep_uniq['V_sub'] > 1]\n",
    "print(len(cdr3pep_uniq))\n",
    "\n",
    "cdr3pep_uniq.head()"
   ]
  },
  {
   "cell_type": "code",
   "execution_count": null,
   "metadata": {},
   "outputs": [],
   "source": [
    "def reAssign(df, peptide, threshold):\n",
    "    '''\n",
    "    Description: reassign genes with gene with the majority of the reads (or include more genes up to 70% of the reads)\n",
    "    In: df with all information for one CDR3\n",
    "    Out: new V gene name\n",
    "    '''\n",
    "    # get all clones for peptide\n",
    "    df_tmp = df.loc[df['cdr3pep'] == peptide][['cdr3pep','V_sub','acc.nunique']]\n",
    "    df_tmp = df_tmp.sort_values(by='acc.nunique', ascending=False)\n",
    "\n",
    "    # calculate total frequency for this peptide\n",
    "    total_freq = cdr3pep_uniq['acc.nunique'].loc[peptide]\n",
    "\n",
    "    # store the cumulative sum\n",
    "    df_tmp['cumsum'] = df_tmp['acc.nunique'].cumsum()\n",
    "\n",
    "    # calculate the cumulative fraction\n",
    "    df_tmp['cumsum_frac'] = df_tmp['cumsum'] / total_freq\n",
    "    \n",
    "    # select the genes that make up 70% of the reads for this peptide\n",
    "    include_up_to = [ e > threshold for e in df_tmp['cumsum_frac'].tolist() ].index(True) + 1\n",
    "    df_select = df_tmp.iloc[0:include_up_to]\n",
    "    df_select = df_select.sort_values(by='V_sub', ascending=True)\n",
    "    \n",
    "    # concatenate the gene names\n",
    "    v_gene = \"+\".join(df_select['V_sub'].tolist())\n",
    "    \n",
    "    # replace v name with new v name\n",
    "    df.loc[df['cdr3pep'] == peptide, 'V_sub'] = v_gene\n",
    "\n",
    "    return(df, v_gene)"
   ]
  },
  {
   "cell_type": "markdown",
   "metadata": {},
   "source": [
    "## Loop through all CDR3s and re-assign the V gene"
   ]
  },
  {
   "cell_type": "code",
   "execution_count": null,
   "metadata": {},
   "outputs": [],
   "source": [
    "threshold = 0.7\n",
    "for peptide in cdr3pep_uniq.index:\n",
    "    (df, new_v_gene) = reAssign(df, peptide, threshold)\n",
    "print(\"DONE\")"
   ]
  },
  {
   "cell_type": "code",
   "execution_count": null,
   "metadata": {},
   "outputs": [],
   "source": [
    "df.loc[df['cdr3pep'] == peptide]"
   ]
  },
  {
   "cell_type": "code",
   "execution_count": null,
   "metadata": {},
   "outputs": [],
   "source": [
    "# Group the re-assigned entries\n",
    "cols = ['cdr3pep', 'V_sub', 'J_sub']\n",
    "clones = df.groupby(cols).agg({'acc.nunique': sum, 'beforeMID.nunique': sum, 'mut.count_x.sum': sum, 'mut.count_x.mean': np.mean, 'mut.frac_x.sum': sum, 'mut.frac_x.mean': np.mean, 'mut.count_y.sum': sum, 'mut.count_y.mean': np.mean, 'mut.frac_y.sum': sum, 'mut.frac_y.mean': np.mean, 'nr_sites.sum': sum, 'nr_sites.mean': np.mean})\n",
    "clones = clones.sort_values(by='acc.nunique', ascending=False)\n",
    "clones = clones.reset_index()"
   ]
  },
  {
   "cell_type": "code",
   "execution_count": null,
   "metadata": {},
   "outputs": [],
   "source": [
    "clones.head()"
   ]
  },
  {
   "cell_type": "markdown",
   "metadata": {},
   "source": [
    "## Check if sum of nr of accessions is the same"
   ]
  },
  {
   "cell_type": "code",
   "execution_count": null,
   "metadata": {},
   "outputs": [],
   "source": [
    "print(\"Sum reads\", clones['acc.nunique'].sum())\n",
    "df['acc.nunique'].sum() == clones['acc.nunique'].sum()"
   ]
  },
  {
   "cell_type": "code",
   "execution_count": null,
   "metadata": {},
   "outputs": [],
   "source": [
    "print(\"Sum UMIs\", clones['beforeMID.nunique'].sum())\n",
    "df['beforeMID.nunique'].sum() == clones['beforeMID.nunique'].sum()"
   ]
  },
  {
   "cell_type": "markdown",
   "metadata": {},
   "source": [
    "## Get nr of unique UMIs from the allinfo file"
   ]
  },
  {
   "cell_type": "code",
   "execution_count": null,
   "metadata": {},
   "outputs": [],
   "source": [
    "# Read allinfo file and apply quality filter\n",
    "allinfo = pd.read_csv(\"final/B001-B_S83_L001.assembled-ACGTACGT-IGH_HUMAN-all_info.csv\", sep='\\t')\n",
    "allinfo = allinfo.loc[(allinfo['cdr3_qual_min'] >= 30) & (allinfo['V_sub'] != 'None') & (allinfo['J_sub'] != 'None') & ((allinfo['V_flag'] == '0') | (allinfo['V_flag'] == '16')) & ((allinfo['J_flag'] == '0') | (allinfo['J_flag'] == '16'))]"
   ]
  },
  {
   "cell_type": "code",
   "execution_count": null,
   "metadata": {},
   "outputs": [],
   "source": [
    "# Group the original entries by cdr3pep and J-gene\n",
    "select = ['cdr3pep', 'V_sub', 'J_sub', 'acc', 'beforeMID']\n",
    "cols = ['cdr3pep', 'J_sub']\n",
    "clones_orig = allinfo[select].groupby(cols).agg({'beforeMID': 'nunique'})\n",
    "clones_orig = clones_orig.sort_values(by='beforeMID', ascending=False)"
   ]
  },
  {
   "cell_type": "code",
   "execution_count": null,
   "metadata": {},
   "outputs": [],
   "source": [
    "clones_orig = clones_orig.reset_index()\n",
    "clones_orig = clones_orig.rename(columns={'beforeMID': 'UMIs'})\n",
    "clones_orig.head()"
   ]
  },
  {
   "cell_type": "code",
   "execution_count": null,
   "metadata": {},
   "outputs": [],
   "source": [
    "# Merge clones with clones_orig for the correct number of UMIs\n",
    "clones_final = pd.merge(clones, clones_orig, how='inner', left_on=['cdr3pep','J_sub'], right_on=['cdr3pep','J_sub'])\n",
    "clones_final = clones_final.sort_values(by='acc.nunique', ascending=False)"
   ]
  },
  {
   "cell_type": "code",
   "execution_count": null,
   "metadata": {},
   "outputs": [],
   "source": [
    "clones_final.head()"
   ]
  },
  {
   "cell_type": "code",
   "execution_count": null,
   "metadata": {},
   "outputs": [],
   "source": [
    "print(len(clones), len(clones_orig), len(clones_final))"
   ]
  },
  {
   "cell_type": "code",
   "execution_count": null,
   "metadata": {},
   "outputs": [],
   "source": []
  }
 ],
 "metadata": {
  "kernelspec": {
   "display_name": "Python 3",
   "language": "python",
   "name": "python3"
  },
  "language_info": {
   "codemirror_mode": {
    "name": "ipython",
    "version": 3
   },
   "file_extension": ".py",
   "mimetype": "text/x-python",
   "name": "python",
   "nbconvert_exporter": "python",
   "pygments_lexer": "ipython3",
   "version": "3.6.4"
  }
 },
 "nbformat": 4,
 "nbformat_minor": 2
}
