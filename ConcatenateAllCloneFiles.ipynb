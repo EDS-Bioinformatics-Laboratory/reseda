{
 "cells": [
  {
   "cell_type": "code",
   "execution_count": 1,
   "metadata": {},
   "outputs": [],
   "source": [
    "import os\n",
    "import pandas as pd"
   ]
  },
  {
   "cell_type": "code",
   "execution_count": 2,
   "metadata": {},
   "outputs": [
    {
     "data": {
      "text/plain": [
       "['run22-cdr3-clones-DOMINO-IGH_HUMAN-after-reassignment.csv',\n",
       " 'run21-cdr3-clones-DOMINO-IGH_HUMAN-after-reassignment.csv',\n",
       " 'run17-cdr3-clones-Domino-IGH_HUMAN-after-reassignment.csv',\n",
       " 'run26-cdr3-clones-DOMINO-IGH_HUMAN-after-reassignment.csv',\n",
       " 'run23-cdr3-clones-DOMINO-IGH_HUMAN-after-reassignment.csv',\n",
       " 'run31-cdr3-clones-DOMINO-IGH_HUMAN-after-reassignment.csv',\n",
       " 'run28-cdr3-clones-DOMINO-IGH_HUMAN-after-reassignment.csv',\n",
       " 'run29-cdr3-clones-DOMINO-IGH_HUMAN-after-reassignment.csv',\n",
       " 'run30-cdr3-clones-DOMINO-IGH_HUMAN-after-reassignment.csv',\n",
       " 'run20-cdr3-clones-DOMINO-IGH_HUMAN-after-reassignment.csv',\n",
       " 'run32-cdr3-clones-DOMINO-IGH_HUMAN-after-reassignment.csv',\n",
       " 'run19-cdr3-clones-DOMINO-IGH_HUMAN-after-reassignment.csv',\n",
       " 'run35-cdr3-clones-DOMINO-IGH_HUMAN-after-reassignment.csv',\n",
       " 'run33-cdr3-clones-DOMINO-IGH_HUMAN-after-reassignment.csv',\n",
       " 'run36-cdr3-clones-DOMINO-IGH_HUMAN-after-reassignment.csv',\n",
       " 'run34-cdr3-clones-DOMINO-IGH_HUMAN-after-reassignment.csv',\n",
       " 'run38-cdr3-clones-DOMINO-IGH_HUMAN-after-reassignment.csv']"
      ]
     },
     "execution_count": 2,
     "metadata": {},
     "output_type": "execute_result"
    }
   ],
   "source": [
    "cdr3_files = [x for x in os.listdir() if \"-cdr3-clones\" in x]\n",
    "cdr3_files"
   ]
  },
  {
   "cell_type": "code",
   "execution_count": 3,
   "metadata": {},
   "outputs": [
    {
     "data": {
      "text/plain": [
       "['run17-vjcdr3-clones-mut-Domino-IGH_HUMAN.csv',\n",
       " 'run21-vjcdr3-clones-mut-DOMINO-IGH_HUMAN.csv',\n",
       " 'run23-vjcdr3-clones-mut-DOMINO-IGH_HUMAN.csv',\n",
       " 'run20-vjcdr3-clones-mut-DOMINO-IGH_HUMAN.csv',\n",
       " 'run26-vjcdr3-clones-mut-DOMINO-IGH_HUMAN.csv',\n",
       " 'run22-vjcdr3-clones-mut-DOMINO-IGH_HUMAN.csv',\n",
       " 'run28-vjcdr3-clones-mut-DOMINO-IGH_HUMAN.csv',\n",
       " 'run30-vjcdr3-clones-mut-DOMINO-IGH_HUMAN.csv',\n",
       " 'run29-vjcdr3-clones-mut-DOMINO-IGH_HUMAN.csv',\n",
       " 'run31-vjcdr3-clones-mut-DOMINO-IGH_HUMAN.csv',\n",
       " 'run19-vjcdr3-clones-mut-DOMINO-IGH_HUMAN.csv',\n",
       " 'run38-vjcdr3-clones-mut-DOMINO-IGH_HUMAN.csv',\n",
       " 'run33-vjcdr3-clones-mut-DOMINO-IGH_HUMAN.csv',\n",
       " 'run35-vjcdr3-clones-mut-DOMINO-IGH_HUMAN.csv',\n",
       " 'run34-vjcdr3-clones-mut-DOMINO-IGH_HUMAN.csv',\n",
       " 'run32-vjcdr3-clones-mut-DOMINO-IGH_HUMAN.csv',\n",
       " 'run36-vjcdr3-clones-mut-DOMINO-IGH_HUMAN.csv']"
      ]
     },
     "execution_count": 3,
     "metadata": {},
     "output_type": "execute_result"
    }
   ],
   "source": [
    "vjcdr3_files = [x for x in os.listdir() if \"-vjcdr3-clones\" in x]\n",
    "vjcdr3_files"
   ]
  },
  {
   "cell_type": "code",
   "execution_count": 4,
   "metadata": {},
   "outputs": [],
   "source": [
    "def readClones(f):\n",
    "    run = f.split(\"-\")[0]\n",
    "    print(run)\n",
    "    df = pd.read_csv(f, sep=\"\\t\")\n",
    "    cols = [\"Run\"] + list(df.columns)\n",
    "    df[\"Run\"] = run\n",
    "    df = df[cols]\n",
    "    return(df)"
   ]
  },
  {
   "cell_type": "code",
   "execution_count": 5,
   "metadata": {},
   "outputs": [
    {
     "name": "stdout",
     "output_type": "stream",
     "text": [
      "run22\n",
      "run21\n",
      "run17\n",
      "run26\n",
      "run23\n",
      "run31\n",
      "run28\n",
      "run29\n",
      "run30\n",
      "run20\n",
      "run32\n",
      "run19\n",
      "run35\n",
      "run33\n",
      "run36\n",
      "run34\n",
      "run38\n",
      "Wrote cdr3-clones-DOMINO-IGH_HUMAN-after-reassignment.csv to disk\n"
     ]
    }
   ],
   "source": [
    "cdr3_clones = readClones(cdr3_files[0])\n",
    "for myfile in cdr3_files[1:]:\n",
    "    cdr3_clones = pd.concat([cdr3_clones, readClones(myfile)])\n",
    "cdr3_clones.to_csv(\"cdr3-clones-DOMINO-IGH_HUMAN-after-reassignment.csv\")\n",
    "print(\"Wrote cdr3-clones-DOMINO-IGH_HUMAN-after-reassignment.csv to disk\")"
   ]
  },
  {
   "cell_type": "code",
   "execution_count": 6,
   "metadata": {},
   "outputs": [
    {
     "name": "stdout",
     "output_type": "stream",
     "text": [
      "run17\n",
      "run21\n",
      "run23\n",
      "run20\n",
      "run26\n",
      "run22\n",
      "run28\n",
      "run30\n",
      "run29\n",
      "run31\n",
      "run19\n",
      "run38\n",
      "run33\n",
      "run35\n",
      "run34\n",
      "run32\n",
      "run36\n",
      "Wrote vjcdr3-clones-mut-DOMINO-IGH_HUMAN.csv to disk\n"
     ]
    }
   ],
   "source": [
    "vjcdr3_clones = readClones(vjcdr3_files[0])\n",
    "for myfile in vjcdr3_files[1:]:\n",
    "    vjcdr3_clones = pd.concat([vjcdr3_clones, readClones(myfile)])\n",
    "vjcdr3_clones.to_csv(\"vjcdr3-clones-mut-DOMINO-IGH_HUMAN.csv\")\n",
    "print(\"Wrote vjcdr3-clones-mut-DOMINO-IGH_HUMAN.csv to disk\")"
   ]
  }
 ],
 "metadata": {
  "kernelspec": {
   "display_name": "Python 3",
   "language": "python",
   "name": "python3"
  },
  "language_info": {
   "codemirror_mode": {
    "name": "ipython",
    "version": 3
   },
   "file_extension": ".py",
   "mimetype": "text/x-python",
   "name": "python",
   "nbconvert_exporter": "python",
   "pygments_lexer": "ipython3",
   "version": "3.6.5"
  }
 },
 "nbformat": 4,
 "nbformat_minor": 2
}
