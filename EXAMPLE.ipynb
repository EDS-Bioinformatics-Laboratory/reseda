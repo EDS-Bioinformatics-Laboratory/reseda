{
 "cells": [
  {
   "cell_type": "markdown",
   "metadata": {},
   "source": [
    "# Example: paired-end IGH sequences\n",
    "## Preparation\n",
    "Prepare a file with paths to the sample fastq files. The name is expected to be structured like this:\n",
    "\n",
    "SAMPLENAME_L001_R1_001.fastq.gz\n",
    "\n",
    "SAMPLENAME_L001_R2_001.fastq.gz"
   ]
  },
  {
   "cell_type": "code",
   "execution_count": null,
   "metadata": {
    "collapsed": true
   },
   "outputs": [],
   "source": [
    "echo \"TESTDATA/test_L001_R1_001.fastq.gz\" > SAMPLES\n",
    "echo \"TESTDATA/test_L001_R2_001.fastq.gz\" >> SAMPLES\n",
    "wait"
   ]
  },
  {
   "cell_type": "markdown",
   "metadata": {},
   "source": [
    "## Configuration"
   ]
  },
  {
   "cell_type": "markdown",
   "metadata": {},
   "source": [
    "This example is implemented in 'execute-all.sh'\n",
    "\n",
    "Define the sequence run (this is only used for creating a directory on a webdav server, if that is used to store results)\n",
    "\n",
    "The variables mids, organism, cell and celltype are mandatory:\n",
    "* mids: file with regular expression for the MIDs in this run (see below)\n",
    "* organism: human or mouse\n",
    "* cell: TRA, TRB, IGH, IGK or IGL\n",
    "* celltype: celltype_organism in uppercase, e.g. IGH_HUMAN"
   ]
  },
  {
   "cell_type": "code",
   "execution_count": null,
   "metadata": {
    "collapsed": false
   },
   "outputs": [],
   "source": [
    "cat MIDS-miseq.txt"
   ]
  },
  {
   "cell_type": "code",
   "execution_count": null,
   "metadata": {
    "collapsed": true
   },
   "outputs": [],
   "source": [
    "run=test\n",
    "mids=MIDS-miseq.txt\n",
    "organism=human\n",
    "cell=IGH\n",
    "celltype=IGH_HUMAN\n",
    "wait"
   ]
  },
  {
   "cell_type": "markdown",
   "metadata": {},
   "source": [
    "Define reference database"
   ]
  },
  {
   "cell_type": "code",
   "execution_count": null,
   "metadata": {
    "collapsed": true
   },
   "outputs": [],
   "source": [
    "refs=\"${cell}V_${organism}.fasta ${cell}J_${organism}.fasta\"\n",
    "v=\"${cell}V_${organism}\"\n",
    "j=\"${cell}J_${organism}\""
   ]
  },
  {
   "cell_type": "markdown",
   "metadata": {},
   "source": [
    "## Data analysis"
   ]
  },
  {
   "cell_type": "markdown",
   "metadata": {},
   "source": [
    "Get list with fastq files"
   ]
  },
  {
   "cell_type": "code",
   "execution_count": null,
   "metadata": {
    "collapsed": true
   },
   "outputs": [],
   "source": [
    "samples=`cat SAMPLES`  # get all arguments\n",
    "r1_samples=`grep R1_001 SAMPLES`"
   ]
  },
  {
   "cell_type": "code",
   "execution_count": null,
   "metadata": {
    "collapsed": false
   },
   "outputs": [],
   "source": [
    "echo $samples"
   ]
  },
  {
   "cell_type": "markdown",
   "metadata": {},
   "source": [
    "Run [FastQC](http://www.bioinformatics.babraham.ac.uk/projects/fastqc/). The example takes a few seconds (~12s)"
   ]
  },
  {
   "cell_type": "code",
   "execution_count": null,
   "metadata": {
    "collapsed": false
   },
   "outputs": [],
   "source": [
    "./run-fastqc.sh ${samples}\n",
    "wait"
   ]
  },
  {
   "cell_type": "markdown",
   "metadata": {},
   "source": [
    "[FastQC result test R1](./TESTDATA/test_L001_R1_001_fastqc.html)\n",
    "[FastQC result test R2](./TESTDATA/test_L001_R2_001_fastqc.html)"
   ]
  },
  {
   "cell_type": "markdown",
   "metadata": {},
   "source": [
    "Assemble both ends of the sequence pairs with [PEAR](http://sco.h-its.org/exelixis/web/software/pear/doc.html) This step can take a while (wait till you see \"FINISHED\")"
   ]
  },
  {
   "cell_type": "code",
   "execution_count": null,
   "metadata": {
    "collapsed": false
   },
   "outputs": [],
   "source": [
    "./batch-pear.sh ${r1_samples}\n",
    "wait"
   ]
  },
  {
   "cell_type": "markdown",
   "metadata": {},
   "source": [
    "Continue with the assembled fastq files. If you have single-end reads you normally start from here."
   ]
  },
  {
   "cell_type": "code",
   "execution_count": null,
   "metadata": {
    "collapsed": true
   },
   "outputs": [],
   "source": [
    "samples=`ls *.assembled.fastq.gz`"
   ]
  },
  {
   "cell_type": "markdown",
   "metadata": {},
   "source": [
    "Split sequences based on their Molecular IDentifier (MID). This is an extra control for contamination. Input: mid-file, output directory and list of samples"
   ]
  },
  {
   "cell_type": "code",
   "execution_count": null,
   "metadata": {
    "collapsed": false
   },
   "outputs": [],
   "source": [
    "python2 FastqSplitOnMid.py ${mids} split ${samples}\n",
    "wait"
   ]
  },
  {
   "cell_type": "markdown",
   "metadata": {},
   "source": [
    "Continue with the assembled, split per mid, fastq files"
   ]
  },
  {
   "cell_type": "code",
   "execution_count": null,
   "metadata": {
    "collapsed": true
   },
   "outputs": [],
   "source": [
    "samples=`ls split/*.fastq.gz`"
   ]
  },
  {
   "cell_type": "markdown",
   "metadata": {},
   "source": [
    "FastQC report on the split sample files"
   ]
  },
  {
   "cell_type": "code",
   "execution_count": null,
   "metadata": {
    "collapsed": false
   },
   "outputs": [],
   "source": [
    "./run-fastqc.sh ${samples}\n",
    "wait"
   ]
  },
  {
   "cell_type": "markdown",
   "metadata": {},
   "source": [
    "Extract the CDR3 sequence"
   ]
  },
  {
   "cell_type": "code",
   "execution_count": null,
   "metadata": {
    "collapsed": false
   },
   "outputs": [],
   "source": [
    "python2 TranslateAndExtractCdr3.py ${celltype} ${samples}\n",
    "wait\n",
    "echo \"FINISHED\""
   ]
  },
  {
   "cell_type": "markdown",
   "metadata": {},
   "source": [
    "Align sequences ([BWA](http://bio-bwa.sourceforge.net/) and [Picard tools](http://broadinstitute.github.io/picard/)) against [IMGT](http://imgt.org/) and call raw SNPS with [Samtools](http://samtools.sourceforge.net/) and [VarScan](http://dkoboldt.github.io/varscan/) (any mutation is accepted, also sequence errors)"
   ]
  },
  {
   "cell_type": "code",
   "execution_count": null,
   "metadata": {
    "collapsed": false
   },
   "outputs": [],
   "source": [
    "for ref in $refs; do\n",
    "    ./batch-align.sh ${ref} ${samples} >> align.log 2>> align.err\n",
    "done\n",
    "wait\n",
    "echo \"FINISHED\""
   ]
  },
  {
   "cell_type": "markdown",
   "metadata": {},
   "source": [
    "## Combine all information and generate reports"
   ]
  },
  {
   "cell_type": "code",
   "execution_count": null,
   "metadata": {
    "collapsed": false
   },
   "outputs": [],
   "source": [
    "mkdir final\n",
    "\n",
    "for sample in ${samples}; do\n",
    "    mydir=`dirname ${sample}`\n",
    "    prefix=`basename ${sample} .fastq.gz`\n",
    "\n",
    "    # Combine MID, CDR3, V, J and sequence information\n",
    "    midFile=`echo ${mydir}/${prefix}|perl -ne 's/(.+)-.+$/$1-report.txt/;print;'`\n",
    "    cdr3File=${sample}-${celltype}-CDR3.csv\n",
    "    vFile=${prefix}-${v}-easy-import.txt\n",
    "    jFile=${prefix}-${j}-easy-import.txt\n",
    "    seqFile=${sample}-${celltype}.csv\n",
    "    outFile=\"final/${prefix}-${celltype}-all_info.csv\"\n",
    "    cloneFile=\"final/${prefix}-${celltype}-clones.csv\"\n",
    "    cloneSubsFile=\"final/${prefix}-${celltype}-clones-subs.csv\"\n",
    "    cloneMainsFile=\"final/${prefix}-${celltype}-clones-mains.csv\"\n",
    "    totalFile=\"final/${prefix}-${celltype}-productive.txt\"\n",
    "    python combine-immuno-data.py ${midFile} ${cdr3File} ${vFile} ${jFile} ${seqFile} ${outFile} ${cloneFile} ${cloneSubsFile} ${cloneMainsFile} ${totalFile}\n",
    "    wait\n",
    "\n",
    "done\n",
    "\n",
    "echo \"FINISHED\""
   ]
  },
  {
   "cell_type": "markdown",
   "metadata": {},
   "source": [
    "Guess which files contain the correct MID (file with most entries) and store that information in a separate directory."
   ]
  },
  {
   "cell_type": "code",
   "execution_count": null,
   "metadata": {
    "collapsed": false
   },
   "outputs": [],
   "source": [
    "ip_address=`hostname -I`\n",
    "ips=($ip_address)\n",
    "ip=${ips[0]}\n",
    "\n",
    "wc -l final/*all_info.csv > wc-${ip}.txt\n",
    "wait\n",
    "python2 select-correct-mids.py wc-${ip}.txt > mv-samples-with-correct-mid.sh\n",
    "wait\n",
    "mkdir final/correct-mid\n",
    "wait\n",
    "cd final\n",
    "bash ../mv-samples-with-correct-mid.sh\n",
    "wait\n",
    "mv correct-mid/*-productive.txt .\n",
    "cd ..\n",
    "echo \"FINISHED\""
   ]
  },
  {
   "cell_type": "markdown",
   "metadata": {},
   "source": [
    "Correct V gene assignments"
   ]
  },
  {
   "cell_type": "code",
   "execution_count": null,
   "metadata": {
    "collapsed": false
   },
   "outputs": [],
   "source": [
    "python2 re-assign-v-genes.py final/correct-mid/*-all_info.csv\n",
    "wait\n",
    "mv *.rr.* final/correct-mid\n",
    "echo \"FINISHED\""
   ]
  },
  {
   "cell_type": "code",
   "execution_count": null,
   "metadata": {
    "collapsed": false
   },
   "outputs": [],
   "source": [
    "ls -l final/correct-mid"
   ]
  },
  {
   "cell_type": "code",
   "execution_count": null,
   "metadata": {
    "collapsed": true
   },
   "outputs": [],
   "source": []
  }
 ],
 "metadata": {
  "anaconda-cloud": {},
  "kernelspec": {
   "display_name": "Bash",
   "language": "bash",
   "name": "bash"
  },
  "language_info": {
   "codemirror_mode": "shell",
   "file_extension": ".sh",
   "mimetype": "text/x-sh",
   "name": "bash"
  }
 },
 "nbformat": 4,
 "nbformat_minor": 1
}
