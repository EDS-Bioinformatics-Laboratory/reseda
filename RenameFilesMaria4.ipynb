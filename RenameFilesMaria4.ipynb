{
 "cells": [
  {
   "cell_type": "code",
   "execution_count": 1,
   "metadata": {},
   "outputs": [],
   "source": [
    "import os"
   ]
  },
  {
   "cell_type": "code",
   "execution_count": 2,
   "metadata": {},
   "outputs": [
    {
     "data": {
      "text/plain": [
       "['MS_76_1.fastq.gz',\n",
       " 'MS_76_2.fastq.gz',\n",
       " 'MS_77_1.fastq.gz',\n",
       " 'MS_77_2.fastq.gz',\n",
       " 'MS_78_1.fastq.gz',\n",
       " 'MS_78_2.fastq.gz',\n",
       " 'MS_79_1.fastq.gz',\n",
       " 'MS_79_2.fastq.gz',\n",
       " 'MS_80_1.fastq.gz',\n",
       " 'MS_80_2.fastq.gz',\n",
       " 'MS_81_1.fastq.gz',\n",
       " 'MS_81_2.fastq.gz',\n",
       " 'MS_82_1.fastq.gz',\n",
       " 'MS_82_2.fastq.gz',\n",
       " 'MS_83_1.fastq.gz',\n",
       " 'MS_83_2.fastq.gz',\n",
       " 'MS_84_1.fastq.gz',\n",
       " 'MS_84_2.fastq.gz',\n",
       " 'MS_85_1.fastq.gz',\n",
       " 'MS_85_2.fastq.gz']"
      ]
     },
     "execution_count": 2,
     "metadata": {},
     "output_type": "execute_result"
    }
   ],
   "source": [
    "myfiles = [x for x in os.listdir(\".\") if x.endswith(\".fastq.gz\")]\n",
    "myfiles.sort()\n",
    "myfiles"
   ]
  },
  {
   "cell_type": "code",
   "execution_count": 3,
   "metadata": {},
   "outputs": [
    {
     "name": "stdout",
     "output_type": "stream",
     "text": [
      "mv MS_76_1.fastq.gz MS-76_S1_L001_R1_001.fastq.gz\n",
      "mv MS_76_2.fastq.gz MS-76_S1_L001_R2_001.fastq.gz\n",
      "mv MS_77_1.fastq.gz MS-77_S2_L001_R1_001.fastq.gz\n",
      "mv MS_77_2.fastq.gz MS-77_S2_L001_R2_001.fastq.gz\n",
      "mv MS_78_1.fastq.gz MS-78_S3_L001_R1_001.fastq.gz\n",
      "mv MS_78_2.fastq.gz MS-78_S3_L001_R2_001.fastq.gz\n",
      "mv MS_79_1.fastq.gz MS-79_S4_L001_R1_001.fastq.gz\n",
      "mv MS_79_2.fastq.gz MS-79_S4_L001_R2_001.fastq.gz\n",
      "mv MS_80_1.fastq.gz MS-80_S5_L001_R1_001.fastq.gz\n",
      "mv MS_80_2.fastq.gz MS-80_S5_L001_R2_001.fastq.gz\n",
      "mv MS_81_1.fastq.gz MS-81_S6_L001_R1_001.fastq.gz\n",
      "mv MS_81_2.fastq.gz MS-81_S6_L001_R2_001.fastq.gz\n",
      "mv MS_82_1.fastq.gz MS-82_S7_L001_R1_001.fastq.gz\n",
      "mv MS_82_2.fastq.gz MS-82_S7_L001_R2_001.fastq.gz\n",
      "mv MS_83_1.fastq.gz MS-83_S8_L001_R1_001.fastq.gz\n",
      "mv MS_83_2.fastq.gz MS-83_S8_L001_R2_001.fastq.gz\n",
      "mv MS_84_1.fastq.gz MS-84_S9_L001_R1_001.fastq.gz\n",
      "mv MS_84_2.fastq.gz MS-84_S9_L001_R2_001.fastq.gz\n",
      "mv MS_85_1.fastq.gz MS-85_S10_L001_R1_001.fastq.gz\n",
      "mv MS_85_2.fastq.gz MS-85_S10_L001_R2_001.fastq.gz\n",
      "Wrote rename-files.sh to disk\n"
     ]
    }
   ],
   "source": [
    "# Format: test-B_S1_L001_R1_001.fastq.gz\n",
    "fhOut = open(\"rename-files.sh\", \"w\")\n",
    "i = 1\n",
    "for myfile in myfiles:\n",
    "    name = myfile.replace(\".fastq.gz\", \"\")\n",
    "    code, samplenr, region = name.split(\"_\")\n",
    "    print(\"mv\", myfile, code + \"-\" + samplenr + \"_S\" + str(i) + \"_L001_R\" + region + \"_001.fastq.gz\")\n",
    "    print(\"mv\", myfile, code + \"-\" + samplenr + \"_S\" + str(i) + \"_L001_R\" + region + \"_001.fastq.gz\", file=fhOut)\n",
    "    if region == \"2\":\n",
    "        i += 1\n",
    "fhOut.close()\n",
    "print(\"Wrote rename-files.sh to disk\")"
   ]
  },
  {
   "cell_type": "code",
   "execution_count": null,
   "metadata": {},
   "outputs": [],
   "source": []
  }
 ],
 "metadata": {
  "kernelspec": {
   "display_name": "Python 3",
   "language": "python",
   "name": "python3"
  },
  "language_info": {
   "codemirror_mode": {
    "name": "ipython",
    "version": 3
   },
   "file_extension": ".py",
   "mimetype": "text/x-python",
   "name": "python",
   "nbconvert_exporter": "python",
   "pygments_lexer": "ipython3",
   "version": "3.6.5"
  }
 },
 "nbformat": 4,
 "nbformat_minor": 2
}
