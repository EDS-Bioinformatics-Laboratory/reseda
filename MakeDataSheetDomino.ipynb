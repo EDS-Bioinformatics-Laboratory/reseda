{
 "cells": [
  {
   "cell_type": "code",
   "execution_count": 1,
   "metadata": {},
   "outputs": [],
   "source": [
    "import pandas as pd\n",
    "import os"
   ]
  },
  {
   "cell_type": "markdown",
   "metadata": {},
   "source": [
    "## Fill in header of the data sheet"
   ]
  },
  {
   "cell_type": "code",
   "execution_count": 2,
   "metadata": {},
   "outputs": [],
   "source": [
    "fh = open(\"DataSheetHeader.csv\")\n",
    "datasheet_header = fh.read().rstrip()\n",
    "fh.close()"
   ]
  },
  {
   "cell_type": "code",
   "execution_count": 3,
   "metadata": {},
   "outputs": [
    {
     "name": "stdout",
     "output_type": "stream",
     "text": [
      "[Header],,,,,,,,,,,,,,,\n",
      "IEMFileVersion,4,,,,,,,,,,,,,,\n",
      "Investigator Name,Dornatien and Aram,,,,,,,,,,,,,,\n",
      "Experiment Name,Project-DOMINO,,,,,,,,,,,,,,\n",
      "Date,18-03-2021,,,,,,,,,,,,,,\n",
      "Workflow,GenerateFASTQ,,,,,,,,,,,,,,\n",
      "Application,FASTQ Only,,,,,,,,,,,,,,\n",
      "Assay,Nextera XT v2,,,,,,,,,,,,,,\n",
      "Description,RNA,,,,,,,,,,,,,,\n",
      "Chemistry,Amplicon,,,,,,,,,,,,,,\n",
      ",,,,,,,,,,,,,,,\n",
      "[Reads],,,,,,,,,,,,,,,\n",
      "301,,,,,,,,,,,,,,,\n",
      "301,,,,,,,,,,,,,,,\n",
      ",,,,,,,,,,,,,,,\n",
      "[Settings],,,,,,,,,,,,,,,\n",
      "ReverseComplement,0,,,,,,,,,,,,,,\n",
      "Adapter,CTGTCTCTTATACACATCT,,,,,,,,,,,,,,\n",
      ",,,,,,,,,,,,,,,\n",
      "[Data],,,,,,,,,,,,,,,\n",
      "Sample_ID,Sample_Name,Sample_Plate,Sample_Well,I7_Index_ID,index,I5_Index_ID,index2,Run,Nr,Sample_Project,Species,Chain,Patient,Sample,UMI\n"
     ]
    }
   ],
   "source": [
    "datasheet_header = datasheet_header.replace(\"INVESTIGATOR\", \"Dornatien and Aram\")\n",
    "datasheet_header = datasheet_header.replace(\"RUNNAME\", \"Project-DOMINO\")\n",
    "datasheet_header = datasheet_header.replace(\"DATE\", \"18-03-2021\")\n",
    "print(datasheet_header)"
   ]
  },
  {
   "cell_type": "markdown",
   "metadata": {},
   "source": [
    "## Read DOMINO Datasheets and put it in one dataframe"
   ]
  },
  {
   "cell_type": "code",
   "execution_count": 4,
   "metadata": {},
   "outputs": [
    {
     "data": {
      "text/plain": [
       "['20180119_RUN22_Datasheet-DOMINO.csv',\n",
       " '20180409_RUN26_Datasheet-DOMINO.csv',\n",
       " '20180723_RUN30_Datasheet-DOMINO.csv',\n",
       " '20181214_RUN33_Datasheet-DOMINO.csv',\n",
       " '20191003_RUN36_Datasheet-DOMINO.csv',\n",
       " '20200529_RUN38_Datasheet-DOMINO.csv',\n",
       " '20170821-RUN17-datasheet-UMI-DOMINO.csv',\n",
       " '20171005_RUN019_Datasheet-DOMINO.csv',\n",
       " '20171127_RUN20-Datasheet-UMI-DOMINO.csv',\n",
       " '20171218_RUN021_Datasheet-umi-DOMINO.csv',\n",
       " '20180302_RUN23_Datasheet-DOMINO.csv',\n",
       " '20180605_RUN29_Datasheet-DOMINO.csv',\n",
       " '20180921_RUN31_Datasheet-DOMINO.csv',\n",
       " '20190214_RUN34_Datasheet-DOMINO.csv',\n",
       " '20180514_RUN28_Datasheet-UMI-DOMINO.csv',\n",
       " '20181125_RUN32_Datasheet-DOMINO.csv',\n",
       " '20190609_RUN35_Datasheet-DOMINO.csv',\n",
       " '20210318-DataSheet-DOMINO-ALL.csv']"
      ]
     },
     "execution_count": 4,
     "metadata": {},
     "output_type": "execute_result"
    }
   ],
   "source": [
    "myfiles = [x for x in os.listdir() if \"DOMINO\" in x]\n",
    "myfiles"
   ]
  },
  {
   "cell_type": "code",
   "execution_count": 5,
   "metadata": {},
   "outputs": [],
   "source": [
    "def readDatasheet(f):\n",
    "    df = pd.read_csv(f, skiprows=20)\n",
    "    cols = ['Sample_ID', 'Sample_Name', 'Run', 'Nr',\n",
    "       'Sample_Project', 'Species', 'Chain', 'Patient', 'Sample', 'UMI']\n",
    "    if \"Patient\" not in df.columns:\n",
    "        df[\"Patient\"] = \"unknown\"\n",
    "    if \"Run\" not in df.columns:\n",
    "        df[\"Run\"] = \"unknown\"\n",
    "    if \"Nr\" not in df.columns:\n",
    "        df[\"Nr\"] = \"unknown\"\n",
    "    if \"Sample\" not in df.columns:\n",
    "        df[\"Sample\"] = \"unknown\"\n",
    "    if \"UMI\" not in df.columns:\n",
    "        df[\"UMI\"] = \"yes\"\n",
    "    df = df[cols]\n",
    "    return(df)"
   ]
  },
  {
   "cell_type": "code",
   "execution_count": 6,
   "metadata": {},
   "outputs": [
    {
     "data": {
      "text/html": [
       "<div>\n",
       "<style scoped>\n",
       "    .dataframe tbody tr th:only-of-type {\n",
       "        vertical-align: middle;\n",
       "    }\n",
       "\n",
       "    .dataframe tbody tr th {\n",
       "        vertical-align: top;\n",
       "    }\n",
       "\n",
       "    .dataframe thead th {\n",
       "        text-align: right;\n",
       "    }\n",
       "</style>\n",
       "<table border=\"1\" class=\"dataframe\">\n",
       "  <thead>\n",
       "    <tr style=\"text-align: right;\">\n",
       "      <th></th>\n",
       "      <th>Sample_ID</th>\n",
       "      <th>Sample_Name</th>\n",
       "      <th>Run</th>\n",
       "      <th>Nr</th>\n",
       "      <th>Sample_Project</th>\n",
       "      <th>Species</th>\n",
       "      <th>Chain</th>\n",
       "      <th>Patient</th>\n",
       "      <th>Sample</th>\n",
       "      <th>UMI</th>\n",
       "    </tr>\n",
       "  </thead>\n",
       "  <tbody>\n",
       "    <tr>\n",
       "      <th>0</th>\n",
       "      <td>N716_S510</td>\n",
       "      <td>DO-008V1prefroz</td>\n",
       "      <td>RUN22</td>\n",
       "      <td>S148</td>\n",
       "      <td>DOMINO</td>\n",
       "      <td>human</td>\n",
       "      <td>BCRh</td>\n",
       "      <td>DO-008</td>\n",
       "      <td>prefroz</td>\n",
       "      <td>yes</td>\n",
       "    </tr>\n",
       "    <tr>\n",
       "      <th>1</th>\n",
       "      <td>N718_S510</td>\n",
       "      <td>DO-008V1plasfroz</td>\n",
       "      <td>RUN22</td>\n",
       "      <td>S149</td>\n",
       "      <td>DOMINO</td>\n",
       "      <td>human</td>\n",
       "      <td>BCRh</td>\n",
       "      <td>DO-008</td>\n",
       "      <td>plasfroz</td>\n",
       "      <td>yes</td>\n",
       "    </tr>\n",
       "  </tbody>\n",
       "</table>\n",
       "</div>"
      ],
      "text/plain": [
       "   Sample_ID       Sample_Name    Run    Nr Sample_Project Species Chain  \\\n",
       "0  N716_S510   DO-008V1prefroz  RUN22  S148         DOMINO   human  BCRh   \n",
       "1  N718_S510  DO-008V1plasfroz  RUN22  S149         DOMINO   human  BCRh   \n",
       "\n",
       "  Patient    Sample  UMI  \n",
       "0  DO-008   prefroz  yes  \n",
       "1  DO-008  plasfroz  yes  "
      ]
     },
     "execution_count": 6,
     "metadata": {},
     "output_type": "execute_result"
    }
   ],
   "source": [
    "df = readDatasheet(myfiles[0])\n",
    "df.head()"
   ]
  },
  {
   "cell_type": "code",
   "execution_count": 7,
   "metadata": {},
   "outputs": [
    {
     "name": "stdout",
     "output_type": "stream",
     "text": [
      "20180409_RUN26_Datasheet-DOMINO.csv\n",
      "20180723_RUN30_Datasheet-DOMINO.csv\n",
      "20181214_RUN33_Datasheet-DOMINO.csv\n",
      "20191003_RUN36_Datasheet-DOMINO.csv\n",
      "20200529_RUN38_Datasheet-DOMINO.csv\n",
      "20170821-RUN17-datasheet-UMI-DOMINO.csv\n",
      "20171005_RUN019_Datasheet-DOMINO.csv\n",
      "20171127_RUN20-Datasheet-UMI-DOMINO.csv\n",
      "20171218_RUN021_Datasheet-umi-DOMINO.csv\n",
      "20180302_RUN23_Datasheet-DOMINO.csv\n",
      "20180605_RUN29_Datasheet-DOMINO.csv\n",
      "20180921_RUN31_Datasheet-DOMINO.csv\n",
      "20190214_RUN34_Datasheet-DOMINO.csv\n",
      "20180514_RUN28_Datasheet-UMI-DOMINO.csv\n",
      "20181125_RUN32_Datasheet-DOMINO.csv\n",
      "20190609_RUN35_Datasheet-DOMINO.csv\n",
      "20210318-DataSheet-DOMINO-ALL.csv\n"
     ]
    }
   ],
   "source": [
    "for myfile in myfiles[1:]:\n",
    "    print(myfile)\n",
    "    df = pd.concat([df, readDatasheet(myfile)])"
   ]
  },
  {
   "cell_type": "code",
   "execution_count": 8,
   "metadata": {},
   "outputs": [
    {
     "data": {
      "text/html": [
       "<div>\n",
       "<style scoped>\n",
       "    .dataframe tbody tr th:only-of-type {\n",
       "        vertical-align: middle;\n",
       "    }\n",
       "\n",
       "    .dataframe tbody tr th {\n",
       "        vertical-align: top;\n",
       "    }\n",
       "\n",
       "    .dataframe thead th {\n",
       "        text-align: right;\n",
       "    }\n",
       "</style>\n",
       "<table border=\"1\" class=\"dataframe\">\n",
       "  <thead>\n",
       "    <tr style=\"text-align: right;\">\n",
       "      <th></th>\n",
       "      <th>Sample_ID</th>\n",
       "      <th>Sample_Name</th>\n",
       "      <th>Run</th>\n",
       "      <th>Nr</th>\n",
       "      <th>Sample_Project</th>\n",
       "      <th>Species</th>\n",
       "      <th>Chain</th>\n",
       "      <th>Patient</th>\n",
       "      <th>Sample</th>\n",
       "      <th>UMI</th>\n",
       "    </tr>\n",
       "  </thead>\n",
       "  <tbody>\n",
       "    <tr>\n",
       "      <th>348</th>\n",
       "      <td>N704_S510</td>\n",
       "      <td>DO-040V1-plas-U</td>\n",
       "      <td>plasma</td>\n",
       "      <td>yes</td>\n",
       "      <td>NaN</td>\n",
       "      <td>NaN</td>\n",
       "      <td>NaN</td>\n",
       "      <td>NaN</td>\n",
       "      <td>NaN</td>\n",
       "      <td>NaN</td>\n",
       "    </tr>\n",
       "    <tr>\n",
       "      <th>349</th>\n",
       "      <td>N705_S510</td>\n",
       "      <td>DO-043V1-mem-U</td>\n",
       "      <td>memory</td>\n",
       "      <td>yes</td>\n",
       "      <td>NaN</td>\n",
       "      <td>NaN</td>\n",
       "      <td>NaN</td>\n",
       "      <td>NaN</td>\n",
       "      <td>NaN</td>\n",
       "      <td>NaN</td>\n",
       "    </tr>\n",
       "    <tr>\n",
       "      <th>350</th>\n",
       "      <td>N706_S510</td>\n",
       "      <td>DO-043V1-plas-U</td>\n",
       "      <td>plasma</td>\n",
       "      <td>yes</td>\n",
       "      <td>NaN</td>\n",
       "      <td>NaN</td>\n",
       "      <td>NaN</td>\n",
       "      <td>NaN</td>\n",
       "      <td>NaN</td>\n",
       "      <td>NaN</td>\n",
       "    </tr>\n",
       "    <tr>\n",
       "      <th>351</th>\n",
       "      <td>N707_S510</td>\n",
       "      <td>DO-045V1-mem-U</td>\n",
       "      <td>memory</td>\n",
       "      <td>yes</td>\n",
       "      <td>NaN</td>\n",
       "      <td>NaN</td>\n",
       "      <td>NaN</td>\n",
       "      <td>NaN</td>\n",
       "      <td>NaN</td>\n",
       "      <td>NaN</td>\n",
       "    </tr>\n",
       "    <tr>\n",
       "      <th>352</th>\n",
       "      <td>N710_S510</td>\n",
       "      <td>DO-045V1-plas-U</td>\n",
       "      <td>plasma</td>\n",
       "      <td>yes</td>\n",
       "      <td>NaN</td>\n",
       "      <td>NaN</td>\n",
       "      <td>NaN</td>\n",
       "      <td>NaN</td>\n",
       "      <td>NaN</td>\n",
       "      <td>NaN</td>\n",
       "    </tr>\n",
       "  </tbody>\n",
       "</table>\n",
       "</div>"
      ],
      "text/plain": [
       "     Sample_ID      Sample_Name     Run   Nr Sample_Project Species Chain  \\\n",
       "348  N704_S510  DO-040V1-plas-U  plasma  yes            NaN     NaN   NaN   \n",
       "349  N705_S510   DO-043V1-mem-U  memory  yes            NaN     NaN   NaN   \n",
       "350  N706_S510  DO-043V1-plas-U  plasma  yes            NaN     NaN   NaN   \n",
       "351  N707_S510   DO-045V1-mem-U  memory  yes            NaN     NaN   NaN   \n",
       "352  N710_S510  DO-045V1-plas-U  plasma  yes            NaN     NaN   NaN   \n",
       "\n",
       "    Patient Sample  UMI  \n",
       "348     NaN    NaN  NaN  \n",
       "349     NaN    NaN  NaN  \n",
       "350     NaN    NaN  NaN  \n",
       "351     NaN    NaN  NaN  \n",
       "352     NaN    NaN  NaN  "
      ]
     },
     "execution_count": 8,
     "metadata": {},
     "output_type": "execute_result"
    }
   ],
   "source": [
    "df.tail()"
   ]
  },
  {
   "cell_type": "code",
   "execution_count": 9,
   "metadata": {},
   "outputs": [],
   "source": [
    "# Sometimes the header is also in the dataframe. Remove these entries\n",
    "df = df[df[\"Sample_ID\"] != \"Sample_ID\"]"
   ]
  },
  {
   "cell_type": "markdown",
   "metadata": {},
   "source": [
    "# Glue together the header and the values"
   ]
  },
  {
   "cell_type": "code",
   "execution_count": 10,
   "metadata": {},
   "outputs": [],
   "source": [
    "df.to_csv(\"tmp.csv\", header=None, index=None)"
   ]
  },
  {
   "cell_type": "code",
   "execution_count": 11,
   "metadata": {},
   "outputs": [],
   "source": [
    "fh = open(\"tmp.csv\")\n",
    "values = fh.read().rstrip()\n",
    "fh.close()"
   ]
  },
  {
   "cell_type": "code",
   "execution_count": 12,
   "metadata": {},
   "outputs": [
    {
     "name": "stdout",
     "output_type": "stream",
     "text": [
      "Wrote 20210318-DataSheet-DOMINO-ALL.csv to disk\n"
     ]
    }
   ],
   "source": [
    "fhOut = open(\"20210318-DataSheet-DOMINO-ALL.csv\", \"w\")\n",
    "print(datasheet_header + \",filename\", file=fhOut)\n",
    "print(values, file=fhOut)\n",
    "fhOut.close()\n",
    "print(\"Wrote 20210318-DataSheet-DOMINO-ALL.csv to disk\")"
   ]
  },
  {
   "cell_type": "code",
   "execution_count": null,
   "metadata": {},
   "outputs": [],
   "source": []
  }
 ],
 "metadata": {
  "kernelspec": {
   "display_name": "Python 3",
   "language": "python",
   "name": "python3"
  },
  "language_info": {
   "codemirror_mode": {
    "name": "ipython",
    "version": 3
   },
   "file_extension": ".py",
   "mimetype": "text/x-python",
   "name": "python",
   "nbconvert_exporter": "python",
   "pygments_lexer": "ipython3",
   "version": "3.6.5"
  }
 },
 "nbformat": 4,
 "nbformat_minor": 2
}
